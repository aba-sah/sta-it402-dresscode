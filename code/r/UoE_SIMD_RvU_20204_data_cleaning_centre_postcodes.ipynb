{
 "cells": [
  {
   "cell_type": "code",
   "execution_count": 1,
   "metadata": {},
   "outputs": [
    {
     "name": "stderr",
     "output_type": "stream",
     "text": [
      "── \u001b[1mAttaching packages\u001b[22m ───────────────────────────────────────── tidyverse 1.3.1 ──\n",
      "\n",
      "\u001b[32m✔\u001b[39m \u001b[34mggplot2\u001b[39m 3.3.5     \u001b[32m✔\u001b[39m \u001b[34mpurrr  \u001b[39m 0.3.4\n",
      "\u001b[32m✔\u001b[39m \u001b[34mtibble \u001b[39m 3.1.5     \u001b[32m✔\u001b[39m \u001b[34mdplyr  \u001b[39m 1.0.7\n",
      "\u001b[32m✔\u001b[39m \u001b[34mtidyr  \u001b[39m 1.1.4     \u001b[32m✔\u001b[39m \u001b[34mstringr\u001b[39m 1.4.0\n",
      "\u001b[32m✔\u001b[39m \u001b[34mreadr  \u001b[39m 2.0.2     \u001b[32m✔\u001b[39m \u001b[34mforcats\u001b[39m 0.5.1\n",
      "\n",
      "── \u001b[1mConflicts\u001b[22m ──────────────────────────────────────────── tidyverse_conflicts() ──\n",
      "\u001b[31m✖\u001b[39m \u001b[34mdplyr\u001b[39m::\u001b[32mfilter()\u001b[39m masks \u001b[34mstats\u001b[39m::filter()\n",
      "\u001b[31m✖\u001b[39m \u001b[34mdplyr\u001b[39m::\u001b[32mlag()\u001b[39m    masks \u001b[34mstats\u001b[39m::lag()\n",
      "\n",
      "\n",
      "Attaching package: ‘scales’\n",
      "\n",
      "\n",
      "The following object is masked from ‘package:purrr’:\n",
      "\n",
      "    discard\n",
      "\n",
      "\n",
      "The following object is masked from ‘package:readr’:\n",
      "\n",
      "    col_factor\n",
      "\n",
      "\n"
     ]
    }
   ],
   "source": [
    "library(tidyverse)\n",
    "library(textclean)\n",
    "library(readxl)\n",
    "\n",
    "working_dir <- getwd()\n",
    "setwd(\"../\")\n",
    "source(\"base/it-402-dc-data_initial_exploration-base.r\")\n",
    "setwd(working_dir)\n",
    "\n",
    "rm(working_dir)"
   ]
  },
  {
   "cell_type": "code",
   "execution_count": 2,
   "metadata": {},
   "outputs": [],
   "source": [
    "#rm(list = ls())"
   ]
  },
  {
   "cell_type": "code",
   "execution_count": 3,
   "metadata": {},
   "outputs": [
    {
     "data": {
      "text/plain": [
       "<SQLiteConnection>\n",
       "  Path: /Users/aba-sah/OneDrive/work/programming/devt/r/work/sta/it-402-dc/sta_it_402/data/sqa-data-db.sqlite\n",
       "  Extensions: TRUE"
      ]
     },
     "metadata": {},
     "output_type": "display_data"
    }
   ],
   "source": [
    "dbConn <- dbConnect(RSQLite::SQLite(), \"../sta_it_402/data/sqa-data-db.sqlite\")\n",
    "dbConn"
   ]
  },
  {
   "cell_type": "code",
   "execution_count": 4,
   "metadata": {
    "scrolled": true
   },
   "outputs": [
    {
     "data": {
      "text/html": [
       "<table class=\"dataframe\">\n",
       "<caption>A data.frame: 1 × 5</caption>\n",
       "<thead>\n",
       "\t<tr><th scope=col>type</th><th scope=col>name</th><th scope=col>tbl_name</th><th scope=col>rootpage</th><th scope=col>sql</th></tr>\n",
       "\t<tr><th scope=col>&lt;chr&gt;</th><th scope=col>&lt;chr&gt;</th><th scope=col>&lt;chr&gt;</th><th scope=col>&lt;int&gt;</th><th scope=col>&lt;chr&gt;</th></tr>\n",
       "</thead>\n",
       "<tbody>\n",
       "\t<tr><td>table</td><td>centre_postcodes</td><td>centre_postcodes</td><td>169</td><td>CREATE TABLE \"centre_postcodes\" (\n",
       "  `Centre` TEXT,\n",
       "  `CentreName` TEXT,\n",
       "  `Postcode` TEXT,\n",
       "  `EducationAuthority` TEXT,\n",
       "  `GeoArea` TEXT,\n",
       "  `Country` TEXT\n",
       ")</td></tr>\n",
       "</tbody>\n",
       "</table>\n"
      ],
      "text/latex": [
       "A data.frame: 1 × 5\n",
       "\\begin{tabular}{lllll}\n",
       " type & name & tbl\\_name & rootpage & sql\\\\\n",
       " <chr> & <chr> & <chr> & <int> & <chr>\\\\\n",
       "\\hline\n",
       "\t table & centre\\_postcodes & centre\\_postcodes & 169 & CREATE TABLE \"centre\\_postcodes\" (\n",
       "  `Centre` TEXT,\n",
       "  `CentreName` TEXT,\n",
       "  `Postcode` TEXT,\n",
       "  `EducationAuthority` TEXT,\n",
       "  `GeoArea` TEXT,\n",
       "  `Country` TEXT\n",
       ")\\\\\n",
       "\\end{tabular}\n"
      ],
      "text/markdown": [
       "\n",
       "A data.frame: 1 × 5\n",
       "\n",
       "| type &lt;chr&gt; | name &lt;chr&gt; | tbl_name &lt;chr&gt; | rootpage &lt;int&gt; | sql &lt;chr&gt; |\n",
       "|---|---|---|---|---|\n",
       "| table | centre_postcodes | centre_postcodes | 169 | CREATE TABLE \"centre_postcodes\" (\n",
       "  `Centre` TEXT,\n",
       "  `CentreName` TEXT,\n",
       "  `Postcode` TEXT,\n",
       "  `EducationAuthority` TEXT,\n",
       "  `GeoArea` TEXT,\n",
       "  `Country` TEXT\n",
       ") |\n",
       "\n"
      ],
      "text/plain": [
       "  type  name             tbl_name         rootpage\n",
       "1 table centre_postcodes centre_postcodes 169     \n",
       "  sql                                                                                                                                                                \n",
       "1 CREATE TABLE \"centre_postcodes\" (\\n  `Centre` TEXT,\\n  `CentreName` TEXT,\\n  `Postcode` TEXT,\\n  `EducationAuthority` TEXT,\\n  `GeoArea` TEXT,\\n  `Country` TEXT\\n)"
      ]
     },
     "metadata": {},
     "output_type": "display_data"
    }
   ],
   "source": [
    "dbGetQuery(dbConn,\n",
    "           \"SELECT * FROM sqlite_master WHERE type = 'table' AND (name = 'centre_postcodes')\")"
   ]
  },
  {
   "cell_type": "code",
   "execution_count": 5,
   "metadata": {},
   "outputs": [],
   "source": [
    "\n",
    "## https://www.gov.scot/publications/school-level-summary-statistics/\n",
    "\n",
    "## https://www.gov.scot/publications/scottish-government-urban-rural-classification-2016/pages/2/\n",
    "## https://www.nrscotland.gov.uk/statistics-and-data/geography/our-products/scottish-postcode-directory/2022-1\n",
    "## https://www.nrscotland.gov.uk/files/geography/Products/postcode-bkgrd-info.pdf\n",
    "## https://statistics.gov.scot/slice?dataset=http%3A%2F%2Fstatistics.gov.scot%2Fdata%2Fattainment-for-all&http%3A%2F%2Fpurl.org%2Flinked-data%2Fcube%23measureType=http%3A%2F%2Fstatistics.gov.scot%2Fdef%2Fmeasure-properties%2Faverage-total-tariff-score&http%3A%2F%2Fstatistics.gov.scot%2Fdef%2Fdimension%2FattainmentDistribution=http%3A%2F%2Fstatistics.gov.scot%2Fdef%2Fconcept%2Fattainment-distribution%2Fhighest-20&http%3A%2F%2Fstatistics.gov.scot%2Fdef%2Fdimension%2Fcomparator=http%3A%2F%2Fstatistics.gov.scot%2Fdef%2Fconcept%2Fcomparator%2Freal-establishment\n",
    "## https://www.opendata.nhs.scot/sl/dataset/geography-codes-and-labels/resource/967937c4-8d67-4f39-974f-fd58c4acfda53fold\n"
   ]
  },
  {
   "cell_type": "code",
   "execution_count": null,
   "metadata": {},
   "outputs": [],
   "source": []
  },
  {
   "cell_type": "markdown",
   "metadata": {},
   "source": [
    "### school results from Education Scotland and demographic data from gov.scot"
   ]
  },
  {
   "cell_type": "code",
   "execution_count": 6,
   "metadata": {},
   "outputs": [
    {
     "data": {
      "text/html": [
       "<style>\n",
       ".list-inline {list-style: none; margin:0; padding: 0}\n",
       ".list-inline>li {display: inline-block}\n",
       ".list-inline>li:not(:last-child)::after {content: \"\\00b7\"; padding: 0 .5ex}\n",
       "</style>\n",
       "<ol class=list-inline><li>'data//stat00007_graded_v4.csv'</li><li>'data//stat00007_ungraded_v4.csv'</li><li>'data//stat00007_unit_v4.csv'</li></ol>\n"
      ],
      "text/latex": [
       "\\begin{enumerate*}\n",
       "\\item 'data//stat00007\\_graded\\_v4.csv'\n",
       "\\item 'data//stat00007\\_ungraded\\_v4.csv'\n",
       "\\item 'data//stat00007\\_unit\\_v4.csv'\n",
       "\\end{enumerate*}\n"
      ],
      "text/markdown": [
       "1. 'data//stat00007_graded_v4.csv'\n",
       "2. 'data//stat00007_ungraded_v4.csv'\n",
       "3. 'data//stat00007_unit_v4.csv'\n",
       "\n",
       "\n"
      ],
      "text/plain": [
       "[1] \"data//stat00007_graded_v4.csv\"   \"data//stat00007_ungraded_v4.csv\"\n",
       "[3] \"data//stat00007_unit_v4.csv\"    "
      ]
     },
     "metadata": {},
     "output_type": "display_data"
    },
    {
     "data": {
      "text/html": [
       "'data//stat00007.xlsx'"
      ],
      "text/latex": [
       "'data//stat00007.xlsx'"
      ],
      "text/markdown": [
       "'data//stat00007.xlsx'"
      ],
      "text/plain": [
       "[1] \"data//stat00007.xlsx\""
      ]
     },
     "metadata": {},
     "output_type": "display_data"
    }
   ],
   "source": [
    "datafiles_secondary_school_level_summary_statistics <-\n",
    "    c(\"2019\" = \"data/secondary_school_level_summary_statistics_2019.csv\",\n",
    "      \"2020\" = \"data/secondary_school_level_summary_statistics_2020.csv\",\n",
    "      \"2021\" = \"data/secondary_school_level_summary_statistics_2021.csv\"\n",
    "      )\n",
    "\n",
    "\n",
    "datafiles_cs_entries <- list.files(\"data/\", pattern = \"stat00007\", full.names = TRUE, ignore.case = TRUE, recursive = TRUE)\n",
    "\n",
    "sel_idx <- str_detect(datafiles_cs_entries, \".csv\")\n",
    "datafiles_cs_entries[sel_idx]\n",
    "\n",
    "sel_idx2 <- str_detect(datafiles_cs_entries, \"dictionary|csv\")\n",
    "datafiles_cs_entries[!sel_idx2]"
   ]
  },
  {
   "cell_type": "code",
   "execution_count": 7,
   "metadata": {},
   "outputs": [],
   "source": [
    "abbreviations <- c(\"FTE\", \"CS\", \"ASN\", \"ESL\", \"SIMD\", \"FSM\", \"P4-P7/S1-S6/SP\")"
   ]
  },
  {
   "cell_type": "code",
   "execution_count": null,
   "metadata": {},
   "outputs": [],
   "source": []
  },
  {
   "cell_type": "code",
   "execution_count": 8,
   "metadata": {},
   "outputs": [
    {
     "name": "stderr",
     "output_type": "stream",
     "text": [
      "\u001b[1mRows: \u001b[22m\u001b[34m7561\u001b[39m \u001b[1mColumns: \u001b[22m\u001b[34m5\u001b[39m\n",
      "\u001b[36m──\u001b[39m \u001b[1mColumn specification\u001b[22m \u001b[36m──────────────────────────────────────────────────────────\u001b[39m\n",
      "\u001b[1mDelimiter:\u001b[22m \",\"\n",
      "\u001b[31mchr\u001b[39m (4): Centre_name, Postcode, Ea_name, Geo_area\n",
      "\u001b[32mdbl\u001b[39m (1): Centre\n",
      "\n",
      "\u001b[36mℹ\u001b[39m Use `spec()` to retrieve the full column specification for this data.\n",
      "\u001b[36mℹ\u001b[39m Specify the column types or set `show_col_types = FALSE` to quiet this message.\n",
      "\u001b[1mRows: \u001b[22m\u001b[34m11443\u001b[39m \u001b[1mColumns: \u001b[22m\u001b[34m5\u001b[39m\n",
      "\u001b[36m──\u001b[39m \u001b[1mColumn specification\u001b[22m \u001b[36m──────────────────────────────────────────────────────────\u001b[39m\n",
      "\u001b[1mDelimiter:\u001b[22m \",\"\n",
      "\u001b[31mchr\u001b[39m (4): Centre_name, Postcode, Ea_name, Geo_area\n",
      "\u001b[32mdbl\u001b[39m (1): Centre\n",
      "\n",
      "\u001b[36mℹ\u001b[39m Use `spec()` to retrieve the full column specification for this data.\n",
      "\u001b[36mℹ\u001b[39m Specify the column types or set `show_col_types = FALSE` to quiet this message.\n",
      "\u001b[1mRows: \u001b[22m\u001b[34m95659\u001b[39m \u001b[1mColumns: \u001b[22m\u001b[34m5\u001b[39m\n",
      "\u001b[36m──\u001b[39m \u001b[1mColumn specification\u001b[22m \u001b[36m──────────────────────────────────────────────────────────\u001b[39m\n",
      "\u001b[1mDelimiter:\u001b[22m \",\"\n",
      "\u001b[31mchr\u001b[39m (4): Centre_name, Postcode, Ea_name, Geo_area\n",
      "\u001b[32mdbl\u001b[39m (1): Centre\n",
      "\n",
      "\u001b[36mℹ\u001b[39m Use `spec()` to retrieve the full column specification for this data.\n",
      "\u001b[36mℹ\u001b[39m Specify the column types or set `show_col_types = FALSE` to quiet this message.\n",
      "\u001b[1mRows: \u001b[22m\u001b[34m895\u001b[39m \u001b[1mColumns: \u001b[22m\u001b[34m4\u001b[39m\n",
      "\u001b[36m──\u001b[39m \u001b[1mColumn specification\u001b[22m \u001b[36m──────────────────────────────────────────────────────────\u001b[39m\n",
      "\u001b[1mDelimiter:\u001b[22m \",\"\n",
      "\u001b[31mchr\u001b[39m (3): Education Authority, Centre Name, Postcode\n",
      "\u001b[32mdbl\u001b[39m (1): Centre\n",
      "\n",
      "\u001b[36mℹ\u001b[39m Use `spec()` to retrieve the full column specification for this data.\n",
      "\u001b[36mℹ\u001b[39m Specify the column types or set `show_col_types = FALSE` to quiet this message.\n",
      "Warning message:\n",
      "“Unknown levels in `f`: Grant Aided”\n"
     ]
    },
    {
     "name": "stdout",
     "output_type": "stream",
     "text": [
      "Rows: 1,350\n",
      "Columns: 5\n",
      "$ Centre             \u001b[3m\u001b[90m<fct>\u001b[39m\u001b[23m 1000144, 1001930, 1002732, 1002732, 1002759, 100285…\n",
      "$ CentreName         \u001b[3m\u001b[90m<fct>\u001b[39m\u001b[23m \"Firpark Secondary School\", \"Buchanan High School\",…\n",
      "$ Postcode           \u001b[3m\u001b[90m<fct>\u001b[39m\u001b[23m ML1 2PR, ML5 2HT, G67 2UF, G67 2UF, KA13 6DE, DD3 8…\n",
      "$ EducationAuthority \u001b[3m\u001b[90m<fct>\u001b[39m\u001b[23m North Lanarkshire Council Education Department, Nor…\n",
      "$ GeoArea            \u001b[3m\u001b[90m<fct>\u001b[39m\u001b[23m North Lanarkshire, North Lanarkshire, North Lanarks…\n"
     ]
    },
    {
     "data": {
      "text/html": [
       "<style>\n",
       ".list-inline {list-style: none; margin:0; padding: 0}\n",
       ".list-inline>li {display: inline-block}\n",
       ".list-inline>li:not(:last-child)::after {content: \"\\00b7\"; padding: 0 .5ex}\n",
       "</style>\n",
       "<ol class=list-inline><li>'Aberdeen City Council Education Department'</li><li>'Aberdeenshire Council Education Department'</li><li>'Angus Council Education Department'</li><li>'Argyll &amp; Bute Council Education Department'</li><li>'City of Glasgow Council Education Department'</li><li>'Clackmannanshire Council Education Department'</li><li>'Dumfries &amp; Galloway Council Education Department'</li><li>'Dundee City Council Education Department'</li><li>'East Ayrshire Council Education Department'</li><li>'East Dunbartonshire Council Education Department'</li><li>'East Lothian Council Education Department'</li><li>'East Renfrewshire Council Education Department'</li><li>'Falkirk Council Education Department'</li><li>'Fife Council Education Department'</li><li>'Highland Council Education Department'</li><li>'Inverclyde Council Education Department'</li><li>'Midlothian Council Education Department'</li><li>'North Ayrshire Council Education Department'</li><li>'North Lanarkshire Council Education Department'</li><li>'Orkney Islands Council Education Department'</li><li>'Perth &amp; Kinross Council Education Department'</li><li>'Renfrewshire Council Education Department'</li><li>'Scottish Borders Council Education Department'</li><li>'Shetland Islands Council Education Department'</li><li>'South Ayrshire Council Education Department'</li><li>'South Lanarkshire Council Education Department'</li><li>'Stirling Council Education Department'</li><li>'The City of Edinburgh Council Education Department'</li><li>'The Moray Council Education Department'</li><li>'West Dunbartonshire Council Education Department'</li><li>'West Lothian Council Education Department'</li><li>'Western Isles Council Education Department'</li><li>'Independent'</li></ol>\n"
      ],
      "text/latex": [
       "\\begin{enumerate*}\n",
       "\\item 'Aberdeen City Council Education Department'\n",
       "\\item 'Aberdeenshire Council Education Department'\n",
       "\\item 'Angus Council Education Department'\n",
       "\\item 'Argyll \\& Bute Council Education Department'\n",
       "\\item 'City of Glasgow Council Education Department'\n",
       "\\item 'Clackmannanshire Council Education Department'\n",
       "\\item 'Dumfries \\& Galloway Council Education Department'\n",
       "\\item 'Dundee City Council Education Department'\n",
       "\\item 'East Ayrshire Council Education Department'\n",
       "\\item 'East Dunbartonshire Council Education Department'\n",
       "\\item 'East Lothian Council Education Department'\n",
       "\\item 'East Renfrewshire Council Education Department'\n",
       "\\item 'Falkirk Council Education Department'\n",
       "\\item 'Fife Council Education Department'\n",
       "\\item 'Highland Council Education Department'\n",
       "\\item 'Inverclyde Council Education Department'\n",
       "\\item 'Midlothian Council Education Department'\n",
       "\\item 'North Ayrshire Council Education Department'\n",
       "\\item 'North Lanarkshire Council Education Department'\n",
       "\\item 'Orkney Islands Council Education Department'\n",
       "\\item 'Perth \\& Kinross Council Education Department'\n",
       "\\item 'Renfrewshire Council Education Department'\n",
       "\\item 'Scottish Borders Council Education Department'\n",
       "\\item 'Shetland Islands Council Education Department'\n",
       "\\item 'South Ayrshire Council Education Department'\n",
       "\\item 'South Lanarkshire Council Education Department'\n",
       "\\item 'Stirling Council Education Department'\n",
       "\\item 'The City of Edinburgh Council Education Department'\n",
       "\\item 'The Moray Council Education Department'\n",
       "\\item 'West Dunbartonshire Council Education Department'\n",
       "\\item 'West Lothian Council Education Department'\n",
       "\\item 'Western Isles Council Education Department'\n",
       "\\item 'Independent'\n",
       "\\end{enumerate*}\n"
      ],
      "text/markdown": [
       "1. 'Aberdeen City Council Education Department'\n",
       "2. 'Aberdeenshire Council Education Department'\n",
       "3. 'Angus Council Education Department'\n",
       "4. 'Argyll &amp; Bute Council Education Department'\n",
       "5. 'City of Glasgow Council Education Department'\n",
       "6. 'Clackmannanshire Council Education Department'\n",
       "7. 'Dumfries &amp; Galloway Council Education Department'\n",
       "8. 'Dundee City Council Education Department'\n",
       "9. 'East Ayrshire Council Education Department'\n",
       "10. 'East Dunbartonshire Council Education Department'\n",
       "11. 'East Lothian Council Education Department'\n",
       "12. 'East Renfrewshire Council Education Department'\n",
       "13. 'Falkirk Council Education Department'\n",
       "14. 'Fife Council Education Department'\n",
       "15. 'Highland Council Education Department'\n",
       "16. 'Inverclyde Council Education Department'\n",
       "17. 'Midlothian Council Education Department'\n",
       "18. 'North Ayrshire Council Education Department'\n",
       "19. 'North Lanarkshire Council Education Department'\n",
       "20. 'Orkney Islands Council Education Department'\n",
       "21. 'Perth &amp; Kinross Council Education Department'\n",
       "22. 'Renfrewshire Council Education Department'\n",
       "23. 'Scottish Borders Council Education Department'\n",
       "24. 'Shetland Islands Council Education Department'\n",
       "25. 'South Ayrshire Council Education Department'\n",
       "26. 'South Lanarkshire Council Education Department'\n",
       "27. 'Stirling Council Education Department'\n",
       "28. 'The City of Edinburgh Council Education Department'\n",
       "29. 'The Moray Council Education Department'\n",
       "30. 'West Dunbartonshire Council Education Department'\n",
       "31. 'West Lothian Council Education Department'\n",
       "32. 'Western Isles Council Education Department'\n",
       "33. 'Independent'\n",
       "\n",
       "\n"
      ],
      "text/plain": [
       " [1] \"Aberdeen City Council Education Department\"        \n",
       " [2] \"Aberdeenshire Council Education Department\"        \n",
       " [3] \"Angus Council Education Department\"                \n",
       " [4] \"Argyll & Bute Council Education Department\"        \n",
       " [5] \"City of Glasgow Council Education Department\"      \n",
       " [6] \"Clackmannanshire Council Education Department\"     \n",
       " [7] \"Dumfries & Galloway Council Education Department\"  \n",
       " [8] \"Dundee City Council Education Department\"          \n",
       " [9] \"East Ayrshire Council Education Department\"        \n",
       "[10] \"East Dunbartonshire Council Education Department\"  \n",
       "[11] \"East Lothian Council Education Department\"         \n",
       "[12] \"East Renfrewshire Council Education Department\"    \n",
       "[13] \"Falkirk Council Education Department\"              \n",
       "[14] \"Fife Council Education Department\"                 \n",
       "[15] \"Highland Council Education Department\"             \n",
       "[16] \"Inverclyde Council Education Department\"           \n",
       "[17] \"Midlothian Council Education Department\"           \n",
       "[18] \"North Ayrshire Council Education Department\"       \n",
       "[19] \"North Lanarkshire Council Education Department\"    \n",
       "[20] \"Orkney Islands Council Education Department\"       \n",
       "[21] \"Perth & Kinross Council Education Department\"      \n",
       "[22] \"Renfrewshire Council Education Department\"         \n",
       "[23] \"Scottish Borders Council Education Department\"     \n",
       "[24] \"Shetland Islands Council Education Department\"     \n",
       "[25] \"South Ayrshire Council Education Department\"       \n",
       "[26] \"South Lanarkshire Council Education Department\"    \n",
       "[27] \"Stirling Council Education Department\"             \n",
       "[28] \"The City of Edinburgh Council Education Department\"\n",
       "[29] \"The Moray Council Education Department\"            \n",
       "[30] \"West Dunbartonshire Council Education Department\"  \n",
       "[31] \"West Lothian Council Education Department\"         \n",
       "[32] \"Western Isles Council Education Department\"        \n",
       "[33] \"Independent\"                                       "
      ]
     },
     "metadata": {},
     "output_type": "display_data"
    },
    {
     "data": {
      "text/html": [
       "<style>\n",
       ".list-inline {list-style: none; margin:0; padding: 0}\n",
       ".list-inline>li {display: inline-block}\n",
       ".list-inline>li:not(:last-child)::after {content: \"\\00b7\"; padding: 0 .5ex}\n",
       "</style>\n",
       "<ol class=list-inline><li>'Aberdeen City'</li><li>'Aberdeenshire'</li><li>'Angus'</li><li>'Argyll &amp; Bute'</li><li>'City of Edinburgh'</li><li>'Clackmannanshire'</li><li>'Dumfries &amp; Galloway'</li><li>'Dundee City'</li><li>'East Ayrshire'</li><li>'East Dunbartonshire'</li><li>'East Lothian'</li><li>'East Renfrewshire'</li><li>'England'</li><li>'Falkirk'</li><li>'Far East'</li><li>'Fife'</li><li>'Glasgow City'</li><li>'Highland'</li><li>'Inverclyde'</li><li>'Middle East'</li><li>'Midlothian'</li><li>'Moray'</li><li>'Na h-Eileanan Siar'</li><li>'North Ayrshire'</li><li>'North Lanarkshire'</li><li>'Orkney Islands'</li><li>'Other'</li><li>'Perth &amp; Kinross'</li><li>'Renfrewshire'</li><li>'Scottish Borders'</li><li>'Shetland Islands'</li><li>'South Asia'</li><li>'South Ayrshire'</li><li>'South Lanarkshire'</li><li>'Stirling'</li><li>'Wales'</li><li>'West Dunbartonshire'</li><li>'West Lothian'</li></ol>\n"
      ],
      "text/latex": [
       "\\begin{enumerate*}\n",
       "\\item 'Aberdeen City'\n",
       "\\item 'Aberdeenshire'\n",
       "\\item 'Angus'\n",
       "\\item 'Argyll \\& Bute'\n",
       "\\item 'City of Edinburgh'\n",
       "\\item 'Clackmannanshire'\n",
       "\\item 'Dumfries \\& Galloway'\n",
       "\\item 'Dundee City'\n",
       "\\item 'East Ayrshire'\n",
       "\\item 'East Dunbartonshire'\n",
       "\\item 'East Lothian'\n",
       "\\item 'East Renfrewshire'\n",
       "\\item 'England'\n",
       "\\item 'Falkirk'\n",
       "\\item 'Far East'\n",
       "\\item 'Fife'\n",
       "\\item 'Glasgow City'\n",
       "\\item 'Highland'\n",
       "\\item 'Inverclyde'\n",
       "\\item 'Middle East'\n",
       "\\item 'Midlothian'\n",
       "\\item 'Moray'\n",
       "\\item 'Na h-Eileanan Siar'\n",
       "\\item 'North Ayrshire'\n",
       "\\item 'North Lanarkshire'\n",
       "\\item 'Orkney Islands'\n",
       "\\item 'Other'\n",
       "\\item 'Perth \\& Kinross'\n",
       "\\item 'Renfrewshire'\n",
       "\\item 'Scottish Borders'\n",
       "\\item 'Shetland Islands'\n",
       "\\item 'South Asia'\n",
       "\\item 'South Ayrshire'\n",
       "\\item 'South Lanarkshire'\n",
       "\\item 'Stirling'\n",
       "\\item 'Wales'\n",
       "\\item 'West Dunbartonshire'\n",
       "\\item 'West Lothian'\n",
       "\\end{enumerate*}\n"
      ],
      "text/markdown": [
       "1. 'Aberdeen City'\n",
       "2. 'Aberdeenshire'\n",
       "3. 'Angus'\n",
       "4. 'Argyll &amp; Bute'\n",
       "5. 'City of Edinburgh'\n",
       "6. 'Clackmannanshire'\n",
       "7. 'Dumfries &amp; Galloway'\n",
       "8. 'Dundee City'\n",
       "9. 'East Ayrshire'\n",
       "10. 'East Dunbartonshire'\n",
       "11. 'East Lothian'\n",
       "12. 'East Renfrewshire'\n",
       "13. 'England'\n",
       "14. 'Falkirk'\n",
       "15. 'Far East'\n",
       "16. 'Fife'\n",
       "17. 'Glasgow City'\n",
       "18. 'Highland'\n",
       "19. 'Inverclyde'\n",
       "20. 'Middle East'\n",
       "21. 'Midlothian'\n",
       "22. 'Moray'\n",
       "23. 'Na h-Eileanan Siar'\n",
       "24. 'North Ayrshire'\n",
       "25. 'North Lanarkshire'\n",
       "26. 'Orkney Islands'\n",
       "27. 'Other'\n",
       "28. 'Perth &amp; Kinross'\n",
       "29. 'Renfrewshire'\n",
       "30. 'Scottish Borders'\n",
       "31. 'Shetland Islands'\n",
       "32. 'South Asia'\n",
       "33. 'South Ayrshire'\n",
       "34. 'South Lanarkshire'\n",
       "35. 'Stirling'\n",
       "36. 'Wales'\n",
       "37. 'West Dunbartonshire'\n",
       "38. 'West Lothian'\n",
       "\n",
       "\n"
      ],
      "text/plain": [
       " [1] \"Aberdeen City\"       \"Aberdeenshire\"       \"Angus\"              \n",
       " [4] \"Argyll & Bute\"       \"City of Edinburgh\"   \"Clackmannanshire\"   \n",
       " [7] \"Dumfries & Galloway\" \"Dundee City\"         \"East Ayrshire\"      \n",
       "[10] \"East Dunbartonshire\" \"East Lothian\"        \"East Renfrewshire\"  \n",
       "[13] \"England\"             \"Falkirk\"             \"Far East\"           \n",
       "[16] \"Fife\"                \"Glasgow City\"        \"Highland\"           \n",
       "[19] \"Inverclyde\"          \"Middle East\"         \"Midlothian\"         \n",
       "[22] \"Moray\"               \"Na h-Eileanan Siar\"  \"North Ayrshire\"     \n",
       "[25] \"North Lanarkshire\"   \"Orkney Islands\"      \"Other\"              \n",
       "[28] \"Perth & Kinross\"     \"Renfrewshire\"        \"Scottish Borders\"   \n",
       "[31] \"Shetland Islands\"    \"South Asia\"          \"South Ayrshire\"     \n",
       "[34] \"South Lanarkshire\"   \"Stirling\"            \"Wales\"              \n",
       "[37] \"West Dunbartonshire\" \"West Lothian\"       "
      ]
     },
     "metadata": {},
     "output_type": "display_data"
    },
    {
     "data": {
      "text/html": [
       "33"
      ],
      "text/latex": [
       "33"
      ],
      "text/markdown": [
       "33"
      ],
      "text/plain": [
       "[1] 33"
      ]
     },
     "metadata": {},
     "output_type": "display_data"
    },
    {
     "data": {
      "text/html": [
       "38"
      ],
      "text/latex": [
       "38"
      ],
      "text/markdown": [
       "38"
      ],
      "text/plain": [
       "[1] 38"
      ]
     },
     "metadata": {},
     "output_type": "display_data"
    }
   ],
   "source": [
    "centre_postcodes <- bind_rows(lapply(datafiles_cs_entries[sel_idx], read_csv, \n",
    "                                     col_select = matches(\"Centre|postcode|ea_name|geo_area\"), \n",
    "                                     name_repair = str_to_title,\n",
    "                                     trim_ws = TRUE\n",
    "                                    )\n",
    "                             ) %>%\n",
    "    rename_with(snakecase::to_upper_camel_case) %>% \n",
    "\n",
    "    bind_rows(read_xlsx(datafiles_cs_entries[!sel_idx2], \n",
    "                            trim_ws = TRUE, \n",
    "                       ) %>% \n",
    "              select(matches(\"Centre|postcode|ea_name|geo_area\")) %>%\n",
    "              rename_with(snakecase::to_upper_camel_case)\n",
    "             ) %>% \n",
    "    rename(EducationAuthority = snakecase::to_upper_camel_case(\"ea_name\")) %>%\n",
    "              \n",
    "\n",
    "    bind_rows(read_csv(\"data/9414.csv\", \n",
    "                       col_select = matches(\"Centre|postcode|(Education Authority)\"), \n",
    "                       trim_ws = TRUE, \n",
    "                       skip = 1) %>%\n",
    "              rename_with(snakecase::to_upper_camel_case)\n",
    "             ) %>% \n",
    "\n",
    "    filter(rowSums(is.na(.)) != ncol(.)) %>%\n",
    "    mutate(across(where(is.character), str_squish),\n",
    "           across(CentreName, ~ str_replace_all(., \"\\\\$\", \"\")), # flags school closed\n",
    "           \n",
    "           across(GeoArea, ~ gsub(\"(\\\\w+), City of\", \"\\\\1 City\", .)), \n",
    "           across(GeoArea, ~ gsub(\"(Shetland|Orkney)\", \"\\\\1 Islands\", .)), \n",
    "           across(GeoArea, ~ if_else(str_detect(., \"Edinburgh\"), \"City of Edinburgh\", .)), \n",
    "           across(GeoArea, ~ if_else(str_detect(., \"Clackmannan\"), \"Clackmannanshire\", .)), \n",
    "           across(GeoArea, ~ if_else(str_detect(., \"Western Isles\"), \"Na h-Eileanan Siar\", .)), \n",
    "           across(GeoArea, ~ if_else(str_detect(., regex(\"Grant aided\", ignore_case = TRUE)), str_to_title(.), .)), \n",
    "           across(GeoArea, ~ str_squish(str_remove(., \"Council\"))),\n",
    "           across(GeoArea, ~ fct_relevel(., \"Grant Aided\", after = Inf)),\n",
    "           \n",
    "           across(matches(\"GeoArea|Authority\"), ~ gsub(\"\\\\band\\\\b\", \"\\\\&\", .)),\n",
    "           across(EducationAuthority, ~ fct_relevel(., \"Independent\", after = Inf)),\n",
    "\n",
    "           across(!where(is.factor), as.factor)\n",
    "          ) %>%\n",
    "    \n",
    "    distinct() %>%\n",
    "    arrange(Centre) %>%\n",
    "    glimpse()\n",
    "\n",
    "levels(centre_postcodes$EducationAuthority)\n",
    "levels(centre_postcodes$GeoArea)\n",
    "\n",
    "length(levels(centre_postcodes$EducationAuthority))\n",
    "length(levels(centre_postcodes$GeoArea))"
   ]
  },
  {
   "cell_type": "code",
   "execution_count": 9,
   "metadata": {
    "scrolled": false
   },
   "outputs": [
    {
     "name": "stderr",
     "output_type": "stream",
     "text": [
      "Joining, by = c(\"Centre\", \"CentreName\", \"Postcode\")\n"
     ]
    },
    {
     "name": "stdout",
     "output_type": "stream",
     "text": [
      "Rows: 988\n",
      "Columns: 5\n",
      "$ Centre             \u001b[3m\u001b[90m<fct>\u001b[39m\u001b[23m 1000144, 1001930, 1002732, 1002759, 1002856, 100295…\n",
      "$ CentreName         \u001b[3m\u001b[90m<fct>\u001b[39m\u001b[23m \"Firpark Secondary School\", \"Buchanan High School\",…\n",
      "$ Postcode           \u001b[3m\u001b[90m<fct>\u001b[39m\u001b[23m ML1 2PR, ML5 2HT, G67 2UF, KA13 6DE, DD3 8LE, EH11 …\n",
      "$ EducationAuthority \u001b[3m\u001b[90m<fct>\u001b[39m\u001b[23m North Lanarkshire Council Education Department, Nor…\n",
      "$ GeoArea            \u001b[3m\u001b[90m<fct>\u001b[39m\u001b[23m North Lanarkshire, North Lanarkshire, North Lanarks…\n"
     ]
    },
    {
     "data": {
      "text/html": [
       "<table class=\"dataframe\">\n",
       "<caption>A grouped_df: 2 × 6</caption>\n",
       "<thead>\n",
       "\t<tr><th scope=col>Centre</th><th scope=col>CentreName</th><th scope=col>Postcode</th><th scope=col>EducationAuthority</th><th scope=col>GeoArea</th><th scope=col>n</th></tr>\n",
       "\t<tr><th scope=col>&lt;fct&gt;</th><th scope=col>&lt;fct&gt;</th><th scope=col>&lt;fct&gt;</th><th scope=col>&lt;fct&gt;</th><th scope=col>&lt;fct&gt;</th><th scope=col>&lt;int&gt;</th></tr>\n",
       "</thead>\n",
       "<tbody>\n",
       "\t<tr><td>5251834</td><td>Banchory Academy</td><td>AB31 5UJ</td><td>Aberdeenshire Council Education Department</td><td>Aberdeenshire</td><td>2</td></tr>\n",
       "\t<tr><td>5251834</td><td>Banchory Academy</td><td>AB31 5TQ</td><td>Aberdeenshire Council Education Department</td><td>Aberdeenshire</td><td>2</td></tr>\n",
       "</tbody>\n",
       "</table>\n"
      ],
      "text/latex": [
       "A grouped\\_df: 2 × 6\n",
       "\\begin{tabular}{llllll}\n",
       " Centre & CentreName & Postcode & EducationAuthority & GeoArea & n\\\\\n",
       " <fct> & <fct> & <fct> & <fct> & <fct> & <int>\\\\\n",
       "\\hline\n",
       "\t 5251834 & Banchory Academy & AB31 5UJ & Aberdeenshire Council Education Department & Aberdeenshire & 2\\\\\n",
       "\t 5251834 & Banchory Academy & AB31 5TQ & Aberdeenshire Council Education Department & Aberdeenshire & 2\\\\\n",
       "\\end{tabular}\n"
      ],
      "text/markdown": [
       "\n",
       "A grouped_df: 2 × 6\n",
       "\n",
       "| Centre &lt;fct&gt; | CentreName &lt;fct&gt; | Postcode &lt;fct&gt; | EducationAuthority &lt;fct&gt; | GeoArea &lt;fct&gt; | n &lt;int&gt; |\n",
       "|---|---|---|---|---|---|\n",
       "| 5251834 | Banchory Academy | AB31 5UJ | Aberdeenshire Council Education Department | Aberdeenshire | 2 |\n",
       "| 5251834 | Banchory Academy | AB31 5TQ | Aberdeenshire Council Education Department | Aberdeenshire | 2 |\n",
       "\n"
      ],
      "text/plain": [
       "  Centre  CentreName       Postcode EducationAuthority                        \n",
       "1 5251834 Banchory Academy AB31 5UJ Aberdeenshire Council Education Department\n",
       "2 5251834 Banchory Academy AB31 5TQ Aberdeenshire Council Education Department\n",
       "  GeoArea       n\n",
       "1 Aberdeenshire 2\n",
       "2 Aberdeenshire 2"
      ]
     },
     "metadata": {},
     "output_type": "display_data"
    },
    {
     "data": {
      "text/html": [
       "0"
      ],
      "text/latex": [
       "0"
      ],
      "text/markdown": [
       "0"
      ],
      "text/plain": [
       "[1] 0"
      ]
     },
     "metadata": {},
     "output_type": "display_data"
    },
    {
     "data": {
      "text/html": [
       "0"
      ],
      "text/latex": [
       "0"
      ],
      "text/markdown": [
       "0"
      ],
      "text/plain": [
       "[1] 0"
      ]
     },
     "metadata": {},
     "output_type": "display_data"
    },
    {
     "data": {
      "text/html": [
       "520"
      ],
      "text/latex": [
       "520"
      ],
      "text/markdown": [
       "520"
      ],
      "text/plain": [
       "[1] 520"
      ]
     },
     "metadata": {},
     "output_type": "display_data"
    }
   ],
   "source": [
    "#centre_postcodes %>%\n",
    "#    group_by(across(matches(\"Centre\"))) %>%\n",
    "#    add_tally() %>%\n",
    "#    filter(n > 1)\n",
    "\n",
    "centre_postcodes <- centre_postcodes %>%\n",
    "    filter(!is.na(GeoArea)) %>%\n",
    "\n",
    "    full_join(centre_postcodes %>%\n",
    "                  filter(is.na(GeoArea)) %>%\n",
    "                  select(- GeoArea) %>%\n",
    "                  rename(EducationAuthority_fill = EducationAuthority)\n",
    "    ) %>%\n",
    "    mutate(across(EducationAuthority, ~ coalesce(., EducationAuthority_fill))) %>%\n",
    "    select(- EducationAuthority_fill) %>%\n",
    "    glimpse()\n",
    "\n",
    "\n",
    "centre_postcodes %>%\n",
    "\n",
    "    group_by(across(matches(\"Centre\"))) %>%\n",
    "    add_tally() %>%\n",
    "    filter(n > 1) %>%\n",
    "    arrange(Centre)\n",
    "\n",
    "centre_postcodes %>%\n",
    "    filter(if_all(c(EducationAuthority, GeoArea), is.na)) %>%\n",
    "    nrow()\n",
    "\n",
    "centre_postcodes %>%\n",
    "    filter(is.na(GeoArea)) %>%\n",
    "    nrow()\n",
    "\n",
    "centre_postcodes %>%\n",
    "    filter(is.na(EducationAuthority)) %>%\n",
    "    nrow()"
   ]
  },
  {
   "cell_type": "code",
   "execution_count": 10,
   "metadata": {
    "scrolled": false
   },
   "outputs": [
    {
     "data": {
      "text/html": [
       "<table class=\"dataframe\">\n",
       "<caption>A grouped_df: 2 × 3</caption>\n",
       "<thead>\n",
       "\t<tr><th scope=col>Centre</th><th scope=col>Postcode</th><th scope=col>n</th></tr>\n",
       "\t<tr><th scope=col>&lt;fct&gt;</th><th scope=col>&lt;fct&gt;</th><th scope=col>&lt;int&gt;</th></tr>\n",
       "</thead>\n",
       "<tbody>\n",
       "\t<tr><td>5251834</td><td>AB31 5UJ</td><td>2</td></tr>\n",
       "\t<tr><td>5251834</td><td>AB31 5TQ</td><td>2</td></tr>\n",
       "</tbody>\n",
       "</table>\n"
      ],
      "text/latex": [
       "A grouped\\_df: 2 × 3\n",
       "\\begin{tabular}{lll}\n",
       " Centre & Postcode & n\\\\\n",
       " <fct> & <fct> & <int>\\\\\n",
       "\\hline\n",
       "\t 5251834 & AB31 5UJ & 2\\\\\n",
       "\t 5251834 & AB31 5TQ & 2\\\\\n",
       "\\end{tabular}\n"
      ],
      "text/markdown": [
       "\n",
       "A grouped_df: 2 × 3\n",
       "\n",
       "| Centre &lt;fct&gt; | Postcode &lt;fct&gt; | n &lt;int&gt; |\n",
       "|---|---|---|\n",
       "| 5251834 | AB31 5UJ | 2 |\n",
       "| 5251834 | AB31 5TQ | 2 |\n",
       "\n"
      ],
      "text/plain": [
       "  Centre  Postcode n\n",
       "1 5251834 AB31 5UJ 2\n",
       "2 5251834 AB31 5TQ 2"
      ]
     },
     "metadata": {},
     "output_type": "display_data"
    }
   ],
   "source": [
    "# school website and google maps both have  AB31 5UJ \n",
    "# manually deleting other\n",
    "\n",
    "centre_postcodes %>%\n",
    "    distinct(Centre, Postcode) %>%\n",
    "\n",
    "    group_by(across(matches(\"Centre\"))) %>%\n",
    "    add_tally() %>%\n",
    "    filter(n > 1)"
   ]
  },
  {
   "cell_type": "code",
   "execution_count": 11,
   "metadata": {},
   "outputs": [],
   "source": [
    "centre_postcodes <- centre_postcodes %>%\n",
    "    filter(!((Centre == \"5251834\") & (Postcode == \"AB31 5TQ\")))"
   ]
  },
  {
   "cell_type": "code",
   "execution_count": null,
   "metadata": {},
   "outputs": [],
   "source": []
  },
  {
   "cell_type": "markdown",
   "metadata": {},
   "source": [
    "### Manually fill in remaining blanks in postcodes"
   ]
  },
  {
   "cell_type": "code",
   "execution_count": 12,
   "metadata": {},
   "outputs": [
    {
     "name": "stderr",
     "output_type": "stream",
     "text": [
      "\u001b[1mRows: \u001b[22m\u001b[34m358\u001b[39m \u001b[1mColumns: \u001b[22m\u001b[34m3\u001b[39m\n",
      "\u001b[36m──\u001b[39m \u001b[1mColumn specification\u001b[22m \u001b[36m──────────────────────────────────────────────────────────\u001b[39m\n",
      "\u001b[1mDelimiter:\u001b[22m \",\"\n",
      "\u001b[31mchr\u001b[39m (2): Local Authority, School Name\n",
      "\u001b[32mdbl\u001b[39m (1): SeedCode\n",
      "\n",
      "\u001b[36mℹ\u001b[39m Use `spec()` to retrieve the full column specification for this data.\n",
      "\u001b[36mℹ\u001b[39m Specify the column types or set `show_col_types = FALSE` to quiet this message.\n",
      "\u001b[1mRows: \u001b[22m\u001b[34m357\u001b[39m \u001b[1mColumns: \u001b[22m\u001b[34m3\u001b[39m\n",
      "\u001b[36m──\u001b[39m \u001b[1mColumn specification\u001b[22m \u001b[36m──────────────────────────────────────────────────────────\u001b[39m\n",
      "\u001b[1mDelimiter:\u001b[22m \",\"\n",
      "\u001b[31mchr\u001b[39m (2): Local Authority, School Name\n",
      "\u001b[32mdbl\u001b[39m (1): SeedCode\n",
      "\n",
      "\u001b[36mℹ\u001b[39m Use `spec()` to retrieve the full column specification for this data.\n",
      "\u001b[36mℹ\u001b[39m Specify the column types or set `show_col_types = FALSE` to quiet this message.\n",
      "\u001b[1mRows: \u001b[22m\u001b[34m357\u001b[39m \u001b[1mColumns: \u001b[22m\u001b[34m3\u001b[39m\n",
      "\u001b[36m──\u001b[39m \u001b[1mColumn specification\u001b[22m \u001b[36m──────────────────────────────────────────────────────────\u001b[39m\n",
      "\u001b[1mDelimiter:\u001b[22m \",\"\n",
      "\u001b[31mchr\u001b[39m (2): Local Authority, School Name\n",
      "\u001b[32mdbl\u001b[39m (1): SeedCode\n",
      "\n",
      "\u001b[36mℹ\u001b[39m Use `spec()` to retrieve the full column specification for this data.\n",
      "\u001b[36mℹ\u001b[39m Specify the column types or set `show_col_types = FALSE` to quiet this message.\n"
     ]
    },
    {
     "name": "stdout",
     "output_type": "stream",
     "text": [
      "Rows: 384\n",
      "Columns: 3\n",
      "$ LocalAuthority \u001b[3m\u001b[90m<chr>\u001b[39m\u001b[23m \"Aberdeen City\", \"Aberdeen City\", \"Aberdeen City\", \"Abe…\n",
      "$ SeedCode       \u001b[3m\u001b[90m<dbl>\u001b[39m\u001b[23m 5244439, 5235634, 5234034, 5235839, 5243335, 5243238, 5…\n",
      "$ SchoolName     \u001b[3m\u001b[90m<chr>\u001b[39m\u001b[23m \"Aberdeen Grammar School\", \"Bridge of Don Academy\", \"Bu…\n"
     ]
    }
   ],
   "source": [
    "summary_stats_schools <- bind_rows(lapply(datafiles_secondary_school_level_summary_statistics, read_csv, \n",
    "                                          col_select = matches(\"Authority|SeedCode|Name\"),\n",
    "                                          trim_ws = TRUE, \n",
    "                                          na = c(\"*\", \"#\", \"..\", \"z\", \"x\")\n",
    "                                         )\n",
    "                             ) %>% \n",
    "\n",
    "    filter(rowSums(is.na(.)) != ncol(.)) %>%\n",
    "    distinct() %>%\n",
    "    rename_with(snakecase::to_upper_camel_case) %>%\n",
    "\n",
    "    glimpse()"
   ]
  },
  {
   "cell_type": "code",
   "execution_count": 13,
   "metadata": {},
   "outputs": [
    {
     "name": "stdout",
     "output_type": "stream",
     "text": [
      "Rows: 361\n",
      "Columns: 3\n",
      "$ LocalAuthority \u001b[3m\u001b[90m<fct>\u001b[39m\u001b[23m Aberdeen City, Aberdeen City, Aberdeen City, Aberdeen C…\n",
      "$ SeedCode       \u001b[3m\u001b[90m<fct>\u001b[39m\u001b[23m 5244439, 5235634, 5234034, 5235839, 5243335, 5243238, 5…\n",
      "$ SchoolName     \u001b[3m\u001b[90m<fct>\u001b[39m\u001b[23m Aberdeen Grammar School, Bridge of Don Academy, Bucksbu…\n"
     ]
    }
   ],
   "source": [
    "summary_stats_schools <- summary_stats_schools %>%\n",
    "\n",
    "    rename_with(snakecase::to_upper_camel_case, abbreviations = abbreviations) %>%\n",
    "\n",
    "    mutate(across(where(is.character), str_squish),\n",
    "           across(SchoolName, ~ str_replace_all(., \"\\\\$\", \"\")), # flags school closed\n",
    "           across(SeedCode, as.character),\n",
    "           \n",
    "           across(LocalAuthority, ~ if_else(str_detect(., \"Edinburgh\"), \"City of Edinburgh\", .)), \n",
    "           across(LocalAuthority, ~ if_else(str_detect(., \"Clackmannan\"), \"Clackmannanshire\", .)), \n",
    "           across(LocalAuthority, ~ if_else(str_detect(., \"Western Isles\"), \"Na h-Eileanan Siar\", .)), \n",
    "           across(LocalAuthority, ~ gsub(\"\\\\band\\\\b\", \"\\\\&\", .)),\n",
    "           across(LocalAuthority, ~ if_else(str_detect(., regex(\"Grant aided\", ignore_case = TRUE)), str_to_title(.), .)), \n",
    "           across(LocalAuthority, ~ str_squish(str_remove(., \"Council\"))),\n",
    "           across(LocalAuthority, ~ fct_relevel(., \"Grant Aided\", after = Inf)),\n",
    "           \n",
    "           across(everything(), as.factor)\n",
    "          ) %>%\n",
    "    distinct() %>%\n",
    "\n",
    "    glimpse()\n"
   ]
  },
  {
   "cell_type": "code",
   "execution_count": 14,
   "metadata": {},
   "outputs": [
    {
     "data": {
      "text/html": [
       "<table class=\"dataframe\">\n",
       "<caption>A grouped_df: 4 × 4</caption>\n",
       "<thead>\n",
       "\t<tr><th scope=col>LocalAuthority</th><th scope=col>SeedCode</th><th scope=col>SchoolName</th><th scope=col>n</th></tr>\n",
       "\t<tr><th scope=col>&lt;fct&gt;</th><th scope=col>&lt;fct&gt;</th><th scope=col>&lt;fct&gt;</th><th scope=col>&lt;int&gt;</th></tr>\n",
       "</thead>\n",
       "<tbody>\n",
       "\t<tr><td>City of Edinburgh</td><td>5533937</td><td>Wester Hailes Education Centre     </td><td>2</td></tr>\n",
       "\t<tr><td>City of Edinburgh</td><td>5533937</td><td>Wester Hailes High School          </td><td>2</td></tr>\n",
       "\t<tr><td>Scottish Borders </td><td>5632730</td><td>Jedburgh Grammar School            </td><td>2</td></tr>\n",
       "\t<tr><td>Scottish Borders </td><td>5632730</td><td>Jedburgh Grammar Campus - Secondary</td><td>2</td></tr>\n",
       "</tbody>\n",
       "</table>\n"
      ],
      "text/latex": [
       "A grouped\\_df: 4 × 4\n",
       "\\begin{tabular}{llll}\n",
       " LocalAuthority & SeedCode & SchoolName & n\\\\\n",
       " <fct> & <fct> & <fct> & <int>\\\\\n",
       "\\hline\n",
       "\t City of Edinburgh & 5533937 & Wester Hailes Education Centre      & 2\\\\\n",
       "\t City of Edinburgh & 5533937 & Wester Hailes High School           & 2\\\\\n",
       "\t Scottish Borders  & 5632730 & Jedburgh Grammar School             & 2\\\\\n",
       "\t Scottish Borders  & 5632730 & Jedburgh Grammar Campus - Secondary & 2\\\\\n",
       "\\end{tabular}\n"
      ],
      "text/markdown": [
       "\n",
       "A grouped_df: 4 × 4\n",
       "\n",
       "| LocalAuthority &lt;fct&gt; | SeedCode &lt;fct&gt; | SchoolName &lt;fct&gt; | n &lt;int&gt; |\n",
       "|---|---|---|---|\n",
       "| City of Edinburgh | 5533937 | Wester Hailes Education Centre      | 2 |\n",
       "| City of Edinburgh | 5533937 | Wester Hailes High School           | 2 |\n",
       "| Scottish Borders  | 5632730 | Jedburgh Grammar School             | 2 |\n",
       "| Scottish Borders  | 5632730 | Jedburgh Grammar Campus - Secondary | 2 |\n",
       "\n"
      ],
      "text/plain": [
       "  LocalAuthority    SeedCode SchoolName                          n\n",
       "1 City of Edinburgh 5533937  Wester Hailes Education Centre      2\n",
       "2 City of Edinburgh 5533937  Wester Hailes High School           2\n",
       "3 Scottish Borders  5632730  Jedburgh Grammar School             2\n",
       "4 Scottish Borders  5632730  Jedburgh Grammar Campus - Secondary 2"
      ]
     },
     "metadata": {},
     "output_type": "display_data"
    }
   ],
   "source": [
    "summary_stats_schools %>%\n",
    "    group_by(SeedCode) %>%\n",
    "    add_tally() %>%\n",
    "    filter(n > 1) %>%\n",
    "    arrange(SeedCode, desc(n)) "
   ]
  },
  {
   "cell_type": "code",
   "execution_count": 15,
   "metadata": {
    "scrolled": true
   },
   "outputs": [
    {
     "data": {
      "text/html": [
       "<style>\n",
       ".list-inline {list-style: none; margin:0; padding: 0}\n",
       ".list-inline>li {display: inline-block}\n",
       ".list-inline>li:not(:last-child)::after {content: \"\\00b7\"; padding: 0 .5ex}\n",
       "</style>\n",
       "<ol class=list-inline><li>'Aberdeen City'</li><li>'Aberdeenshire'</li><li>'Angus'</li><li>'Argyll &amp; Bute'</li><li>'City of Edinburgh'</li><li>'Clackmannanshire'</li><li>'Dumfries &amp; Galloway'</li><li>'Dundee City'</li><li>'East Ayrshire'</li><li>'East Dunbartonshire'</li><li>'East Lothian'</li><li>'East Renfrewshire'</li><li>'Falkirk'</li><li>'Fife'</li><li>'Glasgow City'</li><li>'Highland'</li><li>'Inverclyde'</li><li>'Midlothian'</li><li>'Moray'</li><li>'Na h-Eileanan Siar'</li><li>'North Ayrshire'</li><li>'North Lanarkshire'</li><li>'Orkney Islands'</li><li>'Perth &amp; Kinross'</li><li>'Renfrewshire'</li><li>'Scottish Borders'</li><li>'Shetland Islands'</li><li>'South Ayrshire'</li><li>'South Lanarkshire'</li><li>'Stirling'</li><li>'West Dunbartonshire'</li><li>'West Lothian'</li><li>'Grant Aided'</li></ol>\n"
      ],
      "text/latex": [
       "\\begin{enumerate*}\n",
       "\\item 'Aberdeen City'\n",
       "\\item 'Aberdeenshire'\n",
       "\\item 'Angus'\n",
       "\\item 'Argyll \\& Bute'\n",
       "\\item 'City of Edinburgh'\n",
       "\\item 'Clackmannanshire'\n",
       "\\item 'Dumfries \\& Galloway'\n",
       "\\item 'Dundee City'\n",
       "\\item 'East Ayrshire'\n",
       "\\item 'East Dunbartonshire'\n",
       "\\item 'East Lothian'\n",
       "\\item 'East Renfrewshire'\n",
       "\\item 'Falkirk'\n",
       "\\item 'Fife'\n",
       "\\item 'Glasgow City'\n",
       "\\item 'Highland'\n",
       "\\item 'Inverclyde'\n",
       "\\item 'Midlothian'\n",
       "\\item 'Moray'\n",
       "\\item 'Na h-Eileanan Siar'\n",
       "\\item 'North Ayrshire'\n",
       "\\item 'North Lanarkshire'\n",
       "\\item 'Orkney Islands'\n",
       "\\item 'Perth \\& Kinross'\n",
       "\\item 'Renfrewshire'\n",
       "\\item 'Scottish Borders'\n",
       "\\item 'Shetland Islands'\n",
       "\\item 'South Ayrshire'\n",
       "\\item 'South Lanarkshire'\n",
       "\\item 'Stirling'\n",
       "\\item 'West Dunbartonshire'\n",
       "\\item 'West Lothian'\n",
       "\\item 'Grant Aided'\n",
       "\\end{enumerate*}\n"
      ],
      "text/markdown": [
       "1. 'Aberdeen City'\n",
       "2. 'Aberdeenshire'\n",
       "3. 'Angus'\n",
       "4. 'Argyll &amp; Bute'\n",
       "5. 'City of Edinburgh'\n",
       "6. 'Clackmannanshire'\n",
       "7. 'Dumfries &amp; Galloway'\n",
       "8. 'Dundee City'\n",
       "9. 'East Ayrshire'\n",
       "10. 'East Dunbartonshire'\n",
       "11. 'East Lothian'\n",
       "12. 'East Renfrewshire'\n",
       "13. 'Falkirk'\n",
       "14. 'Fife'\n",
       "15. 'Glasgow City'\n",
       "16. 'Highland'\n",
       "17. 'Inverclyde'\n",
       "18. 'Midlothian'\n",
       "19. 'Moray'\n",
       "20. 'Na h-Eileanan Siar'\n",
       "21. 'North Ayrshire'\n",
       "22. 'North Lanarkshire'\n",
       "23. 'Orkney Islands'\n",
       "24. 'Perth &amp; Kinross'\n",
       "25. 'Renfrewshire'\n",
       "26. 'Scottish Borders'\n",
       "27. 'Shetland Islands'\n",
       "28. 'South Ayrshire'\n",
       "29. 'South Lanarkshire'\n",
       "30. 'Stirling'\n",
       "31. 'West Dunbartonshire'\n",
       "32. 'West Lothian'\n",
       "33. 'Grant Aided'\n",
       "\n",
       "\n"
      ],
      "text/plain": [
       " [1] \"Aberdeen City\"       \"Aberdeenshire\"       \"Angus\"              \n",
       " [4] \"Argyll & Bute\"       \"City of Edinburgh\"   \"Clackmannanshire\"   \n",
       " [7] \"Dumfries & Galloway\" \"Dundee City\"         \"East Ayrshire\"      \n",
       "[10] \"East Dunbartonshire\" \"East Lothian\"        \"East Renfrewshire\"  \n",
       "[13] \"Falkirk\"             \"Fife\"                \"Glasgow City\"       \n",
       "[16] \"Highland\"            \"Inverclyde\"          \"Midlothian\"         \n",
       "[19] \"Moray\"               \"Na h-Eileanan Siar\"  \"North Ayrshire\"     \n",
       "[22] \"North Lanarkshire\"   \"Orkney Islands\"      \"Perth & Kinross\"    \n",
       "[25] \"Renfrewshire\"        \"Scottish Borders\"    \"Shetland Islands\"   \n",
       "[28] \"South Ayrshire\"      \"South Lanarkshire\"   \"Stirling\"           \n",
       "[31] \"West Dunbartonshire\" \"West Lothian\"        \"Grant Aided\"        "
      ]
     },
     "metadata": {},
     "output_type": "display_data"
    }
   ],
   "source": [
    "levels(summary_stats_schools$LocalAuthority)"
   ]
  },
  {
   "cell_type": "code",
   "execution_count": null,
   "metadata": {},
   "outputs": [],
   "source": []
  },
  {
   "cell_type": "code",
   "execution_count": 16,
   "metadata": {},
   "outputs": [],
   "source": [
    "summary_stats_schools <- summary_stats_schools %>%\n",
    "\n",
    "    left_join(centre_postcodes %>%\n",
    "                  distinct(Centre, Postcode), \n",
    "              by = c(\"SeedCode\" = \"Centre\")\n",
    "             )"
   ]
  },
  {
   "cell_type": "code",
   "execution_count": 17,
   "metadata": {
    "scrolled": true
   },
   "outputs": [
    {
     "data": {
      "text/html": [
       "361"
      ],
      "text/latex": [
       "361"
      ],
      "text/markdown": [
       "361"
      ],
      "text/plain": [
       "[1] 361"
      ]
     },
     "metadata": {},
     "output_type": "display_data"
    },
    {
     "data": {
      "text/html": [
       "359"
      ],
      "text/latex": [
       "359"
      ],
      "text/markdown": [
       "359"
      ],
      "text/plain": [
       "[1] 359"
      ]
     },
     "metadata": {},
     "output_type": "display_data"
    },
    {
     "data": {
      "text/html": [
       "15"
      ],
      "text/latex": [
       "15"
      ],
      "text/markdown": [
       "15"
      ],
      "text/plain": [
       "[1] 15"
      ]
     },
     "metadata": {},
     "output_type": "display_data"
    },
    {
     "data": {
      "text/html": [
       "346"
      ],
      "text/latex": [
       "346"
      ],
      "text/markdown": [
       "346"
      ],
      "text/plain": [
       "[1] 346"
      ]
     },
     "metadata": {},
     "output_type": "display_data"
    }
   ],
   "source": [
    "nrow(summary_stats_schools)\n",
    "\n",
    "summary_stats_schools %>%\n",
    "    distinct(SeedCode) %>%\n",
    "    nrow()\n",
    "\n",
    "summary_stats_schools %>%\n",
    "    filter(is.na(Postcode)) %>%\n",
    "    distinct(SeedCode, SchoolName) %>%\n",
    "    nrow()\n",
    "\n",
    "summary_stats_schools %>%\n",
    "    filter(!is.na(Postcode)) %>%\n",
    "    distinct(SeedCode, SchoolName, Postcode) %>%\n",
    "    nrow()"
   ]
  },
  {
   "cell_type": "code",
   "execution_count": null,
   "metadata": {},
   "outputs": [],
   "source": []
  },
  {
   "cell_type": "code",
   "execution_count": 18,
   "metadata": {},
   "outputs": [
    {
     "data": {
      "text/html": [
       "<table class=\"dataframe\">\n",
       "<caption>A tibble: 15 × 4</caption>\n",
       "<thead>\n",
       "\t<tr><th scope=col>LocalAuthority</th><th scope=col>SeedCode</th><th scope=col>SchoolName</th><th scope=col>Postcode</th></tr>\n",
       "\t<tr><th scope=col>&lt;fct&gt;</th><th scope=col>&lt;fct&gt;</th><th scope=col>&lt;fct&gt;</th><th scope=col>&lt;fct&gt;</th></tr>\n",
       "</thead>\n",
       "<tbody>\n",
       "\t<tr><td><span style=white-space:pre-wrap>Argyll &amp; Bute      </span></td><td>8109931</td><td><span style=white-space:pre-wrap>Islay High School         </span></td><td>NA</td></tr>\n",
       "\t<tr><td><span style=white-space:pre-wrap>Argyll &amp; Bute      </span></td><td>8111030</td><td><span style=white-space:pre-wrap>Lochgilphead High School  </span></td><td>NA</td></tr>\n",
       "\t<tr><td>Dumfries &amp; Galloway</td><td>5948630</td><td><span style=white-space:pre-wrap>Lockerbie Academy         </span></td><td>NA</td></tr>\n",
       "\t<tr><td>Dumfries &amp; Galloway</td><td>5948738</td><td><span style=white-space:pre-wrap>Moffat Academy            </span></td><td>NA</td></tr>\n",
       "\t<tr><td>Highland           </td><td>5130239</td><td>Ardnamurchan High School  </td><td>NA</td></tr>\n",
       "\t<tr><td>Highland           </td><td>5119332</td><td>Fortrose Academy          </td><td>NA</td></tr>\n",
       "\t<tr><td>Highland           </td><td>5142539</td><td>Glen Urquhart High School </td><td>NA</td></tr>\n",
       "\t<tr><td>Highland           </td><td>5142431</td><td>Kilchuimen Academy        </td><td>NA</td></tr>\n",
       "\t<tr><td>Highland           </td><td>5135834</td><td>Mallaig High School       </td><td>NA</td></tr>\n",
       "\t<tr><td>North Lanarkshire  </td><td>8517231</td><td>Calderhead High School    </td><td>NA</td></tr>\n",
       "\t<tr><td>North Lanarkshire  </td><td>8506736</td><td>St Ambrose High School    </td><td>NA</td></tr>\n",
       "\t<tr><td>Orkney Islands     </td><td>6003230</td><td>Sanday Secondary School   </td><td>NA</td></tr>\n",
       "\t<tr><td>Orkney Islands     </td><td>6003834</td><td>Stronsay Secondary School </td><td>NA</td></tr>\n",
       "\t<tr><td>Orkney Islands     </td><td>6003036</td><td>Westray Secondary School  </td><td>NA</td></tr>\n",
       "\t<tr><td>Shetland Islands   </td><td>6104134</td><td>Whalsay School - Secondary</td><td>NA</td></tr>\n",
       "</tbody>\n",
       "</table>\n"
      ],
      "text/latex": [
       "A tibble: 15 × 4\n",
       "\\begin{tabular}{llll}\n",
       " LocalAuthority & SeedCode & SchoolName & Postcode\\\\\n",
       " <fct> & <fct> & <fct> & <fct>\\\\\n",
       "\\hline\n",
       "\t Argyll \\& Bute       & 8109931 & Islay High School          & NA\\\\\n",
       "\t Argyll \\& Bute       & 8111030 & Lochgilphead High School   & NA\\\\\n",
       "\t Dumfries \\& Galloway & 5948630 & Lockerbie Academy          & NA\\\\\n",
       "\t Dumfries \\& Galloway & 5948738 & Moffat Academy             & NA\\\\\n",
       "\t Highland            & 5130239 & Ardnamurchan High School   & NA\\\\\n",
       "\t Highland            & 5119332 & Fortrose Academy           & NA\\\\\n",
       "\t Highland            & 5142539 & Glen Urquhart High School  & NA\\\\\n",
       "\t Highland            & 5142431 & Kilchuimen Academy         & NA\\\\\n",
       "\t Highland            & 5135834 & Mallaig High School        & NA\\\\\n",
       "\t North Lanarkshire   & 8517231 & Calderhead High School     & NA\\\\\n",
       "\t North Lanarkshire   & 8506736 & St Ambrose High School     & NA\\\\\n",
       "\t Orkney Islands      & 6003230 & Sanday Secondary School    & NA\\\\\n",
       "\t Orkney Islands      & 6003834 & Stronsay Secondary School  & NA\\\\\n",
       "\t Orkney Islands      & 6003036 & Westray Secondary School   & NA\\\\\n",
       "\t Shetland Islands    & 6104134 & Whalsay School - Secondary & NA\\\\\n",
       "\\end{tabular}\n"
      ],
      "text/markdown": [
       "\n",
       "A tibble: 15 × 4\n",
       "\n",
       "| LocalAuthority &lt;fct&gt; | SeedCode &lt;fct&gt; | SchoolName &lt;fct&gt; | Postcode &lt;fct&gt; |\n",
       "|---|---|---|---|\n",
       "| Argyll &amp; Bute       | 8109931 | Islay High School          | NA |\n",
       "| Argyll &amp; Bute       | 8111030 | Lochgilphead High School   | NA |\n",
       "| Dumfries &amp; Galloway | 5948630 | Lockerbie Academy          | NA |\n",
       "| Dumfries &amp; Galloway | 5948738 | Moffat Academy             | NA |\n",
       "| Highland            | 5130239 | Ardnamurchan High School   | NA |\n",
       "| Highland            | 5119332 | Fortrose Academy           | NA |\n",
       "| Highland            | 5142539 | Glen Urquhart High School  | NA |\n",
       "| Highland            | 5142431 | Kilchuimen Academy         | NA |\n",
       "| Highland            | 5135834 | Mallaig High School        | NA |\n",
       "| North Lanarkshire   | 8517231 | Calderhead High School     | NA |\n",
       "| North Lanarkshire   | 8506736 | St Ambrose High School     | NA |\n",
       "| Orkney Islands      | 6003230 | Sanday Secondary School    | NA |\n",
       "| Orkney Islands      | 6003834 | Stronsay Secondary School  | NA |\n",
       "| Orkney Islands      | 6003036 | Westray Secondary School   | NA |\n",
       "| Shetland Islands    | 6104134 | Whalsay School - Secondary | NA |\n",
       "\n"
      ],
      "text/plain": [
       "   LocalAuthority      SeedCode SchoolName                 Postcode\n",
       "1  Argyll & Bute       8109931  Islay High School          NA      \n",
       "2  Argyll & Bute       8111030  Lochgilphead High School   NA      \n",
       "3  Dumfries & Galloway 5948630  Lockerbie Academy          NA      \n",
       "4  Dumfries & Galloway 5948738  Moffat Academy             NA      \n",
       "5  Highland            5130239  Ardnamurchan High School   NA      \n",
       "6  Highland            5119332  Fortrose Academy           NA      \n",
       "7  Highland            5142539  Glen Urquhart High School  NA      \n",
       "8  Highland            5142431  Kilchuimen Academy         NA      \n",
       "9  Highland            5135834  Mallaig High School        NA      \n",
       "10 North Lanarkshire   8517231  Calderhead High School     NA      \n",
       "11 North Lanarkshire   8506736  St Ambrose High School     NA      \n",
       "12 Orkney Islands      6003230  Sanday Secondary School    NA      \n",
       "13 Orkney Islands      6003834  Stronsay Secondary School  NA      \n",
       "14 Orkney Islands      6003036  Westray Secondary School   NA      \n",
       "15 Shetland Islands    6104134  Whalsay School - Secondary NA      "
      ]
     },
     "metadata": {},
     "output_type": "display_data"
    },
    {
     "data": {
      "text/html": [
       "<table class=\"dataframe\">\n",
       "<caption>A tibble: 15 × 1</caption>\n",
       "<thead>\n",
       "\t<tr><th scope=col>seed</th></tr>\n",
       "\t<tr><th scope=col>&lt;chr&gt;</th></tr>\n",
       "</thead>\n",
       "<tbody>\n",
       "\t<tr><td>(SeedCode == \"8109931\") ~ \"\", # Islay High School         </td></tr>\n",
       "\t<tr><td>(SeedCode == \"8111030\") ~ \"\", # Lochgilphead High School  </td></tr>\n",
       "\t<tr><td>(SeedCode == \"5948630\") ~ \"\", # Lockerbie Academy         </td></tr>\n",
       "\t<tr><td>(SeedCode == \"5948738\") ~ \"\", # Moffat Academy            </td></tr>\n",
       "\t<tr><td>(SeedCode == \"5130239\") ~ \"\", # Ardnamurchan High School  </td></tr>\n",
       "\t<tr><td>(SeedCode == \"5119332\") ~ \"\", # Fortrose Academy          </td></tr>\n",
       "\t<tr><td>(SeedCode == \"5142539\") ~ \"\", # Glen Urquhart High School </td></tr>\n",
       "\t<tr><td>(SeedCode == \"5142431\") ~ \"\", # Kilchuimen Academy        </td></tr>\n",
       "\t<tr><td>(SeedCode == \"5135834\") ~ \"\", # Mallaig High School       </td></tr>\n",
       "\t<tr><td>(SeedCode == \"8517231\") ~ \"\", # Calderhead High School    </td></tr>\n",
       "\t<tr><td>(SeedCode == \"8506736\") ~ \"\", # St Ambrose High School    </td></tr>\n",
       "\t<tr><td>(SeedCode == \"6003230\") ~ \"\", # Sanday Secondary School   </td></tr>\n",
       "\t<tr><td>(SeedCode == \"6003834\") ~ \"\", # Stronsay Secondary School </td></tr>\n",
       "\t<tr><td>(SeedCode == \"6003036\") ~ \"\", # Westray Secondary School  </td></tr>\n",
       "\t<tr><td>(SeedCode == \"6104134\") ~ \"\", # Whalsay School - Secondary</td></tr>\n",
       "</tbody>\n",
       "</table>\n"
      ],
      "text/latex": [
       "A tibble: 15 × 1\n",
       "\\begin{tabular}{l}\n",
       " seed\\\\\n",
       " <chr>\\\\\n",
       "\\hline\n",
       "\t (SeedCode == \"8109931\") \\textasciitilde{} \"\", \\# Islay High School         \\\\\n",
       "\t (SeedCode == \"8111030\") \\textasciitilde{} \"\", \\# Lochgilphead High School  \\\\\n",
       "\t (SeedCode == \"5948630\") \\textasciitilde{} \"\", \\# Lockerbie Academy         \\\\\n",
       "\t (SeedCode == \"5948738\") \\textasciitilde{} \"\", \\# Moffat Academy            \\\\\n",
       "\t (SeedCode == \"5130239\") \\textasciitilde{} \"\", \\# Ardnamurchan High School  \\\\\n",
       "\t (SeedCode == \"5119332\") \\textasciitilde{} \"\", \\# Fortrose Academy          \\\\\n",
       "\t (SeedCode == \"5142539\") \\textasciitilde{} \"\", \\# Glen Urquhart High School \\\\\n",
       "\t (SeedCode == \"5142431\") \\textasciitilde{} \"\", \\# Kilchuimen Academy        \\\\\n",
       "\t (SeedCode == \"5135834\") \\textasciitilde{} \"\", \\# Mallaig High School       \\\\\n",
       "\t (SeedCode == \"8517231\") \\textasciitilde{} \"\", \\# Calderhead High School    \\\\\n",
       "\t (SeedCode == \"8506736\") \\textasciitilde{} \"\", \\# St Ambrose High School    \\\\\n",
       "\t (SeedCode == \"6003230\") \\textasciitilde{} \"\", \\# Sanday Secondary School   \\\\\n",
       "\t (SeedCode == \"6003834\") \\textasciitilde{} \"\", \\# Stronsay Secondary School \\\\\n",
       "\t (SeedCode == \"6003036\") \\textasciitilde{} \"\", \\# Westray Secondary School  \\\\\n",
       "\t (SeedCode == \"6104134\") \\textasciitilde{} \"\", \\# Whalsay School - Secondary\\\\\n",
       "\\end{tabular}\n"
      ],
      "text/markdown": [
       "\n",
       "A tibble: 15 × 1\n",
       "\n",
       "| seed &lt;chr&gt; |\n",
       "|---|\n",
       "| (SeedCode == \"8109931\") ~ \"\", # Islay High School          |\n",
       "| (SeedCode == \"8111030\") ~ \"\", # Lochgilphead High School   |\n",
       "| (SeedCode == \"5948630\") ~ \"\", # Lockerbie Academy          |\n",
       "| (SeedCode == \"5948738\") ~ \"\", # Moffat Academy             |\n",
       "| (SeedCode == \"5130239\") ~ \"\", # Ardnamurchan High School   |\n",
       "| (SeedCode == \"5119332\") ~ \"\", # Fortrose Academy           |\n",
       "| (SeedCode == \"5142539\") ~ \"\", # Glen Urquhart High School  |\n",
       "| (SeedCode == \"5142431\") ~ \"\", # Kilchuimen Academy         |\n",
       "| (SeedCode == \"5135834\") ~ \"\", # Mallaig High School        |\n",
       "| (SeedCode == \"8517231\") ~ \"\", # Calderhead High School     |\n",
       "| (SeedCode == \"8506736\") ~ \"\", # St Ambrose High School     |\n",
       "| (SeedCode == \"6003230\") ~ \"\", # Sanday Secondary School    |\n",
       "| (SeedCode == \"6003834\") ~ \"\", # Stronsay Secondary School  |\n",
       "| (SeedCode == \"6003036\") ~ \"\", # Westray Secondary School   |\n",
       "| (SeedCode == \"6104134\") ~ \"\", # Whalsay School - Secondary |\n",
       "\n"
      ],
      "text/plain": [
       "   seed                                                      \n",
       "1  (SeedCode == \"8109931\") ~ \"\", # Islay High School         \n",
       "2  (SeedCode == \"8111030\") ~ \"\", # Lochgilphead High School  \n",
       "3  (SeedCode == \"5948630\") ~ \"\", # Lockerbie Academy         \n",
       "4  (SeedCode == \"5948738\") ~ \"\", # Moffat Academy            \n",
       "5  (SeedCode == \"5130239\") ~ \"\", # Ardnamurchan High School  \n",
       "6  (SeedCode == \"5119332\") ~ \"\", # Fortrose Academy          \n",
       "7  (SeedCode == \"5142539\") ~ \"\", # Glen Urquhart High School \n",
       "8  (SeedCode == \"5142431\") ~ \"\", # Kilchuimen Academy        \n",
       "9  (SeedCode == \"5135834\") ~ \"\", # Mallaig High School       \n",
       "10 (SeedCode == \"8517231\") ~ \"\", # Calderhead High School    \n",
       "11 (SeedCode == \"8506736\") ~ \"\", # St Ambrose High School    \n",
       "12 (SeedCode == \"6003230\") ~ \"\", # Sanday Secondary School   \n",
       "13 (SeedCode == \"6003834\") ~ \"\", # Stronsay Secondary School \n",
       "14 (SeedCode == \"6003036\") ~ \"\", # Westray Secondary School  \n",
       "15 (SeedCode == \"6104134\") ~ \"\", # Whalsay School - Secondary"
      ]
     },
     "metadata": {},
     "output_type": "display_data"
    }
   ],
   "source": [
    "summary_stats_schools %>%\n",
    "    filter(is.na(Postcode))\n",
    "\n",
    "summary_stats_schools %>%\n",
    "    filter(is.na(Postcode)) %>%\n",
    "    distinct(SeedCode, SchoolName, Postcode) %>%\n",
    "    mutate(seed = paste0(\"(SeedCode == \\\"\", SeedCode, \"\\\") ~ \\\"\\\",\", \" # \", SchoolName),\n",
    "           Postcode = \"\\\"\\\"\"\n",
    "          ) %>%\n",
    "    distinct(seed)"
   ]
  },
  {
   "cell_type": "code",
   "execution_count": 19,
   "metadata": {},
   "outputs": [
    {
     "data": {
      "text/html": [
       "<table class=\"dataframe\">\n",
       "<caption>A tibble: 15 × 4</caption>\n",
       "<thead>\n",
       "\t<tr><th scope=col>LocalAuthority</th><th scope=col>SeedCode</th><th scope=col>SchoolName</th><th scope=col>Postcode</th></tr>\n",
       "\t<tr><th scope=col>&lt;fct&gt;</th><th scope=col>&lt;fct&gt;</th><th scope=col>&lt;fct&gt;</th><th scope=col>&lt;fct&gt;</th></tr>\n",
       "</thead>\n",
       "<tbody>\n",
       "\t<tr><td><span style=white-space:pre-wrap>Argyll &amp; Bute      </span></td><td>8109931</td><td><span style=white-space:pre-wrap>Islay High School         </span></td><td>PA43 7LS</td></tr>\n",
       "\t<tr><td><span style=white-space:pre-wrap>Argyll &amp; Bute      </span></td><td>8111030</td><td><span style=white-space:pre-wrap>Lochgilphead High School  </span></td><td>PA31 8AA</td></tr>\n",
       "\t<tr><td>Dumfries &amp; Galloway</td><td>5948630</td><td><span style=white-space:pre-wrap>Lockerbie Academy         </span></td><td>DG11 2AT</td></tr>\n",
       "\t<tr><td>Dumfries &amp; Galloway</td><td>5948738</td><td><span style=white-space:pre-wrap>Moffat Academy            </span></td><td>DG10 9QF</td></tr>\n",
       "\t<tr><td>Highland           </td><td>5130239</td><td>Ardnamurchan High School  </td><td>PH36 4JA</td></tr>\n",
       "\t<tr><td>Highland           </td><td>5119332</td><td>Fortrose Academy          </td><td>IV10 8TW</td></tr>\n",
       "\t<tr><td>Highland           </td><td>5142539</td><td>Glen Urquhart High School </td><td>IV63 6XA</td></tr>\n",
       "\t<tr><td>Highland           </td><td>5142431</td><td>Kilchuimen Academy        </td><td>PH32 4DL</td></tr>\n",
       "\t<tr><td>Highland           </td><td>5135834</td><td>Mallaig High School       </td><td>PH41 4RG</td></tr>\n",
       "\t<tr><td>North Lanarkshire  </td><td>8517231</td><td>Calderhead High School    </td><td>ML7 4DH </td></tr>\n",
       "\t<tr><td>North Lanarkshire  </td><td>8506736</td><td>St Ambrose High School    </td><td>ML5 2HT </td></tr>\n",
       "\t<tr><td>Orkney Islands     </td><td>6003230</td><td>Sanday Secondary School   </td><td>SG19 1BL</td></tr>\n",
       "\t<tr><td>Orkney Islands     </td><td>6003834</td><td>Stronsay Secondary School </td><td>KW17 2AE</td></tr>\n",
       "\t<tr><td>Orkney Islands     </td><td>6003036</td><td>Westray Secondary School  </td><td>KW17 2DH</td></tr>\n",
       "\t<tr><td>Shetland Islands   </td><td>6104134</td><td>Whalsay School - Secondary</td><td>ZE2 9AB </td></tr>\n",
       "</tbody>\n",
       "</table>\n"
      ],
      "text/latex": [
       "A tibble: 15 × 4\n",
       "\\begin{tabular}{llll}\n",
       " LocalAuthority & SeedCode & SchoolName & Postcode\\\\\n",
       " <fct> & <fct> & <fct> & <fct>\\\\\n",
       "\\hline\n",
       "\t Argyll \\& Bute       & 8109931 & Islay High School          & PA43 7LS\\\\\n",
       "\t Argyll \\& Bute       & 8111030 & Lochgilphead High School   & PA31 8AA\\\\\n",
       "\t Dumfries \\& Galloway & 5948630 & Lockerbie Academy          & DG11 2AT\\\\\n",
       "\t Dumfries \\& Galloway & 5948738 & Moffat Academy             & DG10 9QF\\\\\n",
       "\t Highland            & 5130239 & Ardnamurchan High School   & PH36 4JA\\\\\n",
       "\t Highland            & 5119332 & Fortrose Academy           & IV10 8TW\\\\\n",
       "\t Highland            & 5142539 & Glen Urquhart High School  & IV63 6XA\\\\\n",
       "\t Highland            & 5142431 & Kilchuimen Academy         & PH32 4DL\\\\\n",
       "\t Highland            & 5135834 & Mallaig High School        & PH41 4RG\\\\\n",
       "\t North Lanarkshire   & 8517231 & Calderhead High School     & ML7 4DH \\\\\n",
       "\t North Lanarkshire   & 8506736 & St Ambrose High School     & ML5 2HT \\\\\n",
       "\t Orkney Islands      & 6003230 & Sanday Secondary School    & SG19 1BL\\\\\n",
       "\t Orkney Islands      & 6003834 & Stronsay Secondary School  & KW17 2AE\\\\\n",
       "\t Orkney Islands      & 6003036 & Westray Secondary School   & KW17 2DH\\\\\n",
       "\t Shetland Islands    & 6104134 & Whalsay School - Secondary & ZE2 9AB \\\\\n",
       "\\end{tabular}\n"
      ],
      "text/markdown": [
       "\n",
       "A tibble: 15 × 4\n",
       "\n",
       "| LocalAuthority &lt;fct&gt; | SeedCode &lt;fct&gt; | SchoolName &lt;fct&gt; | Postcode &lt;fct&gt; |\n",
       "|---|---|---|---|\n",
       "| Argyll &amp; Bute       | 8109931 | Islay High School          | PA43 7LS |\n",
       "| Argyll &amp; Bute       | 8111030 | Lochgilphead High School   | PA31 8AA |\n",
       "| Dumfries &amp; Galloway | 5948630 | Lockerbie Academy          | DG11 2AT |\n",
       "| Dumfries &amp; Galloway | 5948738 | Moffat Academy             | DG10 9QF |\n",
       "| Highland            | 5130239 | Ardnamurchan High School   | PH36 4JA |\n",
       "| Highland            | 5119332 | Fortrose Academy           | IV10 8TW |\n",
       "| Highland            | 5142539 | Glen Urquhart High School  | IV63 6XA |\n",
       "| Highland            | 5142431 | Kilchuimen Academy         | PH32 4DL |\n",
       "| Highland            | 5135834 | Mallaig High School        | PH41 4RG |\n",
       "| North Lanarkshire   | 8517231 | Calderhead High School     | ML7 4DH  |\n",
       "| North Lanarkshire   | 8506736 | St Ambrose High School     | ML5 2HT  |\n",
       "| Orkney Islands      | 6003230 | Sanday Secondary School    | SG19 1BL |\n",
       "| Orkney Islands      | 6003834 | Stronsay Secondary School  | KW17 2AE |\n",
       "| Orkney Islands      | 6003036 | Westray Secondary School   | KW17 2DH |\n",
       "| Shetland Islands    | 6104134 | Whalsay School - Secondary | ZE2 9AB  |\n",
       "\n"
      ],
      "text/plain": [
       "   LocalAuthority      SeedCode SchoolName                 Postcode\n",
       "1  Argyll & Bute       8109931  Islay High School          PA43 7LS\n",
       "2  Argyll & Bute       8111030  Lochgilphead High School   PA31 8AA\n",
       "3  Dumfries & Galloway 5948630  Lockerbie Academy          DG11 2AT\n",
       "4  Dumfries & Galloway 5948738  Moffat Academy             DG10 9QF\n",
       "5  Highland            5130239  Ardnamurchan High School   PH36 4JA\n",
       "6  Highland            5119332  Fortrose Academy           IV10 8TW\n",
       "7  Highland            5142539  Glen Urquhart High School  IV63 6XA\n",
       "8  Highland            5142431  Kilchuimen Academy         PH32 4DL\n",
       "9  Highland            5135834  Mallaig High School        PH41 4RG\n",
       "10 North Lanarkshire   8517231  Calderhead High School     ML7 4DH \n",
       "11 North Lanarkshire   8506736  St Ambrose High School     ML5 2HT \n",
       "12 Orkney Islands      6003230  Sanday Secondary School    SG19 1BL\n",
       "13 Orkney Islands      6003834  Stronsay Secondary School  KW17 2AE\n",
       "14 Orkney Islands      6003036  Westray Secondary School   KW17 2DH\n",
       "15 Shetland Islands    6104134  Whalsay School - Secondary ZE2 9AB "
      ]
     },
     "metadata": {},
     "output_type": "display_data"
    }
   ],
   "source": [
    "tmp_df <- summary_stats_schools %>%\n",
    "    filter(is.na(Postcode)) %>%\n",
    "    distinct() %>%\n",
    "\n",
    "    # where not on school website retrieved from council website, unless otherwise flagged\n",
    "    mutate(across(Postcode, as.character),\n",
    "           across(Postcode, ~ case_when((SeedCode == \"8109931\") ~ \"PA43 7LS\", # Islay High School -  (google has PA43 7JS)\n",
    "                                        (SeedCode == \"8111030\") ~ \"PA31 8AA\", # Lochgilphead High School\n",
    "                                        (SeedCode == \"5948630\") ~ \"DG11 2AT\", # Lockerbie Academy\n",
    "                                        (SeedCode == \"5948738\") ~ \"DG10 9QF\", # Moffat Academy\n",
    "                                        (SeedCode == \"5130239\") ~ \"PH36 4JA\", # Ardnamurchan High School\n",
    "                                        (SeedCode == \"5119332\") ~ \"IV10 8TW\", # Fortrose Academy\n",
    "                                        (SeedCode == \"5142539\") ~ \"IV63 6XA\", # Glen Urquhart High School\n",
    "                                        (SeedCode == \"5142431\") ~ \"PH32 4DL\", # Kilchuimen Academy\n",
    "                                        (SeedCode == \"5135834\") ~ \"PH41 4RG\", # Mallaig High School\n",
    "                                        (SeedCode == \"8517231\") ~ \"ML7 4DH\", # Calderhead High School\n",
    "                                        (SeedCode == \"8506736\") ~ \"ML5 2HT\", # St Ambrose High School\n",
    "                                        (SeedCode == \"6003230\") ~ \"SG19 1BL\", # Sanday Secondary School\n",
    "                                        (SeedCode == \"6003834\") ~ \"KW17 2AE\", # Stronsay Secondary School\n",
    "                                        (SeedCode == \"6003036\") ~ \"KW17 2DH\", # Westray Secondary School\n",
    "                                        (SeedCode == \"6104134\") ~ \"ZE2 9AB\", # Whalsay School - Secondary (from google, neither school nor coucil has school address)\n",
    "                                        TRUE ~ .\n",
    "                                       )),\n",
    "           across(Postcode, as.factor),           \n",
    "        )\n",
    "\n",
    "tmp_df"
   ]
  },
  {
   "cell_type": "code",
   "execution_count": null,
   "metadata": {},
   "outputs": [],
   "source": []
  },
  {
   "cell_type": "code",
   "execution_count": 20,
   "metadata": {},
   "outputs": [
    {
     "name": "stdout",
     "output_type": "stream",
     "text": [
      "Rows: 32\n",
      "Columns: 2\n",
      "$ EducationAuthority \u001b[3m\u001b[90m<chr>\u001b[39m\u001b[23m \"North Lanarkshire Council Education Department\", \"…\n",
      "$ LocalAuthority     \u001b[3m\u001b[90m<chr>\u001b[39m\u001b[23m \"North Lanarkshire\", \"South Lanarkshire\", \"Glasgow …\n"
     ]
    },
    {
     "data": {
      "text/html": [
       "'Fife Council Education Department'"
      ],
      "text/latex": [
       "'Fife Council Education Department'"
      ],
      "text/markdown": [
       "'Fife Council Education Department'"
      ],
      "text/plain": [
       "[1] \"Fife Council Education Department\""
      ]
     },
     "metadata": {},
     "output_type": "display_data"
    },
    {
     "data": {
      "text/html": [
       "'Western Isles Council Education Department'"
      ],
      "text/latex": [
       "'Western Isles Council Education Department'"
      ],
      "text/markdown": [
       "'Western Isles Council Education Department'"
      ],
      "text/plain": [
       "[1] \"Western Isles Council Education Department\""
      ]
     },
     "metadata": {},
     "output_type": "display_data"
    }
   ],
   "source": [
    "education_authorities <- centre_postcodes %>%\n",
    "    rename(LocalAuthority = GeoArea) %>%\n",
    "    filter(EducationAuthority != \"Independent\") %>%\n",
    "    select(contains(\"Authority\")) %>%\n",
    "    distinct() %>%\n",
    "    mutate(across(everything(), as.character)) %>%\n",
    "    drop_na()\n",
    "\n",
    "glimpse(education_authorities)\n",
    "\n",
    "getEducationAuthority(\"Fife\", education_authorities)\n",
    "getEducationAuthority(\"Na h-Eileanan Siar\", education_authorities)"
   ]
  },
  {
   "cell_type": "code",
   "execution_count": 21,
   "metadata": {},
   "outputs": [
    {
     "data": {
      "text/html": [
       "<style>\n",
       ".list-inline {list-style: none; margin:0; padding: 0}\n",
       ".list-inline>li {display: inline-block}\n",
       ".list-inline>li:not(:last-child)::after {content: \"\\00b7\"; padding: 0 .5ex}\n",
       "</style>\n",
       "<ol class=list-inline><li>Argyll &amp; Bute</li><li>Argyll &amp; Bute</li><li>Dumfries &amp; Galloway</li><li>Dumfries &amp; Galloway</li><li>Highland</li><li>Highland</li><li>Highland</li><li>Highland</li><li>Highland</li><li>North Lanarkshire</li><li>North Lanarkshire</li><li>Orkney Islands</li><li>Orkney Islands</li><li>Orkney Islands</li><li>Shetland Islands</li></ol>\n",
       "\n",
       "<details>\n",
       "\t<summary style=display:list-item;cursor:pointer>\n",
       "\t\t<strong>Levels</strong>:\n",
       "\t</summary>\n",
       "\t<style>\n",
       "\t.list-inline {list-style: none; margin:0; padding: 0}\n",
       "\t.list-inline>li {display: inline-block}\n",
       "\t.list-inline>li:not(:last-child)::after {content: \"\\00b7\"; padding: 0 .5ex}\n",
       "\t</style>\n",
       "\t<ol class=list-inline><li>'Aberdeen City'</li><li>'Aberdeenshire'</li><li>'Angus'</li><li>'Argyll &amp; Bute'</li><li>'City of Edinburgh'</li><li>'Clackmannanshire'</li><li>'Dumfries &amp; Galloway'</li><li>'Dundee City'</li><li>'East Ayrshire'</li><li>'East Dunbartonshire'</li><li>'East Lothian'</li><li>'East Renfrewshire'</li><li>'Falkirk'</li><li>'Fife'</li><li>'Glasgow City'</li><li>'Highland'</li><li>'Inverclyde'</li><li>'Midlothian'</li><li>'Moray'</li><li>'Na h-Eileanan Siar'</li><li>'North Ayrshire'</li><li>'North Lanarkshire'</li><li>'Orkney Islands'</li><li>'Perth &amp; Kinross'</li><li>'Renfrewshire'</li><li>'Scottish Borders'</li><li>'Shetland Islands'</li><li>'South Ayrshire'</li><li>'South Lanarkshire'</li><li>'Stirling'</li><li>'West Dunbartonshire'</li><li>'West Lothian'</li><li>'Grant Aided'</li></ol>\n",
       "</details>"
      ],
      "text/latex": [
       "\\begin{enumerate*}\n",
       "\\item Argyll \\& Bute\n",
       "\\item Argyll \\& Bute\n",
       "\\item Dumfries \\& Galloway\n",
       "\\item Dumfries \\& Galloway\n",
       "\\item Highland\n",
       "\\item Highland\n",
       "\\item Highland\n",
       "\\item Highland\n",
       "\\item Highland\n",
       "\\item North Lanarkshire\n",
       "\\item North Lanarkshire\n",
       "\\item Orkney Islands\n",
       "\\item Orkney Islands\n",
       "\\item Orkney Islands\n",
       "\\item Shetland Islands\n",
       "\\end{enumerate*}\n",
       "\n",
       "\\emph{Levels}: \\begin{enumerate*}\n",
       "\\item 'Aberdeen City'\n",
       "\\item 'Aberdeenshire'\n",
       "\\item 'Angus'\n",
       "\\item 'Argyll \\& Bute'\n",
       "\\item 'City of Edinburgh'\n",
       "\\item 'Clackmannanshire'\n",
       "\\item 'Dumfries \\& Galloway'\n",
       "\\item 'Dundee City'\n",
       "\\item 'East Ayrshire'\n",
       "\\item 'East Dunbartonshire'\n",
       "\\item 'East Lothian'\n",
       "\\item 'East Renfrewshire'\n",
       "\\item 'Falkirk'\n",
       "\\item 'Fife'\n",
       "\\item 'Glasgow City'\n",
       "\\item 'Highland'\n",
       "\\item 'Inverclyde'\n",
       "\\item 'Midlothian'\n",
       "\\item 'Moray'\n",
       "\\item 'Na h-Eileanan Siar'\n",
       "\\item 'North Ayrshire'\n",
       "\\item 'North Lanarkshire'\n",
       "\\item 'Orkney Islands'\n",
       "\\item 'Perth \\& Kinross'\n",
       "\\item 'Renfrewshire'\n",
       "\\item 'Scottish Borders'\n",
       "\\item 'Shetland Islands'\n",
       "\\item 'South Ayrshire'\n",
       "\\item 'South Lanarkshire'\n",
       "\\item 'Stirling'\n",
       "\\item 'West Dunbartonshire'\n",
       "\\item 'West Lothian'\n",
       "\\item 'Grant Aided'\n",
       "\\end{enumerate*}\n"
      ],
      "text/markdown": [
       "1. Argyll &amp; Bute\n",
       "2. Argyll &amp; Bute\n",
       "3. Dumfries &amp; Galloway\n",
       "4. Dumfries &amp; Galloway\n",
       "5. Highland\n",
       "6. Highland\n",
       "7. Highland\n",
       "8. Highland\n",
       "9. Highland\n",
       "10. North Lanarkshire\n",
       "11. North Lanarkshire\n",
       "12. Orkney Islands\n",
       "13. Orkney Islands\n",
       "14. Orkney Islands\n",
       "15. Shetland Islands\n",
       "\n",
       "\n",
       "\n",
       "**Levels**: 1. 'Aberdeen City'\n",
       "2. 'Aberdeenshire'\n",
       "3. 'Angus'\n",
       "4. 'Argyll &amp; Bute'\n",
       "5. 'City of Edinburgh'\n",
       "6. 'Clackmannanshire'\n",
       "7. 'Dumfries &amp; Galloway'\n",
       "8. 'Dundee City'\n",
       "9. 'East Ayrshire'\n",
       "10. 'East Dunbartonshire'\n",
       "11. 'East Lothian'\n",
       "12. 'East Renfrewshire'\n",
       "13. 'Falkirk'\n",
       "14. 'Fife'\n",
       "15. 'Glasgow City'\n",
       "16. 'Highland'\n",
       "17. 'Inverclyde'\n",
       "18. 'Midlothian'\n",
       "19. 'Moray'\n",
       "20. 'Na h-Eileanan Siar'\n",
       "21. 'North Ayrshire'\n",
       "22. 'North Lanarkshire'\n",
       "23. 'Orkney Islands'\n",
       "24. 'Perth &amp; Kinross'\n",
       "25. 'Renfrewshire'\n",
       "26. 'Scottish Borders'\n",
       "27. 'Shetland Islands'\n",
       "28. 'South Ayrshire'\n",
       "29. 'South Lanarkshire'\n",
       "30. 'Stirling'\n",
       "31. 'West Dunbartonshire'\n",
       "32. 'West Lothian'\n",
       "33. 'Grant Aided'\n",
       "\n",
       "\n"
      ],
      "text/plain": [
       " [1] Argyll & Bute       Argyll & Bute       Dumfries & Galloway\n",
       " [4] Dumfries & Galloway Highland            Highland           \n",
       " [7] Highland            Highland            Highland           \n",
       "[10] North Lanarkshire   North Lanarkshire   Orkney Islands     \n",
       "[13] Orkney Islands      Orkney Islands      Shetland Islands   \n",
       "33 Levels: Aberdeen City Aberdeenshire Angus ... Grant Aided"
      ]
     },
     "metadata": {},
     "output_type": "display_data"
    },
    {
     "data": {
      "text/html": [
       "<table class=\"dataframe\">\n",
       "<caption>A tibble: 15 × 5</caption>\n",
       "<thead>\n",
       "\t<tr><th scope=col>LocalAuthority</th><th scope=col>SeedCode</th><th scope=col>SchoolName</th><th scope=col>Postcode</th><th scope=col>EducationAuthority</th></tr>\n",
       "\t<tr><th scope=col>&lt;fct&gt;</th><th scope=col>&lt;fct&gt;</th><th scope=col>&lt;fct&gt;</th><th scope=col>&lt;fct&gt;</th><th scope=col>&lt;chr&gt;</th></tr>\n",
       "</thead>\n",
       "<tbody>\n",
       "\t<tr><td><span style=white-space:pre-wrap>Argyll &amp; Bute      </span></td><td>8109931</td><td><span style=white-space:pre-wrap>Islay High School         </span></td><td>PA43 7LS</td><td><span style=white-space:pre-wrap>Argyll &amp; Bute Council Education Department      </span></td></tr>\n",
       "\t<tr><td><span style=white-space:pre-wrap>Argyll &amp; Bute      </span></td><td>8111030</td><td><span style=white-space:pre-wrap>Lochgilphead High School  </span></td><td>PA31 8AA</td><td><span style=white-space:pre-wrap>Argyll &amp; Bute Council Education Department      </span></td></tr>\n",
       "\t<tr><td>Dumfries &amp; Galloway</td><td>5948630</td><td><span style=white-space:pre-wrap>Lockerbie Academy         </span></td><td>DG11 2AT</td><td>Dumfries &amp; Galloway Council Education Department</td></tr>\n",
       "\t<tr><td>Dumfries &amp; Galloway</td><td>5948738</td><td><span style=white-space:pre-wrap>Moffat Academy            </span></td><td>DG10 9QF</td><td>Dumfries &amp; Galloway Council Education Department</td></tr>\n",
       "\t<tr><td>Highland           </td><td>5130239</td><td>Ardnamurchan High School  </td><td>PH36 4JA</td><td>Highland Council Education Department           </td></tr>\n",
       "\t<tr><td>Highland           </td><td>5119332</td><td>Fortrose Academy          </td><td>IV10 8TW</td><td>Highland Council Education Department           </td></tr>\n",
       "\t<tr><td>Highland           </td><td>5142539</td><td>Glen Urquhart High School </td><td>IV63 6XA</td><td>Highland Council Education Department           </td></tr>\n",
       "\t<tr><td>Highland           </td><td>5142431</td><td>Kilchuimen Academy        </td><td>PH32 4DL</td><td>Highland Council Education Department           </td></tr>\n",
       "\t<tr><td>Highland           </td><td>5135834</td><td>Mallaig High School       </td><td>PH41 4RG</td><td>Highland Council Education Department           </td></tr>\n",
       "\t<tr><td>North Lanarkshire  </td><td>8517231</td><td>Calderhead High School    </td><td>ML7 4DH </td><td>North Lanarkshire Council Education Department  </td></tr>\n",
       "\t<tr><td>North Lanarkshire  </td><td>8506736</td><td>St Ambrose High School    </td><td>ML5 2HT </td><td>North Lanarkshire Council Education Department  </td></tr>\n",
       "\t<tr><td>Orkney Islands     </td><td>6003230</td><td>Sanday Secondary School   </td><td>SG19 1BL</td><td>Orkney Islands Council Education Department     </td></tr>\n",
       "\t<tr><td>Orkney Islands     </td><td>6003834</td><td>Stronsay Secondary School </td><td>KW17 2AE</td><td>Orkney Islands Council Education Department     </td></tr>\n",
       "\t<tr><td>Orkney Islands     </td><td>6003036</td><td>Westray Secondary School  </td><td>KW17 2DH</td><td>Orkney Islands Council Education Department     </td></tr>\n",
       "\t<tr><td>Shetland Islands   </td><td>6104134</td><td>Whalsay School - Secondary</td><td>ZE2 9AB </td><td>Shetland Islands Council Education Department   </td></tr>\n",
       "</tbody>\n",
       "</table>\n"
      ],
      "text/latex": [
       "A tibble: 15 × 5\n",
       "\\begin{tabular}{lllll}\n",
       " LocalAuthority & SeedCode & SchoolName & Postcode & EducationAuthority\\\\\n",
       " <fct> & <fct> & <fct> & <fct> & <chr>\\\\\n",
       "\\hline\n",
       "\t Argyll \\& Bute       & 8109931 & Islay High School          & PA43 7LS & Argyll \\& Bute Council Education Department      \\\\\n",
       "\t Argyll \\& Bute       & 8111030 & Lochgilphead High School   & PA31 8AA & Argyll \\& Bute Council Education Department      \\\\\n",
       "\t Dumfries \\& Galloway & 5948630 & Lockerbie Academy          & DG11 2AT & Dumfries \\& Galloway Council Education Department\\\\\n",
       "\t Dumfries \\& Galloway & 5948738 & Moffat Academy             & DG10 9QF & Dumfries \\& Galloway Council Education Department\\\\\n",
       "\t Highland            & 5130239 & Ardnamurchan High School   & PH36 4JA & Highland Council Education Department           \\\\\n",
       "\t Highland            & 5119332 & Fortrose Academy           & IV10 8TW & Highland Council Education Department           \\\\\n",
       "\t Highland            & 5142539 & Glen Urquhart High School  & IV63 6XA & Highland Council Education Department           \\\\\n",
       "\t Highland            & 5142431 & Kilchuimen Academy         & PH32 4DL & Highland Council Education Department           \\\\\n",
       "\t Highland            & 5135834 & Mallaig High School        & PH41 4RG & Highland Council Education Department           \\\\\n",
       "\t North Lanarkshire   & 8517231 & Calderhead High School     & ML7 4DH  & North Lanarkshire Council Education Department  \\\\\n",
       "\t North Lanarkshire   & 8506736 & St Ambrose High School     & ML5 2HT  & North Lanarkshire Council Education Department  \\\\\n",
       "\t Orkney Islands      & 6003230 & Sanday Secondary School    & SG19 1BL & Orkney Islands Council Education Department     \\\\\n",
       "\t Orkney Islands      & 6003834 & Stronsay Secondary School  & KW17 2AE & Orkney Islands Council Education Department     \\\\\n",
       "\t Orkney Islands      & 6003036 & Westray Secondary School   & KW17 2DH & Orkney Islands Council Education Department     \\\\\n",
       "\t Shetland Islands    & 6104134 & Whalsay School - Secondary & ZE2 9AB  & Shetland Islands Council Education Department   \\\\\n",
       "\\end{tabular}\n"
      ],
      "text/markdown": [
       "\n",
       "A tibble: 15 × 5\n",
       "\n",
       "| LocalAuthority &lt;fct&gt; | SeedCode &lt;fct&gt; | SchoolName &lt;fct&gt; | Postcode &lt;fct&gt; | EducationAuthority &lt;chr&gt; |\n",
       "|---|---|---|---|---|\n",
       "| Argyll &amp; Bute       | 8109931 | Islay High School          | PA43 7LS | Argyll &amp; Bute Council Education Department       |\n",
       "| Argyll &amp; Bute       | 8111030 | Lochgilphead High School   | PA31 8AA | Argyll &amp; Bute Council Education Department       |\n",
       "| Dumfries &amp; Galloway | 5948630 | Lockerbie Academy          | DG11 2AT | Dumfries &amp; Galloway Council Education Department |\n",
       "| Dumfries &amp; Galloway | 5948738 | Moffat Academy             | DG10 9QF | Dumfries &amp; Galloway Council Education Department |\n",
       "| Highland            | 5130239 | Ardnamurchan High School   | PH36 4JA | Highland Council Education Department            |\n",
       "| Highland            | 5119332 | Fortrose Academy           | IV10 8TW | Highland Council Education Department            |\n",
       "| Highland            | 5142539 | Glen Urquhart High School  | IV63 6XA | Highland Council Education Department            |\n",
       "| Highland            | 5142431 | Kilchuimen Academy         | PH32 4DL | Highland Council Education Department            |\n",
       "| Highland            | 5135834 | Mallaig High School        | PH41 4RG | Highland Council Education Department            |\n",
       "| North Lanarkshire   | 8517231 | Calderhead High School     | ML7 4DH  | North Lanarkshire Council Education Department   |\n",
       "| North Lanarkshire   | 8506736 | St Ambrose High School     | ML5 2HT  | North Lanarkshire Council Education Department   |\n",
       "| Orkney Islands      | 6003230 | Sanday Secondary School    | SG19 1BL | Orkney Islands Council Education Department      |\n",
       "| Orkney Islands      | 6003834 | Stronsay Secondary School  | KW17 2AE | Orkney Islands Council Education Department      |\n",
       "| Orkney Islands      | 6003036 | Westray Secondary School   | KW17 2DH | Orkney Islands Council Education Department      |\n",
       "| Shetland Islands    | 6104134 | Whalsay School - Secondary | ZE2 9AB  | Shetland Islands Council Education Department    |\n",
       "\n"
      ],
      "text/plain": [
       "   LocalAuthority      SeedCode SchoolName                 Postcode\n",
       "1  Argyll & Bute       8109931  Islay High School          PA43 7LS\n",
       "2  Argyll & Bute       8111030  Lochgilphead High School   PA31 8AA\n",
       "3  Dumfries & Galloway 5948630  Lockerbie Academy          DG11 2AT\n",
       "4  Dumfries & Galloway 5948738  Moffat Academy             DG10 9QF\n",
       "5  Highland            5130239  Ardnamurchan High School   PH36 4JA\n",
       "6  Highland            5119332  Fortrose Academy           IV10 8TW\n",
       "7  Highland            5142539  Glen Urquhart High School  IV63 6XA\n",
       "8  Highland            5142431  Kilchuimen Academy         PH32 4DL\n",
       "9  Highland            5135834  Mallaig High School        PH41 4RG\n",
       "10 North Lanarkshire   8517231  Calderhead High School     ML7 4DH \n",
       "11 North Lanarkshire   8506736  St Ambrose High School     ML5 2HT \n",
       "12 Orkney Islands      6003230  Sanday Secondary School    SG19 1BL\n",
       "13 Orkney Islands      6003834  Stronsay Secondary School  KW17 2AE\n",
       "14 Orkney Islands      6003036  Westray Secondary School   KW17 2DH\n",
       "15 Shetland Islands    6104134  Whalsay School - Secondary ZE2 9AB \n",
       "   EducationAuthority                              \n",
       "1  Argyll & Bute Council Education Department      \n",
       "2  Argyll & Bute Council Education Department      \n",
       "3  Dumfries & Galloway Council Education Department\n",
       "4  Dumfries & Galloway Council Education Department\n",
       "5  Highland Council Education Department           \n",
       "6  Highland Council Education Department           \n",
       "7  Highland Council Education Department           \n",
       "8  Highland Council Education Department           \n",
       "9  Highland Council Education Department           \n",
       "10 North Lanarkshire Council Education Department  \n",
       "11 North Lanarkshire Council Education Department  \n",
       "12 Orkney Islands Council Education Department     \n",
       "13 Orkney Islands Council Education Department     \n",
       "14 Orkney Islands Council Education Department     \n",
       "15 Shetland Islands Council Education Department   "
      ]
     },
     "metadata": {},
     "output_type": "display_data"
    }
   ],
   "source": [
    "# ll stte schools - run a batch fill\n",
    "\n",
    "tmp_df$LocalAuthority\n",
    "\n",
    "tmp_df$EducationAuthority <-\n",
    "    sapply(tmp_df$LocalAuthority, \n",
    "           getEducationAuthority, \n",
    "           education_authorities)\n",
    "\n",
    "tmp_df"
   ]
  },
  {
   "cell_type": "code",
   "execution_count": null,
   "metadata": {},
   "outputs": [],
   "source": []
  },
  {
   "cell_type": "code",
   "execution_count": 22,
   "metadata": {},
   "outputs": [
    {
     "name": "stdout",
     "output_type": "stream",
     "text": [
      "Rows: 987\n",
      "Columns: 5\n",
      "$ Centre             \u001b[3m\u001b[90m<fct>\u001b[39m\u001b[23m 1000144, 1001930, 1002732, 1002759, 1002856, 100295…\n",
      "$ CentreName         \u001b[3m\u001b[90m<fct>\u001b[39m\u001b[23m \"Firpark Secondary School\", \"Buchanan High School\",…\n",
      "$ Postcode           \u001b[3m\u001b[90m<fct>\u001b[39m\u001b[23m ML1 2PR, ML5 2HT, G67 2UF, KA13 6DE, DD3 8LE, EH11 …\n",
      "$ EducationAuthority \u001b[3m\u001b[90m<fct>\u001b[39m\u001b[23m North Lanarkshire Council Education Department, Nor…\n",
      "$ GeoArea            \u001b[3m\u001b[90m<fct>\u001b[39m\u001b[23m North Lanarkshire, North Lanarkshire, North Lanarks…\n"
     ]
    },
    {
     "name": "stderr",
     "output_type": "stream",
     "text": [
      "Joining, by = c(\"Centre\", \"Postcode\", \"EducationAuthority\")\n"
     ]
    },
    {
     "name": "stdout",
     "output_type": "stream",
     "text": [
      "Rows: 1,002\n",
      "Columns: 5\n",
      "$ Centre             \u001b[3m\u001b[90m<fct>\u001b[39m\u001b[23m 1000144, 1001930, 1002732, 1002759, 1002856, 100295…\n",
      "$ CentreName         \u001b[3m\u001b[90m<fct>\u001b[39m\u001b[23m \"Firpark Secondary School\", \"Buchanan High School\",…\n",
      "$ Postcode           \u001b[3m\u001b[90m<fct>\u001b[39m\u001b[23m ML1 2PR, ML5 2HT, G67 2UF, KA13 6DE, DD3 8LE, EH11 …\n",
      "$ EducationAuthority \u001b[3m\u001b[90m<fct>\u001b[39m\u001b[23m North Lanarkshire Council Education Department, Nor…\n",
      "$ GeoArea            \u001b[3m\u001b[90m<fct>\u001b[39m\u001b[23m North Lanarkshire, North Lanarkshire, North Lanarks…\n"
     ]
    }
   ],
   "source": [
    "glimpse(centre_postcodes)\n",
    "\n",
    "centre_postcodes <- centre_postcodes %>%\n",
    "    anti_join(tmp_df %>%\n",
    "              mutate(across(everything(), ~ fct_drop(.))) %>%\n",
    "              rename(Centre = SeedCode)) %>%\n",
    "    rbind(tmp_df %>%\n",
    "              mutate(across(everything(), ~ fct_drop(.))) %>%\n",
    "              rename_with(~ c(\"Centre\", \"CentreName\", \"GeoArea\"), c(\"SeedCode\", \"SchoolName\", \"LocalAuthority\"))\n",
    "    ) %>%\n",
    "    glimpse()"
   ]
  },
  {
   "cell_type": "code",
   "execution_count": 23,
   "metadata": {},
   "outputs": [
    {
     "data": {
      "text/html": [
       "<table class=\"dataframe\">\n",
       "<caption>A tibble: 20 × 5</caption>\n",
       "<thead>\n",
       "\t<tr><th scope=col>Centre</th><th scope=col>CentreName</th><th scope=col>Postcode</th><th scope=col>EducationAuthority</th><th scope=col>GeoArea</th></tr>\n",
       "\t<tr><th scope=col>&lt;fct&gt;</th><th scope=col>&lt;fct&gt;</th><th scope=col>&lt;fct&gt;</th><th scope=col>&lt;fct&gt;</th><th scope=col>&lt;fct&gt;</th></tr>\n",
       "</thead>\n",
       "<tbody>\n",
       "\t<tr><td>8811296</td><td>Basil Paterson College                                    </td><td>EH2 4NA </td><td>Independent                                     </td><td>City of Edinburgh  </td></tr>\n",
       "\t<tr><td>8811793</td><td>Wallace College                                           </td><td>EH1 1EE </td><td>NA                                              </td><td>City of Edinburgh  </td></tr>\n",
       "\t<tr><td>9194010</td><td>System Computer Information Technology Institute (Syscoms)</td><td>NA      </td><td>NA                                              </td><td>Middle East        </td></tr>\n",
       "\t<tr><td>9900080</td><td>East Coast College (Lowestoft Campus)                     </td><td>NR32 2NB</td><td>NA                                              </td><td>England            </td></tr>\n",
       "\t<tr><td>9994971</td><td>SQA Operations                                            </td><td>G2 8DQ  </td><td>NA                                              </td><td>Glasgow City       </td></tr>\n",
       "\t<tr><td>8109931</td><td><span style=white-space:pre-wrap>Islay High School                                         </span></td><td>PA43 7LS</td><td><span style=white-space:pre-wrap>Argyll &amp; Bute Council Education Department      </span></td><td><span style=white-space:pre-wrap>Argyll &amp; Bute      </span></td></tr>\n",
       "\t<tr><td>8111030</td><td><span style=white-space:pre-wrap>Lochgilphead High School                                  </span></td><td>PA31 8AA</td><td><span style=white-space:pre-wrap>Argyll &amp; Bute Council Education Department      </span></td><td><span style=white-space:pre-wrap>Argyll &amp; Bute      </span></td></tr>\n",
       "\t<tr><td>5948630</td><td><span style=white-space:pre-wrap>Lockerbie Academy                                         </span></td><td>DG11 2AT</td><td>Dumfries &amp; Galloway Council Education Department</td><td>Dumfries &amp; Galloway</td></tr>\n",
       "\t<tr><td>5948738</td><td><span style=white-space:pre-wrap>Moffat Academy                                            </span></td><td>DG10 9QF</td><td>Dumfries &amp; Galloway Council Education Department</td><td>Dumfries &amp; Galloway</td></tr>\n",
       "\t<tr><td>5130239</td><td>Ardnamurchan High School                                  </td><td>PH36 4JA</td><td>Highland Council Education Department           </td><td>Highland           </td></tr>\n",
       "\t<tr><td>5119332</td><td>Fortrose Academy                                          </td><td>IV10 8TW</td><td>Highland Council Education Department           </td><td>Highland           </td></tr>\n",
       "\t<tr><td>5142539</td><td>Glen Urquhart High School                                 </td><td>IV63 6XA</td><td>Highland Council Education Department           </td><td>Highland           </td></tr>\n",
       "\t<tr><td>5142431</td><td>Kilchuimen Academy                                        </td><td>PH32 4DL</td><td>Highland Council Education Department           </td><td>Highland           </td></tr>\n",
       "\t<tr><td>5135834</td><td>Mallaig High School                                       </td><td>PH41 4RG</td><td>Highland Council Education Department           </td><td>Highland           </td></tr>\n",
       "\t<tr><td>8517231</td><td>Calderhead High School                                    </td><td>ML7 4DH </td><td>North Lanarkshire Council Education Department  </td><td>North Lanarkshire  </td></tr>\n",
       "\t<tr><td>8506736</td><td>St Ambrose High School                                    </td><td>ML5 2HT </td><td>North Lanarkshire Council Education Department  </td><td>North Lanarkshire  </td></tr>\n",
       "\t<tr><td>6003230</td><td>Sanday Secondary School                                   </td><td>SG19 1BL</td><td>Orkney Islands Council Education Department     </td><td>Orkney Islands     </td></tr>\n",
       "\t<tr><td>6003834</td><td>Stronsay Secondary School                                 </td><td>KW17 2AE</td><td>Orkney Islands Council Education Department     </td><td>Orkney Islands     </td></tr>\n",
       "\t<tr><td>6003036</td><td>Westray Secondary School                                  </td><td>KW17 2DH</td><td>Orkney Islands Council Education Department     </td><td>Orkney Islands     </td></tr>\n",
       "\t<tr><td>6104134</td><td>Whalsay School - Secondary                                </td><td>ZE2 9AB </td><td>Shetland Islands Council Education Department   </td><td>Shetland Islands   </td></tr>\n",
       "</tbody>\n",
       "</table>\n"
      ],
      "text/latex": [
       "A tibble: 20 × 5\n",
       "\\begin{tabular}{lllll}\n",
       " Centre & CentreName & Postcode & EducationAuthority & GeoArea\\\\\n",
       " <fct> & <fct> & <fct> & <fct> & <fct>\\\\\n",
       "\\hline\n",
       "\t 8811296 & Basil Paterson College                                     & EH2 4NA  & Independent                                      & City of Edinburgh  \\\\\n",
       "\t 8811793 & Wallace College                                            & EH1 1EE  & NA                                               & City of Edinburgh  \\\\\n",
       "\t 9194010 & System Computer Information Technology Institute (Syscoms) & NA       & NA                                               & Middle East        \\\\\n",
       "\t 9900080 & East Coast College (Lowestoft Campus)                      & NR32 2NB & NA                                               & England            \\\\\n",
       "\t 9994971 & SQA Operations                                             & G2 8DQ   & NA                                               & Glasgow City       \\\\\n",
       "\t 8109931 & Islay High School                                          & PA43 7LS & Argyll \\& Bute Council Education Department       & Argyll \\& Bute      \\\\\n",
       "\t 8111030 & Lochgilphead High School                                   & PA31 8AA & Argyll \\& Bute Council Education Department       & Argyll \\& Bute      \\\\\n",
       "\t 5948630 & Lockerbie Academy                                          & DG11 2AT & Dumfries \\& Galloway Council Education Department & Dumfries \\& Galloway\\\\\n",
       "\t 5948738 & Moffat Academy                                             & DG10 9QF & Dumfries \\& Galloway Council Education Department & Dumfries \\& Galloway\\\\\n",
       "\t 5130239 & Ardnamurchan High School                                   & PH36 4JA & Highland Council Education Department            & Highland           \\\\\n",
       "\t 5119332 & Fortrose Academy                                           & IV10 8TW & Highland Council Education Department            & Highland           \\\\\n",
       "\t 5142539 & Glen Urquhart High School                                  & IV63 6XA & Highland Council Education Department            & Highland           \\\\\n",
       "\t 5142431 & Kilchuimen Academy                                         & PH32 4DL & Highland Council Education Department            & Highland           \\\\\n",
       "\t 5135834 & Mallaig High School                                        & PH41 4RG & Highland Council Education Department            & Highland           \\\\\n",
       "\t 8517231 & Calderhead High School                                     & ML7 4DH  & North Lanarkshire Council Education Department   & North Lanarkshire  \\\\\n",
       "\t 8506736 & St Ambrose High School                                     & ML5 2HT  & North Lanarkshire Council Education Department   & North Lanarkshire  \\\\\n",
       "\t 6003230 & Sanday Secondary School                                    & SG19 1BL & Orkney Islands Council Education Department      & Orkney Islands     \\\\\n",
       "\t 6003834 & Stronsay Secondary School                                  & KW17 2AE & Orkney Islands Council Education Department      & Orkney Islands     \\\\\n",
       "\t 6003036 & Westray Secondary School                                   & KW17 2DH & Orkney Islands Council Education Department      & Orkney Islands     \\\\\n",
       "\t 6104134 & Whalsay School - Secondary                                 & ZE2 9AB  & Shetland Islands Council Education Department    & Shetland Islands   \\\\\n",
       "\\end{tabular}\n"
      ],
      "text/markdown": [
       "\n",
       "A tibble: 20 × 5\n",
       "\n",
       "| Centre &lt;fct&gt; | CentreName &lt;fct&gt; | Postcode &lt;fct&gt; | EducationAuthority &lt;fct&gt; | GeoArea &lt;fct&gt; |\n",
       "|---|---|---|---|---|\n",
       "| 8811296 | Basil Paterson College                                     | EH2 4NA  | Independent                                      | City of Edinburgh   |\n",
       "| 8811793 | Wallace College                                            | EH1 1EE  | NA                                               | City of Edinburgh   |\n",
       "| 9194010 | System Computer Information Technology Institute (Syscoms) | NA       | NA                                               | Middle East         |\n",
       "| 9900080 | East Coast College (Lowestoft Campus)                      | NR32 2NB | NA                                               | England             |\n",
       "| 9994971 | SQA Operations                                             | G2 8DQ   | NA                                               | Glasgow City        |\n",
       "| 8109931 | Islay High School                                          | PA43 7LS | Argyll &amp; Bute Council Education Department       | Argyll &amp; Bute       |\n",
       "| 8111030 | Lochgilphead High School                                   | PA31 8AA | Argyll &amp; Bute Council Education Department       | Argyll &amp; Bute       |\n",
       "| 5948630 | Lockerbie Academy                                          | DG11 2AT | Dumfries &amp; Galloway Council Education Department | Dumfries &amp; Galloway |\n",
       "| 5948738 | Moffat Academy                                             | DG10 9QF | Dumfries &amp; Galloway Council Education Department | Dumfries &amp; Galloway |\n",
       "| 5130239 | Ardnamurchan High School                                   | PH36 4JA | Highland Council Education Department            | Highland            |\n",
       "| 5119332 | Fortrose Academy                                           | IV10 8TW | Highland Council Education Department            | Highland            |\n",
       "| 5142539 | Glen Urquhart High School                                  | IV63 6XA | Highland Council Education Department            | Highland            |\n",
       "| 5142431 | Kilchuimen Academy                                         | PH32 4DL | Highland Council Education Department            | Highland            |\n",
       "| 5135834 | Mallaig High School                                        | PH41 4RG | Highland Council Education Department            | Highland            |\n",
       "| 8517231 | Calderhead High School                                     | ML7 4DH  | North Lanarkshire Council Education Department   | North Lanarkshire   |\n",
       "| 8506736 | St Ambrose High School                                     | ML5 2HT  | North Lanarkshire Council Education Department   | North Lanarkshire   |\n",
       "| 6003230 | Sanday Secondary School                                    | SG19 1BL | Orkney Islands Council Education Department      | Orkney Islands      |\n",
       "| 6003834 | Stronsay Secondary School                                  | KW17 2AE | Orkney Islands Council Education Department      | Orkney Islands      |\n",
       "| 6003036 | Westray Secondary School                                   | KW17 2DH | Orkney Islands Council Education Department      | Orkney Islands      |\n",
       "| 6104134 | Whalsay School - Secondary                                 | ZE2 9AB  | Shetland Islands Council Education Department    | Shetland Islands    |\n",
       "\n"
      ],
      "text/plain": [
       "   Centre  CentreName                                                 Postcode\n",
       "1  8811296 Basil Paterson College                                     EH2 4NA \n",
       "2  8811793 Wallace College                                            EH1 1EE \n",
       "3  9194010 System Computer Information Technology Institute (Syscoms) NA      \n",
       "4  9900080 East Coast College (Lowestoft Campus)                      NR32 2NB\n",
       "5  9994971 SQA Operations                                             G2 8DQ  \n",
       "6  8109931 Islay High School                                          PA43 7LS\n",
       "7  8111030 Lochgilphead High School                                   PA31 8AA\n",
       "8  5948630 Lockerbie Academy                                          DG11 2AT\n",
       "9  5948738 Moffat Academy                                             DG10 9QF\n",
       "10 5130239 Ardnamurchan High School                                   PH36 4JA\n",
       "11 5119332 Fortrose Academy                                           IV10 8TW\n",
       "12 5142539 Glen Urquhart High School                                  IV63 6XA\n",
       "13 5142431 Kilchuimen Academy                                         PH32 4DL\n",
       "14 5135834 Mallaig High School                                        PH41 4RG\n",
       "15 8517231 Calderhead High School                                     ML7 4DH \n",
       "16 8506736 St Ambrose High School                                     ML5 2HT \n",
       "17 6003230 Sanday Secondary School                                    SG19 1BL\n",
       "18 6003834 Stronsay Secondary School                                  KW17 2AE\n",
       "19 6003036 Westray Secondary School                                   KW17 2DH\n",
       "20 6104134 Whalsay School - Secondary                                 ZE2 9AB \n",
       "   EducationAuthority                               GeoArea            \n",
       "1  Independent                                      City of Edinburgh  \n",
       "2  NA                                               City of Edinburgh  \n",
       "3  NA                                               Middle East        \n",
       "4  NA                                               England            \n",
       "5  NA                                               Glasgow City       \n",
       "6  Argyll & Bute Council Education Department       Argyll & Bute      \n",
       "7  Argyll & Bute Council Education Department       Argyll & Bute      \n",
       "8  Dumfries & Galloway Council Education Department Dumfries & Galloway\n",
       "9  Dumfries & Galloway Council Education Department Dumfries & Galloway\n",
       "10 Highland Council Education Department            Highland           \n",
       "11 Highland Council Education Department            Highland           \n",
       "12 Highland Council Education Department            Highland           \n",
       "13 Highland Council Education Department            Highland           \n",
       "14 Highland Council Education Department            Highland           \n",
       "15 North Lanarkshire Council Education Department   North Lanarkshire  \n",
       "16 North Lanarkshire Council Education Department   North Lanarkshire  \n",
       "17 Orkney Islands Council Education Department      Orkney Islands     \n",
       "18 Orkney Islands Council Education Department      Orkney Islands     \n",
       "19 Orkney Islands Council Education Department      Orkney Islands     \n",
       "20 Shetland Islands Council Education Department    Shetland Islands   "
      ]
     },
     "metadata": {},
     "output_type": "display_data"
    }
   ],
   "source": [
    "centre_postcodes %>%\n",
    "    tail(20)"
   ]
  },
  {
   "cell_type": "markdown",
   "metadata": {},
   "source": [
    "#### END &ndash; manually fill in remaining blanks in postcodes"
   ]
  },
  {
   "cell_type": "code",
   "execution_count": null,
   "metadata": {},
   "outputs": [],
   "source": []
  },
  {
   "cell_type": "markdown",
   "metadata": {},
   "source": [
    "### Clean Geographical Metadata"
   ]
  },
  {
   "cell_type": "code",
   "execution_count": 24,
   "metadata": {},
   "outputs": [
    {
     "data": {
      "text/html": [
       "<table class=\"dataframe\">\n",
       "<caption>A tibble: 11 × 5</caption>\n",
       "<thead>\n",
       "\t<tr><th scope=col>Centre</th><th scope=col>CentreName</th><th scope=col>Postcode</th><th scope=col>EducationAuthority</th><th scope=col>GeoArea</th></tr>\n",
       "\t<tr><th scope=col>&lt;fct&gt;</th><th scope=col>&lt;fct&gt;</th><th scope=col>&lt;fct&gt;</th><th scope=col>&lt;fct&gt;</th><th scope=col>&lt;fct&gt;</th></tr>\n",
       "</thead>\n",
       "<tbody>\n",
       "\t<tr><td>3025187</td><td>AAS College Applied Arts Studies                           </td><td>NA</td><td>NA</td><td>Other      </td></tr>\n",
       "\t<tr><td>3018091</td><td>AAT Business Park                                          </td><td>NA</td><td>NA</td><td>Far East   </td></tr>\n",
       "\t<tr><td>3003647</td><td>ADNOC SQA Centre                                           </td><td>NA</td><td>NA</td><td>Middle East</td></tr>\n",
       "\t<tr><td>3020282</td><td>Britannia International Academy                            </td><td>NA</td><td>NA</td><td>Middle East</td></tr>\n",
       "\t<tr><td>3008576</td><td>Business And Technology Education Centre (BTEC)            </td><td>NA</td><td>NA</td><td>Middle East</td></tr>\n",
       "\t<tr><td>3002349</td><td>Centre of Excellence for Technical and Vocational Education</td><td>NA</td><td>NA</td><td>Middle East</td></tr>\n",
       "\t<tr><td>3017982</td><td>Myanmar Metropolitan College                               </td><td>NA</td><td>NA</td><td>Far East   </td></tr>\n",
       "\t<tr><td>3019500</td><td>National Company for Training and Education Technologies   </td><td>NA</td><td>NA</td><td>Middle East</td></tr>\n",
       "\t<tr><td>3017915</td><td>Racer Engineering College                                  </td><td>NA</td><td>NA</td><td>Far East   </td></tr>\n",
       "\t<tr><td>9194010</td><td>System Computer Information Technology Institute (Syscoms) </td><td>NA</td><td>NA</td><td>Middle East</td></tr>\n",
       "\t<tr><td>3022935</td><td>The Way Training Institute                                 </td><td>NA</td><td>NA</td><td>Middle East</td></tr>\n",
       "</tbody>\n",
       "</table>\n"
      ],
      "text/latex": [
       "A tibble: 11 × 5\n",
       "\\begin{tabular}{lllll}\n",
       " Centre & CentreName & Postcode & EducationAuthority & GeoArea\\\\\n",
       " <fct> & <fct> & <fct> & <fct> & <fct>\\\\\n",
       "\\hline\n",
       "\t 3025187 & AAS College Applied Arts Studies                            & NA & NA & Other      \\\\\n",
       "\t 3018091 & AAT Business Park                                           & NA & NA & Far East   \\\\\n",
       "\t 3003647 & ADNOC SQA Centre                                            & NA & NA & Middle East\\\\\n",
       "\t 3020282 & Britannia International Academy                             & NA & NA & Middle East\\\\\n",
       "\t 3008576 & Business And Technology Education Centre (BTEC)             & NA & NA & Middle East\\\\\n",
       "\t 3002349 & Centre of Excellence for Technical and Vocational Education & NA & NA & Middle East\\\\\n",
       "\t 3017982 & Myanmar Metropolitan College                                & NA & NA & Far East   \\\\\n",
       "\t 3019500 & National Company for Training and Education Technologies    & NA & NA & Middle East\\\\\n",
       "\t 3017915 & Racer Engineering College                                   & NA & NA & Far East   \\\\\n",
       "\t 9194010 & System Computer Information Technology Institute (Syscoms)  & NA & NA & Middle East\\\\\n",
       "\t 3022935 & The Way Training Institute                                  & NA & NA & Middle East\\\\\n",
       "\\end{tabular}\n"
      ],
      "text/markdown": [
       "\n",
       "A tibble: 11 × 5\n",
       "\n",
       "| Centre &lt;fct&gt; | CentreName &lt;fct&gt; | Postcode &lt;fct&gt; | EducationAuthority &lt;fct&gt; | GeoArea &lt;fct&gt; |\n",
       "|---|---|---|---|---|\n",
       "| 3025187 | AAS College Applied Arts Studies                            | NA | NA | Other       |\n",
       "| 3018091 | AAT Business Park                                           | NA | NA | Far East    |\n",
       "| 3003647 | ADNOC SQA Centre                                            | NA | NA | Middle East |\n",
       "| 3020282 | Britannia International Academy                             | NA | NA | Middle East |\n",
       "| 3008576 | Business And Technology Education Centre (BTEC)             | NA | NA | Middle East |\n",
       "| 3002349 | Centre of Excellence for Technical and Vocational Education | NA | NA | Middle East |\n",
       "| 3017982 | Myanmar Metropolitan College                                | NA | NA | Far East    |\n",
       "| 3019500 | National Company for Training and Education Technologies    | NA | NA | Middle East |\n",
       "| 3017915 | Racer Engineering College                                   | NA | NA | Far East    |\n",
       "| 9194010 | System Computer Information Technology Institute (Syscoms)  | NA | NA | Middle East |\n",
       "| 3022935 | The Way Training Institute                                  | NA | NA | Middle East |\n",
       "\n"
      ],
      "text/plain": [
       "   Centre  CentreName                                                  Postcode\n",
       "1  3025187 AAS College Applied Arts Studies                            NA      \n",
       "2  3018091 AAT Business Park                                           NA      \n",
       "3  3003647 ADNOC SQA Centre                                            NA      \n",
       "4  3020282 Britannia International Academy                             NA      \n",
       "5  3008576 Business And Technology Education Centre (BTEC)             NA      \n",
       "6  3002349 Centre of Excellence for Technical and Vocational Education NA      \n",
       "7  3017982 Myanmar Metropolitan College                                NA      \n",
       "8  3019500 National Company for Training and Education Technologies    NA      \n",
       "9  3017915 Racer Engineering College                                   NA      \n",
       "10 9194010 System Computer Information Technology Institute (Syscoms)  NA      \n",
       "11 3022935 The Way Training Institute                                  NA      \n",
       "   EducationAuthority GeoArea    \n",
       "1  NA                 Other      \n",
       "2  NA                 Far East   \n",
       "3  NA                 Middle East\n",
       "4  NA                 Middle East\n",
       "5  NA                 Middle East\n",
       "6  NA                 Middle East\n",
       "7  NA                 Far East   \n",
       "8  NA                 Middle East\n",
       "9  NA                 Far East   \n",
       "10 NA                 Middle East\n",
       "11 NA                 Middle East"
      ]
     },
     "metadata": {},
     "output_type": "display_data"
    }
   ],
   "source": [
    "centre_postcodes %>%\n",
    "    filter(is.na(Postcode)) %>% \n",
    "    arrange(CentreName)"
   ]
  },
  {
   "cell_type": "code",
   "execution_count": 25,
   "metadata": {},
   "outputs": [
    {
     "data": {
      "text/html": [
       "<style>\n",
       ".list-inline {list-style: none; margin:0; padding: 0}\n",
       ".list-inline>li {display: inline-block}\n",
       ".list-inline>li:not(:last-child)::after {content: \"\\00b7\"; padding: 0 .5ex}\n",
       "</style>\n",
       "<ol class=list-inline><li>'Aberdeen City'</li><li>'Aberdeenshire'</li><li>'Angus'</li><li>'Argyll &amp; Bute'</li><li>'City of Edinburgh'</li><li>'Clackmannanshire'</li><li>'Dumfries &amp; Galloway'</li><li>'Dundee City'</li><li>'East Ayrshire'</li><li>'East Dunbartonshire'</li><li>'East Lothian'</li><li>'East Renfrewshire'</li><li>'England'</li><li>'Falkirk'</li><li>'Far East'</li><li>'Fife'</li><li>'Glasgow City'</li><li>'Highland'</li><li>'Inverclyde'</li><li>'Middle East'</li><li>'Midlothian'</li><li>'Moray'</li><li>'Na h-Eileanan Siar'</li><li>'North Ayrshire'</li><li>'North Lanarkshire'</li><li>'Orkney Islands'</li><li>'Other'</li><li>'Perth &amp; Kinross'</li><li>'Renfrewshire'</li><li>'Scottish Borders'</li><li>'Shetland Islands'</li><li>'South Asia'</li><li>'South Ayrshire'</li><li>'South Lanarkshire'</li><li>'Stirling'</li><li>'Wales'</li><li>'West Dunbartonshire'</li><li>'West Lothian'</li></ol>\n"
      ],
      "text/latex": [
       "\\begin{enumerate*}\n",
       "\\item 'Aberdeen City'\n",
       "\\item 'Aberdeenshire'\n",
       "\\item 'Angus'\n",
       "\\item 'Argyll \\& Bute'\n",
       "\\item 'City of Edinburgh'\n",
       "\\item 'Clackmannanshire'\n",
       "\\item 'Dumfries \\& Galloway'\n",
       "\\item 'Dundee City'\n",
       "\\item 'East Ayrshire'\n",
       "\\item 'East Dunbartonshire'\n",
       "\\item 'East Lothian'\n",
       "\\item 'East Renfrewshire'\n",
       "\\item 'England'\n",
       "\\item 'Falkirk'\n",
       "\\item 'Far East'\n",
       "\\item 'Fife'\n",
       "\\item 'Glasgow City'\n",
       "\\item 'Highland'\n",
       "\\item 'Inverclyde'\n",
       "\\item 'Middle East'\n",
       "\\item 'Midlothian'\n",
       "\\item 'Moray'\n",
       "\\item 'Na h-Eileanan Siar'\n",
       "\\item 'North Ayrshire'\n",
       "\\item 'North Lanarkshire'\n",
       "\\item 'Orkney Islands'\n",
       "\\item 'Other'\n",
       "\\item 'Perth \\& Kinross'\n",
       "\\item 'Renfrewshire'\n",
       "\\item 'Scottish Borders'\n",
       "\\item 'Shetland Islands'\n",
       "\\item 'South Asia'\n",
       "\\item 'South Ayrshire'\n",
       "\\item 'South Lanarkshire'\n",
       "\\item 'Stirling'\n",
       "\\item 'Wales'\n",
       "\\item 'West Dunbartonshire'\n",
       "\\item 'West Lothian'\n",
       "\\end{enumerate*}\n"
      ],
      "text/markdown": [
       "1. 'Aberdeen City'\n",
       "2. 'Aberdeenshire'\n",
       "3. 'Angus'\n",
       "4. 'Argyll &amp; Bute'\n",
       "5. 'City of Edinburgh'\n",
       "6. 'Clackmannanshire'\n",
       "7. 'Dumfries &amp; Galloway'\n",
       "8. 'Dundee City'\n",
       "9. 'East Ayrshire'\n",
       "10. 'East Dunbartonshire'\n",
       "11. 'East Lothian'\n",
       "12. 'East Renfrewshire'\n",
       "13. 'England'\n",
       "14. 'Falkirk'\n",
       "15. 'Far East'\n",
       "16. 'Fife'\n",
       "17. 'Glasgow City'\n",
       "18. 'Highland'\n",
       "19. 'Inverclyde'\n",
       "20. 'Middle East'\n",
       "21. 'Midlothian'\n",
       "22. 'Moray'\n",
       "23. 'Na h-Eileanan Siar'\n",
       "24. 'North Ayrshire'\n",
       "25. 'North Lanarkshire'\n",
       "26. 'Orkney Islands'\n",
       "27. 'Other'\n",
       "28. 'Perth &amp; Kinross'\n",
       "29. 'Renfrewshire'\n",
       "30. 'Scottish Borders'\n",
       "31. 'Shetland Islands'\n",
       "32. 'South Asia'\n",
       "33. 'South Ayrshire'\n",
       "34. 'South Lanarkshire'\n",
       "35. 'Stirling'\n",
       "36. 'Wales'\n",
       "37. 'West Dunbartonshire'\n",
       "38. 'West Lothian'\n",
       "\n",
       "\n"
      ],
      "text/plain": [
       " [1] \"Aberdeen City\"       \"Aberdeenshire\"       \"Angus\"              \n",
       " [4] \"Argyll & Bute\"       \"City of Edinburgh\"   \"Clackmannanshire\"   \n",
       " [7] \"Dumfries & Galloway\" \"Dundee City\"         \"East Ayrshire\"      \n",
       "[10] \"East Dunbartonshire\" \"East Lothian\"        \"East Renfrewshire\"  \n",
       "[13] \"England\"             \"Falkirk\"             \"Far East\"           \n",
       "[16] \"Fife\"                \"Glasgow City\"        \"Highland\"           \n",
       "[19] \"Inverclyde\"          \"Middle East\"         \"Midlothian\"         \n",
       "[22] \"Moray\"               \"Na h-Eileanan Siar\"  \"North Ayrshire\"     \n",
       "[25] \"North Lanarkshire\"   \"Orkney Islands\"      \"Other\"              \n",
       "[28] \"Perth & Kinross\"     \"Renfrewshire\"        \"Scottish Borders\"   \n",
       "[31] \"Shetland Islands\"    \"South Asia\"          \"South Ayrshire\"     \n",
       "[34] \"South Lanarkshire\"   \"Stirling\"            \"Wales\"              \n",
       "[37] \"West Dunbartonshire\" \"West Lothian\"       "
      ]
     },
     "metadata": {},
     "output_type": "display_data"
    },
    {
     "data": {
      "text/html": [
       "'Grant Aided'"
      ],
      "text/latex": [
       "'Grant Aided'"
      ],
      "text/markdown": [
       "'Grant Aided'"
      ],
      "text/plain": [
       "[1] \"Grant Aided\""
      ]
     },
     "metadata": {},
     "output_type": "display_data"
    },
    {
     "data": {
      "text/html": [
       "<style>\n",
       ".list-inline {list-style: none; margin:0; padding: 0}\n",
       ".list-inline>li {display: inline-block}\n",
       ".list-inline>li:not(:last-child)::after {content: \"\\00b7\"; padding: 0 .5ex}\n",
       "</style>\n",
       "<ol class=list-inline><li>'Middle East'</li><li>'Far East'</li><li>'Wales'</li><li>'England'</li><li>'Other'</li><li>'South Asia'</li></ol>\n"
      ],
      "text/latex": [
       "\\begin{enumerate*}\n",
       "\\item 'Middle East'\n",
       "\\item 'Far East'\n",
       "\\item 'Wales'\n",
       "\\item 'England'\n",
       "\\item 'Other'\n",
       "\\item 'South Asia'\n",
       "\\end{enumerate*}\n"
      ],
      "text/markdown": [
       "1. 'Middle East'\n",
       "2. 'Far East'\n",
       "3. 'Wales'\n",
       "4. 'England'\n",
       "5. 'Other'\n",
       "6. 'South Asia'\n",
       "\n",
       "\n"
      ],
      "text/plain": [
       "[1] \"Middle East\" \"Far East\"    \"Wales\"       \"England\"     \"Other\"      \n",
       "[6] \"South Asia\" "
      ]
     },
     "metadata": {},
     "output_type": "display_data"
    }
   ],
   "source": [
    "levels(centre_postcodes$GeoArea)\n",
    "\n",
    "setdiff(summary_stats_schools$LocalAuthority, centre_postcodes$GeoArea)\n",
    "setdiff(centre_postcodes$GeoArea, summary_stats_schools$LocalAuthority)"
   ]
  },
  {
   "cell_type": "code",
   "execution_count": null,
   "metadata": {},
   "outputs": [],
   "source": []
  },
  {
   "cell_type": "code",
   "execution_count": 26,
   "metadata": {},
   "outputs": [
    {
     "data": {
      "text/html": [
       "<style>\n",
       ".list-inline {list-style: none; margin:0; padding: 0}\n",
       ".list-inline>li {display: inline-block}\n",
       ".list-inline>li:not(:last-child)::after {content: \"\\00b7\"; padding: 0 .5ex}\n",
       "</style>\n",
       "<ol class=list-inline><li>'Aberdeen City'</li><li>'Aberdeenshire'</li><li>'Angus'</li><li>'Argyll &amp; Bute'</li><li>'City of Edinburgh'</li><li>'Clackmannanshire'</li><li>'Dumfries &amp; Galloway'</li><li>'Dundee City'</li><li>'East Ayrshire'</li><li>'East Dunbartonshire'</li><li>'East Lothian'</li><li>'East Renfrewshire'</li><li>'Falkirk'</li><li>'Fife'</li><li>'Glasgow City'</li><li>'Highland'</li><li>'Inverclyde'</li><li>'Midlothian'</li><li>'Moray'</li><li>'Na h-Eileanan Siar'</li><li>'North Ayrshire'</li><li>'North Lanarkshire'</li><li>'Orkney Islands'</li><li>'Perth &amp; Kinross'</li><li>'Renfrewshire'</li><li>'Scottish Borders'</li><li>'Shetland Islands'</li><li>'South Ayrshire'</li><li>'South Lanarkshire'</li><li>'Stirling'</li><li>'West Dunbartonshire'</li><li>'West Lothian'</li><li>'England'</li><li>'Wales'</li><li>'Middle East'</li><li>'Far East'</li><li>'South Asia'</li><li>'Other'</li></ol>\n"
      ],
      "text/latex": [
       "\\begin{enumerate*}\n",
       "\\item 'Aberdeen City'\n",
       "\\item 'Aberdeenshire'\n",
       "\\item 'Angus'\n",
       "\\item 'Argyll \\& Bute'\n",
       "\\item 'City of Edinburgh'\n",
       "\\item 'Clackmannanshire'\n",
       "\\item 'Dumfries \\& Galloway'\n",
       "\\item 'Dundee City'\n",
       "\\item 'East Ayrshire'\n",
       "\\item 'East Dunbartonshire'\n",
       "\\item 'East Lothian'\n",
       "\\item 'East Renfrewshire'\n",
       "\\item 'Falkirk'\n",
       "\\item 'Fife'\n",
       "\\item 'Glasgow City'\n",
       "\\item 'Highland'\n",
       "\\item 'Inverclyde'\n",
       "\\item 'Midlothian'\n",
       "\\item 'Moray'\n",
       "\\item 'Na h-Eileanan Siar'\n",
       "\\item 'North Ayrshire'\n",
       "\\item 'North Lanarkshire'\n",
       "\\item 'Orkney Islands'\n",
       "\\item 'Perth \\& Kinross'\n",
       "\\item 'Renfrewshire'\n",
       "\\item 'Scottish Borders'\n",
       "\\item 'Shetland Islands'\n",
       "\\item 'South Ayrshire'\n",
       "\\item 'South Lanarkshire'\n",
       "\\item 'Stirling'\n",
       "\\item 'West Dunbartonshire'\n",
       "\\item 'West Lothian'\n",
       "\\item 'England'\n",
       "\\item 'Wales'\n",
       "\\item 'Middle East'\n",
       "\\item 'Far East'\n",
       "\\item 'South Asia'\n",
       "\\item 'Other'\n",
       "\\end{enumerate*}\n"
      ],
      "text/markdown": [
       "1. 'Aberdeen City'\n",
       "2. 'Aberdeenshire'\n",
       "3. 'Angus'\n",
       "4. 'Argyll &amp; Bute'\n",
       "5. 'City of Edinburgh'\n",
       "6. 'Clackmannanshire'\n",
       "7. 'Dumfries &amp; Galloway'\n",
       "8. 'Dundee City'\n",
       "9. 'East Ayrshire'\n",
       "10. 'East Dunbartonshire'\n",
       "11. 'East Lothian'\n",
       "12. 'East Renfrewshire'\n",
       "13. 'Falkirk'\n",
       "14. 'Fife'\n",
       "15. 'Glasgow City'\n",
       "16. 'Highland'\n",
       "17. 'Inverclyde'\n",
       "18. 'Midlothian'\n",
       "19. 'Moray'\n",
       "20. 'Na h-Eileanan Siar'\n",
       "21. 'North Ayrshire'\n",
       "22. 'North Lanarkshire'\n",
       "23. 'Orkney Islands'\n",
       "24. 'Perth &amp; Kinross'\n",
       "25. 'Renfrewshire'\n",
       "26. 'Scottish Borders'\n",
       "27. 'Shetland Islands'\n",
       "28. 'South Ayrshire'\n",
       "29. 'South Lanarkshire'\n",
       "30. 'Stirling'\n",
       "31. 'West Dunbartonshire'\n",
       "32. 'West Lothian'\n",
       "33. 'England'\n",
       "34. 'Wales'\n",
       "35. 'Middle East'\n",
       "36. 'Far East'\n",
       "37. 'South Asia'\n",
       "38. 'Other'\n",
       "\n",
       "\n"
      ],
      "text/plain": [
       " [1] \"Aberdeen City\"       \"Aberdeenshire\"       \"Angus\"              \n",
       " [4] \"Argyll & Bute\"       \"City of Edinburgh\"   \"Clackmannanshire\"   \n",
       " [7] \"Dumfries & Galloway\" \"Dundee City\"         \"East Ayrshire\"      \n",
       "[10] \"East Dunbartonshire\" \"East Lothian\"        \"East Renfrewshire\"  \n",
       "[13] \"Falkirk\"             \"Fife\"                \"Glasgow City\"       \n",
       "[16] \"Highland\"            \"Inverclyde\"          \"Midlothian\"         \n",
       "[19] \"Moray\"               \"Na h-Eileanan Siar\"  \"North Ayrshire\"     \n",
       "[22] \"North Lanarkshire\"   \"Orkney Islands\"      \"Perth & Kinross\"    \n",
       "[25] \"Renfrewshire\"        \"Scottish Borders\"    \"Shetland Islands\"   \n",
       "[28] \"South Ayrshire\"      \"South Lanarkshire\"   \"Stirling\"           \n",
       "[31] \"West Dunbartonshire\" \"West Lothian\"        \"England\"            \n",
       "[34] \"Wales\"               \"Middle East\"         \"Far East\"           \n",
       "[37] \"South Asia\"          \"Other\"              "
      ]
     },
     "metadata": {},
     "output_type": "display_data"
    }
   ],
   "source": [
    "centre_postcodes <- centre_postcodes %>%\n",
    "    mutate(across(GeoArea, ~ fct_relevel(., #setdiff(centre_postcodes$GeoArea, summary_stats_schools$LocalAuthority),\n",
    "                                         \"England\", \"Wales\", \"Middle East\", \"Far East\", \"South Asia\", \"Other\",\n",
    "                                         after = Inf)))\n",
    "\n",
    "levels(centre_postcodes$GeoArea)"
   ]
  },
  {
   "cell_type": "code",
   "execution_count": 27,
   "metadata": {},
   "outputs": [
    {
     "data": {
      "text/html": [
       "<table class=\"dataframe\">\n",
       "<caption>A tibble: 38 × 2</caption>\n",
       "<thead>\n",
       "\t<tr><th scope=col>GeoArea</th><th scope=col>Country</th></tr>\n",
       "\t<tr><th scope=col>&lt;fct&gt;</th><th scope=col>&lt;fct&gt;</th></tr>\n",
       "</thead>\n",
       "<tbody>\n",
       "\t<tr><td>Aberdeen City      </td><td>Scotland</td></tr>\n",
       "\t<tr><td>Aberdeenshire      </td><td>Scotland</td></tr>\n",
       "\t<tr><td>Angus              </td><td>Scotland</td></tr>\n",
       "\t<tr><td><span style=white-space:pre-wrap>Argyll &amp; Bute      </span></td><td>Scotland</td></tr>\n",
       "\t<tr><td>City of Edinburgh  </td><td>Scotland</td></tr>\n",
       "\t<tr><td>Clackmannanshire   </td><td>Scotland</td></tr>\n",
       "\t<tr><td>Dumfries &amp; Galloway</td><td>Scotland</td></tr>\n",
       "\t<tr><td>Dundee City        </td><td>Scotland</td></tr>\n",
       "\t<tr><td>East Ayrshire      </td><td>Scotland</td></tr>\n",
       "\t<tr><td>East Dunbartonshire</td><td>Scotland</td></tr>\n",
       "\t<tr><td>East Lothian       </td><td>Scotland</td></tr>\n",
       "\t<tr><td>East Renfrewshire  </td><td>Scotland</td></tr>\n",
       "\t<tr><td>Falkirk            </td><td>Scotland</td></tr>\n",
       "\t<tr><td>Fife               </td><td>Scotland</td></tr>\n",
       "\t<tr><td>Glasgow City       </td><td>Scotland</td></tr>\n",
       "\t<tr><td>Highland           </td><td>Scotland</td></tr>\n",
       "\t<tr><td>Inverclyde         </td><td>Scotland</td></tr>\n",
       "\t<tr><td>Midlothian         </td><td>Scotland</td></tr>\n",
       "\t<tr><td>Moray              </td><td>Scotland</td></tr>\n",
       "\t<tr><td>Na h-Eileanan Siar </td><td>Scotland</td></tr>\n",
       "\t<tr><td>North Ayrshire     </td><td>Scotland</td></tr>\n",
       "\t<tr><td>North Lanarkshire  </td><td>Scotland</td></tr>\n",
       "\t<tr><td>Orkney Islands     </td><td>Scotland</td></tr>\n",
       "\t<tr><td><span style=white-space:pre-wrap>Perth &amp; Kinross    </span></td><td>Scotland</td></tr>\n",
       "\t<tr><td>Renfrewshire       </td><td>Scotland</td></tr>\n",
       "\t<tr><td>Scottish Borders   </td><td>Scotland</td></tr>\n",
       "\t<tr><td>Shetland Islands   </td><td>Scotland</td></tr>\n",
       "\t<tr><td>South Ayrshire     </td><td>Scotland</td></tr>\n",
       "\t<tr><td>South Lanarkshire  </td><td>Scotland</td></tr>\n",
       "\t<tr><td>Stirling           </td><td>Scotland</td></tr>\n",
       "\t<tr><td>West Dunbartonshire</td><td>Scotland</td></tr>\n",
       "\t<tr><td>West Lothian       </td><td>Scotland</td></tr>\n",
       "\t<tr><td>England            </td><td>England </td></tr>\n",
       "\t<tr><td>Wales              </td><td>Wales   </td></tr>\n",
       "\t<tr><td>Middle East        </td><td>Other   </td></tr>\n",
       "\t<tr><td>Far East           </td><td>Other   </td></tr>\n",
       "\t<tr><td>South Asia         </td><td>Other   </td></tr>\n",
       "\t<tr><td>Other              </td><td>Other   </td></tr>\n",
       "</tbody>\n",
       "</table>\n"
      ],
      "text/latex": [
       "A tibble: 38 × 2\n",
       "\\begin{tabular}{ll}\n",
       " GeoArea & Country\\\\\n",
       " <fct> & <fct>\\\\\n",
       "\\hline\n",
       "\t Aberdeen City       & Scotland\\\\\n",
       "\t Aberdeenshire       & Scotland\\\\\n",
       "\t Angus               & Scotland\\\\\n",
       "\t Argyll \\& Bute       & Scotland\\\\\n",
       "\t City of Edinburgh   & Scotland\\\\\n",
       "\t Clackmannanshire    & Scotland\\\\\n",
       "\t Dumfries \\& Galloway & Scotland\\\\\n",
       "\t Dundee City         & Scotland\\\\\n",
       "\t East Ayrshire       & Scotland\\\\\n",
       "\t East Dunbartonshire & Scotland\\\\\n",
       "\t East Lothian        & Scotland\\\\\n",
       "\t East Renfrewshire   & Scotland\\\\\n",
       "\t Falkirk             & Scotland\\\\\n",
       "\t Fife                & Scotland\\\\\n",
       "\t Glasgow City        & Scotland\\\\\n",
       "\t Highland            & Scotland\\\\\n",
       "\t Inverclyde          & Scotland\\\\\n",
       "\t Midlothian          & Scotland\\\\\n",
       "\t Moray               & Scotland\\\\\n",
       "\t Na h-Eileanan Siar  & Scotland\\\\\n",
       "\t North Ayrshire      & Scotland\\\\\n",
       "\t North Lanarkshire   & Scotland\\\\\n",
       "\t Orkney Islands      & Scotland\\\\\n",
       "\t Perth \\& Kinross     & Scotland\\\\\n",
       "\t Renfrewshire        & Scotland\\\\\n",
       "\t Scottish Borders    & Scotland\\\\\n",
       "\t Shetland Islands    & Scotland\\\\\n",
       "\t South Ayrshire      & Scotland\\\\\n",
       "\t South Lanarkshire   & Scotland\\\\\n",
       "\t Stirling            & Scotland\\\\\n",
       "\t West Dunbartonshire & Scotland\\\\\n",
       "\t West Lothian        & Scotland\\\\\n",
       "\t England             & England \\\\\n",
       "\t Wales               & Wales   \\\\\n",
       "\t Middle East         & Other   \\\\\n",
       "\t Far East            & Other   \\\\\n",
       "\t South Asia          & Other   \\\\\n",
       "\t Other               & Other   \\\\\n",
       "\\end{tabular}\n"
      ],
      "text/markdown": [
       "\n",
       "A tibble: 38 × 2\n",
       "\n",
       "| GeoArea &lt;fct&gt; | Country &lt;fct&gt; |\n",
       "|---|---|\n",
       "| Aberdeen City       | Scotland |\n",
       "| Aberdeenshire       | Scotland |\n",
       "| Angus               | Scotland |\n",
       "| Argyll &amp; Bute       | Scotland |\n",
       "| City of Edinburgh   | Scotland |\n",
       "| Clackmannanshire    | Scotland |\n",
       "| Dumfries &amp; Galloway | Scotland |\n",
       "| Dundee City         | Scotland |\n",
       "| East Ayrshire       | Scotland |\n",
       "| East Dunbartonshire | Scotland |\n",
       "| East Lothian        | Scotland |\n",
       "| East Renfrewshire   | Scotland |\n",
       "| Falkirk             | Scotland |\n",
       "| Fife                | Scotland |\n",
       "| Glasgow City        | Scotland |\n",
       "| Highland            | Scotland |\n",
       "| Inverclyde          | Scotland |\n",
       "| Midlothian          | Scotland |\n",
       "| Moray               | Scotland |\n",
       "| Na h-Eileanan Siar  | Scotland |\n",
       "| North Ayrshire      | Scotland |\n",
       "| North Lanarkshire   | Scotland |\n",
       "| Orkney Islands      | Scotland |\n",
       "| Perth &amp; Kinross     | Scotland |\n",
       "| Renfrewshire        | Scotland |\n",
       "| Scottish Borders    | Scotland |\n",
       "| Shetland Islands    | Scotland |\n",
       "| South Ayrshire      | Scotland |\n",
       "| South Lanarkshire   | Scotland |\n",
       "| Stirling            | Scotland |\n",
       "| West Dunbartonshire | Scotland |\n",
       "| West Lothian        | Scotland |\n",
       "| England             | England  |\n",
       "| Wales               | Wales    |\n",
       "| Middle East         | Other    |\n",
       "| Far East            | Other    |\n",
       "| South Asia          | Other    |\n",
       "| Other               | Other    |\n",
       "\n"
      ],
      "text/plain": [
       "   GeoArea             Country \n",
       "1  Aberdeen City       Scotland\n",
       "2  Aberdeenshire       Scotland\n",
       "3  Angus               Scotland\n",
       "4  Argyll & Bute       Scotland\n",
       "5  City of Edinburgh   Scotland\n",
       "6  Clackmannanshire    Scotland\n",
       "7  Dumfries & Galloway Scotland\n",
       "8  Dundee City         Scotland\n",
       "9  East Ayrshire       Scotland\n",
       "10 East Dunbartonshire Scotland\n",
       "11 East Lothian        Scotland\n",
       "12 East Renfrewshire   Scotland\n",
       "13 Falkirk             Scotland\n",
       "14 Fife                Scotland\n",
       "15 Glasgow City        Scotland\n",
       "16 Highland            Scotland\n",
       "17 Inverclyde          Scotland\n",
       "18 Midlothian          Scotland\n",
       "19 Moray               Scotland\n",
       "20 Na h-Eileanan Siar  Scotland\n",
       "21 North Ayrshire      Scotland\n",
       "22 North Lanarkshire   Scotland\n",
       "23 Orkney Islands      Scotland\n",
       "24 Perth & Kinross     Scotland\n",
       "25 Renfrewshire        Scotland\n",
       "26 Scottish Borders    Scotland\n",
       "27 Shetland Islands    Scotland\n",
       "28 South Ayrshire      Scotland\n",
       "29 South Lanarkshire   Scotland\n",
       "30 Stirling            Scotland\n",
       "31 West Dunbartonshire Scotland\n",
       "32 West Lothian        Scotland\n",
       "33 England             England \n",
       "34 Wales               Wales   \n",
       "35 Middle East         Other   \n",
       "36 Far East            Other   \n",
       "37 South Asia          Other   \n",
       "38 Other               Other   "
      ]
     },
     "metadata": {},
     "output_type": "display_data"
    }
   ],
   "source": [
    "centre_postcodes <- centre_postcodes %>%\n",
    "    mutate(Country = case_when((GeoArea %in% summary_stats_schools$LocalAuthority) ~ \"Scotland\",\n",
    "                               (GeoArea %in% c(\"England\", \"Wales\")) ~ as.character(GeoArea),\n",
    "                               TRUE ~ \"Other\"\n",
    "                              ),\n",
    "           across(Country, ~ factor(., levels = c(\"Scotland\", \"England\", \"Wales\", \"Other\")))\n",
    "          )\n",
    "\n",
    "\n",
    "centre_postcodes %>%\n",
    "    distinct(GeoArea, Country) %>%\n",
    "    arrange(Country, GeoArea)"
   ]
  },
  {
   "cell_type": "code",
   "execution_count": null,
   "metadata": {},
   "outputs": [],
   "source": []
  },
  {
   "cell_type": "markdown",
   "metadata": {},
   "source": [
    "### Derive SIMD and Rural/Urban classifications - Scottish centres"
   ]
  },
  {
   "cell_type": "code",
   "execution_count": null,
   "metadata": {},
   "outputs": [],
   "source": []
  },
  {
   "cell_type": "markdown",
   "metadata": {},
   "source": [
    "### \"external data\" - urban/rural classification"
   ]
  },
  {
   "cell_type": "code",
   "execution_count": 28,
   "metadata": {},
   "outputs": [
    {
     "name": "stderr",
     "output_type": "stream",
     "text": [
      "\u001b[1mRows: \u001b[22m\u001b[34m6\u001b[39m \u001b[1mColumns: \u001b[22m\u001b[34m3\u001b[39m\n",
      "\u001b[36m──\u001b[39m \u001b[1mColumn specification\u001b[22m \u001b[36m──────────────────────────────────────────────────────────\u001b[39m\n",
      "\u001b[1mDelimiter:\u001b[22m \",\"\n",
      "\u001b[31mchr\u001b[39m (2): URNAME, URDESC\n",
      "\u001b[32mdbl\u001b[39m (1): URCLASS\n",
      "\n",
      "\u001b[36mℹ\u001b[39m Use `spec()` to retrieve the full column specification for this data.\n",
      "\u001b[36mℹ\u001b[39m Specify the column types or set `show_col_types = FALSE` to quiet this message.\n"
     ]
    },
    {
     "name": "stdout",
     "output_type": "stream",
     "text": [
      "Rows: 6\n",
      "Columns: 3\n",
      "$ URCLASS \u001b[3m\u001b[90m<dbl>\u001b[39m\u001b[23m 1, 2, 3, 4, 5, 6\n",
      "$ URNAME  \u001b[3m\u001b[90m<chr>\u001b[39m\u001b[23m \"Large Urban Areas\", \"Other Urban Areas\", \"Accessible Small To…\n",
      "$ URDESC  \u001b[3m\u001b[90m<chr>\u001b[39m\u001b[23m \"Settlements of over 125 000 people\", \"Settlements of 10 000 t…\n"
     ]
    },
    {
     "name": "stderr",
     "output_type": "stream",
     "text": [
      "\u001b[1mRows: \u001b[22m\u001b[34m8\u001b[39m \u001b[1mColumns: \u001b[22m\u001b[34m3\u001b[39m\n",
      "\u001b[36m──\u001b[39m \u001b[1mColumn specification\u001b[22m \u001b[36m──────────────────────────────────────────────────────────\u001b[39m\n",
      "\u001b[1mDelimiter:\u001b[22m \",\"\n",
      "\u001b[31mchr\u001b[39m (2): URNAME, URDESC\n",
      "\u001b[32mdbl\u001b[39m (1): URCLASS\n",
      "\n",
      "\u001b[36mℹ\u001b[39m Use `spec()` to retrieve the full column specification for this data.\n",
      "\u001b[36mℹ\u001b[39m Specify the column types or set `show_col_types = FALSE` to quiet this message.\n"
     ]
    },
    {
     "name": "stdout",
     "output_type": "stream",
     "text": [
      "Rows: 8\n",
      "Columns: 3\n",
      "$ URCLASS \u001b[3m\u001b[90m<dbl>\u001b[39m\u001b[23m 1, 2, 3, 4, 5, 6, 7, 8\n",
      "$ URNAME  \u001b[3m\u001b[90m<chr>\u001b[39m\u001b[23m \"Large Urban Areas\", \"Other Urban Areas\", \"Accessible Small To…\n",
      "$ URDESC  \u001b[3m\u001b[90m<chr>\u001b[39m\u001b[23m \"Settlements of over 125 000 people\", \"Settlements of 10 000 t…\n"
     ]
    }
   ],
   "source": [
    "sg_6_fold_urban_rural_classification <- read_csv(\"data/sg_urban_rural_classification/sg_6_fold_classification.csv\", trim_ws = TRUE, na = c(\"*\", \"#\", \"..\")) %>% #, skip_empty_rows = T) # NOT skipping empty rows... :(\n",
    "                                            filter(rowSums(is.na(.)) != ncol(.)) # caters for skip rows argument not working\n",
    "\n",
    "glimpse(sg_6_fold_urban_rural_classification)\n",
    "\n",
    "sg_8_fold_urban_rural_classification <- read_csv(\"data/sg_urban_rural_classification/sg_8_fold_classification.csv\", trim_ws = TRUE, na = c(\"*\", \"#\", \"..\")) %>% #, skip_empty_rows = T) # NOT skipping empty rows... :(\n",
    "                                            filter(rowSums(is.na(.)) != ncol(.)) # caters for skip rows argument not working\n",
    "\n",
    "glimpse(sg_8_fold_urban_rural_classification)"
   ]
  },
  {
   "cell_type": "code",
   "execution_count": 29,
   "metadata": {},
   "outputs": [
    {
     "data": {
      "text/html": [
       "<table class=\"dataframe\">\n",
       "<caption>A spec_tbl_df: 6 × 3</caption>\n",
       "<thead>\n",
       "\t<tr><th scope=col>UrbanRural6FoldCode</th><th scope=col>UrbanRural6FoldClassification</th><th scope=col>Description</th></tr>\n",
       "\t<tr><th scope=col>&lt;fct&gt;</th><th scope=col>&lt;fct&gt;</th><th scope=col>&lt;chr&gt;</th></tr>\n",
       "</thead>\n",
       "<tbody>\n",
       "\t<tr><td>1</td><td>Large Urban Areas     </td><td>Settlements of over 125 000 people                                                                                          </td></tr>\n",
       "\t<tr><td>2</td><td>Other Urban Areas     </td><td>Settlements of 10 000 to 125 000 people                                                                                     </td></tr>\n",
       "\t<tr><td>3</td><td>Accessible Small Towns</td><td>Settlements of between 3 000 and 10 000 people and within a 30 minute drive time of a Settlement of 10 000 or more          </td></tr>\n",
       "\t<tr><td>4</td><td>Remote Small Towns    </td><td>Settlements of between 3 000 and 10 000 people and with a drive time of over 30 minutes to a Settlement of 10 000 or more   </td></tr>\n",
       "\t<tr><td>5</td><td>Accessible Rural      </td><td>Areas with a population of less than 3 000 people and within a 30 minute drive time of a Settlement of 10 000 or more       </td></tr>\n",
       "\t<tr><td>6</td><td>Remote Rural          </td><td>Areas with a population of less than 3 000 people and with a drive time of over 30 minutes to a Settlement of 10 000 or more</td></tr>\n",
       "</tbody>\n",
       "</table>\n"
      ],
      "text/latex": [
       "A spec\\_tbl\\_df: 6 × 3\n",
       "\\begin{tabular}{lll}\n",
       " UrbanRural6FoldCode & UrbanRural6FoldClassification & Description\\\\\n",
       " <fct> & <fct> & <chr>\\\\\n",
       "\\hline\n",
       "\t 1 & Large Urban Areas      & Settlements of over 125 000 people                                                                                          \\\\\n",
       "\t 2 & Other Urban Areas      & Settlements of 10 000 to 125 000 people                                                                                     \\\\\n",
       "\t 3 & Accessible Small Towns & Settlements of between 3 000 and 10 000 people and within a 30 minute drive time of a Settlement of 10 000 or more          \\\\\n",
       "\t 4 & Remote Small Towns     & Settlements of between 3 000 and 10 000 people and with a drive time of over 30 minutes to a Settlement of 10 000 or more   \\\\\n",
       "\t 5 & Accessible Rural       & Areas with a population of less than 3 000 people and within a 30 minute drive time of a Settlement of 10 000 or more       \\\\\n",
       "\t 6 & Remote Rural           & Areas with a population of less than 3 000 people and with a drive time of over 30 minutes to a Settlement of 10 000 or more\\\\\n",
       "\\end{tabular}\n"
      ],
      "text/markdown": [
       "\n",
       "A spec_tbl_df: 6 × 3\n",
       "\n",
       "| UrbanRural6FoldCode &lt;fct&gt; | UrbanRural6FoldClassification &lt;fct&gt; | Description &lt;chr&gt; |\n",
       "|---|---|---|\n",
       "| 1 | Large Urban Areas      | Settlements of over 125 000 people                                                                                           |\n",
       "| 2 | Other Urban Areas      | Settlements of 10 000 to 125 000 people                                                                                      |\n",
       "| 3 | Accessible Small Towns | Settlements of between 3 000 and 10 000 people and within a 30 minute drive time of a Settlement of 10 000 or more           |\n",
       "| 4 | Remote Small Towns     | Settlements of between 3 000 and 10 000 people and with a drive time of over 30 minutes to a Settlement of 10 000 or more    |\n",
       "| 5 | Accessible Rural       | Areas with a population of less than 3 000 people and within a 30 minute drive time of a Settlement of 10 000 or more        |\n",
       "| 6 | Remote Rural           | Areas with a population of less than 3 000 people and with a drive time of over 30 minutes to a Settlement of 10 000 or more |\n",
       "\n"
      ],
      "text/plain": [
       "  UrbanRural6FoldCode UrbanRural6FoldClassification\n",
       "1 1                   Large Urban Areas            \n",
       "2 2                   Other Urban Areas            \n",
       "3 3                   Accessible Small Towns       \n",
       "4 4                   Remote Small Towns           \n",
       "5 5                   Accessible Rural             \n",
       "6 6                   Remote Rural                 \n",
       "  Description                                                                                                                 \n",
       "1 Settlements of over 125 000 people                                                                                          \n",
       "2 Settlements of 10 000 to 125 000 people                                                                                     \n",
       "3 Settlements of between 3 000 and 10 000 people and within a 30 minute drive time of a Settlement of 10 000 or more          \n",
       "4 Settlements of between 3 000 and 10 000 people and with a drive time of over 30 minutes to a Settlement of 10 000 or more   \n",
       "5 Areas with a population of less than 3 000 people and within a 30 minute drive time of a Settlement of 10 000 or more       \n",
       "6 Areas with a population of less than 3 000 people and with a drive time of over 30 minutes to a Settlement of 10 000 or more"
      ]
     },
     "metadata": {},
     "output_type": "display_data"
    },
    {
     "data": {
      "text/html": [
       "<table class=\"dataframe\">\n",
       "<caption>A spec_tbl_df: 8 × 3</caption>\n",
       "<thead>\n",
       "\t<tr><th scope=col>UrbanRural8FoldCode</th><th scope=col>UrbanRural8FoldClassification</th><th scope=col>Description</th></tr>\n",
       "\t<tr><th scope=col>&lt;fct&gt;</th><th scope=col>&lt;fct&gt;</th><th scope=col>&lt;chr&gt;</th></tr>\n",
       "</thead>\n",
       "<tbody>\n",
       "\t<tr><td>1</td><td>Large Urban Areas      </td><td>Settlements of over 125 000 people                                                                                                    </td></tr>\n",
       "\t<tr><td>2</td><td>Other Urban Areas      </td><td>Settlements of 10 000 to 125 000 people                                                                                               </td></tr>\n",
       "\t<tr><td>3</td><td>Accessible Small Towns </td><td>Settlements of between 3 000 and 10 000 people and within a 30 minute drive time of a Settlement of 10 000 or more                    </td></tr>\n",
       "\t<tr><td>4</td><td>Remote Small Towns     </td><td>Settlements of between 3 000 and 10 000 people and with a drive time between 30 and 60 minutes to a Settlement of 10 000 or more      </td></tr>\n",
       "\t<tr><td>5</td><td>Very Remote Small Towns</td><td>Settlements of between 3 000 and 10 000 people and with a drive time of over 60 minutes to a Settlement of 10 000 or more             </td></tr>\n",
       "\t<tr><td>6</td><td>Accessible Rural Areas </td><td>Areas with a population of less than 3 000 people and within a drive time of 30 minutes to a Settlement of 10 000 or more             </td></tr>\n",
       "\t<tr><td>7</td><td>Remote Rural Areas     </td><td>Areas with a population of less than 3 000 people and with a drive time of between 30 and 60 minutes to a Settlement of 10 000 or more</td></tr>\n",
       "\t<tr><td>8</td><td>Very Remote Rural Areas</td><td>Areas with a population of less than 3 000 people and with a drive time of over 60 minutes to a Settlement of 10 000 or more          </td></tr>\n",
       "</tbody>\n",
       "</table>\n"
      ],
      "text/latex": [
       "A spec\\_tbl\\_df: 8 × 3\n",
       "\\begin{tabular}{lll}\n",
       " UrbanRural8FoldCode & UrbanRural8FoldClassification & Description\\\\\n",
       " <fct> & <fct> & <chr>\\\\\n",
       "\\hline\n",
       "\t 1 & Large Urban Areas       & Settlements of over 125 000 people                                                                                                    \\\\\n",
       "\t 2 & Other Urban Areas       & Settlements of 10 000 to 125 000 people                                                                                               \\\\\n",
       "\t 3 & Accessible Small Towns  & Settlements of between 3 000 and 10 000 people and within a 30 minute drive time of a Settlement of 10 000 or more                    \\\\\n",
       "\t 4 & Remote Small Towns      & Settlements of between 3 000 and 10 000 people and with a drive time between 30 and 60 minutes to a Settlement of 10 000 or more      \\\\\n",
       "\t 5 & Very Remote Small Towns & Settlements of between 3 000 and 10 000 people and with a drive time of over 60 minutes to a Settlement of 10 000 or more             \\\\\n",
       "\t 6 & Accessible Rural Areas  & Areas with a population of less than 3 000 people and within a drive time of 30 minutes to a Settlement of 10 000 or more             \\\\\n",
       "\t 7 & Remote Rural Areas      & Areas with a population of less than 3 000 people and with a drive time of between 30 and 60 minutes to a Settlement of 10 000 or more\\\\\n",
       "\t 8 & Very Remote Rural Areas & Areas with a population of less than 3 000 people and with a drive time of over 60 minutes to a Settlement of 10 000 or more          \\\\\n",
       "\\end{tabular}\n"
      ],
      "text/markdown": [
       "\n",
       "A spec_tbl_df: 8 × 3\n",
       "\n",
       "| UrbanRural8FoldCode &lt;fct&gt; | UrbanRural8FoldClassification &lt;fct&gt; | Description &lt;chr&gt; |\n",
       "|---|---|---|\n",
       "| 1 | Large Urban Areas       | Settlements of over 125 000 people                                                                                                     |\n",
       "| 2 | Other Urban Areas       | Settlements of 10 000 to 125 000 people                                                                                                |\n",
       "| 3 | Accessible Small Towns  | Settlements of between 3 000 and 10 000 people and within a 30 minute drive time of a Settlement of 10 000 or more                     |\n",
       "| 4 | Remote Small Towns      | Settlements of between 3 000 and 10 000 people and with a drive time between 30 and 60 minutes to a Settlement of 10 000 or more       |\n",
       "| 5 | Very Remote Small Towns | Settlements of between 3 000 and 10 000 people and with a drive time of over 60 minutes to a Settlement of 10 000 or more              |\n",
       "| 6 | Accessible Rural Areas  | Areas with a population of less than 3 000 people and within a drive time of 30 minutes to a Settlement of 10 000 or more              |\n",
       "| 7 | Remote Rural Areas      | Areas with a population of less than 3 000 people and with a drive time of between 30 and 60 minutes to a Settlement of 10 000 or more |\n",
       "| 8 | Very Remote Rural Areas | Areas with a population of less than 3 000 people and with a drive time of over 60 minutes to a Settlement of 10 000 or more           |\n",
       "\n"
      ],
      "text/plain": [
       "  UrbanRural8FoldCode UrbanRural8FoldClassification\n",
       "1 1                   Large Urban Areas            \n",
       "2 2                   Other Urban Areas            \n",
       "3 3                   Accessible Small Towns       \n",
       "4 4                   Remote Small Towns           \n",
       "5 5                   Very Remote Small Towns      \n",
       "6 6                   Accessible Rural Areas       \n",
       "7 7                   Remote Rural Areas           \n",
       "8 8                   Very Remote Rural Areas      \n",
       "  Description                                                                                                                           \n",
       "1 Settlements of over 125 000 people                                                                                                    \n",
       "2 Settlements of 10 000 to 125 000 people                                                                                               \n",
       "3 Settlements of between 3 000 and 10 000 people and within a 30 minute drive time of a Settlement of 10 000 or more                    \n",
       "4 Settlements of between 3 000 and 10 000 people and with a drive time between 30 and 60 minutes to a Settlement of 10 000 or more      \n",
       "5 Settlements of between 3 000 and 10 000 people and with a drive time of over 60 minutes to a Settlement of 10 000 or more             \n",
       "6 Areas with a population of less than 3 000 people and within a drive time of 30 minutes to a Settlement of 10 000 or more             \n",
       "7 Areas with a population of less than 3 000 people and with a drive time of between 30 and 60 minutes to a Settlement of 10 000 or more\n",
       "8 Areas with a population of less than 3 000 people and with a drive time of over 60 minutes to a Settlement of 10 000 or more          "
      ]
     },
     "metadata": {},
     "output_type": "display_data"
    }
   ],
   "source": [
    "sg_6_fold_urban_rural_classification <- sg_6_fold_urban_rural_classification %>%\n",
    "    rename_with(~ c(\"URCode\", \"URClassification\", \"Description\"))  %>%\n",
    "    mutate(across(starts_with(\"UR\"), as.factor), \n",
    "           across(URClassification, ~ fct_reorder(., as.numeric(URCode)))) %>%\n",
    "    rename_with(~ str_replace(., \"UR\", \"UrbanRural6Fold\"))\n",
    "\n",
    "sg_8_fold_urban_rural_classification <- sg_8_fold_urban_rural_classification %>%\n",
    "    rename_with(~ c(\"URCode\", \"URClassification\", \"Description\"))  %>%\n",
    "    mutate(across(starts_with(\"UR\"), as.factor), \n",
    "           across(URClassification, ~ fct_reorder(., as.numeric(URCode)))) %>%\n",
    "    rename_with(~ str_replace(., \"UR\", \"UrbanRural8Fold\"))\n",
    "\n",
    "sg_6_fold_urban_rural_classification \n",
    "sg_8_fold_urban_rural_classification \n"
   ]
  },
  {
   "cell_type": "code",
   "execution_count": 30,
   "metadata": {},
   "outputs": [
    {
     "name": "stderr",
     "output_type": "stream",
     "text": [
      "\u001b[1mRows: \u001b[22m\u001b[34m2\u001b[39m \u001b[1mColumns: \u001b[22m\u001b[34m5\u001b[39m\n",
      "\u001b[36m──\u001b[39m \u001b[1mColumn specification\u001b[22m \u001b[36m──────────────────────────────────────────────────────────\u001b[39m\n",
      "\u001b[1mDelimiter:\u001b[22m \",\"\n",
      "\u001b[31mchr\u001b[39m (2): URNAME, URDESC\n",
      "\u001b[32mdbl\u001b[39m (3): URCLASS, AreaSqKm, PercentageTotalLandArea\n",
      "\n",
      "\u001b[36mℹ\u001b[39m Use `spec()` to retrieve the full column specification for this data.\n",
      "\u001b[36mℹ\u001b[39m Specify the column types or set `show_col_types = FALSE` to quiet this message.\n"
     ]
    },
    {
     "name": "stdout",
     "output_type": "stream",
     "text": [
      "Rows: 2\n",
      "Columns: 5\n",
      "$ URCLASS                 \u001b[3m\u001b[90m<dbl>\u001b[39m\u001b[23m 1, 2\n",
      "$ URNAME                  \u001b[3m\u001b[90m<chr>\u001b[39m\u001b[23m \"Urban Areas\", \"Rural Areas\"\n",
      "$ URDESC                  \u001b[3m\u001b[90m<chr>\u001b[39m\u001b[23m \"\", \"Areas with a population less than 3,000 p…\n",
      "$ AreaSqKm                \u001b[3m\u001b[90m<dbl>\u001b[39m\u001b[23m 1689.194, 76247.917\n",
      "$ PercentageTotalLandArea \u001b[3m\u001b[90m<dbl>\u001b[39m\u001b[23m 2.16738, 97.83262\n"
     ]
    },
    {
     "name": "stderr",
     "output_type": "stream",
     "text": [
      "\u001b[1mRows: \u001b[22m\u001b[34m3\u001b[39m \u001b[1mColumns: \u001b[22m\u001b[34m5\u001b[39m\n",
      "\u001b[36m──\u001b[39m \u001b[1mColumn specification\u001b[22m \u001b[36m──────────────────────────────────────────────────────────\u001b[39m\n",
      "\u001b[1mDelimiter:\u001b[22m \",\"\n",
      "\u001b[31mchr\u001b[39m (2): URNAME, URDESC\n",
      "\u001b[32mdbl\u001b[39m (2): URCLASS, PercentageTotalLandArea\n",
      "\n",
      "\u001b[36mℹ\u001b[39m Use `spec()` to retrieve the full column specification for this data.\n",
      "\u001b[36mℹ\u001b[39m Specify the column types or set `show_col_types = FALSE` to quiet this message.\n"
     ]
    },
    {
     "name": "stdout",
     "output_type": "stream",
     "text": [
      "Rows: 3\n",
      "Columns: 5\n",
      "$ URCLASS                 \u001b[3m\u001b[90m<dbl>\u001b[39m\u001b[23m 1, 2, 3\n",
      "$ URNAME                  \u001b[3m\u001b[90m<chr>\u001b[39m\u001b[23m \"Rest of Scotland\", \"Accessible Rural\", \"Remot…\n",
      "$ URDESC                  \u001b[3m\u001b[90m<chr>\u001b[39m\u001b[23m \"\", \"Accessible Areas are within a 30 minute d…\n",
      "$ AreaSqKm                \u001b[3m\u001b[90m<dbl>\u001b[39m\u001b[23m 1689.19, 22024.82, 54223.09\n",
      "$ PercentageTotalLandArea \u001b[3m\u001b[90m<dbl>\u001b[39m\u001b[23m 2.17, 28.26, 69.57\n"
     ]
    },
    {
     "data": {
      "text/html": [
       "<table class=\"dataframe\">\n",
       "<caption>A tibble: 2 × 3</caption>\n",
       "<thead>\n",
       "\t<tr><th scope=col>UrbanRural2FoldCode</th><th scope=col>UrbanRural2FoldClassification</th><th scope=col>Description</th></tr>\n",
       "\t<tr><th scope=col>&lt;fct&gt;</th><th scope=col>&lt;fct&gt;</th><th scope=col>&lt;chr&gt;</th></tr>\n",
       "</thead>\n",
       "<tbody>\n",
       "\t<tr><td>1</td><td>Urban Areas</td><td>                                              </td></tr>\n",
       "\t<tr><td>2</td><td>Rural Areas</td><td>Areas with a population less than 3,000 people</td></tr>\n",
       "</tbody>\n",
       "</table>\n"
      ],
      "text/latex": [
       "A tibble: 2 × 3\n",
       "\\begin{tabular}{lll}\n",
       " UrbanRural2FoldCode & UrbanRural2FoldClassification & Description\\\\\n",
       " <fct> & <fct> & <chr>\\\\\n",
       "\\hline\n",
       "\t 1 & Urban Areas &                                               \\\\\n",
       "\t 2 & Rural Areas & Areas with a population less than 3,000 people\\\\\n",
       "\\end{tabular}\n"
      ],
      "text/markdown": [
       "\n",
       "A tibble: 2 × 3\n",
       "\n",
       "| UrbanRural2FoldCode &lt;fct&gt; | UrbanRural2FoldClassification &lt;fct&gt; | Description &lt;chr&gt; |\n",
       "|---|---|---|\n",
       "| 1 | Urban Areas | <!----> |\n",
       "| 2 | Rural Areas | Areas with a population less than 3,000 people |\n",
       "\n"
      ],
      "text/plain": [
       "  UrbanRural2FoldCode UrbanRural2FoldClassification\n",
       "1 1                   Urban Areas                  \n",
       "2 2                   Rural Areas                  \n",
       "  Description                                   \n",
       "1                                               \n",
       "2 Areas with a population less than 3,000 people"
      ]
     },
     "metadata": {},
     "output_type": "display_data"
    },
    {
     "data": {
      "text/html": [
       "<table class=\"dataframe\">\n",
       "<caption>A tibble: 3 × 3</caption>\n",
       "<thead>\n",
       "\t<tr><th scope=col>UrbanRural3FoldCode</th><th scope=col>UrbanRural3FoldClassification</th><th scope=col>Description</th></tr>\n",
       "\t<tr><th scope=col>&lt;fct&gt;</th><th scope=col>&lt;fct&gt;</th><th scope=col>&lt;chr&gt;</th></tr>\n",
       "</thead>\n",
       "<tbody>\n",
       "\t<tr><td>1</td><td>Rest of Scotland</td><td>                                                                                                                  </td></tr>\n",
       "\t<tr><td>2</td><td>Accessible Rural</td><td>Accessible Areas are within a 30 minute drive time from the centre of a Settlement of 10,000 or more.             </td></tr>\n",
       "\t<tr><td>3</td><td>Remote Rural    </td><td>Remote Areas have a drive time which is greater than 30 minutes from the centre of a Settlement of 10,000 or more.</td></tr>\n",
       "</tbody>\n",
       "</table>\n"
      ],
      "text/latex": [
       "A tibble: 3 × 3\n",
       "\\begin{tabular}{lll}\n",
       " UrbanRural3FoldCode & UrbanRural3FoldClassification & Description\\\\\n",
       " <fct> & <fct> & <chr>\\\\\n",
       "\\hline\n",
       "\t 1 & Rest of Scotland &                                                                                                                   \\\\\n",
       "\t 2 & Accessible Rural & Accessible Areas are within a 30 minute drive time from the centre of a Settlement of 10,000 or more.             \\\\\n",
       "\t 3 & Remote Rural     & Remote Areas have a drive time which is greater than 30 minutes from the centre of a Settlement of 10,000 or more.\\\\\n",
       "\\end{tabular}\n"
      ],
      "text/markdown": [
       "\n",
       "A tibble: 3 × 3\n",
       "\n",
       "| UrbanRural3FoldCode &lt;fct&gt; | UrbanRural3FoldClassification &lt;fct&gt; | Description &lt;chr&gt; |\n",
       "|---|---|---|\n",
       "| 1 | Rest of Scotland | <!----> |\n",
       "| 2 | Accessible Rural | Accessible Areas are within a 30 minute drive time from the centre of a Settlement of 10,000 or more.              |\n",
       "| 3 | Remote Rural     | Remote Areas have a drive time which is greater than 30 minutes from the centre of a Settlement of 10,000 or more. |\n",
       "\n"
      ],
      "text/plain": [
       "  UrbanRural3FoldCode UrbanRural3FoldClassification\n",
       "1 1                   Rest of Scotland             \n",
       "2 2                   Accessible Rural             \n",
       "3 3                   Remote Rural                 \n",
       "  Description                                                                                                       \n",
       "1                                                                                                                   \n",
       "2 Accessible Areas are within a 30 minute drive time from the centre of a Settlement of 10,000 or more.             \n",
       "3 Remote Areas have a drive time which is greater than 30 minutes from the centre of a Settlement of 10,000 or more."
      ]
     },
     "metadata": {},
     "output_type": "display_data"
    }
   ],
   "source": [
    "sg_2_fold_urban_rural_classification <- read_csv(\"data/sg_urban_rural_classification/sg_2_fold_classification.csv\", trim_ws = TRUE, na = c(\"*\", \"#\", \"..\")) %>% #, skip_empty_rows = T) # NOT skipping empty rows... :(\n",
    "                                            filter(rowSums(is.na(.)) != ncol(.)) # caters for skip rows argument not working\n",
    "\n",
    "glimpse(sg_2_fold_urban_rural_classification)\n",
    "\n",
    "sg_2_fold_urban_rural_classification <- sg_2_fold_urban_rural_classification %>%\n",
    "    select(- contains(\"Area\")) %>%\n",
    "    rename_with(~ c(\"URCode\", \"URClassification\", \"Description\")) %>%\n",
    "    mutate(across(starts_with(\"UR\"), as.factor), \n",
    "           across(URClassification, ~ fct_reorder(., as.numeric(URCode)))) %>%\n",
    "    rename_with(~ str_replace(., \"UR\", \"UrbanRural2Fold\"))\n",
    "\n",
    "\n",
    "sg_3_fold_urban_rural_classification <- read_csv(\"data/sg_urban_rural_classification/sg_3_fold_classification.csv\", trim_ws = TRUE, na = c(\"*\", \"#\", \"..\")) %>% #, skip_empty_rows = T) # NOT skipping empty rows... :(\n",
    "                                            filter(rowSums(is.na(.)) != ncol(.)) # caters for skip rows argument not working\n",
    "\n",
    "glimpse(sg_3_fold_urban_rural_classification)\n",
    "\n",
    "sg_3_fold_urban_rural_classification <- sg_3_fold_urban_rural_classification %>%\n",
    "    select(- contains(\"Area\")) %>%\n",
    "    rename_with(~ c(\"URCode\", \"URClassification\", \"Description\")) %>%\n",
    "    mutate(across(starts_with(\"UR\"), as.factor), \n",
    "           across(URClassification, ~ fct_reorder(., as.numeric(URCode)))) %>%\n",
    "    rename_with(~ str_replace(., \"UR\", \"UrbanRural3Fold\"))\n",
    "\n",
    "sg_2_fold_urban_rural_classification \n",
    "sg_3_fold_urban_rural_classification \n",
    "\n"
   ]
  },
  {
   "cell_type": "code",
   "execution_count": 31,
   "metadata": {},
   "outputs": [
    {
     "data": {
      "text/html": [
       "<style>\n",
       ".list-inline {list-style: none; margin:0; padding: 0}\n",
       ".list-inline>li {display: inline-block}\n",
       ".list-inline>li:not(:last-child)::after {content: \"\\00b7\"; padding: 0 .5ex}\n",
       "</style>\n",
       "<ol class=list-inline><li>'1'</li><li>'2'</li></ol>\n"
      ],
      "text/latex": [
       "\\begin{enumerate*}\n",
       "\\item '1'\n",
       "\\item '2'\n",
       "\\end{enumerate*}\n"
      ],
      "text/markdown": [
       "1. '1'\n",
       "2. '2'\n",
       "\n",
       "\n"
      ],
      "text/plain": [
       "[1] \"1\" \"2\""
      ]
     },
     "metadata": {},
     "output_type": "display_data"
    },
    {
     "data": {
      "text/html": [
       "<style>\n",
       ".list-inline {list-style: none; margin:0; padding: 0}\n",
       ".list-inline>li {display: inline-block}\n",
       ".list-inline>li:not(:last-child)::after {content: \"\\00b7\"; padding: 0 .5ex}\n",
       "</style>\n",
       "<ol class=list-inline><li>'Urban Areas'</li><li>'Rural Areas'</li></ol>\n"
      ],
      "text/latex": [
       "\\begin{enumerate*}\n",
       "\\item 'Urban Areas'\n",
       "\\item 'Rural Areas'\n",
       "\\end{enumerate*}\n"
      ],
      "text/markdown": [
       "1. 'Urban Areas'\n",
       "2. 'Rural Areas'\n",
       "\n",
       "\n"
      ],
      "text/plain": [
       "[1] \"Urban Areas\" \"Rural Areas\""
      ]
     },
     "metadata": {},
     "output_type": "display_data"
    },
    {
     "data": {
      "text/html": [
       "<style>\n",
       ".list-inline {list-style: none; margin:0; padding: 0}\n",
       ".list-inline>li {display: inline-block}\n",
       ".list-inline>li:not(:last-child)::after {content: \"\\00b7\"; padding: 0 .5ex}\n",
       "</style>\n",
       "<ol class=list-inline><li>'1'</li><li>'2'</li><li>'3'</li></ol>\n"
      ],
      "text/latex": [
       "\\begin{enumerate*}\n",
       "\\item '1'\n",
       "\\item '2'\n",
       "\\item '3'\n",
       "\\end{enumerate*}\n"
      ],
      "text/markdown": [
       "1. '1'\n",
       "2. '2'\n",
       "3. '3'\n",
       "\n",
       "\n"
      ],
      "text/plain": [
       "[1] \"1\" \"2\" \"3\""
      ]
     },
     "metadata": {},
     "output_type": "display_data"
    },
    {
     "data": {
      "text/html": [
       "<style>\n",
       ".list-inline {list-style: none; margin:0; padding: 0}\n",
       ".list-inline>li {display: inline-block}\n",
       ".list-inline>li:not(:last-child)::after {content: \"\\00b7\"; padding: 0 .5ex}\n",
       "</style>\n",
       "<ol class=list-inline><li>'Rest of Scotland'</li><li>'Accessible Rural'</li><li>'Remote Rural'</li></ol>\n"
      ],
      "text/latex": [
       "\\begin{enumerate*}\n",
       "\\item 'Rest of Scotland'\n",
       "\\item 'Accessible Rural'\n",
       "\\item 'Remote Rural'\n",
       "\\end{enumerate*}\n"
      ],
      "text/markdown": [
       "1. 'Rest of Scotland'\n",
       "2. 'Accessible Rural'\n",
       "3. 'Remote Rural'\n",
       "\n",
       "\n"
      ],
      "text/plain": [
       "[1] \"Rest of Scotland\" \"Accessible Rural\" \"Remote Rural\"    "
      ]
     },
     "metadata": {},
     "output_type": "display_data"
    }
   ],
   "source": [
    "levels(sg_2_fold_urban_rural_classification$UrbanRural2FoldCode)\n",
    "levels(sg_2_fold_urban_rural_classification$UrbanRural2FoldClassification)\n",
    "\n",
    "levels(sg_3_fold_urban_rural_classification$UrbanRural3FoldCode)\n",
    "levels(sg_3_fold_urban_rural_classification$UrbanRural3FoldClassification)"
   ]
  },
  {
   "cell_type": "code",
   "execution_count": null,
   "metadata": {},
   "outputs": [],
   "source": []
  },
  {
   "cell_type": "code",
   "execution_count": 32,
   "metadata": {},
   "outputs": [
    {
     "name": "stderr",
     "output_type": "stream",
     "text": [
      "\u001b[1mRows: \u001b[22m\u001b[34m235880\u001b[39m \u001b[1mColumns: \u001b[22m\u001b[34m11\u001b[39m\n",
      "\u001b[36m──\u001b[39m \u001b[1mColumn specification\u001b[22m \u001b[36m──────────────────────────────────────────────────────────\u001b[39m\n",
      "\u001b[1mDelimiter:\u001b[22m \",\"\n",
      "\u001b[31mchr\u001b[39m (7): POSTCODE, INT_DATE, DEL_DATE, TYPE, LINKPC, SPLIT_IND, CA_CODE\n",
      "\u001b[32mdbl\u001b[39m (4): UR2FOLD, UR3FOLD, UR6FOLD, UR8FOLD\n",
      "\n",
      "\u001b[36mℹ\u001b[39m Use `spec()` to retrieve the full column specification for this data.\n",
      "\u001b[36mℹ\u001b[39m Specify the column types or set `show_col_types = FALSE` to quiet this message.\n"
     ]
    },
    {
     "name": "stdout",
     "output_type": "stream",
     "text": [
      "Rows: 235,880\n",
      "Columns: 11\n",
      "$ POSTCODE  \u001b[3m\u001b[90m<chr>\u001b[39m\u001b[23m \"AB1 0AA\", \"AB1 0AB\", \"AB1 0AD\", \"AB1 0AE\", \"AB1 0AF\", \"AB1 …\n",
      "$ INT_DATE  \u001b[3m\u001b[90m<chr>\u001b[39m\u001b[23m \"01/01/1980\", \"01/08/1973\", \"01/08/1973\", \"01/02/1994\", \"01/…\n",
      "$ DEL_DATE  \u001b[3m\u001b[90m<chr>\u001b[39m\u001b[23m \"01/06/1996\", \"01/04/1996\", \"01/04/1996\", \"01/04/1996\", \"01/…\n",
      "$ TYPE      \u001b[3m\u001b[90m<chr>\u001b[39m\u001b[23m \"0\", \"0\", \"0\", \"0\", \"L\", \"L\", \"0\", \"0\", \"L\", \"0\", \"0\", \"0\", …\n",
      "$ LINKPC    \u001b[3m\u001b[90m<chr>\u001b[39m\u001b[23m \"\", \"\", \"\", \"\", \"AB14 0QL\", \"AB14 0SB\", \"\", \"\", \"AB13 0AP\", …\n",
      "$ SPLIT_IND \u001b[3m\u001b[90m<chr>\u001b[39m\u001b[23m \"\", \"\", \"\", \"\", \"\", \"\", \"\", \"\", \"\", \"\", \"\", \"\", \"\", \"\", \"\", …\n",
      "$ CA_CODE   \u001b[3m\u001b[90m<chr>\u001b[39m\u001b[23m \"S12000033\", \"S12000033\", \"S12000033\", \"S12000034\", \"S120000…\n",
      "$ UR2FOLD   \u001b[3m\u001b[90m<dbl>\u001b[39m\u001b[23m 1, 1, 2, 2, 1, 1, 1, 1, 2, 2, 1, 2, 2, 2, 2, 2, 2, 2, 2, 2, …\n",
      "$ UR3FOLD   \u001b[3m\u001b[90m<dbl>\u001b[39m\u001b[23m 1, 1, 2, 2, 1, 1, 1, 1, 2, 2, 1, 2, 2, 2, 2, 2, 2, 2, 2, 2, …\n",
      "$ UR6FOLD   \u001b[3m\u001b[90m<dbl>\u001b[39m\u001b[23m 3, 3, 5, 5, 3, 3, 3, 3, 5, 5, 3, 5, 5, 5, 5, 5, 5, 5, 5, 5, …\n",
      "$ UR8FOLD   \u001b[3m\u001b[90m<dbl>\u001b[39m\u001b[23m 3, 3, 6, 6, 3, 3, 3, 3, 6, 6, 3, 6, 6, 6, 6, 6, 6, 6, 6, 6, …\n"
     ]
    }
   ],
   "source": [
    "sg_urban_rural_classification_postcode_lookup <- read_csv(\"data/sg_urban_rural_classification/sg_2016_urban_rural_classification_postcode_lookup.csv\", \n",
    "                                                          trim_ws = TRUE, na = c(\"*\", \"#\", \"..\")) %>% #, skip_empty_rows = T) # NOT skipping empty rows... :(\n",
    "                                            filter(rowSums(is.na(.)) != ncol(.)) # caters for skip rows argument not working\n",
    "\n",
    "glimpse(sg_urban_rural_classification_postcode_lookup)"
   ]
  },
  {
   "cell_type": "code",
   "execution_count": 33,
   "metadata": {},
   "outputs": [
    {
     "name": "stdout",
     "output_type": "stream",
     "text": [
      "Rows: 235,880\n",
      "Columns: 7\n",
      "$ Postcode            \u001b[3m\u001b[90m<fct>\u001b[39m\u001b[23m AB1 0AA, AB1 0AB, AB1 0AD, AB1 0AE, AB1 0AF, AB1 0…\n",
      "$ DelDate             \u001b[3m\u001b[90m<fct>\u001b[39m\u001b[23m 01/06/1996, 01/04/1996, 01/04/1996, 01/04/1996, 01…\n",
      "$ LinkPostcode        \u001b[3m\u001b[90m<fct>\u001b[39m\u001b[23m NA, NA, NA, NA, AB14 0QL, AB14 0SB, NA, NA, AB13 0…\n",
      "$ UrbanRural2FoldCode \u001b[3m\u001b[90m<fct>\u001b[39m\u001b[23m 1, 1, 2, 2, 1, 1, 1, 1, 2, 2, 1, 2, 2, 2, 2, 2, 2,…\n",
      "$ UrbanRural3FoldCode \u001b[3m\u001b[90m<fct>\u001b[39m\u001b[23m 1, 1, 2, 2, 1, 1, 1, 1, 2, 2, 1, 2, 2, 2, 2, 2, 2,…\n",
      "$ UrbanRural6FoldCode \u001b[3m\u001b[90m<fct>\u001b[39m\u001b[23m 3, 3, 5, 5, 3, 3, 3, 3, 5, 5, 3, 5, 5, 5, 5, 5, 5,…\n",
      "$ UrbanRural8FoldCode \u001b[3m\u001b[90m<fct>\u001b[39m\u001b[23m 3, 3, 6, 6, 3, 3, 3, 3, 6, 6, 3, 6, 6, 6, 6, 6, 6,…\n"
     ]
    }
   ],
   "source": [
    "# huge file - rather than delete on completion, filter and store subset before join\n",
    "\n",
    "sg_urban_rural_classification_postcode_lookup <- sg_urban_rural_classification_postcode_lookup %>%\n",
    "\n",
    "    select(matches(\"POSTCODE|FOLD|DEL_DATE|LINKPC\") | matches(\"[2368]{1}\")) %>%\n",
    "    rename_with(~ paste0(str_replace(., \"UR\", \"UrbanRural\"), \"Code\"), starts_with(\"UR\")) %>%\n",
    "    rename(LinkPostcode = LINKPC) %>%\n",
    "    rename_with(snakecase::to_upper_camel_case) %>%\n",
    "    mutate(across(c(DelDate, LinkPostcode), ~ na_if(str_trim(.), \"\"))) %>%\n",
    "    mutate(across(everything(), as.factor))\n",
    "\n",
    "glimpse(sg_urban_rural_classification_postcode_lookup)"
   ]
  },
  {
   "cell_type": "code",
   "execution_count": 34,
   "metadata": {},
   "outputs": [
    {
     "data": {
      "text/html": [
       "<table class=\"dataframe\">\n",
       "<caption>A tibble: 8 × 4</caption>\n",
       "<thead>\n",
       "\t<tr><th scope=col>UrbanRural2FoldCode</th><th scope=col>UrbanRural3FoldCode</th><th scope=col>UrbanRural6FoldCode</th><th scope=col>UrbanRural8FoldCode</th></tr>\n",
       "\t<tr><th scope=col>&lt;fct&gt;</th><th scope=col>&lt;fct&gt;</th><th scope=col>&lt;fct&gt;</th><th scope=col>&lt;fct&gt;</th></tr>\n",
       "</thead>\n",
       "<tbody>\n",
       "\t<tr><td>1</td><td>1</td><td>1</td><td>1</td></tr>\n",
       "\t<tr><td>1</td><td>1</td><td>2</td><td>2</td></tr>\n",
       "\t<tr><td>1</td><td>1</td><td>3</td><td>3</td></tr>\n",
       "\t<tr><td>1</td><td>1</td><td>4</td><td>4</td></tr>\n",
       "\t<tr><td>1</td><td>1</td><td>4</td><td>5</td></tr>\n",
       "\t<tr><td>2</td><td>2</td><td>5</td><td>6</td></tr>\n",
       "\t<tr><td>2</td><td>3</td><td>6</td><td>7</td></tr>\n",
       "\t<tr><td>2</td><td>3</td><td>6</td><td>8</td></tr>\n",
       "</tbody>\n",
       "</table>\n"
      ],
      "text/latex": [
       "A tibble: 8 × 4\n",
       "\\begin{tabular}{llll}\n",
       " UrbanRural2FoldCode & UrbanRural3FoldCode & UrbanRural6FoldCode & UrbanRural8FoldCode\\\\\n",
       " <fct> & <fct> & <fct> & <fct>\\\\\n",
       "\\hline\n",
       "\t 1 & 1 & 1 & 1\\\\\n",
       "\t 1 & 1 & 2 & 2\\\\\n",
       "\t 1 & 1 & 3 & 3\\\\\n",
       "\t 1 & 1 & 4 & 4\\\\\n",
       "\t 1 & 1 & 4 & 5\\\\\n",
       "\t 2 & 2 & 5 & 6\\\\\n",
       "\t 2 & 3 & 6 & 7\\\\\n",
       "\t 2 & 3 & 6 & 8\\\\\n",
       "\\end{tabular}\n"
      ],
      "text/markdown": [
       "\n",
       "A tibble: 8 × 4\n",
       "\n",
       "| UrbanRural2FoldCode &lt;fct&gt; | UrbanRural3FoldCode &lt;fct&gt; | UrbanRural6FoldCode &lt;fct&gt; | UrbanRural8FoldCode &lt;fct&gt; |\n",
       "|---|---|---|---|\n",
       "| 1 | 1 | 1 | 1 |\n",
       "| 1 | 1 | 2 | 2 |\n",
       "| 1 | 1 | 3 | 3 |\n",
       "| 1 | 1 | 4 | 4 |\n",
       "| 1 | 1 | 4 | 5 |\n",
       "| 2 | 2 | 5 | 6 |\n",
       "| 2 | 3 | 6 | 7 |\n",
       "| 2 | 3 | 6 | 8 |\n",
       "\n"
      ],
      "text/plain": [
       "  UrbanRural2FoldCode UrbanRural3FoldCode UrbanRural6FoldCode\n",
       "1 1                   1                   1                  \n",
       "2 1                   1                   2                  \n",
       "3 1                   1                   3                  \n",
       "4 1                   1                   4                  \n",
       "5 1                   1                   4                  \n",
       "6 2                   2                   5                  \n",
       "7 2                   3                   6                  \n",
       "8 2                   3                   6                  \n",
       "  UrbanRural8FoldCode\n",
       "1 1                  \n",
       "2 2                  \n",
       "3 3                  \n",
       "4 4                  \n",
       "5 5                  \n",
       "6 6                  \n",
       "7 7                  \n",
       "8 8                  "
      ]
     },
     "metadata": {},
     "output_type": "display_data"
    }
   ],
   "source": [
    "sg_urban_rural_classification_postcode_lookup %>%\n",
    "    select(ends_with(\"FoldCode\")) %>%\n",
    "    distinct() %>%\n",
    "    arrange(UrbanRural8FoldCode)"
   ]
  },
  {
   "cell_type": "code",
   "execution_count": null,
   "metadata": {},
   "outputs": [],
   "source": []
  },
  {
   "cell_type": "code",
   "execution_count": 35,
   "metadata": {},
   "outputs": [
    {
     "data": {
      "text/html": [
       "221376"
      ],
      "text/latex": [
       "221376"
      ],
      "text/markdown": [
       "221376"
      ],
      "text/plain": [
       "[1] 221376"
      ]
     },
     "metadata": {},
     "output_type": "display_data"
    },
    {
     "name": "stderr",
     "output_type": "stream",
     "text": [
      "Joining, by = \"Postcode\"\n"
     ]
    },
    {
     "data": {
      "text/html": [
       "860"
      ],
      "text/latex": [
       "860"
      ],
      "text/markdown": [
       "860"
      ],
      "text/plain": [
       "[1] 860"
      ]
     },
     "metadata": {},
     "output_type": "display_data"
    }
   ],
   "source": [
    "length(levels(sg_urban_rural_classification_postcode_lookup$Postcode))\n",
    "\n",
    "sg_urban_rural_classification_postcode_lookup <- sg_urban_rural_classification_postcode_lookup %>%\n",
    "\n",
    "    filter(is.na(DelDate)) %>%\n",
    "    filter(Postcode %in% levels(centre_postcodes$Postcode)) %>%\n",
    "\n",
    "    bind_rows(sg_urban_rural_classification_postcode_lookup %>%\n",
    "                filter(Postcode %in% levels(centre_postcodes$Postcode)) %>%\n",
    "                filter(!is.na(DelDate)) \n",
    "    ) %>%\n",
    "    bind_rows(sg_urban_rural_classification_postcode_lookup %>%\n",
    "                filter(Postcode %in% levels(centre_postcodes$Postcode)) %>%\n",
    "                filter(!is.na(DelDate)) %>%\n",
    "                distinct(LinkPostcode) %>%\n",
    "                rename(Postcode = LinkPostcode) %>%\n",
    "\n",
    "                left_join(sg_urban_rural_classification_postcode_lookup) %>%\n",
    "                filter(!is.na(Postcode)) \n",
    "    ) %>%\n",
    "\n",
    "    distinct() %>%    \n",
    "    mutate(across(c(Postcode, DelDate, LinkPostcode), ~ fct_drop(.))) \n",
    "\n",
    "length(levels(sg_urban_rural_classification_postcode_lookup$Postcode))"
   ]
  },
  {
   "cell_type": "code",
   "execution_count": 36,
   "metadata": {},
   "outputs": [
    {
     "data": {
      "text/html": [
       "<table class=\"dataframe\">\n",
       "<caption>A tibble: 4 × 7</caption>\n",
       "<thead>\n",
       "\t<tr><th scope=col>Postcode</th><th scope=col>DelDate</th><th scope=col>LinkPostcode</th><th scope=col>UrbanRural2FoldCode</th><th scope=col>UrbanRural3FoldCode</th><th scope=col>UrbanRural6FoldCode</th><th scope=col>UrbanRural8FoldCode</th></tr>\n",
       "\t<tr><th scope=col>&lt;fct&gt;</th><th scope=col>&lt;fct&gt;</th><th scope=col>&lt;fct&gt;</th><th scope=col>&lt;fct&gt;</th><th scope=col>&lt;fct&gt;</th><th scope=col>&lt;fct&gt;</th><th scope=col>&lt;fct&gt;</th></tr>\n",
       "</thead>\n",
       "<tbody>\n",
       "\t<tr><td>G51 1PR </td><td>NA</td><td>NA</td><td>1</td><td>1</td><td>1</td><td>1</td></tr>\n",
       "\t<tr><td>HS1 2BJ </td><td>NA</td><td>NA</td><td>1</td><td>1</td><td>4</td><td>5</td></tr>\n",
       "\t<tr><td>DD2 2LJ </td><td>NA</td><td>NA</td><td>1</td><td>1</td><td>1</td><td>1</td></tr>\n",
       "\t<tr><td>IV30 5SY</td><td>NA</td><td>NA</td><td>2</td><td>2</td><td>5</td><td>6</td></tr>\n",
       "</tbody>\n",
       "</table>\n"
      ],
      "text/latex": [
       "A tibble: 4 × 7\n",
       "\\begin{tabular}{lllllll}\n",
       " Postcode & DelDate & LinkPostcode & UrbanRural2FoldCode & UrbanRural3FoldCode & UrbanRural6FoldCode & UrbanRural8FoldCode\\\\\n",
       " <fct> & <fct> & <fct> & <fct> & <fct> & <fct> & <fct>\\\\\n",
       "\\hline\n",
       "\t G51 1PR  & NA & NA & 1 & 1 & 1 & 1\\\\\n",
       "\t HS1 2BJ  & NA & NA & 1 & 1 & 4 & 5\\\\\n",
       "\t DD2 2LJ  & NA & NA & 1 & 1 & 1 & 1\\\\\n",
       "\t IV30 5SY & NA & NA & 2 & 2 & 5 & 6\\\\\n",
       "\\end{tabular}\n"
      ],
      "text/markdown": [
       "\n",
       "A tibble: 4 × 7\n",
       "\n",
       "| Postcode &lt;fct&gt; | DelDate &lt;fct&gt; | LinkPostcode &lt;fct&gt; | UrbanRural2FoldCode &lt;fct&gt; | UrbanRural3FoldCode &lt;fct&gt; | UrbanRural6FoldCode &lt;fct&gt; | UrbanRural8FoldCode &lt;fct&gt; |\n",
       "|---|---|---|---|---|---|---|\n",
       "| G51 1PR  | NA | NA | 1 | 1 | 1 | 1 |\n",
       "| HS1 2BJ  | NA | NA | 1 | 1 | 4 | 5 |\n",
       "| DD2 2LJ  | NA | NA | 1 | 1 | 1 | 1 |\n",
       "| IV30 5SY | NA | NA | 2 | 2 | 5 | 6 |\n",
       "\n"
      ],
      "text/plain": [
       "  Postcode DelDate LinkPostcode UrbanRural2FoldCode UrbanRural3FoldCode\n",
       "1 G51 1PR  NA      NA           1                   1                  \n",
       "2 HS1 2BJ  NA      NA           1                   1                  \n",
       "3 DD2 2LJ  NA      NA           1                   1                  \n",
       "4 IV30 5SY NA      NA           2                   2                  \n",
       "  UrbanRural6FoldCode UrbanRural8FoldCode\n",
       "1 1                   1                  \n",
       "2 4                   5                  \n",
       "3 1                   1                  \n",
       "4 5                   6                  "
      ]
     },
     "metadata": {},
     "output_type": "display_data"
    },
    {
     "data": {
      "text/html": [
       "<table class=\"dataframe\">\n",
       "<caption>A tibble: 9 × 4</caption>\n",
       "<thead>\n",
       "\t<tr><th scope=col>UrbanRural2FoldCode</th><th scope=col>UrbanRural3FoldCode</th><th scope=col>UrbanRural6FoldCode</th><th scope=col>UrbanRural8FoldCode</th></tr>\n",
       "\t<tr><th scope=col>&lt;fct&gt;</th><th scope=col>&lt;fct&gt;</th><th scope=col>&lt;fct&gt;</th><th scope=col>&lt;fct&gt;</th></tr>\n",
       "</thead>\n",
       "<tbody>\n",
       "\t<tr><td>1 </td><td>1 </td><td>1 </td><td>1 </td></tr>\n",
       "\t<tr><td>1 </td><td>1 </td><td>2 </td><td>2 </td></tr>\n",
       "\t<tr><td>1 </td><td>1 </td><td>3 </td><td>3 </td></tr>\n",
       "\t<tr><td>1 </td><td>1 </td><td>4 </td><td>4 </td></tr>\n",
       "\t<tr><td>1 </td><td>1 </td><td>4 </td><td>5 </td></tr>\n",
       "\t<tr><td>2 </td><td>2 </td><td>5 </td><td>6 </td></tr>\n",
       "\t<tr><td>2 </td><td>3 </td><td>6 </td><td>7 </td></tr>\n",
       "\t<tr><td>2 </td><td>3 </td><td>6 </td><td>8 </td></tr>\n",
       "\t<tr><td>NA</td><td>NA</td><td>NA</td><td>NA</td></tr>\n",
       "</tbody>\n",
       "</table>\n"
      ],
      "text/latex": [
       "A tibble: 9 × 4\n",
       "\\begin{tabular}{llll}\n",
       " UrbanRural2FoldCode & UrbanRural3FoldCode & UrbanRural6FoldCode & UrbanRural8FoldCode\\\\\n",
       " <fct> & <fct> & <fct> & <fct>\\\\\n",
       "\\hline\n",
       "\t 1  & 1  & 1  & 1 \\\\\n",
       "\t 1  & 1  & 2  & 2 \\\\\n",
       "\t 1  & 1  & 3  & 3 \\\\\n",
       "\t 1  & 1  & 4  & 4 \\\\\n",
       "\t 1  & 1  & 4  & 5 \\\\\n",
       "\t 2  & 2  & 5  & 6 \\\\\n",
       "\t 2  & 3  & 6  & 7 \\\\\n",
       "\t 2  & 3  & 6  & 8 \\\\\n",
       "\t NA & NA & NA & NA\\\\\n",
       "\\end{tabular}\n"
      ],
      "text/markdown": [
       "\n",
       "A tibble: 9 × 4\n",
       "\n",
       "| UrbanRural2FoldCode &lt;fct&gt; | UrbanRural3FoldCode &lt;fct&gt; | UrbanRural6FoldCode &lt;fct&gt; | UrbanRural8FoldCode &lt;fct&gt; |\n",
       "|---|---|---|---|\n",
       "| 1  | 1  | 1  | 1  |\n",
       "| 1  | 1  | 2  | 2  |\n",
       "| 1  | 1  | 3  | 3  |\n",
       "| 1  | 1  | 4  | 4  |\n",
       "| 1  | 1  | 4  | 5  |\n",
       "| 2  | 2  | 5  | 6  |\n",
       "| 2  | 3  | 6  | 7  |\n",
       "| 2  | 3  | 6  | 8  |\n",
       "| NA | NA | NA | NA |\n",
       "\n"
      ],
      "text/plain": [
       "  UrbanRural2FoldCode UrbanRural3FoldCode UrbanRural6FoldCode\n",
       "1 1                   1                   1                  \n",
       "2 1                   1                   2                  \n",
       "3 1                   1                   3                  \n",
       "4 1                   1                   4                  \n",
       "5 1                   1                   4                  \n",
       "6 2                   2                   5                  \n",
       "7 2                   3                   6                  \n",
       "8 2                   3                   6                  \n",
       "9 NA                  NA                  NA                 \n",
       "  UrbanRural8FoldCode\n",
       "1 1                  \n",
       "2 2                  \n",
       "3 3                  \n",
       "4 4                  \n",
       "5 5                  \n",
       "6 6                  \n",
       "7 7                  \n",
       "8 8                  \n",
       "9 NA                 "
      ]
     },
     "metadata": {},
     "output_type": "display_data"
    }
   ],
   "source": [
    "sg_urban_rural_classification_postcode_lookup %>%\n",
    "    slice_sample(n = 4)\n",
    "\n",
    "sg_urban_rural_classification_postcode_lookup %>%\n",
    "    distinct(across(matches(\"UrbanRural\"))) %>%\n",
    "    arrange(UrbanRural8FoldCode)"
   ]
  },
  {
   "cell_type": "code",
   "execution_count": 37,
   "metadata": {},
   "outputs": [
    {
     "data": {
      "text/html": [
       "<table class=\"dataframe\">\n",
       "<caption>A tibble: 1 × 7</caption>\n",
       "<thead>\n",
       "\t<tr><th scope=col>Postcode</th><th scope=col>DelDate</th><th scope=col>LinkPostcode</th><th scope=col>UrbanRural2FoldCode</th><th scope=col>UrbanRural3FoldCode</th><th scope=col>UrbanRural6FoldCode</th><th scope=col>UrbanRural8FoldCode</th></tr>\n",
       "\t<tr><th scope=col>&lt;fct&gt;</th><th scope=col>&lt;fct&gt;</th><th scope=col>&lt;fct&gt;</th><th scope=col>&lt;fct&gt;</th><th scope=col>&lt;fct&gt;</th><th scope=col>&lt;fct&gt;</th><th scope=col>&lt;fct&gt;</th></tr>\n",
       "</thead>\n",
       "<tbody>\n",
       "\t<tr><td>NO LINKP</td><td>NA</td><td>NA</td><td>NA</td><td>NA</td><td>NA</td><td>NA</td></tr>\n",
       "</tbody>\n",
       "</table>\n"
      ],
      "text/latex": [
       "A tibble: 1 × 7\n",
       "\\begin{tabular}{lllllll}\n",
       " Postcode & DelDate & LinkPostcode & UrbanRural2FoldCode & UrbanRural3FoldCode & UrbanRural6FoldCode & UrbanRural8FoldCode\\\\\n",
       " <fct> & <fct> & <fct> & <fct> & <fct> & <fct> & <fct>\\\\\n",
       "\\hline\n",
       "\t NO LINKP & NA & NA & NA & NA & NA & NA\\\\\n",
       "\\end{tabular}\n"
      ],
      "text/markdown": [
       "\n",
       "A tibble: 1 × 7\n",
       "\n",
       "| Postcode &lt;fct&gt; | DelDate &lt;fct&gt; | LinkPostcode &lt;fct&gt; | UrbanRural2FoldCode &lt;fct&gt; | UrbanRural3FoldCode &lt;fct&gt; | UrbanRural6FoldCode &lt;fct&gt; | UrbanRural8FoldCode &lt;fct&gt; |\n",
       "|---|---|---|---|---|---|---|\n",
       "| NO LINKP | NA | NA | NA | NA | NA | NA |\n",
       "\n"
      ],
      "text/plain": [
       "  Postcode DelDate LinkPostcode UrbanRural2FoldCode UrbanRural3FoldCode\n",
       "1 NO LINKP NA      NA           NA                  NA                 \n",
       "  UrbanRural6FoldCode UrbanRural8FoldCode\n",
       "1 NA                  NA                 "
      ]
     },
     "metadata": {},
     "output_type": "display_data"
    }
   ],
   "source": [
    "sg_urban_rural_classification_postcode_lookup %>%\n",
    "    filter(if_all(matches(\"UrbanRural\"), is.na)) %>%\n",
    "    distinct() %>%\n",
    "    arrange(UrbanRural8FoldCode)"
   ]
  },
  {
   "cell_type": "code",
   "execution_count": null,
   "metadata": {},
   "outputs": [],
   "source": []
  },
  {
   "cell_type": "code",
   "execution_count": 38,
   "metadata": {},
   "outputs": [
    {
     "name": "stderr",
     "output_type": "stream",
     "text": [
      "Joining, by = \"Postcode\"\n"
     ]
    },
    {
     "name": "stdout",
     "output_type": "stream",
     "text": [
      "Rows: 1,002\n",
      "Columns: 10\n",
      "$ Centre              \u001b[3m\u001b[90m<fct>\u001b[39m\u001b[23m 1000144, 1001930, 1002732, 1002759, 1002856, 10029…\n",
      "$ CentreName          \u001b[3m\u001b[90m<fct>\u001b[39m\u001b[23m \"Firpark Secondary School\", \"Buchanan High School\"…\n",
      "$ Postcode            \u001b[3m\u001b[90m<fct>\u001b[39m\u001b[23m ML1 2PR, ML5 2HT, G67 2UF, KA13 6DE, DD3 8LE, EH11…\n",
      "$ EducationAuthority  \u001b[3m\u001b[90m<fct>\u001b[39m\u001b[23m North Lanarkshire Council Education Department, No…\n",
      "$ GeoArea             \u001b[3m\u001b[90m<fct>\u001b[39m\u001b[23m North Lanarkshire, North Lanarkshire, North Lanark…\n",
      "$ Country             \u001b[3m\u001b[90m<fct>\u001b[39m\u001b[23m Scotland, Scotland, Scotland, Scotland, Scotland, …\n",
      "$ UrbanRural2FoldCode \u001b[3m\u001b[90m<fct>\u001b[39m\u001b[23m 1, 1, 1, 1, 1, 1, 1, 1, 1, 1, 1, 2, 1, 1, 1, 1, 1,…\n",
      "$ UrbanRural3FoldCode \u001b[3m\u001b[90m<fct>\u001b[39m\u001b[23m 1, 1, 1, 1, 1, 1, 1, 1, 1, 1, 1, 2, 1, 1, 1, 1, 1,…\n",
      "$ UrbanRural6FoldCode \u001b[3m\u001b[90m<fct>\u001b[39m\u001b[23m 2, 2, 2, 2, 1, 1, 2, 1, 1, 1, 2, 5, 2, 1, 2, 1, 1,…\n",
      "$ UrbanRural8FoldCode \u001b[3m\u001b[90m<fct>\u001b[39m\u001b[23m 2, 2, 2, 2, 1, 1, 2, 1, 1, 1, 2, 6, 2, 1, 2, 1, 1,…\n"
     ]
    },
    {
     "name": "stderr",
     "output_type": "stream",
     "text": [
      "Joining, by = \"Country\"\n"
     ]
    },
    {
     "data": {
      "text/html": [
       "<table class=\"dataframe\">\n",
       "<caption>A tibble: 4 × 3</caption>\n",
       "<thead>\n",
       "\t<tr><th scope=col>Country</th><th scope=col>NoOfCentres</th><th scope=col>URClassificationNotSet</th></tr>\n",
       "\t<tr><th scope=col>&lt;fct&gt;</th><th scope=col>&lt;int&gt;</th><th scope=col>&lt;int&gt;</th></tr>\n",
       "</thead>\n",
       "<tbody>\n",
       "\t<tr><td>Scotland</td><td>892</td><td>28</td></tr>\n",
       "\t<tr><td>England </td><td> 24</td><td>24</td></tr>\n",
       "\t<tr><td>Wales   </td><td>  2</td><td> 2</td></tr>\n",
       "\t<tr><td>Other   </td><td> 84</td><td>84</td></tr>\n",
       "</tbody>\n",
       "</table>\n"
      ],
      "text/latex": [
       "A tibble: 4 × 3\n",
       "\\begin{tabular}{lll}\n",
       " Country & NoOfCentres & URClassificationNotSet\\\\\n",
       " <fct> & <int> & <int>\\\\\n",
       "\\hline\n",
       "\t Scotland & 892 & 28\\\\\n",
       "\t England  &  24 & 24\\\\\n",
       "\t Wales    &   2 &  2\\\\\n",
       "\t Other    &  84 & 84\\\\\n",
       "\\end{tabular}\n"
      ],
      "text/markdown": [
       "\n",
       "A tibble: 4 × 3\n",
       "\n",
       "| Country &lt;fct&gt; | NoOfCentres &lt;int&gt; | URClassificationNotSet &lt;int&gt; |\n",
       "|---|---|---|\n",
       "| Scotland | 892 | 28 |\n",
       "| England  |  24 | 24 |\n",
       "| Wales    |   2 |  2 |\n",
       "| Other    |  84 | 84 |\n",
       "\n"
      ],
      "text/plain": [
       "  Country  NoOfCentres URClassificationNotSet\n",
       "1 Scotland 892         28                    \n",
       "2 England   24         24                    \n",
       "3 Wales      2          2                    \n",
       "4 Other     84         84                    "
      ]
     },
     "metadata": {},
     "output_type": "display_data"
    }
   ],
   "source": [
    "centre_postcodes <- centre_postcodes %>%\n",
    "    left_join(sg_urban_rural_classification_postcode_lookup %>%\n",
    "                  filter(is.na(DelDate)) %>%\n",
    "                  select(- c(DelDate, LinkPostcode))\n",
    "             ) %>%\n",
    "    mutate(across(Postcode, as.character), \n",
    "           across(Postcode, as.factor)) %>%\n",
    "\n",
    "    glimpse()\n",
    "\n",
    "\n",
    "centre_postcodes %>%\n",
    "    count(Country) %>%\n",
    "    rename(NoOfCentres = n) %>%\n",
    "    \n",
    "    full_join(centre_postcodes %>%\n",
    "                filter(if_any(starts_with(\"UrbanRural\"), is.na)) %>%\n",
    "                count(Country) %>%\n",
    "                rename(URClassificationNotSet = n)\n",
    "    )"
   ]
  },
  {
   "cell_type": "code",
   "execution_count": 39,
   "metadata": {},
   "outputs": [
    {
     "data": {
      "text/html": [
       "<table class=\"dataframe\">\n",
       "<caption>A tibble: 28 × 10</caption>\n",
       "<thead>\n",
       "\t<tr><th scope=col>Centre</th><th scope=col>CentreName</th><th scope=col>Postcode</th><th scope=col>EducationAuthority</th><th scope=col>GeoArea</th><th scope=col>Country</th><th scope=col>UrbanRural2FoldCode</th><th scope=col>UrbanRural3FoldCode</th><th scope=col>UrbanRural6FoldCode</th><th scope=col>UrbanRural8FoldCode</th></tr>\n",
       "\t<tr><th scope=col>&lt;fct&gt;</th><th scope=col>&lt;fct&gt;</th><th scope=col>&lt;fct&gt;</th><th scope=col>&lt;fct&gt;</th><th scope=col>&lt;fct&gt;</th><th scope=col>&lt;fct&gt;</th><th scope=col>&lt;fct&gt;</th><th scope=col>&lt;fct&gt;</th><th scope=col>&lt;fct&gt;</th><th scope=col>&lt;fct&gt;</th></tr>\n",
       "</thead>\n",
       "<tbody>\n",
       "\t<tr><td>1004620</td><td><span style=white-space:pre-wrap>North West Community Campus                           </span></td><td>DG2 9DF </td><td>Dumfries &amp; Galloway Council Education Department</td><td>Dumfries &amp; Galloway</td><td>Scotland</td><td>NA</td><td>NA</td><td>NA</td><td>NA</td></tr>\n",
       "\t<tr><td>1004743</td><td><span style=white-space:pre-wrap>Bertha Park High School                               </span></td><td>PH1 0AU </td><td><span style=white-space:pre-wrap>Perth &amp; Kinross Council Education Department    </span></td><td><span style=white-space:pre-wrap>Perth &amp; Kinross    </span></td><td>Scotland</td><td>NA</td><td>NA</td><td>NA</td><td>NA</td></tr>\n",
       "\t<tr><td>1005405</td><td>Lockhart Campus                                       </td><td>KA20 3JX</td><td>North Ayrshire Council Education Department     </td><td>North Ayrshire     </td><td>Scotland</td><td>NA</td><td>NA</td><td>NA</td><td>NA</td></tr>\n",
       "\t<tr><td>3000451</td><td>Rewards Training                                      </td><td>G2 3BZ  </td><td>NA                                              </td><td>Glasgow City       </td><td>Scotland</td><td>NA</td><td>NA</td><td>NA</td><td>NA</td></tr>\n",
       "\t<tr><td>3001024</td><td>Calder Associates (Scotland) Limited                  </td><td>KY12 OQX</td><td>NA                                              </td><td>Fife               </td><td>Scotland</td><td>NA</td><td>NA</td><td>NA</td><td>NA</td></tr>\n",
       "\t<tr><td>3006166</td><td>Ritchies Training Centre                              </td><td>G21 4AU </td><td>NA                                              </td><td>Glasgow City       </td><td>Scotland</td><td>NA</td><td>NA</td><td>NA</td><td>NA</td></tr>\n",
       "\t<tr><td>3012743</td><td>Fitness Training Scotland                             </td><td>KA1 9GX </td><td>NA                                              </td><td>East Ayrshire      </td><td>Scotland</td><td>NA</td><td>NA</td><td>NA</td><td>NA</td></tr>\n",
       "\t<tr><td>3012808</td><td>Alma Care Training                                    </td><td>G72 6AN </td><td>NA                                              </td><td>South Lanarkshire  </td><td>Scotland</td><td>NA</td><td>NA</td><td>NA</td><td>NA</td></tr>\n",
       "\t<tr><td>3023486</td><td>Lead Scotland                                         </td><td>EH5 2FF </td><td>NA                                              </td><td>City of Edinburgh  </td><td>Scotland</td><td>NA</td><td>NA</td><td>NA</td><td>NA</td></tr>\n",
       "\t<tr><td>4197437</td><td>Training Matters (Scotland) Limited                   </td><td>G52 4RU </td><td>NA                                              </td><td>Glasgow City       </td><td>Scotland</td><td>NA</td><td>NA</td><td>NA</td><td>NA</td></tr>\n",
       "\t<tr><td>5120136</td><td>Alness Academy                                        </td><td>IV17 0WA</td><td>Highland Council Education Department           </td><td>Highland           </td><td>Scotland</td><td>NA</td><td>NA</td><td>NA</td><td>NA</td></tr>\n",
       "\t<tr><td>5135532</td><td>Kinlochleven High School                              </td><td>PH50 4QE</td><td>Highland Council Education Department           </td><td>Highland           </td><td>Scotland</td><td>NA</td><td>NA</td><td>NA</td><td>NA</td></tr>\n",
       "\t<tr><td>5294738</td><td>Aberdeen City Council                                 </td><td>AB15 5PD</td><td>NA                                              </td><td>Aberdeen City      </td><td>Scotland</td><td>NA</td><td>NA</td><td>NA</td><td>NA</td></tr>\n",
       "\t<tr><td>5329531</td><td>Harris Academy                                        </td><td>DD2 1NL </td><td>Dundee City Council Education Department        </td><td>Dundee City        </td><td>Scotland</td><td>NA</td><td>NA</td><td>NA</td><td>NA</td></tr>\n",
       "\t<tr><td>5406331</td><td>Buckhaven High School                                 </td><td>KY8 1HL </td><td>Fife Council Education Department               </td><td>Fife               </td><td>Scotland</td><td>NA</td><td>NA</td><td>NA</td><td>NA</td></tr>\n",
       "\t<tr><td>5426537</td><td>Madras College                                        </td><td>KY16 9BY</td><td>Fife Council Education Department               </td><td>Fife               </td><td>Scotland</td><td>NA</td><td>NA</td><td>NA</td><td>NA</td></tr>\n",
       "\t<tr><td>5502330</td><td>West Calder High School                               </td><td>EH55 8BF</td><td>West Lothian Council Education Department       </td><td>West Lothian       </td><td>Scotland</td><td>NA</td><td>NA</td><td>NA</td><td>NA</td></tr>\n",
       "\t<tr><td>5511844</td><td>Cedarbank School                                      </td><td>EH54 6FW</td><td>West Lothian Council Education Department       </td><td>West Lothian       </td><td>Scotland</td><td>NA</td><td>NA</td><td>NA</td><td>NA</td></tr>\n",
       "\t<tr><td>5546036</td><td>Newbattle High School                                 </td><td>EH22 4SX</td><td>Midlothian Council Education Department         </td><td>Midlothian         </td><td>Scotland</td><td>NA</td><td>NA</td><td>NA</td><td>NA</td></tr>\n",
       "\t<tr><td>5590183</td><td>Midlothian Council - Communities and Lifelong Learning</td><td>EH22 3ZG</td><td>NA                                              </td><td>Midlothian         </td><td>Scotland</td><td>NA</td><td>NA</td><td>NA</td><td>NA</td></tr>\n",
       "\t<tr><td>5592631</td><td>Workers Educational Association                       </td><td>EH5 2FF </td><td>NA                                              </td><td>City of Edinburgh  </td><td>Scotland</td><td>NA</td><td>NA</td><td>NA</td><td>NA</td></tr>\n",
       "\t<tr><td>5939534</td><td><span style=white-space:pre-wrap>North West Community Campus                           </span></td><td>DG2 9DY </td><td>Dumfries &amp; Galloway Council Education Department</td><td>Dumfries &amp; Galloway</td><td>Scotland</td><td>NA</td><td>NA</td><td>NA</td><td>NA</td></tr>\n",
       "\t<tr><td>5940745</td><td><span style=white-space:pre-wrap>Langlands School                                      </span></td><td>DG2 9DF </td><td>Dumfries &amp; Galloway Council Education Department</td><td>Dumfries &amp; Galloway</td><td>Scotland</td><td>NA</td><td>NA</td><td>NA</td><td>NA</td></tr>\n",
       "\t<tr><td>8215839</td><td>Largs Academy                                         </td><td>KA30 9DR</td><td>North Ayrshire Council Education Department     </td><td>North Ayrshire     </td><td>Scotland</td><td>NA</td><td>NA</td><td>NA</td><td>NA</td></tr>\n",
       "\t<tr><td>8461155</td><td>Glasgow Kelvin College City Campus                    </td><td>G4 9LD  </td><td>NA                                              </td><td>Glasgow City       </td><td>Scotland</td><td>NA</td><td>NA</td><td>NA</td><td>NA</td></tr>\n",
       "\t<tr><td>8645434</td><td>St Columba's High School (Gourock)                    </td><td>PA19 1TP</td><td>Inverclyde Council Education Department         </td><td>Inverclyde         </td><td>Scotland</td><td>NA</td><td>NA</td><td>NA</td><td>NA</td></tr>\n",
       "\t<tr><td>8694036</td><td>East Renfrewshire Council                             </td><td>G78 2QY </td><td>NA                                              </td><td>East Renfrewshire  </td><td>Scotland</td><td>NA</td><td>NA</td><td>NA</td><td>NA</td></tr>\n",
       "\t<tr><td>6003230</td><td>Sanday Secondary School                               </td><td>SG19 1BL</td><td>Orkney Islands Council Education Department     </td><td>Orkney Islands     </td><td>Scotland</td><td>NA</td><td>NA</td><td>NA</td><td>NA</td></tr>\n",
       "</tbody>\n",
       "</table>\n"
      ],
      "text/latex": [
       "A tibble: 28 × 10\n",
       "\\begin{tabular}{llllllllll}\n",
       " Centre & CentreName & Postcode & EducationAuthority & GeoArea & Country & UrbanRural2FoldCode & UrbanRural3FoldCode & UrbanRural6FoldCode & UrbanRural8FoldCode\\\\\n",
       " <fct> & <fct> & <fct> & <fct> & <fct> & <fct> & <fct> & <fct> & <fct> & <fct>\\\\\n",
       "\\hline\n",
       "\t 1004620 & North West Community Campus                            & DG2 9DF  & Dumfries \\& Galloway Council Education Department & Dumfries \\& Galloway & Scotland & NA & NA & NA & NA\\\\\n",
       "\t 1004743 & Bertha Park High School                                & PH1 0AU  & Perth \\& Kinross Council Education Department     & Perth \\& Kinross     & Scotland & NA & NA & NA & NA\\\\\n",
       "\t 1005405 & Lockhart Campus                                        & KA20 3JX & North Ayrshire Council Education Department      & North Ayrshire      & Scotland & NA & NA & NA & NA\\\\\n",
       "\t 3000451 & Rewards Training                                       & G2 3BZ   & NA                                               & Glasgow City        & Scotland & NA & NA & NA & NA\\\\\n",
       "\t 3001024 & Calder Associates (Scotland) Limited                   & KY12 OQX & NA                                               & Fife                & Scotland & NA & NA & NA & NA\\\\\n",
       "\t 3006166 & Ritchies Training Centre                               & G21 4AU  & NA                                               & Glasgow City        & Scotland & NA & NA & NA & NA\\\\\n",
       "\t 3012743 & Fitness Training Scotland                              & KA1 9GX  & NA                                               & East Ayrshire       & Scotland & NA & NA & NA & NA\\\\\n",
       "\t 3012808 & Alma Care Training                                     & G72 6AN  & NA                                               & South Lanarkshire   & Scotland & NA & NA & NA & NA\\\\\n",
       "\t 3023486 & Lead Scotland                                          & EH5 2FF  & NA                                               & City of Edinburgh   & Scotland & NA & NA & NA & NA\\\\\n",
       "\t 4197437 & Training Matters (Scotland) Limited                    & G52 4RU  & NA                                               & Glasgow City        & Scotland & NA & NA & NA & NA\\\\\n",
       "\t 5120136 & Alness Academy                                         & IV17 0WA & Highland Council Education Department            & Highland            & Scotland & NA & NA & NA & NA\\\\\n",
       "\t 5135532 & Kinlochleven High School                               & PH50 4QE & Highland Council Education Department            & Highland            & Scotland & NA & NA & NA & NA\\\\\n",
       "\t 5294738 & Aberdeen City Council                                  & AB15 5PD & NA                                               & Aberdeen City       & Scotland & NA & NA & NA & NA\\\\\n",
       "\t 5329531 & Harris Academy                                         & DD2 1NL  & Dundee City Council Education Department         & Dundee City         & Scotland & NA & NA & NA & NA\\\\\n",
       "\t 5406331 & Buckhaven High School                                  & KY8 1HL  & Fife Council Education Department                & Fife                & Scotland & NA & NA & NA & NA\\\\\n",
       "\t 5426537 & Madras College                                         & KY16 9BY & Fife Council Education Department                & Fife                & Scotland & NA & NA & NA & NA\\\\\n",
       "\t 5502330 & West Calder High School                                & EH55 8BF & West Lothian Council Education Department        & West Lothian        & Scotland & NA & NA & NA & NA\\\\\n",
       "\t 5511844 & Cedarbank School                                       & EH54 6FW & West Lothian Council Education Department        & West Lothian        & Scotland & NA & NA & NA & NA\\\\\n",
       "\t 5546036 & Newbattle High School                                  & EH22 4SX & Midlothian Council Education Department          & Midlothian          & Scotland & NA & NA & NA & NA\\\\\n",
       "\t 5590183 & Midlothian Council - Communities and Lifelong Learning & EH22 3ZG & NA                                               & Midlothian          & Scotland & NA & NA & NA & NA\\\\\n",
       "\t 5592631 & Workers Educational Association                        & EH5 2FF  & NA                                               & City of Edinburgh   & Scotland & NA & NA & NA & NA\\\\\n",
       "\t 5939534 & North West Community Campus                            & DG2 9DY  & Dumfries \\& Galloway Council Education Department & Dumfries \\& Galloway & Scotland & NA & NA & NA & NA\\\\\n",
       "\t 5940745 & Langlands School                                       & DG2 9DF  & Dumfries \\& Galloway Council Education Department & Dumfries \\& Galloway & Scotland & NA & NA & NA & NA\\\\\n",
       "\t 8215839 & Largs Academy                                          & KA30 9DR & North Ayrshire Council Education Department      & North Ayrshire      & Scotland & NA & NA & NA & NA\\\\\n",
       "\t 8461155 & Glasgow Kelvin College City Campus                     & G4 9LD   & NA                                               & Glasgow City        & Scotland & NA & NA & NA & NA\\\\\n",
       "\t 8645434 & St Columba's High School (Gourock)                     & PA19 1TP & Inverclyde Council Education Department          & Inverclyde          & Scotland & NA & NA & NA & NA\\\\\n",
       "\t 8694036 & East Renfrewshire Council                              & G78 2QY  & NA                                               & East Renfrewshire   & Scotland & NA & NA & NA & NA\\\\\n",
       "\t 6003230 & Sanday Secondary School                                & SG19 1BL & Orkney Islands Council Education Department      & Orkney Islands      & Scotland & NA & NA & NA & NA\\\\\n",
       "\\end{tabular}\n"
      ],
      "text/markdown": [
       "\n",
       "A tibble: 28 × 10\n",
       "\n",
       "| Centre &lt;fct&gt; | CentreName &lt;fct&gt; | Postcode &lt;fct&gt; | EducationAuthority &lt;fct&gt; | GeoArea &lt;fct&gt; | Country &lt;fct&gt; | UrbanRural2FoldCode &lt;fct&gt; | UrbanRural3FoldCode &lt;fct&gt; | UrbanRural6FoldCode &lt;fct&gt; | UrbanRural8FoldCode &lt;fct&gt; |\n",
       "|---|---|---|---|---|---|---|---|---|---|\n",
       "| 1004620 | North West Community Campus                            | DG2 9DF  | Dumfries &amp; Galloway Council Education Department | Dumfries &amp; Galloway | Scotland | NA | NA | NA | NA |\n",
       "| 1004743 | Bertha Park High School                                | PH1 0AU  | Perth &amp; Kinross Council Education Department     | Perth &amp; Kinross     | Scotland | NA | NA | NA | NA |\n",
       "| 1005405 | Lockhart Campus                                        | KA20 3JX | North Ayrshire Council Education Department      | North Ayrshire      | Scotland | NA | NA | NA | NA |\n",
       "| 3000451 | Rewards Training                                       | G2 3BZ   | NA                                               | Glasgow City        | Scotland | NA | NA | NA | NA |\n",
       "| 3001024 | Calder Associates (Scotland) Limited                   | KY12 OQX | NA                                               | Fife                | Scotland | NA | NA | NA | NA |\n",
       "| 3006166 | Ritchies Training Centre                               | G21 4AU  | NA                                               | Glasgow City        | Scotland | NA | NA | NA | NA |\n",
       "| 3012743 | Fitness Training Scotland                              | KA1 9GX  | NA                                               | East Ayrshire       | Scotland | NA | NA | NA | NA |\n",
       "| 3012808 | Alma Care Training                                     | G72 6AN  | NA                                               | South Lanarkshire   | Scotland | NA | NA | NA | NA |\n",
       "| 3023486 | Lead Scotland                                          | EH5 2FF  | NA                                               | City of Edinburgh   | Scotland | NA | NA | NA | NA |\n",
       "| 4197437 | Training Matters (Scotland) Limited                    | G52 4RU  | NA                                               | Glasgow City        | Scotland | NA | NA | NA | NA |\n",
       "| 5120136 | Alness Academy                                         | IV17 0WA | Highland Council Education Department            | Highland            | Scotland | NA | NA | NA | NA |\n",
       "| 5135532 | Kinlochleven High School                               | PH50 4QE | Highland Council Education Department            | Highland            | Scotland | NA | NA | NA | NA |\n",
       "| 5294738 | Aberdeen City Council                                  | AB15 5PD | NA                                               | Aberdeen City       | Scotland | NA | NA | NA | NA |\n",
       "| 5329531 | Harris Academy                                         | DD2 1NL  | Dundee City Council Education Department         | Dundee City         | Scotland | NA | NA | NA | NA |\n",
       "| 5406331 | Buckhaven High School                                  | KY8 1HL  | Fife Council Education Department                | Fife                | Scotland | NA | NA | NA | NA |\n",
       "| 5426537 | Madras College                                         | KY16 9BY | Fife Council Education Department                | Fife                | Scotland | NA | NA | NA | NA |\n",
       "| 5502330 | West Calder High School                                | EH55 8BF | West Lothian Council Education Department        | West Lothian        | Scotland | NA | NA | NA | NA |\n",
       "| 5511844 | Cedarbank School                                       | EH54 6FW | West Lothian Council Education Department        | West Lothian        | Scotland | NA | NA | NA | NA |\n",
       "| 5546036 | Newbattle High School                                  | EH22 4SX | Midlothian Council Education Department          | Midlothian          | Scotland | NA | NA | NA | NA |\n",
       "| 5590183 | Midlothian Council - Communities and Lifelong Learning | EH22 3ZG | NA                                               | Midlothian          | Scotland | NA | NA | NA | NA |\n",
       "| 5592631 | Workers Educational Association                        | EH5 2FF  | NA                                               | City of Edinburgh   | Scotland | NA | NA | NA | NA |\n",
       "| 5939534 | North West Community Campus                            | DG2 9DY  | Dumfries &amp; Galloway Council Education Department | Dumfries &amp; Galloway | Scotland | NA | NA | NA | NA |\n",
       "| 5940745 | Langlands School                                       | DG2 9DF  | Dumfries &amp; Galloway Council Education Department | Dumfries &amp; Galloway | Scotland | NA | NA | NA | NA |\n",
       "| 8215839 | Largs Academy                                          | KA30 9DR | North Ayrshire Council Education Department      | North Ayrshire      | Scotland | NA | NA | NA | NA |\n",
       "| 8461155 | Glasgow Kelvin College City Campus                     | G4 9LD   | NA                                               | Glasgow City        | Scotland | NA | NA | NA | NA |\n",
       "| 8645434 | St Columba's High School (Gourock)                     | PA19 1TP | Inverclyde Council Education Department          | Inverclyde          | Scotland | NA | NA | NA | NA |\n",
       "| 8694036 | East Renfrewshire Council                              | G78 2QY  | NA                                               | East Renfrewshire   | Scotland | NA | NA | NA | NA |\n",
       "| 6003230 | Sanday Secondary School                                | SG19 1BL | Orkney Islands Council Education Department      | Orkney Islands      | Scotland | NA | NA | NA | NA |\n",
       "\n"
      ],
      "text/plain": [
       "   Centre  CentreName                                             Postcode\n",
       "1  1004620 North West Community Campus                            DG2 9DF \n",
       "2  1004743 Bertha Park High School                                PH1 0AU \n",
       "3  1005405 Lockhart Campus                                        KA20 3JX\n",
       "4  3000451 Rewards Training                                       G2 3BZ  \n",
       "5  3001024 Calder Associates (Scotland) Limited                   KY12 OQX\n",
       "6  3006166 Ritchies Training Centre                               G21 4AU \n",
       "7  3012743 Fitness Training Scotland                              KA1 9GX \n",
       "8  3012808 Alma Care Training                                     G72 6AN \n",
       "9  3023486 Lead Scotland                                          EH5 2FF \n",
       "10 4197437 Training Matters (Scotland) Limited                    G52 4RU \n",
       "11 5120136 Alness Academy                                         IV17 0WA\n",
       "12 5135532 Kinlochleven High School                               PH50 4QE\n",
       "13 5294738 Aberdeen City Council                                  AB15 5PD\n",
       "14 5329531 Harris Academy                                         DD2 1NL \n",
       "15 5406331 Buckhaven High School                                  KY8 1HL \n",
       "16 5426537 Madras College                                         KY16 9BY\n",
       "17 5502330 West Calder High School                                EH55 8BF\n",
       "18 5511844 Cedarbank School                                       EH54 6FW\n",
       "19 5546036 Newbattle High School                                  EH22 4SX\n",
       "20 5590183 Midlothian Council - Communities and Lifelong Learning EH22 3ZG\n",
       "21 5592631 Workers Educational Association                        EH5 2FF \n",
       "22 5939534 North West Community Campus                            DG2 9DY \n",
       "23 5940745 Langlands School                                       DG2 9DF \n",
       "24 8215839 Largs Academy                                          KA30 9DR\n",
       "25 8461155 Glasgow Kelvin College City Campus                     G4 9LD  \n",
       "26 8645434 St Columba's High School (Gourock)                     PA19 1TP\n",
       "27 8694036 East Renfrewshire Council                              G78 2QY \n",
       "28 6003230 Sanday Secondary School                                SG19 1BL\n",
       "   EducationAuthority                               GeoArea            \n",
       "1  Dumfries & Galloway Council Education Department Dumfries & Galloway\n",
       "2  Perth & Kinross Council Education Department     Perth & Kinross    \n",
       "3  North Ayrshire Council Education Department      North Ayrshire     \n",
       "4  NA                                               Glasgow City       \n",
       "5  NA                                               Fife               \n",
       "6  NA                                               Glasgow City       \n",
       "7  NA                                               East Ayrshire      \n",
       "8  NA                                               South Lanarkshire  \n",
       "9  NA                                               City of Edinburgh  \n",
       "10 NA                                               Glasgow City       \n",
       "11 Highland Council Education Department            Highland           \n",
       "12 Highland Council Education Department            Highland           \n",
       "13 NA                                               Aberdeen City      \n",
       "14 Dundee City Council Education Department         Dundee City        \n",
       "15 Fife Council Education Department                Fife               \n",
       "16 Fife Council Education Department                Fife               \n",
       "17 West Lothian Council Education Department        West Lothian       \n",
       "18 West Lothian Council Education Department        West Lothian       \n",
       "19 Midlothian Council Education Department          Midlothian         \n",
       "20 NA                                               Midlothian         \n",
       "21 NA                                               City of Edinburgh  \n",
       "22 Dumfries & Galloway Council Education Department Dumfries & Galloway\n",
       "23 Dumfries & Galloway Council Education Department Dumfries & Galloway\n",
       "24 North Ayrshire Council Education Department      North Ayrshire     \n",
       "25 NA                                               Glasgow City       \n",
       "26 Inverclyde Council Education Department          Inverclyde         \n",
       "27 NA                                               East Renfrewshire  \n",
       "28 Orkney Islands Council Education Department      Orkney Islands     \n",
       "   Country  UrbanRural2FoldCode UrbanRural3FoldCode UrbanRural6FoldCode\n",
       "1  Scotland NA                  NA                  NA                 \n",
       "2  Scotland NA                  NA                  NA                 \n",
       "3  Scotland NA                  NA                  NA                 \n",
       "4  Scotland NA                  NA                  NA                 \n",
       "5  Scotland NA                  NA                  NA                 \n",
       "6  Scotland NA                  NA                  NA                 \n",
       "7  Scotland NA                  NA                  NA                 \n",
       "8  Scotland NA                  NA                  NA                 \n",
       "9  Scotland NA                  NA                  NA                 \n",
       "10 Scotland NA                  NA                  NA                 \n",
       "11 Scotland NA                  NA                  NA                 \n",
       "12 Scotland NA                  NA                  NA                 \n",
       "13 Scotland NA                  NA                  NA                 \n",
       "14 Scotland NA                  NA                  NA                 \n",
       "15 Scotland NA                  NA                  NA                 \n",
       "16 Scotland NA                  NA                  NA                 \n",
       "17 Scotland NA                  NA                  NA                 \n",
       "18 Scotland NA                  NA                  NA                 \n",
       "19 Scotland NA                  NA                  NA                 \n",
       "20 Scotland NA                  NA                  NA                 \n",
       "21 Scotland NA                  NA                  NA                 \n",
       "22 Scotland NA                  NA                  NA                 \n",
       "23 Scotland NA                  NA                  NA                 \n",
       "24 Scotland NA                  NA                  NA                 \n",
       "25 Scotland NA                  NA                  NA                 \n",
       "26 Scotland NA                  NA                  NA                 \n",
       "27 Scotland NA                  NA                  NA                 \n",
       "28 Scotland NA                  NA                  NA                 \n",
       "   UrbanRural8FoldCode\n",
       "1  NA                 \n",
       "2  NA                 \n",
       "3  NA                 \n",
       "4  NA                 \n",
       "5  NA                 \n",
       "6  NA                 \n",
       "7  NA                 \n",
       "8  NA                 \n",
       "9  NA                 \n",
       "10 NA                 \n",
       "11 NA                 \n",
       "12 NA                 \n",
       "13 NA                 \n",
       "14 NA                 \n",
       "15 NA                 \n",
       "16 NA                 \n",
       "17 NA                 \n",
       "18 NA                 \n",
       "19 NA                 \n",
       "20 NA                 \n",
       "21 NA                 \n",
       "22 NA                 \n",
       "23 NA                 \n",
       "24 NA                 \n",
       "25 NA                 \n",
       "26 NA                 \n",
       "27 NA                 \n",
       "28 NA                 "
      ]
     },
     "metadata": {},
     "output_type": "display_data"
    }
   ],
   "source": [
    "centre_postcodes %>%\n",
    "    filter((Country == \"Scotland\") & if_any(starts_with(\"UrbanRural\"), is.na)) \n",
    "    "
   ]
  },
  {
   "cell_type": "code",
   "execution_count": 40,
   "metadata": {
    "scrolled": false
   },
   "outputs": [
    {
     "data": {
      "text/html": [
       "<table class=\"dataframe\">\n",
       "<caption>A tibble: 13 × 7</caption>\n",
       "<thead>\n",
       "\t<tr><th scope=col>Postcode</th><th scope=col>DelDate</th><th scope=col>LinkPostcode</th><th scope=col>UrbanRural2FoldCode</th><th scope=col>UrbanRural3FoldCode</th><th scope=col>UrbanRural6FoldCode</th><th scope=col>UrbanRural8FoldCode</th></tr>\n",
       "\t<tr><th scope=col>&lt;fct&gt;</th><th scope=col>&lt;fct&gt;</th><th scope=col>&lt;fct&gt;</th><th scope=col>&lt;fct&gt;</th><th scope=col>&lt;fct&gt;</th><th scope=col>&lt;fct&gt;</th><th scope=col>&lt;fct&gt;</th></tr>\n",
       "</thead>\n",
       "<tbody>\n",
       "\t<tr><td>AB15 5PD</td><td>09/07/2015</td><td>NA      </td><td>1</td><td>1</td><td>1</td><td>1</td></tr>\n",
       "\t<tr><td>DD2 1NL </td><td>09/07/2015</td><td>DD2 1NJ </td><td>1</td><td>1</td><td>1</td><td>1</td></tr>\n",
       "\t<tr><td>DG2 9DY </td><td>01/09/1995</td><td>DG2 9DX </td><td>1</td><td>1</td><td>2</td><td>2</td></tr>\n",
       "\t<tr><td>G2 3BZ  </td><td>09/07/2015</td><td>NA      </td><td>1</td><td>1</td><td>1</td><td>1</td></tr>\n",
       "\t<tr><td>G21 4AU </td><td>19/07/2016</td><td>G21 4AQ </td><td>1</td><td>1</td><td>1</td><td>1</td></tr>\n",
       "\t<tr><td>G4 9LD  </td><td>19/10/2016</td><td>G4 9LH  </td><td>1</td><td>1</td><td>1</td><td>1</td></tr>\n",
       "\t<tr><td>G52 4RU </td><td>03/06/2008</td><td>NA      </td><td>1</td><td>1</td><td>1</td><td>1</td></tr>\n",
       "\t<tr><td>G78 2QY </td><td>17/10/2013</td><td>G78 2RA </td><td>1</td><td>1</td><td>2</td><td>2</td></tr>\n",
       "\t<tr><td>IV17 0WA</td><td>23/01/2002</td><td>IV17 0PB</td><td>1</td><td>1</td><td>4</td><td>4</td></tr>\n",
       "\t<tr><td>KY16 9BY</td><td>01/07/1992</td><td>KY16 9BX</td><td>1</td><td>1</td><td>2</td><td>2</td></tr>\n",
       "\t<tr><td>KY8 1HL </td><td>19/10/2016</td><td>KY8 1EA </td><td>1</td><td>1</td><td>2</td><td>2</td></tr>\n",
       "\t<tr><td>PA19 1TP</td><td>13/10/2011</td><td>PA19 1TN</td><td>1</td><td>1</td><td>2</td><td>2</td></tr>\n",
       "\t<tr><td>PH50 4QE</td><td>01/10/2008</td><td>PH50 4QL</td><td>2</td><td>3</td><td>6</td><td>7</td></tr>\n",
       "</tbody>\n",
       "</table>\n"
      ],
      "text/latex": [
       "A tibble: 13 × 7\n",
       "\\begin{tabular}{lllllll}\n",
       " Postcode & DelDate & LinkPostcode & UrbanRural2FoldCode & UrbanRural3FoldCode & UrbanRural6FoldCode & UrbanRural8FoldCode\\\\\n",
       " <fct> & <fct> & <fct> & <fct> & <fct> & <fct> & <fct>\\\\\n",
       "\\hline\n",
       "\t AB15 5PD & 09/07/2015 & NA       & 1 & 1 & 1 & 1\\\\\n",
       "\t DD2 1NL  & 09/07/2015 & DD2 1NJ  & 1 & 1 & 1 & 1\\\\\n",
       "\t DG2 9DY  & 01/09/1995 & DG2 9DX  & 1 & 1 & 2 & 2\\\\\n",
       "\t G2 3BZ   & 09/07/2015 & NA       & 1 & 1 & 1 & 1\\\\\n",
       "\t G21 4AU  & 19/07/2016 & G21 4AQ  & 1 & 1 & 1 & 1\\\\\n",
       "\t G4 9LD   & 19/10/2016 & G4 9LH   & 1 & 1 & 1 & 1\\\\\n",
       "\t G52 4RU  & 03/06/2008 & NA       & 1 & 1 & 1 & 1\\\\\n",
       "\t G78 2QY  & 17/10/2013 & G78 2RA  & 1 & 1 & 2 & 2\\\\\n",
       "\t IV17 0WA & 23/01/2002 & IV17 0PB & 1 & 1 & 4 & 4\\\\\n",
       "\t KY16 9BY & 01/07/1992 & KY16 9BX & 1 & 1 & 2 & 2\\\\\n",
       "\t KY8 1HL  & 19/10/2016 & KY8 1EA  & 1 & 1 & 2 & 2\\\\\n",
       "\t PA19 1TP & 13/10/2011 & PA19 1TN & 1 & 1 & 2 & 2\\\\\n",
       "\t PH50 4QE & 01/10/2008 & PH50 4QL & 2 & 3 & 6 & 7\\\\\n",
       "\\end{tabular}\n"
      ],
      "text/markdown": [
       "\n",
       "A tibble: 13 × 7\n",
       "\n",
       "| Postcode &lt;fct&gt; | DelDate &lt;fct&gt; | LinkPostcode &lt;fct&gt; | UrbanRural2FoldCode &lt;fct&gt; | UrbanRural3FoldCode &lt;fct&gt; | UrbanRural6FoldCode &lt;fct&gt; | UrbanRural8FoldCode &lt;fct&gt; |\n",
       "|---|---|---|---|---|---|---|\n",
       "| AB15 5PD | 09/07/2015 | NA       | 1 | 1 | 1 | 1 |\n",
       "| DD2 1NL  | 09/07/2015 | DD2 1NJ  | 1 | 1 | 1 | 1 |\n",
       "| DG2 9DY  | 01/09/1995 | DG2 9DX  | 1 | 1 | 2 | 2 |\n",
       "| G2 3BZ   | 09/07/2015 | NA       | 1 | 1 | 1 | 1 |\n",
       "| G21 4AU  | 19/07/2016 | G21 4AQ  | 1 | 1 | 1 | 1 |\n",
       "| G4 9LD   | 19/10/2016 | G4 9LH   | 1 | 1 | 1 | 1 |\n",
       "| G52 4RU  | 03/06/2008 | NA       | 1 | 1 | 1 | 1 |\n",
       "| G78 2QY  | 17/10/2013 | G78 2RA  | 1 | 1 | 2 | 2 |\n",
       "| IV17 0WA | 23/01/2002 | IV17 0PB | 1 | 1 | 4 | 4 |\n",
       "| KY16 9BY | 01/07/1992 | KY16 9BX | 1 | 1 | 2 | 2 |\n",
       "| KY8 1HL  | 19/10/2016 | KY8 1EA  | 1 | 1 | 2 | 2 |\n",
       "| PA19 1TP | 13/10/2011 | PA19 1TN | 1 | 1 | 2 | 2 |\n",
       "| PH50 4QE | 01/10/2008 | PH50 4QL | 2 | 3 | 6 | 7 |\n",
       "\n"
      ],
      "text/plain": [
       "   Postcode DelDate    LinkPostcode UrbanRural2FoldCode UrbanRural3FoldCode\n",
       "1  AB15 5PD 09/07/2015 NA           1                   1                  \n",
       "2  DD2 1NL  09/07/2015 DD2 1NJ      1                   1                  \n",
       "3  DG2 9DY  01/09/1995 DG2 9DX      1                   1                  \n",
       "4  G2 3BZ   09/07/2015 NA           1                   1                  \n",
       "5  G21 4AU  19/07/2016 G21 4AQ      1                   1                  \n",
       "6  G4 9LD   19/10/2016 G4 9LH       1                   1                  \n",
       "7  G52 4RU  03/06/2008 NA           1                   1                  \n",
       "8  G78 2QY  17/10/2013 G78 2RA      1                   1                  \n",
       "9  IV17 0WA 23/01/2002 IV17 0PB     1                   1                  \n",
       "10 KY16 9BY 01/07/1992 KY16 9BX     1                   1                  \n",
       "11 KY8 1HL  19/10/2016 KY8 1EA      1                   1                  \n",
       "12 PA19 1TP 13/10/2011 PA19 1TN     1                   1                  \n",
       "13 PH50 4QE 01/10/2008 PH50 4QL     2                   3                  \n",
       "   UrbanRural6FoldCode UrbanRural8FoldCode\n",
       "1  1                   1                  \n",
       "2  1                   1                  \n",
       "3  2                   2                  \n",
       "4  1                   1                  \n",
       "5  1                   1                  \n",
       "6  1                   1                  \n",
       "7  1                   1                  \n",
       "8  2                   2                  \n",
       "9  4                   4                  \n",
       "10 2                   2                  \n",
       "11 2                   2                  \n",
       "12 2                   2                  \n",
       "13 6                   7                  "
      ]
     },
     "metadata": {},
     "output_type": "display_data"
    }
   ],
   "source": [
    "sg_urban_rural_classification_postcode_lookup %>%\n",
    "    filter(Postcode %in% \n",
    "              (centre_postcodes %>%\n",
    "                filter(if_any(starts_with(\"UrbanRural\"), is.na)) %>%\n",
    "                distinct(Postcode) %>%\n",
    "                deframe() %>%\n",
    "                as.character()  \n",
    "              ))"
   ]
  },
  {
   "cell_type": "code",
   "execution_count": 41,
   "metadata": {},
   "outputs": [
    {
     "data": {
      "text/html": [
       "28"
      ],
      "text/latex": [
       "28"
      ],
      "text/markdown": [
       "28"
      ],
      "text/plain": [
       "[1] 28"
      ]
     },
     "metadata": {},
     "output_type": "display_data"
    },
    {
     "data": {
      "text/html": [
       "864"
      ],
      "text/latex": [
       "864"
      ],
      "text/markdown": [
       "864"
      ],
      "text/plain": [
       "[1] 864"
      ]
     },
     "metadata": {},
     "output_type": "display_data"
    },
    {
     "data": {
      "text/html": [
       "864"
      ],
      "text/latex": [
       "864"
      ],
      "text/markdown": [
       "864"
      ],
      "text/plain": [
       "[1] 864"
      ]
     },
     "metadata": {},
     "output_type": "display_data"
    },
    {
     "data": {
      "text/html": [
       "<style>\n",
       ".list-inline {list-style: none; margin:0; padding: 0}\n",
       ".list-inline>li {display: inline-block}\n",
       ".list-inline>li:not(:last-child)::after {content: \"\\00b7\"; padding: 0 .5ex}\n",
       "</style>\n",
       "<ol class=list-inline><li>1002</li><li>10</li></ol>\n"
      ],
      "text/latex": [
       "\\begin{enumerate*}\n",
       "\\item 1002\n",
       "\\item 10\n",
       "\\end{enumerate*}\n"
      ],
      "text/markdown": [
       "1. 1002\n",
       "2. 10\n",
       "\n",
       "\n"
      ],
      "text/plain": [
       "[1] 1002   10"
      ]
     },
     "metadata": {},
     "output_type": "display_data"
    }
   ],
   "source": [
    "centre_postcodes %>%\n",
    "    filter((Country == \"Scotland\") & if_any(starts_with(\"UrbanRural\"), is.na)) %>%\n",
    "    nrow()\n",
    "\n",
    "centre_postcodes %>%\n",
    "    filter((Country == \"Scotland\") & !(if_any(starts_with(\"UrbanRural\"), is.na))) %>% \n",
    "    nrow()\n",
    "\n",
    "centre_postcodes %>%\n",
    "    filter((Country == \"Scotland\") & if_all(starts_with(\"UrbanRural\"), ~ !is.na(.))) %>%\n",
    "    nrow()\n",
    "\n",
    "\n",
    "dim(centre_postcodes)"
   ]
  },
  {
   "cell_type": "code",
   "execution_count": 42,
   "metadata": {},
   "outputs": [
    {
     "name": "stderr",
     "output_type": "stream",
     "text": [
      "Joining, by = \"Postcode\"\n",
      "Joining, by = \"Postcode\"\n"
     ]
    },
    {
     "name": "stdout",
     "output_type": "stream",
     "text": [
      "Rows: 1,002\n",
      "Columns: 11\n",
      "$ Centre              \u001b[3m\u001b[90m<fct>\u001b[39m\u001b[23m 1000144, 1001930, 1002732, 1002759, 1002856, 10029…\n",
      "$ CentreName          \u001b[3m\u001b[90m<fct>\u001b[39m\u001b[23m \"Firpark Secondary School\", \"Buchanan High School\"…\n",
      "$ Postcode            \u001b[3m\u001b[90m<fct>\u001b[39m\u001b[23m ML1 2PR, ML5 2HT, G67 2UF, KA13 6DE, DD3 8LE, EH11…\n",
      "$ EducationAuthority  \u001b[3m\u001b[90m<fct>\u001b[39m\u001b[23m North Lanarkshire Council Education Department, No…\n",
      "$ GeoArea             \u001b[3m\u001b[90m<fct>\u001b[39m\u001b[23m North Lanarkshire, North Lanarkshire, North Lanark…\n",
      "$ Country             \u001b[3m\u001b[90m<fct>\u001b[39m\u001b[23m Scotland, Scotland, Scotland, Scotland, Scotland, …\n",
      "$ UrbanRural2FoldCode \u001b[3m\u001b[90m<fct>\u001b[39m\u001b[23m 1, 1, 1, 1, 1, 1, 1, 1, 1, 1, 1, 2, 1, 1, 1, 1, 1,…\n",
      "$ UrbanRural3FoldCode \u001b[3m\u001b[90m<fct>\u001b[39m\u001b[23m 1, 1, 1, 1, 1, 1, 1, 1, 1, 1, 1, 2, 1, 1, 1, 1, 1,…\n",
      "$ UrbanRural6FoldCode \u001b[3m\u001b[90m<fct>\u001b[39m\u001b[23m 2, 2, 2, 2, 1, 1, 2, 1, 1, 1, 2, 5, 2, 1, 2, 1, 1,…\n",
      "$ UrbanRural8FoldCode \u001b[3m\u001b[90m<fct>\u001b[39m\u001b[23m 2, 2, 2, 2, 1, 1, 2, 1, 1, 1, 2, 6, 2, 1, 2, 1, 1,…\n",
      "$ LinkPostcode        \u001b[3m\u001b[90m<fct>\u001b[39m\u001b[23m NA, NA, NA, NA, NA, NA, NA, NA, NA, NA, NA, NA, NA…\n"
     ]
    },
    {
     "data": {
      "text/html": [
       "965"
      ],
      "text/latex": [
       "965"
      ],
      "text/markdown": [
       "965"
      ],
      "text/plain": [
       "[1] 965"
      ]
     },
     "metadata": {},
     "output_type": "display_data"
    },
    {
     "name": "stderr",
     "output_type": "stream",
     "text": [
      "Joining, by = \"Country\"\n"
     ]
    },
    {
     "data": {
      "text/html": [
       "<table class=\"dataframe\">\n",
       "<caption>A tibble: 4 × 3</caption>\n",
       "<thead>\n",
       "\t<tr><th scope=col>Country</th><th scope=col>NoOfCentres</th><th scope=col>URClassificationNotSet</th></tr>\n",
       "\t<tr><th scope=col>&lt;fct&gt;</th><th scope=col>&lt;int&gt;</th><th scope=col>&lt;int&gt;</th></tr>\n",
       "</thead>\n",
       "<tbody>\n",
       "\t<tr><td>Scotland</td><td>892</td><td>18</td></tr>\n",
       "\t<tr><td>England </td><td> 24</td><td>24</td></tr>\n",
       "\t<tr><td>Wales   </td><td>  2</td><td> 2</td></tr>\n",
       "\t<tr><td>Other   </td><td> 84</td><td>84</td></tr>\n",
       "</tbody>\n",
       "</table>\n"
      ],
      "text/latex": [
       "A tibble: 4 × 3\n",
       "\\begin{tabular}{lll}\n",
       " Country & NoOfCentres & URClassificationNotSet\\\\\n",
       " <fct> & <int> & <int>\\\\\n",
       "\\hline\n",
       "\t Scotland & 892 & 18\\\\\n",
       "\t England  &  24 & 24\\\\\n",
       "\t Wales    &   2 &  2\\\\\n",
       "\t Other    &  84 & 84\\\\\n",
       "\\end{tabular}\n"
      ],
      "text/markdown": [
       "\n",
       "A tibble: 4 × 3\n",
       "\n",
       "| Country &lt;fct&gt; | NoOfCentres &lt;int&gt; | URClassificationNotSet &lt;int&gt; |\n",
       "|---|---|---|\n",
       "| Scotland | 892 | 18 |\n",
       "| England  |  24 | 24 |\n",
       "| Wales    |   2 |  2 |\n",
       "| Other    |  84 | 84 |\n",
       "\n"
      ],
      "text/plain": [
       "  Country  NoOfCentres URClassificationNotSet\n",
       "1 Scotland 892         18                    \n",
       "2 England   24         24                    \n",
       "3 Wales      2          2                    \n",
       "4 Other     84         84                    "
      ]
     },
     "metadata": {},
     "output_type": "display_data"
    }
   ],
   "source": [
    "centre_postcodes <- centre_postcodes %>%\n",
    "    filter((Country != \"Scotland\") | if_all(starts_with(\"UrbanRural\"), ~ !is.na(.))) %>%\n",
    "\n",
    "    bind_rows(centre_postcodes %>%\n",
    "                filter((Country == \"Scotland\") & if_any(starts_with(\"UrbanRural\"), is.na)) %>%\n",
    "                select(- starts_with(\"UrbanRural\")) %>%\n",
    "\n",
    "                left_join(centre_postcodes %>%\n",
    "                            filter((Country == \"Scotland\") & if_any(starts_with(\"UrbanRural\"), is.na)) %>%\n",
    "                            distinct(Postcode) %>%\n",
    "\n",
    "                            left_join(sg_urban_rural_classification_postcode_lookup %>%\n",
    "                                          filter(!is.na(DelDate)) %>%\n",
    "                                          select(Postcode, LinkPostcode)) %>%\n",
    "\n",
    "                            left_join(sg_urban_rural_classification_postcode_lookup %>%\n",
    "                                          filter(is.na(DelDate)) %>%\n",
    "                                          select(Postcode, matches(\"UrbanRural\")),\n",
    "                                      by = c(\"LinkPostcode\" = \"Postcode\")) \n",
    "                          )\n",
    "                 ) %>%\n",
    "    glimpse()\n",
    "\n",
    "length(levels(centre_postcodes$Postcode))\n",
    "\n",
    "\n",
    "centre_postcodes %>%\n",
    "    count(Country) %>%\n",
    "    rename(NoOfCentres = n) %>%\n",
    "    \n",
    "    full_join(centre_postcodes %>%\n",
    "                filter(if_any(starts_with(\"UrbanRural\"), is.na)) %>%\n",
    "                count(Country) %>%\n",
    "                rename(URClassificationNotSet = n)\n",
    "    )"
   ]
  },
  {
   "cell_type": "code",
   "execution_count": 43,
   "metadata": {},
   "outputs": [
    {
     "data": {
      "text/html": [
       "<table class=\"dataframe\">\n",
       "<caption>A tibble: 9 × 4</caption>\n",
       "<thead>\n",
       "\t<tr><th scope=col>UrbanRural2FoldCode</th><th scope=col>UrbanRural3FoldCode</th><th scope=col>UrbanRural6FoldCode</th><th scope=col>UrbanRural8FoldCode</th></tr>\n",
       "\t<tr><th scope=col>&lt;fct&gt;</th><th scope=col>&lt;fct&gt;</th><th scope=col>&lt;fct&gt;</th><th scope=col>&lt;fct&gt;</th></tr>\n",
       "</thead>\n",
       "<tbody>\n",
       "\t<tr><td>1 </td><td>1 </td><td>1 </td><td>1 </td></tr>\n",
       "\t<tr><td>1 </td><td>1 </td><td>2 </td><td>2 </td></tr>\n",
       "\t<tr><td>1 </td><td>1 </td><td>3 </td><td>3 </td></tr>\n",
       "\t<tr><td>1 </td><td>1 </td><td>4 </td><td>4 </td></tr>\n",
       "\t<tr><td>1 </td><td>1 </td><td>4 </td><td>5 </td></tr>\n",
       "\t<tr><td>2 </td><td>2 </td><td>5 </td><td>6 </td></tr>\n",
       "\t<tr><td>2 </td><td>3 </td><td>6 </td><td>7 </td></tr>\n",
       "\t<tr><td>2 </td><td>3 </td><td>6 </td><td>8 </td></tr>\n",
       "\t<tr><td>NA</td><td>NA</td><td>NA</td><td>NA</td></tr>\n",
       "</tbody>\n",
       "</table>\n"
      ],
      "text/latex": [
       "A tibble: 9 × 4\n",
       "\\begin{tabular}{llll}\n",
       " UrbanRural2FoldCode & UrbanRural3FoldCode & UrbanRural6FoldCode & UrbanRural8FoldCode\\\\\n",
       " <fct> & <fct> & <fct> & <fct>\\\\\n",
       "\\hline\n",
       "\t 1  & 1  & 1  & 1 \\\\\n",
       "\t 1  & 1  & 2  & 2 \\\\\n",
       "\t 1  & 1  & 3  & 3 \\\\\n",
       "\t 1  & 1  & 4  & 4 \\\\\n",
       "\t 1  & 1  & 4  & 5 \\\\\n",
       "\t 2  & 2  & 5  & 6 \\\\\n",
       "\t 2  & 3  & 6  & 7 \\\\\n",
       "\t 2  & 3  & 6  & 8 \\\\\n",
       "\t NA & NA & NA & NA\\\\\n",
       "\\end{tabular}\n"
      ],
      "text/markdown": [
       "\n",
       "A tibble: 9 × 4\n",
       "\n",
       "| UrbanRural2FoldCode &lt;fct&gt; | UrbanRural3FoldCode &lt;fct&gt; | UrbanRural6FoldCode &lt;fct&gt; | UrbanRural8FoldCode &lt;fct&gt; |\n",
       "|---|---|---|---|\n",
       "| 1  | 1  | 1  | 1  |\n",
       "| 1  | 1  | 2  | 2  |\n",
       "| 1  | 1  | 3  | 3  |\n",
       "| 1  | 1  | 4  | 4  |\n",
       "| 1  | 1  | 4  | 5  |\n",
       "| 2  | 2  | 5  | 6  |\n",
       "| 2  | 3  | 6  | 7  |\n",
       "| 2  | 3  | 6  | 8  |\n",
       "| NA | NA | NA | NA |\n",
       "\n"
      ],
      "text/plain": [
       "  UrbanRural2FoldCode UrbanRural3FoldCode UrbanRural6FoldCode\n",
       "1 1                   1                   1                  \n",
       "2 1                   1                   2                  \n",
       "3 1                   1                   3                  \n",
       "4 1                   1                   4                  \n",
       "5 1                   1                   4                  \n",
       "6 2                   2                   5                  \n",
       "7 2                   3                   6                  \n",
       "8 2                   3                   6                  \n",
       "9 NA                  NA                  NA                 \n",
       "  UrbanRural8FoldCode\n",
       "1 1                  \n",
       "2 2                  \n",
       "3 3                  \n",
       "4 4                  \n",
       "5 5                  \n",
       "6 6                  \n",
       "7 7                  \n",
       "8 8                  \n",
       "9 NA                 "
      ]
     },
     "metadata": {},
     "output_type": "display_data"
    }
   ],
   "source": [
    "\n",
    "centre_postcodes %>%\n",
    "    distinct(across(matches(\"UrbanRural\\\\dFoldCode\"))) %>%\n",
    "    arrange(UrbanRural8FoldCode)"
   ]
  },
  {
   "cell_type": "code",
   "execution_count": null,
   "metadata": {},
   "outputs": [],
   "source": []
  },
  {
   "cell_type": "code",
   "execution_count": 44,
   "metadata": {},
   "outputs": [
    {
     "name": "stderr",
     "output_type": "stream",
     "text": [
      "\u001b[1mRows: \u001b[22m\u001b[34m192894\u001b[39m \u001b[1mColumns: \u001b[22m\u001b[34m57\u001b[39m\n",
      "\u001b[36m──\u001b[39m \u001b[1mColumn specification\u001b[22m \u001b[36m──────────────────────────────────────────────────────────\u001b[39m\n",
      "\u001b[1mDelimiter:\u001b[22m \",\"\n",
      "\u001b[31mchr\u001b[39m (44): Postcode, PostcodeDistrict, PostcodeSector, DateOfIntroduction, Da...\n",
      "\u001b[32mdbl\u001b[39m (13): GridReferenceEasting, GridReferenceNorthing, Latitude, Longitude, ...\n",
      "\n",
      "\u001b[36mℹ\u001b[39m Use `spec()` to retrieve the full column specification for this data.\n",
      "\u001b[36mℹ\u001b[39m Specify the column types or set `show_col_types = FALSE` to quiet this message.\n",
      "\u001b[1mRows: \u001b[22m\u001b[34m49663\u001b[39m \u001b[1mColumns: \u001b[22m\u001b[34m51\u001b[39m\n",
      "\u001b[36m──\u001b[39m \u001b[1mColumn specification\u001b[22m \u001b[36m──────────────────────────────────────────────────────────\u001b[39m\n",
      "\u001b[1mDelimiter:\u001b[22m \",\"\n",
      "\u001b[31mchr\u001b[39m (44): Postcode, PostcodeDistrict, PostcodeSector, DateOfIntroduction, Da...\n",
      "\u001b[32mdbl\u001b[39m  (7): GridReferenceEasting, GridReferenceNorthing, Latitude, Longitude, ...\n",
      "\n",
      "\u001b[36mℹ\u001b[39m Use `spec()` to retrieve the full column specification for this data.\n",
      "\u001b[36mℹ\u001b[39m Specify the column types or set `show_col_types = FALSE` to quiet this message.\n"
     ]
    },
    {
     "name": "stdout",
     "output_type": "stream",
     "text": [
      "Rows: 242,557\n",
      "Columns: 58\n",
      "$ Postcode                                   \u001b[3m\u001b[90m<chr>\u001b[39m\u001b[23m \"G31 2LZ\", \"G31 2NF\", \"G31 …\n",
      "$ PostcodeDistrict                           \u001b[3m\u001b[90m<chr>\u001b[39m\u001b[23m \"G31\", \"G31\", \"G31\", \"G31\",…\n",
      "$ PostcodeSector                             \u001b[3m\u001b[90m<chr>\u001b[39m\u001b[23m \"G31 2\", \"G31 2\", \"G31 2\", …\n",
      "$ DateOfIntroduction                         \u001b[3m\u001b[90m<chr>\u001b[39m\u001b[23m \"1/8/1973 00:00:00\", \"1/12/…\n",
      "$ DateOfDeletion                             \u001b[3m\u001b[90m<chr>\u001b[39m\u001b[23m NA, \"15/4/2010 00:00:00\", N…\n",
      "$ GridReferenceEasting                       \u001b[3m\u001b[90m<dbl>\u001b[39m\u001b[23m 261052, 261015, 261096, 261…\n",
      "$ GridReferenceNorthing                      \u001b[3m\u001b[90m<dbl>\u001b[39m\u001b[23m 665316, 665076, 665491, 665…\n",
      "$ Latitude                                   \u001b[3m\u001b[90m<dbl>\u001b[39m\u001b[23m 55.86095, 55.85878, 55.8625…\n",
      "$ Longitude                                  \u001b[3m\u001b[90m<dbl>\u001b[39m\u001b[23m -4.221647, -4.222114, -4.22…\n",
      "$ SplitIndicator                             \u001b[3m\u001b[90m<chr>\u001b[39m\u001b[23m \"N\", \"N\", \"N\", \"N\", \"N\", \"N…\n",
      "$ CouncilArea2019Code                        \u001b[3m\u001b[90m<chr>\u001b[39m\u001b[23m \"S12000049\", \"S12000049\", \"…\n",
      "$ UKParliamentaryConstituency2005Code        \u001b[3m\u001b[90m<chr>\u001b[39m\u001b[23m \"S14000032\", \"S14000032\", \"…\n",
      "$ ScottishParliamentaryRegion2021Code        \u001b[3m\u001b[90m<chr>\u001b[39m\u001b[23m \"S17000020\", \"S17000020\", \"…\n",
      "$ ScottishParliamentaryConstituency2021Code  \u001b[3m\u001b[90m<chr>\u001b[39m\u001b[23m \"S16000150\", \"S16000150\", \"…\n",
      "$ ElectoralWard2019Code                      \u001b[3m\u001b[90m<chr>\u001b[39m\u001b[23m \"S13002988\", \"S13002988\", \"…\n",
      "$ HealthBoardArea2019Code                    \u001b[3m\u001b[90m<chr>\u001b[39m\u001b[23m \"S08000031\", \"S08000031\", \"…\n",
      "$ HealthBoardArea2006Code                    \u001b[3m\u001b[90m<chr>\u001b[39m\u001b[23m \"S08000007\", \"S08000007\", \"…\n",
      "$ HealthBoardArea1995Code                    \u001b[3m\u001b[90m<chr>\u001b[39m\u001b[23m \"09\", \"09\", \"09\", \"09\", \"09…\n",
      "$ IntegrationAuthority2019Code               \u001b[3m\u001b[90m<chr>\u001b[39m\u001b[23m \"S37000034\", \"S37000034\", \"…\n",
      "$ OutputArea2011Code                         \u001b[3m\u001b[90m<chr>\u001b[39m\u001b[23m \"S00113691\", \"S00117098\", \"…\n",
      "$ OutputArea2001Code                         \u001b[3m\u001b[90m<chr>\u001b[39m\u001b[23m \"S00022800\", \"S00026036\", \"…\n",
      "$ OutputArea1991Code                         \u001b[3m\u001b[90m<chr>\u001b[39m\u001b[23m \"6341CE06C\", \"6341CE04B\", \"…\n",
      "$ DataZone2011Code                           \u001b[3m\u001b[90m<chr>\u001b[39m\u001b[23m \"S01010236\", \"S01010252\", \"…\n",
      "$ DataZone2001Code                           \u001b[3m\u001b[90m<chr>\u001b[39m\u001b[23m \"S01003409\", \"S01003380\", \"…\n",
      "$ IntermediateZone2011Code                   \u001b[3m\u001b[90m<chr>\u001b[39m\u001b[23m \"S02001927\", \"S02001930\", \"…\n",
      "$ IntermediateZone2001Code                   \u001b[3m\u001b[90m<chr>\u001b[39m\u001b[23m \"S02000659\", \"S02000650\", \"…\n",
      "$ CensusHouseholdCount2011                   \u001b[3m\u001b[90m<dbl>\u001b[39m\u001b[23m 9, NA, 27, 10, 70, 75, 41, …\n",
      "$ CensusPopulationCount2011                  \u001b[3m\u001b[90m<dbl>\u001b[39m\u001b[23m 25, NA, 42, 16, 111, 146, 6…\n",
      "$ CensusHouseholdCount2001                   \u001b[3m\u001b[90m<dbl>\u001b[39m\u001b[23m 12, 0, 28, 9, 63, 72, 40, 8…\n",
      "$ CensusPopulationCount2001                  \u001b[3m\u001b[90m<dbl>\u001b[39m\u001b[23m 20, 0, 42, 26, 107, 130, 71…\n",
      "$ CensusHouseholdCount1991                   \u001b[3m\u001b[90m<dbl>\u001b[39m\u001b[23m 34, 0, 21, 9, 54, 15, 39, 2…\n",
      "$ CensusPopulationCount1991                  \u001b[3m\u001b[90m<dbl>\u001b[39m\u001b[23m 44, 0, 40, 26, 107, 42, 60,…\n",
      "$ ScottishIndexOfMultipleDeprivation2020Rank \u001b[3m\u001b[90m<chr>\u001b[39m\u001b[23m \"3012\", \"3172\", \"3012\", \"38…\n",
      "$ LAU2019Level1Code                          \u001b[3m\u001b[90m<chr>\u001b[39m\u001b[23m \"S30000052\", \"S30000052\", \"…\n",
      "$ ITL2021Level2Code                          \u001b[3m\u001b[90m<chr>\u001b[39m\u001b[23m \"TLM8\", \"TLM8\", \"TLM8\", \"TL…\n",
      "$ ITL2021Level3Code                          \u001b[3m\u001b[90m<chr>\u001b[39m\u001b[23m \"TLM82\", \"TLM82\", \"TLM82\", …\n",
      "$ Locality2016Code                           \u001b[3m\u001b[90m<chr>\u001b[39m\u001b[23m \"S19001549\", \"S19001549\", \"…\n",
      "$ Locality2001Code                           \u001b[3m\u001b[90m<chr>\u001b[39m\u001b[23m \"133019\", \"133019\", \"133019…\n",
      "$ Locality1991Code                           \u001b[3m\u001b[90m<chr>\u001b[39m\u001b[23m \"259\", \"259\", \"259\", \"259\",…\n",
      "$ Settlement2016Code                         \u001b[3m\u001b[90m<chr>\u001b[39m\u001b[23m \"S20001250\", \"S20001250\", \"…\n",
      "$ Settlement2001Code                         \u001b[3m\u001b[90m<chr>\u001b[39m\u001b[23m \"133\", \"133\", \"133\", \"133\",…\n",
      "$ CivilParish1930Code                        \u001b[3m\u001b[90m<chr>\u001b[39m\u001b[23m \"S35000351\", \"S35000351\", \"…\n",
      "$ EnterpriseRegion2008Code                   \u001b[3m\u001b[90m<chr>\u001b[39m\u001b[23m \"S09000006\", \"S09000006\", \"…\n",
      "$ Islands2022Code                            \u001b[3m\u001b[90m<chr>\u001b[39m\u001b[23m \"000\", \"000\", \"000\", \"000\",…\n",
      "$ LocalGovernmentDistrict1995Code            \u001b[3m\u001b[90m<chr>\u001b[39m\u001b[23m \"41\", \"41\", \"41\", \"41\", \"41…\n",
      "$ LocalGovernmentDistrict1991Code            \u001b[3m\u001b[90m<chr>\u001b[39m\u001b[23m \"41\", \"41\", \"41\", \"41\", \"41…\n",
      "$ NationalPark2010Code                       \u001b[3m\u001b[90m<chr>\u001b[39m\u001b[23m NA, NA, NA, NA, NA, NA, NA,…\n",
      "$ RegistrationDistrict2007Code               \u001b[3m\u001b[90m<chr>\u001b[39m\u001b[23m \"S12000049\", \"S12000049\", \"…\n",
      "$ ROACommunityPlanningPartnership2006Code    \u001b[3m\u001b[90m<chr>\u001b[39m\u001b[23m \"S05000015\", NA, \"S05000015…\n",
      "$ ROALocal2006Code                           \u001b[3m\u001b[90m<chr>\u001b[39m\u001b[23m \"S06000074\", NA, \"S06000074…\n",
      "$ StrategicDevelopmentPlanningArea2013Code   \u001b[3m\u001b[90m<chr>\u001b[39m\u001b[23m \"S11000004\", \"S11000004\", \"…\n",
      "$ TravelToWorkArea2011Code                   \u001b[3m\u001b[90m<chr>\u001b[39m\u001b[23m \"S22000065\", \"S22000065\", \"…\n",
      "$ UrbanRural6Fold2016Code                    \u001b[3m\u001b[90m<dbl>\u001b[39m\u001b[23m 1, 1, 1, 1, 1, 1, 1, 1, 1, …\n",
      "$ UrbanRural8Fold2016Code                    \u001b[3m\u001b[90m<dbl>\u001b[39m\u001b[23m 1, 1, 1, 1, 1, 1, 1, 1, 1, …\n",
      "$ GridLinkIndicator                          \u001b[3m\u001b[90m<chr>\u001b[39m\u001b[23m \"Y\", \"N\", \"Y\", \"Y\", \"Y\", \"Y…\n",
      "$ GridLinkPositionalAccuracy                 \u001b[3m\u001b[90m<dbl>\u001b[39m\u001b[23m 1, NA, 1, 1, 1, 1, 1, 1, 1,…\n",
      "$ NeverDigitised                             \u001b[3m\u001b[90m<chr>\u001b[39m\u001b[23m NA, NA, NA, NA, NA, NA, NA,…\n",
      "$ LinkedSmallUserPostcode                    \u001b[3m\u001b[90m<chr>\u001b[39m\u001b[23m NA, NA, NA, NA, NA, NA, NA,…\n"
     ]
    }
   ],
   "source": [
    "postcode_lookup <- read_csv(\"data/postcode_lookup/SmallUser.csv\", trim_ws = TRUE, na = c(\"\", \"NA\")) %>% \n",
    "                                filter(rowSums(is.na(.)) != ncol(.)) %>%\n",
    "\n",
    "    bind_rows(read_csv(\"data/postcode_lookup/LargeUser.csv\", trim_ws = TRUE, na = c(\"\", \"NA\")) %>% \n",
    "                                    filter(rowSums(is.na(.)) != ncol(.))) %>%\n",
    "\n",
    "    glimpse()"
   ]
  },
  {
   "cell_type": "code",
   "execution_count": 45,
   "metadata": {},
   "outputs": [
    {
     "data": {
      "text/html": [
       "<style>\n",
       ".list-inline {list-style: none; margin:0; padding: 0}\n",
       ".list-inline>li {display: inline-block}\n",
       ".list-inline>li:not(:last-child)::after {content: \"\\00b7\"; padding: 0 .5ex}\n",
       "</style>\n",
       "<ol class=list-inline><li>'0001'</li><li>'6976'</li></ol>\n"
      ],
      "text/latex": [
       "\\begin{enumerate*}\n",
       "\\item '0001'\n",
       "\\item '6976'\n",
       "\\end{enumerate*}\n"
      ],
      "text/markdown": [
       "1. '0001'\n",
       "2. '6976'\n",
       "\n",
       "\n"
      ],
      "text/plain": [
       "[1] \"0001\" \"6976\""
      ]
     },
     "metadata": {},
     "output_type": "display_data"
    }
   ],
   "source": [
    "range(postcode_lookup$ScottishIndexOfMultipleDeprivation2020Rank)"
   ]
  },
  {
   "cell_type": "code",
   "execution_count": 46,
   "metadata": {},
   "outputs": [
    {
     "name": "stdout",
     "output_type": "stream",
     "text": [
      "Rows: 242,540\n",
      "Columns: 8\n",
      "$ Postcode                \u001b[3m\u001b[90m<chr>\u001b[39m\u001b[23m \"G31 2LZ\", \"G31 2NF\", \"G31 2NW\", \"G31 2NX\", \"G…\n",
      "$ DateOfDeletion          \u001b[3m\u001b[90m<chr>\u001b[39m\u001b[23m NA, \"15/4/2010 00:00:00\", NA, NA, NA, NA, NA, …\n",
      "$ LinkedSmallUserPostcode \u001b[3m\u001b[90m<chr>\u001b[39m\u001b[23m NA, NA, NA, NA, NA, NA, NA, NA, NA, NA, NA, NA…\n",
      "$ CouncilArea2019Code     \u001b[3m\u001b[90m<fct>\u001b[39m\u001b[23m S12000049, S12000049, S12000049, S12000049, S1…\n",
      "$ Settlement2016Code      \u001b[3m\u001b[90m<fct>\u001b[39m\u001b[23m S20001250, S20001250, S20001250, S20001250, S2…\n",
      "$ SIMD2020Rank            \u001b[3m\u001b[90m<chr>\u001b[39m\u001b[23m \"3012\", \"3172\", \"3012\", \"3887\", \"3665\", \"3665\"…\n",
      "$ UrbanRural6Fold2016Code \u001b[3m\u001b[90m<fct>\u001b[39m\u001b[23m 1, 1, 1, 1, 1, 1, 1, 1, 1, 1, 6, 6, 6, 6, 6, 6…\n",
      "$ UrbanRural8Fold2016Code \u001b[3m\u001b[90m<fct>\u001b[39m\u001b[23m 1, 1, 1, 1, 1, 1, 1, 1, 1, 1, 8, 8, 8, 8, 8, 8…\n"
     ]
    },
    {
     "data": {
      "text/html": [
       "<table class=\"dataframe\">\n",
       "<caption>A tibble: 6 × 8</caption>\n",
       "<thead>\n",
       "\t<tr><th scope=col>Postcode</th><th scope=col>DateOfDeletion</th><th scope=col>LinkedSmallUserPostcode</th><th scope=col>CouncilArea2019Code</th><th scope=col>Settlement2016Code</th><th scope=col>SIMD2020Rank</th><th scope=col>UrbanRural6Fold2016Code</th><th scope=col>UrbanRural8Fold2016Code</th></tr>\n",
       "\t<tr><th scope=col>&lt;chr&gt;</th><th scope=col>&lt;chr&gt;</th><th scope=col>&lt;chr&gt;</th><th scope=col>&lt;fct&gt;</th><th scope=col>&lt;fct&gt;</th><th scope=col>&lt;chr&gt;</th><th scope=col>&lt;fct&gt;</th><th scope=col>&lt;fct&gt;</th></tr>\n",
       "</thead>\n",
       "<tbody>\n",
       "\t<tr><td>G31 2LZ</td><td>NA                </td><td>NA</td><td>S12000049</td><td>S20001250</td><td>3012</td><td>1</td><td>1</td></tr>\n",
       "\t<tr><td>G31 2NF</td><td>15/4/2010 00:00:00</td><td>NA</td><td>S12000049</td><td>S20001250</td><td>3172</td><td>1</td><td>1</td></tr>\n",
       "\t<tr><td>G31 2NW</td><td>NA                </td><td>NA</td><td>S12000049</td><td>S20001250</td><td>3012</td><td>1</td><td>1</td></tr>\n",
       "\t<tr><td>G31 2NX</td><td>NA                </td><td>NA</td><td>S12000049</td><td>S20001250</td><td>3887</td><td>1</td><td>1</td></tr>\n",
       "\t<tr><td>G31 2NY</td><td>NA                </td><td>NA</td><td>S12000049</td><td>S20001250</td><td>3665</td><td>1</td><td>1</td></tr>\n",
       "\t<tr><td>G31 2NZ</td><td>NA                </td><td>NA</td><td>S12000049</td><td>S20001250</td><td>3665</td><td>1</td><td>1</td></tr>\n",
       "</tbody>\n",
       "</table>\n"
      ],
      "text/latex": [
       "A tibble: 6 × 8\n",
       "\\begin{tabular}{llllllll}\n",
       " Postcode & DateOfDeletion & LinkedSmallUserPostcode & CouncilArea2019Code & Settlement2016Code & SIMD2020Rank & UrbanRural6Fold2016Code & UrbanRural8Fold2016Code\\\\\n",
       " <chr> & <chr> & <chr> & <fct> & <fct> & <chr> & <fct> & <fct>\\\\\n",
       "\\hline\n",
       "\t G31 2LZ & NA                 & NA & S12000049 & S20001250 & 3012 & 1 & 1\\\\\n",
       "\t G31 2NF & 15/4/2010 00:00:00 & NA & S12000049 & S20001250 & 3172 & 1 & 1\\\\\n",
       "\t G31 2NW & NA                 & NA & S12000049 & S20001250 & 3012 & 1 & 1\\\\\n",
       "\t G31 2NX & NA                 & NA & S12000049 & S20001250 & 3887 & 1 & 1\\\\\n",
       "\t G31 2NY & NA                 & NA & S12000049 & S20001250 & 3665 & 1 & 1\\\\\n",
       "\t G31 2NZ & NA                 & NA & S12000049 & S20001250 & 3665 & 1 & 1\\\\\n",
       "\\end{tabular}\n"
      ],
      "text/markdown": [
       "\n",
       "A tibble: 6 × 8\n",
       "\n",
       "| Postcode &lt;chr&gt; | DateOfDeletion &lt;chr&gt; | LinkedSmallUserPostcode &lt;chr&gt; | CouncilArea2019Code &lt;fct&gt; | Settlement2016Code &lt;fct&gt; | SIMD2020Rank &lt;chr&gt; | UrbanRural6Fold2016Code &lt;fct&gt; | UrbanRural8Fold2016Code &lt;fct&gt; |\n",
       "|---|---|---|---|---|---|---|---|\n",
       "| G31 2LZ | NA                 | NA | S12000049 | S20001250 | 3012 | 1 | 1 |\n",
       "| G31 2NF | 15/4/2010 00:00:00 | NA | S12000049 | S20001250 | 3172 | 1 | 1 |\n",
       "| G31 2NW | NA                 | NA | S12000049 | S20001250 | 3012 | 1 | 1 |\n",
       "| G31 2NX | NA                 | NA | S12000049 | S20001250 | 3887 | 1 | 1 |\n",
       "| G31 2NY | NA                 | NA | S12000049 | S20001250 | 3665 | 1 | 1 |\n",
       "| G31 2NZ | NA                 | NA | S12000049 | S20001250 | 3665 | 1 | 1 |\n",
       "\n"
      ],
      "text/plain": [
       "  Postcode DateOfDeletion     LinkedSmallUserPostcode CouncilArea2019Code\n",
       "1 G31 2LZ  NA                 NA                      S12000049          \n",
       "2 G31 2NF  15/4/2010 00:00:00 NA                      S12000049          \n",
       "3 G31 2NW  NA                 NA                      S12000049          \n",
       "4 G31 2NX  NA                 NA                      S12000049          \n",
       "5 G31 2NY  NA                 NA                      S12000049          \n",
       "6 G31 2NZ  NA                 NA                      S12000049          \n",
       "  Settlement2016Code SIMD2020Rank UrbanRural6Fold2016Code\n",
       "1 S20001250          3012         1                      \n",
       "2 S20001250          3172         1                      \n",
       "3 S20001250          3012         1                      \n",
       "4 S20001250          3887         1                      \n",
       "5 S20001250          3665         1                      \n",
       "6 S20001250          3665         1                      \n",
       "  UrbanRural8Fold2016Code\n",
       "1 1                      \n",
       "2 1                      \n",
       "3 1                      \n",
       "4 1                      \n",
       "5 1                      \n",
       "6 1                      "
      ]
     },
     "metadata": {},
     "output_type": "display_data"
    },
    {
     "data": {
      "text/html": [
       "<table class=\"dataframe\">\n",
       "<caption>A tibble: 6 × 8</caption>\n",
       "<thead>\n",
       "\t<tr><th scope=col>Postcode</th><th scope=col>DateOfDeletion</th><th scope=col>LinkedSmallUserPostcode</th><th scope=col>CouncilArea2019Code</th><th scope=col>Settlement2016Code</th><th scope=col>SIMD2020Rank</th><th scope=col>UrbanRural6Fold2016Code</th><th scope=col>UrbanRural8Fold2016Code</th></tr>\n",
       "\t<tr><th scope=col>&lt;chr&gt;</th><th scope=col>&lt;chr&gt;</th><th scope=col>&lt;chr&gt;</th><th scope=col>&lt;fct&gt;</th><th scope=col>&lt;fct&gt;</th><th scope=col>&lt;chr&gt;</th><th scope=col>&lt;fct&gt;</th><th scope=col>&lt;fct&gt;</th></tr>\n",
       "</thead>\n",
       "<tbody>\n",
       "\t<tr><td>ZE2 9WX</td><td>11/4/2008 00:00:00</td><td>NO LINKP</td><td>S12000027</td><td>S20001334</td><td>4698</td><td>4</td><td>5</td></tr>\n",
       "\t<tr><td>ZE2 9WY</td><td>4/7/2007 00:00:00 </td><td>NO LINKP</td><td>S12000027</td><td>S20001334</td><td>4698</td><td>4</td><td>5</td></tr>\n",
       "\t<tr><td>ZE2 9YL</td><td>11/4/2019 00:00:00</td><td>NO LINKP</td><td>S12000027</td><td>NA       </td><td>3814</td><td>6</td><td>8</td></tr>\n",
       "\t<tr><td>ZE2 9YN</td><td>3/5/2011 00:00:00 </td><td>NO LINKP</td><td>S12000027</td><td>S20001334</td><td>4698</td><td>4</td><td>5</td></tr>\n",
       "\t<tr><td>ZE2 9YP</td><td>9/7/2004 00:00:00 </td><td>NO LINKP</td><td>S12000027</td><td>NA       </td><td>4509</td><td>6</td><td>8</td></tr>\n",
       "\t<tr><td>ZE2 9YQ</td><td>25/5/2006 00:00:00</td><td>NO LINKP</td><td>S12000027</td><td>S20001334</td><td>4698</td><td>4</td><td>5</td></tr>\n",
       "</tbody>\n",
       "</table>\n"
      ],
      "text/latex": [
       "A tibble: 6 × 8\n",
       "\\begin{tabular}{llllllll}\n",
       " Postcode & DateOfDeletion & LinkedSmallUserPostcode & CouncilArea2019Code & Settlement2016Code & SIMD2020Rank & UrbanRural6Fold2016Code & UrbanRural8Fold2016Code\\\\\n",
       " <chr> & <chr> & <chr> & <fct> & <fct> & <chr> & <fct> & <fct>\\\\\n",
       "\\hline\n",
       "\t ZE2 9WX & 11/4/2008 00:00:00 & NO LINKP & S12000027 & S20001334 & 4698 & 4 & 5\\\\\n",
       "\t ZE2 9WY & 4/7/2007 00:00:00  & NO LINKP & S12000027 & S20001334 & 4698 & 4 & 5\\\\\n",
       "\t ZE2 9YL & 11/4/2019 00:00:00 & NO LINKP & S12000027 & NA        & 3814 & 6 & 8\\\\\n",
       "\t ZE2 9YN & 3/5/2011 00:00:00  & NO LINKP & S12000027 & S20001334 & 4698 & 4 & 5\\\\\n",
       "\t ZE2 9YP & 9/7/2004 00:00:00  & NO LINKP & S12000027 & NA        & 4509 & 6 & 8\\\\\n",
       "\t ZE2 9YQ & 25/5/2006 00:00:00 & NO LINKP & S12000027 & S20001334 & 4698 & 4 & 5\\\\\n",
       "\\end{tabular}\n"
      ],
      "text/markdown": [
       "\n",
       "A tibble: 6 × 8\n",
       "\n",
       "| Postcode &lt;chr&gt; | DateOfDeletion &lt;chr&gt; | LinkedSmallUserPostcode &lt;chr&gt; | CouncilArea2019Code &lt;fct&gt; | Settlement2016Code &lt;fct&gt; | SIMD2020Rank &lt;chr&gt; | UrbanRural6Fold2016Code &lt;fct&gt; | UrbanRural8Fold2016Code &lt;fct&gt; |\n",
       "|---|---|---|---|---|---|---|---|\n",
       "| ZE2 9WX | 11/4/2008 00:00:00 | NO LINKP | S12000027 | S20001334 | 4698 | 4 | 5 |\n",
       "| ZE2 9WY | 4/7/2007 00:00:00  | NO LINKP | S12000027 | S20001334 | 4698 | 4 | 5 |\n",
       "| ZE2 9YL | 11/4/2019 00:00:00 | NO LINKP | S12000027 | NA        | 3814 | 6 | 8 |\n",
       "| ZE2 9YN | 3/5/2011 00:00:00  | NO LINKP | S12000027 | S20001334 | 4698 | 4 | 5 |\n",
       "| ZE2 9YP | 9/7/2004 00:00:00  | NO LINKP | S12000027 | NA        | 4509 | 6 | 8 |\n",
       "| ZE2 9YQ | 25/5/2006 00:00:00 | NO LINKP | S12000027 | S20001334 | 4698 | 4 | 5 |\n",
       "\n"
      ],
      "text/plain": [
       "  Postcode DateOfDeletion     LinkedSmallUserPostcode CouncilArea2019Code\n",
       "1 ZE2 9WX  11/4/2008 00:00:00 NO LINKP                S12000027          \n",
       "2 ZE2 9WY  4/7/2007 00:00:00  NO LINKP                S12000027          \n",
       "3 ZE2 9YL  11/4/2019 00:00:00 NO LINKP                S12000027          \n",
       "4 ZE2 9YN  3/5/2011 00:00:00  NO LINKP                S12000027          \n",
       "5 ZE2 9YP  9/7/2004 00:00:00  NO LINKP                S12000027          \n",
       "6 ZE2 9YQ  25/5/2006 00:00:00 NO LINKP                S12000027          \n",
       "  Settlement2016Code SIMD2020Rank UrbanRural6Fold2016Code\n",
       "1 S20001334          4698         4                      \n",
       "2 S20001334          4698         4                      \n",
       "3 NA                 3814         6                      \n",
       "4 S20001334          4698         4                      \n",
       "5 NA                 4509         6                      \n",
       "6 S20001334          4698         4                      \n",
       "  UrbanRural8Fold2016Code\n",
       "1 5                      \n",
       "2 5                      \n",
       "3 8                      \n",
       "4 5                      \n",
       "5 8                      \n",
       "6 5                      "
      ]
     },
     "metadata": {},
     "output_type": "display_data"
    }
   ],
   "source": [
    "postcode_lookup <- postcode_lookup %>%\n",
    "    rename(SIMD2020Rank = ScottishIndexOfMultipleDeprivation2020Rank)\n",
    "\n",
    "simd2020Rank_range <- range(postcode_lookup$SIMD2020Rank)\n",
    "\n",
    "\n",
    "postcode_lookup <- postcode_lookup %>%\n",
    "    select(Postcode, DateOfDeletion, LinkedSmallUserPostcode, contains(c(\"CouncilArea2019\", \"Settlement2016\", \"SIMD\", \"UrbanRural\"))) %>%\n",
    "    distinct() %>%\n",
    "    mutate(across(where(is.character), ~ str_squish(.)),\n",
    "           across(c(DateOfDeletion, LinkedSmallUserPostcode), ~ na_if(., \"\")),\n",
    "           across(where(is.numeric), as.integer), \n",
    "           across(matches(\"20\\\\d{2}Code\"), as.factor)) %>%\n",
    "    glimpse()\n",
    "\n",
    "\n",
    "postcode_lookup %>%\n",
    "    head()\n",
    "postcode_lookup %>%\n",
    "    tail()\n"
   ]
  },
  {
   "cell_type": "code",
   "execution_count": 47,
   "metadata": {},
   "outputs": [
    {
     "name": "stderr",
     "output_type": "stream",
     "text": [
      "Joining, by = \"Postcode\"\n"
     ]
    },
    {
     "name": "stdout",
     "output_type": "stream",
     "text": [
      "Rows: 964\n",
      "Columns: 8\n",
      "$ Postcode                \u001b[3m\u001b[90m<chr>\u001b[39m\u001b[23m \"AB11 6DY\", \"AB11 6ET\", \"AB11 8HD\", \"AB12 3AL\"…\n",
      "$ DateOfDeletion          \u001b[3m\u001b[90m<chr>\u001b[39m\u001b[23m NA, NA, NA, NA, NA, NA, NA, NA, NA, NA, NA, NA…\n",
      "$ LinkedSmallUserPostcode \u001b[3m\u001b[90m<chr>\u001b[39m\u001b[23m NA, NA, NA, NA, NA, NA, NA, NA, NA, NA, NA, NA…\n",
      "$ CouncilArea2019Code     \u001b[3m\u001b[90m<fct>\u001b[39m\u001b[23m S12000033, S12000033, S12000033, S12000033, S1…\n",
      "$ Settlement2016Code      \u001b[3m\u001b[90m<fct>\u001b[39m\u001b[23m S20001020, S20001020, S20001020, S20001020, S2…\n",
      "$ SIMD2020Rank            \u001b[3m\u001b[90m<chr>\u001b[39m\u001b[23m \"2720\", \"2720\", \"1300\", \"2241\", \"5522\", \"2241\"…\n",
      "$ UrbanRural6Fold2016Code \u001b[3m\u001b[90m<fct>\u001b[39m\u001b[23m 1, 1, 1, 1, 1, 1, 3, 3, 3, 1, 5, 1, 1, 1, 1, 1…\n",
      "$ UrbanRural8Fold2016Code \u001b[3m\u001b[90m<fct>\u001b[39m\u001b[23m 1, 1, 1, 1, 1, 1, 3, 3, 3, 1, 6, 1, 1, 1, 1, 1…\n"
     ]
    }
   ],
   "source": [
    "postcode_lookup <- postcode_lookup %>%\n",
    "\n",
    "    filter(is.na(DateOfDeletion)) %>%\n",
    "    filter(Postcode %in% levels(centre_postcodes$Postcode)) %>%\n",
    "\n",
    "    bind_rows(postcode_lookup %>%\n",
    "                filter(Postcode %in% levels(centre_postcodes$Postcode)) %>%\n",
    "                filter(!is.na(DateOfDeletion)) \n",
    "    ) %>%\n",
    "    bind_rows(postcode_lookup %>%\n",
    "                filter(Postcode %in% levels(centre_postcodes$Postcode)) %>%\n",
    "                filter(!is.na(DateOfDeletion)) %>%\n",
    "                distinct(LinkedSmallUserPostcode) %>%\n",
    "                rename(Postcode = LinkedSmallUserPostcode) %>%\n",
    "\n",
    "                left_join(postcode_lookup) %>%\n",
    "                filter(!is.na(Postcode)) \n",
    "    ) %>%\n",
    "        \n",
    "    distinct() %>%\n",
    "    glimpse()"
   ]
  },
  {
   "cell_type": "code",
   "execution_count": null,
   "metadata": {},
   "outputs": [],
   "source": []
  },
  {
   "cell_type": "code",
   "execution_count": 48,
   "metadata": {},
   "outputs": [
    {
     "data": {
      "text/html": [
       "<table class=\"dataframe\">\n",
       "<caption>A tibble: 18 × 8</caption>\n",
       "<thead>\n",
       "\t<tr><th scope=col>EducationAuthority</th><th scope=col>Centre</th><th scope=col>CentreName</th><th scope=col>Postcode</th><th scope=col>UrbanRural2FoldCode</th><th scope=col>UrbanRural3FoldCode</th><th scope=col>UrbanRural6FoldCode</th><th scope=col>UrbanRural8FoldCode</th></tr>\n",
       "\t<tr><th scope=col>&lt;fct&gt;</th><th scope=col>&lt;fct&gt;</th><th scope=col>&lt;fct&gt;</th><th scope=col>&lt;fct&gt;</th><th scope=col>&lt;fct&gt;</th><th scope=col>&lt;fct&gt;</th><th scope=col>&lt;fct&gt;</th><th scope=col>&lt;fct&gt;</th></tr>\n",
       "</thead>\n",
       "<tbody>\n",
       "\t<tr><td>NA                                              </td><td>3009084</td><td>Ageas Retail Ltd                                      </td><td>G71 5PU </td><td>1 </td><td>1 </td><td>2 </td><td>2 </td></tr>\n",
       "\t<tr><td>NA                                              </td><td>4196775</td><td>Forward Training Partnership                          </td><td>EH54 6NG</td><td>1 </td><td>1 </td><td>2 </td><td>2 </td></tr>\n",
       "\t<tr><td><span style=white-space:pre-wrap>Perth &amp; Kinross Council Education Department    </span></td><td>5349834</td><td><span style=white-space:pre-wrap>Breadalbane Academy                                   </span></td><td>PH15 2DU</td><td>2 </td><td>3 </td><td>6 </td><td>7 </td></tr>\n",
       "\t<tr><td>Independent                                     </td><td>5780136</td><td>Beaconhurst School                                    </td><td>FK9 4RR </td><td>1 </td><td>1 </td><td>2 </td><td>2 </td></tr>\n",
       "\t<tr><td>Renfrewshire Council Education Department       </td><td>8631344</td><td>Kersland School                                       </td><td>PA2 7BU </td><td>1 </td><td>1 </td><td>1 </td><td>1 </td></tr>\n",
       "\t<tr><td>NA                                              </td><td>3001024</td><td>Calder Associates (Scotland) Limited                  </td><td>KY12 OQX</td><td>NA</td><td>NA</td><td>NA</td><td>NA</td></tr>\n",
       "\t<tr><td>NA                                              </td><td>3006166</td><td>Ritchies Training Centre                              </td><td>G21 4AU </td><td>1 </td><td>1 </td><td>1 </td><td>1 </td></tr>\n",
       "\t<tr><td>NA                                              </td><td>3012743</td><td>Fitness Training Scotland                             </td><td>KA1 9GX </td><td>NA</td><td>NA</td><td>NA</td><td>NA</td></tr>\n",
       "\t<tr><td>NA                                              </td><td>4197437</td><td>Training Matters (Scotland) Limited                   </td><td>G52 4RU </td><td>NA</td><td>NA</td><td>NA</td><td>NA</td></tr>\n",
       "\t<tr><td>Highland Council Education Department           </td><td>5135532</td><td>Kinlochleven High School                              </td><td>PH50 4QE</td><td>2 </td><td>3 </td><td>6 </td><td>7 </td></tr>\n",
       "\t<tr><td>NA                                              </td><td>5294738</td><td>Aberdeen City Council                                 </td><td>AB15 5PD</td><td>NA</td><td>NA</td><td>NA</td><td>NA</td></tr>\n",
       "\t<tr><td>Fife Council Education Department               </td><td>5406331</td><td>Buckhaven High School                                 </td><td>KY8 1HL </td><td>1 </td><td>1 </td><td>2 </td><td>2 </td></tr>\n",
       "\t<tr><td>West Lothian Council Education Department       </td><td>5511844</td><td>Cedarbank School                                      </td><td>EH54 6FW</td><td>NA</td><td>NA</td><td>NA</td><td>NA</td></tr>\n",
       "\t<tr><td>NA                                              </td><td>5590183</td><td>Midlothian Council - Communities and Lifelong Learning</td><td>EH22 3ZG</td><td>NA</td><td>NA</td><td>NA</td><td>NA</td></tr>\n",
       "\t<tr><td>Dumfries &amp; Galloway Council Education Department</td><td>5939534</td><td><span style=white-space:pre-wrap>North West Community Campus                           </span></td><td>DG2 9DY </td><td>1 </td><td>1 </td><td>2 </td><td>2 </td></tr>\n",
       "\t<tr><td>Inverclyde Council Education Department         </td><td>8645434</td><td>St Columba's High School (Gourock)                    </td><td>PA19 1TP</td><td>1 </td><td>1 </td><td>2 </td><td>2 </td></tr>\n",
       "\t<tr><td>NA                                              </td><td>8694036</td><td>East Renfrewshire Council                             </td><td>G78 2QY </td><td>1 </td><td>1 </td><td>2 </td><td>2 </td></tr>\n",
       "\t<tr><td>Orkney Islands Council Education Department     </td><td>6003230</td><td>Sanday Secondary School                               </td><td>SG19 1BL</td><td>NA</td><td>NA</td><td>NA</td><td>NA</td></tr>\n",
       "</tbody>\n",
       "</table>\n"
      ],
      "text/latex": [
       "A tibble: 18 × 8\n",
       "\\begin{tabular}{llllllll}\n",
       " EducationAuthority & Centre & CentreName & Postcode & UrbanRural2FoldCode & UrbanRural3FoldCode & UrbanRural6FoldCode & UrbanRural8FoldCode\\\\\n",
       " <fct> & <fct> & <fct> & <fct> & <fct> & <fct> & <fct> & <fct>\\\\\n",
       "\\hline\n",
       "\t NA                                               & 3009084 & Ageas Retail Ltd                                       & G71 5PU  & 1  & 1  & 2  & 2 \\\\\n",
       "\t NA                                               & 4196775 & Forward Training Partnership                           & EH54 6NG & 1  & 1  & 2  & 2 \\\\\n",
       "\t Perth \\& Kinross Council Education Department     & 5349834 & Breadalbane Academy                                    & PH15 2DU & 2  & 3  & 6  & 7 \\\\\n",
       "\t Independent                                      & 5780136 & Beaconhurst School                                     & FK9 4RR  & 1  & 1  & 2  & 2 \\\\\n",
       "\t Renfrewshire Council Education Department        & 8631344 & Kersland School                                        & PA2 7BU  & 1  & 1  & 1  & 1 \\\\\n",
       "\t NA                                               & 3001024 & Calder Associates (Scotland) Limited                   & KY12 OQX & NA & NA & NA & NA\\\\\n",
       "\t NA                                               & 3006166 & Ritchies Training Centre                               & G21 4AU  & 1  & 1  & 1  & 1 \\\\\n",
       "\t NA                                               & 3012743 & Fitness Training Scotland                              & KA1 9GX  & NA & NA & NA & NA\\\\\n",
       "\t NA                                               & 4197437 & Training Matters (Scotland) Limited                    & G52 4RU  & NA & NA & NA & NA\\\\\n",
       "\t Highland Council Education Department            & 5135532 & Kinlochleven High School                               & PH50 4QE & 2  & 3  & 6  & 7 \\\\\n",
       "\t NA                                               & 5294738 & Aberdeen City Council                                  & AB15 5PD & NA & NA & NA & NA\\\\\n",
       "\t Fife Council Education Department                & 5406331 & Buckhaven High School                                  & KY8 1HL  & 1  & 1  & 2  & 2 \\\\\n",
       "\t West Lothian Council Education Department        & 5511844 & Cedarbank School                                       & EH54 6FW & NA & NA & NA & NA\\\\\n",
       "\t NA                                               & 5590183 & Midlothian Council - Communities and Lifelong Learning & EH22 3ZG & NA & NA & NA & NA\\\\\n",
       "\t Dumfries \\& Galloway Council Education Department & 5939534 & North West Community Campus                            & DG2 9DY  & 1  & 1  & 2  & 2 \\\\\n",
       "\t Inverclyde Council Education Department          & 8645434 & St Columba's High School (Gourock)                     & PA19 1TP & 1  & 1  & 2  & 2 \\\\\n",
       "\t NA                                               & 8694036 & East Renfrewshire Council                              & G78 2QY  & 1  & 1  & 2  & 2 \\\\\n",
       "\t Orkney Islands Council Education Department      & 6003230 & Sanday Secondary School                                & SG19 1BL & NA & NA & NA & NA\\\\\n",
       "\\end{tabular}\n"
      ],
      "text/markdown": [
       "\n",
       "A tibble: 18 × 8\n",
       "\n",
       "| EducationAuthority &lt;fct&gt; | Centre &lt;fct&gt; | CentreName &lt;fct&gt; | Postcode &lt;fct&gt; | UrbanRural2FoldCode &lt;fct&gt; | UrbanRural3FoldCode &lt;fct&gt; | UrbanRural6FoldCode &lt;fct&gt; | UrbanRural8FoldCode &lt;fct&gt; |\n",
       "|---|---|---|---|---|---|---|---|\n",
       "| NA                                               | 3009084 | Ageas Retail Ltd                                       | G71 5PU  | 1  | 1  | 2  | 2  |\n",
       "| NA                                               | 4196775 | Forward Training Partnership                           | EH54 6NG | 1  | 1  | 2  | 2  |\n",
       "| Perth &amp; Kinross Council Education Department     | 5349834 | Breadalbane Academy                                    | PH15 2DU | 2  | 3  | 6  | 7  |\n",
       "| Independent                                      | 5780136 | Beaconhurst School                                     | FK9 4RR  | 1  | 1  | 2  | 2  |\n",
       "| Renfrewshire Council Education Department        | 8631344 | Kersland School                                        | PA2 7BU  | 1  | 1  | 1  | 1  |\n",
       "| NA                                               | 3001024 | Calder Associates (Scotland) Limited                   | KY12 OQX | NA | NA | NA | NA |\n",
       "| NA                                               | 3006166 | Ritchies Training Centre                               | G21 4AU  | 1  | 1  | 1  | 1  |\n",
       "| NA                                               | 3012743 | Fitness Training Scotland                              | KA1 9GX  | NA | NA | NA | NA |\n",
       "| NA                                               | 4197437 | Training Matters (Scotland) Limited                    | G52 4RU  | NA | NA | NA | NA |\n",
       "| Highland Council Education Department            | 5135532 | Kinlochleven High School                               | PH50 4QE | 2  | 3  | 6  | 7  |\n",
       "| NA                                               | 5294738 | Aberdeen City Council                                  | AB15 5PD | NA | NA | NA | NA |\n",
       "| Fife Council Education Department                | 5406331 | Buckhaven High School                                  | KY8 1HL  | 1  | 1  | 2  | 2  |\n",
       "| West Lothian Council Education Department        | 5511844 | Cedarbank School                                       | EH54 6FW | NA | NA | NA | NA |\n",
       "| NA                                               | 5590183 | Midlothian Council - Communities and Lifelong Learning | EH22 3ZG | NA | NA | NA | NA |\n",
       "| Dumfries &amp; Galloway Council Education Department | 5939534 | North West Community Campus                            | DG2 9DY  | 1  | 1  | 2  | 2  |\n",
       "| Inverclyde Council Education Department          | 8645434 | St Columba's High School (Gourock)                     | PA19 1TP | 1  | 1  | 2  | 2  |\n",
       "| NA                                               | 8694036 | East Renfrewshire Council                              | G78 2QY  | 1  | 1  | 2  | 2  |\n",
       "| Orkney Islands Council Education Department      | 6003230 | Sanday Secondary School                                | SG19 1BL | NA | NA | NA | NA |\n",
       "\n"
      ],
      "text/plain": [
       "   EducationAuthority                               Centre \n",
       "1  NA                                               3009084\n",
       "2  NA                                               4196775\n",
       "3  Perth & Kinross Council Education Department     5349834\n",
       "4  Independent                                      5780136\n",
       "5  Renfrewshire Council Education Department        8631344\n",
       "6  NA                                               3001024\n",
       "7  NA                                               3006166\n",
       "8  NA                                               3012743\n",
       "9  NA                                               4197437\n",
       "10 Highland Council Education Department            5135532\n",
       "11 NA                                               5294738\n",
       "12 Fife Council Education Department                5406331\n",
       "13 West Lothian Council Education Department        5511844\n",
       "14 NA                                               5590183\n",
       "15 Dumfries & Galloway Council Education Department 5939534\n",
       "16 Inverclyde Council Education Department          8645434\n",
       "17 NA                                               8694036\n",
       "18 Orkney Islands Council Education Department      6003230\n",
       "   CentreName                                             Postcode\n",
       "1  Ageas Retail Ltd                                       G71 5PU \n",
       "2  Forward Training Partnership                           EH54 6NG\n",
       "3  Breadalbane Academy                                    PH15 2DU\n",
       "4  Beaconhurst School                                     FK9 4RR \n",
       "5  Kersland School                                        PA2 7BU \n",
       "6  Calder Associates (Scotland) Limited                   KY12 OQX\n",
       "7  Ritchies Training Centre                               G21 4AU \n",
       "8  Fitness Training Scotland                              KA1 9GX \n",
       "9  Training Matters (Scotland) Limited                    G52 4RU \n",
       "10 Kinlochleven High School                               PH50 4QE\n",
       "11 Aberdeen City Council                                  AB15 5PD\n",
       "12 Buckhaven High School                                  KY8 1HL \n",
       "13 Cedarbank School                                       EH54 6FW\n",
       "14 Midlothian Council - Communities and Lifelong Learning EH22 3ZG\n",
       "15 North West Community Campus                            DG2 9DY \n",
       "16 St Columba's High School (Gourock)                     PA19 1TP\n",
       "17 East Renfrewshire Council                              G78 2QY \n",
       "18 Sanday Secondary School                                SG19 1BL\n",
       "   UrbanRural2FoldCode UrbanRural3FoldCode UrbanRural6FoldCode\n",
       "1  1                   1                   2                  \n",
       "2  1                   1                   2                  \n",
       "3  2                   3                   6                  \n",
       "4  1                   1                   2                  \n",
       "5  1                   1                   1                  \n",
       "6  NA                  NA                  NA                 \n",
       "7  1                   1                   1                  \n",
       "8  NA                  NA                  NA                 \n",
       "9  NA                  NA                  NA                 \n",
       "10 2                   3                   6                  \n",
       "11 NA                  NA                  NA                 \n",
       "12 1                   1                   2                  \n",
       "13 NA                  NA                  NA                 \n",
       "14 NA                  NA                  NA                 \n",
       "15 1                   1                   2                  \n",
       "16 1                   1                   2                  \n",
       "17 1                   1                   2                  \n",
       "18 NA                  NA                  NA                 \n",
       "   UrbanRural8FoldCode\n",
       "1  2                  \n",
       "2  2                  \n",
       "3  7                  \n",
       "4  2                  \n",
       "5  1                  \n",
       "6  NA                 \n",
       "7  1                  \n",
       "8  NA                 \n",
       "9  NA                 \n",
       "10 7                  \n",
       "11 NA                 \n",
       "12 2                  \n",
       "13 NA                 \n",
       "14 NA                 \n",
       "15 2                  \n",
       "16 2                  \n",
       "17 2                  \n",
       "18 NA                 "
      ]
     },
     "metadata": {},
     "output_type": "display_data"
    }
   ],
   "source": [
    "centre_postcodes %>%\n",
    "    filter(Country == \"Scotland\") %>%\n",
    "    filter(!(Postcode %in% \n",
    "              (postcode_lookup %>%\n",
    "                   filter(is.na(DateOfDeletion)) %>%\n",
    "                   distinct(Postcode) %>%\n",
    "                   deframe()))) %>%\n",
    "    select(EducationAuthority, Centre, CentreName, Postcode, starts_with(\"UrbanRural\")) %>%\n",
    "    distinct()"
   ]
  },
  {
   "cell_type": "code",
   "execution_count": 49,
   "metadata": {},
   "outputs": [
    {
     "name": "stderr",
     "output_type": "stream",
     "text": [
      "Joining, by = \"Postcode\"\n"
     ]
    },
    {
     "data": {
      "text/html": [
       "<table class=\"dataframe\">\n",
       "<caption>A tibble: 19 × 15</caption>\n",
       "<thead>\n",
       "\t<tr><th scope=col>EducationAuthority</th><th scope=col>Centre</th><th scope=col>CentreName</th><th scope=col>Postcode</th><th scope=col>UrbanRural2FoldCode</th><th scope=col>UrbanRural3FoldCode</th><th scope=col>UrbanRural6FoldCode</th><th scope=col>UrbanRural8FoldCode</th><th scope=col>DateOfDeletion</th><th scope=col>LinkedSmallUserPostcode</th><th scope=col>CouncilArea2019Code</th><th scope=col>Settlement2016Code</th><th scope=col>SIMD2020Rank</th><th scope=col>UrbanRural6Fold2016Code</th><th scope=col>UrbanRural8Fold2016Code</th></tr>\n",
       "\t<tr><th scope=col>&lt;fct&gt;</th><th scope=col>&lt;fct&gt;</th><th scope=col>&lt;fct&gt;</th><th scope=col>&lt;chr&gt;</th><th scope=col>&lt;fct&gt;</th><th scope=col>&lt;fct&gt;</th><th scope=col>&lt;fct&gt;</th><th scope=col>&lt;fct&gt;</th><th scope=col>&lt;chr&gt;</th><th scope=col>&lt;chr&gt;</th><th scope=col>&lt;fct&gt;</th><th scope=col>&lt;fct&gt;</th><th scope=col>&lt;chr&gt;</th><th scope=col>&lt;fct&gt;</th><th scope=col>&lt;fct&gt;</th></tr>\n",
       "</thead>\n",
       "<tbody>\n",
       "\t<tr><td>NA                                              </td><td>3009084</td><td>Ageas Retail Ltd                                      </td><td>G71 5PU </td><td>1 </td><td>1 </td><td>2 </td><td>2 </td><td>29/10/2018 00:00:00</td><td>G71 5PD </td><td>S12000050</td><td>S20001383</td><td>4374</td><td>2 </td><td>2 </td></tr>\n",
       "\t<tr><td>NA                                              </td><td>4196775</td><td>Forward Training Partnership                          </td><td>EH54 6NG</td><td>1 </td><td>1 </td><td>2 </td><td>2 </td><td>NA                 </td><td>NA      </td><td>NA       </td><td>NA       </td><td>NA  </td><td>NA</td><td>NA</td></tr>\n",
       "\t<tr><td><span style=white-space:pre-wrap>Perth &amp; Kinross Council Education Department    </span></td><td>5349834</td><td><span style=white-space:pre-wrap>Breadalbane Academy                                   </span></td><td>PH15 2DU</td><td>2 </td><td>3 </td><td>6 </td><td>7 </td><td><span style=white-space:pre-wrap>NA                 </span></td><td><span style=white-space:pre-wrap>NA      </span></td><td><span style=white-space:pre-wrap>NA       </span></td><td><span style=white-space:pre-wrap>NA       </span></td><td><span style=white-space:pre-wrap>NA  </span></td><td>NA</td><td>NA</td></tr>\n",
       "\t<tr><td>Independent                                     </td><td>5780136</td><td>Beaconhurst School                                    </td><td>FK9 4RR </td><td>1 </td><td>1 </td><td>2 </td><td>2 </td><td>24/7/2019 00:00:00 </td><td>FK9 4RS </td><td>S12000030</td><td>S20001477</td><td>6921</td><td>2 </td><td>2 </td></tr>\n",
       "\t<tr><td>Renfrewshire Council Education Department       </td><td>8631344</td><td>Kersland School                                       </td><td>PA2 7BU </td><td>1 </td><td>1 </td><td>1 </td><td>1 </td><td>NA                 </td><td>NA      </td><td>NA       </td><td>NA       </td><td>NA  </td><td>NA</td><td>NA</td></tr>\n",
       "\t<tr><td>NA                                              </td><td>3001024</td><td>Calder Associates (Scotland) Limited                  </td><td>KY12 OQX</td><td>NA</td><td>NA</td><td>NA</td><td>NA</td><td>NA                 </td><td>NA      </td><td>NA       </td><td>NA       </td><td>NA  </td><td>NA</td><td>NA</td></tr>\n",
       "\t<tr><td>NA                                              </td><td>3006166</td><td>Ritchies Training Centre                              </td><td>G21 4AU </td><td>1 </td><td>1 </td><td>1 </td><td>1 </td><td>19/7/2016 00:00:00 </td><td>G21 4AQ </td><td>S12000049</td><td>S20001250</td><td>0678</td><td>1 </td><td>1 </td></tr>\n",
       "\t<tr><td>NA                                              </td><td>3006166</td><td>Ritchies Training Centre                              </td><td>G21 4AU </td><td>1 </td><td>1 </td><td>1 </td><td>1 </td><td>19/7/2016 00:00:00 </td><td>G21 4AQ </td><td>S12000049</td><td>S20001250</td><td>0678</td><td>1 </td><td>1 </td></tr>\n",
       "\t<tr><td>NA                                              </td><td>3012743</td><td>Fitness Training Scotland                             </td><td>KA1 9GX </td><td>NA</td><td>NA</td><td>NA</td><td>NA</td><td>NA                 </td><td>NA      </td><td>NA       </td><td>NA       </td><td>NA  </td><td>NA</td><td>NA</td></tr>\n",
       "\t<tr><td>NA                                              </td><td>4197437</td><td>Training Matters (Scotland) Limited                   </td><td>G52 4RU </td><td>NA</td><td>NA</td><td>NA</td><td>NA</td><td>NA                 </td><td>NA      </td><td>NA       </td><td>NA       </td><td>NA  </td><td>NA</td><td>NA</td></tr>\n",
       "\t<tr><td>Highland Council Education Department           </td><td>5135532</td><td>Kinlochleven High School                              </td><td>PH50 4QE</td><td>2 </td><td>3 </td><td>6 </td><td>7 </td><td>1/10/2008 00:00:00 </td><td>PH50 4QL</td><td>S12000017</td><td>S20001305</td><td>2290</td><td>6 </td><td>7 </td></tr>\n",
       "\t<tr><td>NA                                              </td><td>5294738</td><td>Aberdeen City Council                                 </td><td>AB15 5PD</td><td>NA</td><td>NA</td><td>NA</td><td>NA</td><td>NA                 </td><td>NA      </td><td>NA       </td><td>NA       </td><td>NA  </td><td>NA</td><td>NA</td></tr>\n",
       "\t<tr><td>Fife Council Education Department               </td><td>5406331</td><td>Buckhaven High School                                 </td><td>KY8 1HL </td><td>1 </td><td>1 </td><td>2 </td><td>2 </td><td>19/10/2016 00:00:00</td><td>KY8 1EA </td><td>S12000047</td><td>S20001368</td><td>1036</td><td>2 </td><td>2 </td></tr>\n",
       "\t<tr><td>West Lothian Council Education Department       </td><td>5511844</td><td>Cedarbank School                                      </td><td>EH54 6FW</td><td>NA</td><td>NA</td><td>NA</td><td>NA</td><td>NA                 </td><td>NA      </td><td>NA       </td><td>NA       </td><td>NA  </td><td>NA</td><td>NA</td></tr>\n",
       "\t<tr><td>NA                                              </td><td>5590183</td><td>Midlothian Council - Communities and Lifelong Learning</td><td>EH22 3ZG</td><td>NA</td><td>NA</td><td>NA</td><td>NA</td><td>NA                 </td><td>NA      </td><td>NA       </td><td>NA       </td><td>NA  </td><td>NA</td><td>NA</td></tr>\n",
       "\t<tr><td>Dumfries &amp; Galloway Council Education Department</td><td>5939534</td><td><span style=white-space:pre-wrap>North West Community Campus                           </span></td><td>DG2 9DY </td><td>1 </td><td>1 </td><td>2 </td><td>2 </td><td><span style=white-space:pre-wrap>1/9/1995 00:00:00  </span></td><td>DG2 9DX </td><td>S12000006</td><td>S20001177</td><td>1711</td><td>2 </td><td>2 </td></tr>\n",
       "\t<tr><td>Inverclyde Council Education Department         </td><td>8645434</td><td>St Columba's High School (Gourock)                    </td><td>PA19 1TP</td><td>1 </td><td>1 </td><td>2 </td><td>2 </td><td>13/10/2011 00:00:00</td><td>PA19 1TN</td><td>S12000018</td><td>S20001252</td><td>4533</td><td>2 </td><td>2 </td></tr>\n",
       "\t<tr><td>NA                                              </td><td>8694036</td><td>East Renfrewshire Council                             </td><td>G78 2QY </td><td>1 </td><td>1 </td><td>2 </td><td>2 </td><td>17/10/2013 00:00:00</td><td>G78 2RA </td><td>S12000011</td><td>S20001066</td><td>1215</td><td>2 </td><td>2 </td></tr>\n",
       "\t<tr><td>Orkney Islands Council Education Department     </td><td>6003230</td><td>Sanday Secondary School                               </td><td>SG19 1BL</td><td>NA</td><td>NA</td><td>NA</td><td>NA</td><td>NA                 </td><td>NA      </td><td>NA       </td><td>NA       </td><td>NA  </td><td>NA</td><td>NA</td></tr>\n",
       "</tbody>\n",
       "</table>\n"
      ],
      "text/latex": [
       "A tibble: 19 × 15\n",
       "\\begin{tabular}{lllllllllllllll}\n",
       " EducationAuthority & Centre & CentreName & Postcode & UrbanRural2FoldCode & UrbanRural3FoldCode & UrbanRural6FoldCode & UrbanRural8FoldCode & DateOfDeletion & LinkedSmallUserPostcode & CouncilArea2019Code & Settlement2016Code & SIMD2020Rank & UrbanRural6Fold2016Code & UrbanRural8Fold2016Code\\\\\n",
       " <fct> & <fct> & <fct> & <chr> & <fct> & <fct> & <fct> & <fct> & <chr> & <chr> & <fct> & <fct> & <chr> & <fct> & <fct>\\\\\n",
       "\\hline\n",
       "\t NA                                               & 3009084 & Ageas Retail Ltd                                       & G71 5PU  & 1  & 1  & 2  & 2  & 29/10/2018 00:00:00 & G71 5PD  & S12000050 & S20001383 & 4374 & 2  & 2 \\\\\n",
       "\t NA                                               & 4196775 & Forward Training Partnership                           & EH54 6NG & 1  & 1  & 2  & 2  & NA                  & NA       & NA        & NA        & NA   & NA & NA\\\\\n",
       "\t Perth \\& Kinross Council Education Department     & 5349834 & Breadalbane Academy                                    & PH15 2DU & 2  & 3  & 6  & 7  & NA                  & NA       & NA        & NA        & NA   & NA & NA\\\\\n",
       "\t Independent                                      & 5780136 & Beaconhurst School                                     & FK9 4RR  & 1  & 1  & 2  & 2  & 24/7/2019 00:00:00  & FK9 4RS  & S12000030 & S20001477 & 6921 & 2  & 2 \\\\\n",
       "\t Renfrewshire Council Education Department        & 8631344 & Kersland School                                        & PA2 7BU  & 1  & 1  & 1  & 1  & NA                  & NA       & NA        & NA        & NA   & NA & NA\\\\\n",
       "\t NA                                               & 3001024 & Calder Associates (Scotland) Limited                   & KY12 OQX & NA & NA & NA & NA & NA                  & NA       & NA        & NA        & NA   & NA & NA\\\\\n",
       "\t NA                                               & 3006166 & Ritchies Training Centre                               & G21 4AU  & 1  & 1  & 1  & 1  & 19/7/2016 00:00:00  & G21 4AQ  & S12000049 & S20001250 & 0678 & 1  & 1 \\\\\n",
       "\t NA                                               & 3006166 & Ritchies Training Centre                               & G21 4AU  & 1  & 1  & 1  & 1  & 19/7/2016 00:00:00  & G21 4AQ  & S12000049 & S20001250 & 0678 & 1  & 1 \\\\\n",
       "\t NA                                               & 3012743 & Fitness Training Scotland                              & KA1 9GX  & NA & NA & NA & NA & NA                  & NA       & NA        & NA        & NA   & NA & NA\\\\\n",
       "\t NA                                               & 4197437 & Training Matters (Scotland) Limited                    & G52 4RU  & NA & NA & NA & NA & NA                  & NA       & NA        & NA        & NA   & NA & NA\\\\\n",
       "\t Highland Council Education Department            & 5135532 & Kinlochleven High School                               & PH50 4QE & 2  & 3  & 6  & 7  & 1/10/2008 00:00:00  & PH50 4QL & S12000017 & S20001305 & 2290 & 6  & 7 \\\\\n",
       "\t NA                                               & 5294738 & Aberdeen City Council                                  & AB15 5PD & NA & NA & NA & NA & NA                  & NA       & NA        & NA        & NA   & NA & NA\\\\\n",
       "\t Fife Council Education Department                & 5406331 & Buckhaven High School                                  & KY8 1HL  & 1  & 1  & 2  & 2  & 19/10/2016 00:00:00 & KY8 1EA  & S12000047 & S20001368 & 1036 & 2  & 2 \\\\\n",
       "\t West Lothian Council Education Department        & 5511844 & Cedarbank School                                       & EH54 6FW & NA & NA & NA & NA & NA                  & NA       & NA        & NA        & NA   & NA & NA\\\\\n",
       "\t NA                                               & 5590183 & Midlothian Council - Communities and Lifelong Learning & EH22 3ZG & NA & NA & NA & NA & NA                  & NA       & NA        & NA        & NA   & NA & NA\\\\\n",
       "\t Dumfries \\& Galloway Council Education Department & 5939534 & North West Community Campus                            & DG2 9DY  & 1  & 1  & 2  & 2  & 1/9/1995 00:00:00   & DG2 9DX  & S12000006 & S20001177 & 1711 & 2  & 2 \\\\\n",
       "\t Inverclyde Council Education Department          & 8645434 & St Columba's High School (Gourock)                     & PA19 1TP & 1  & 1  & 2  & 2  & 13/10/2011 00:00:00 & PA19 1TN & S12000018 & S20001252 & 4533 & 2  & 2 \\\\\n",
       "\t NA                                               & 8694036 & East Renfrewshire Council                              & G78 2QY  & 1  & 1  & 2  & 2  & 17/10/2013 00:00:00 & G78 2RA  & S12000011 & S20001066 & 1215 & 2  & 2 \\\\\n",
       "\t Orkney Islands Council Education Department      & 6003230 & Sanday Secondary School                                & SG19 1BL & NA & NA & NA & NA & NA                  & NA       & NA        & NA        & NA   & NA & NA\\\\\n",
       "\\end{tabular}\n"
      ],
      "text/markdown": [
       "\n",
       "A tibble: 19 × 15\n",
       "\n",
       "| EducationAuthority &lt;fct&gt; | Centre &lt;fct&gt; | CentreName &lt;fct&gt; | Postcode &lt;chr&gt; | UrbanRural2FoldCode &lt;fct&gt; | UrbanRural3FoldCode &lt;fct&gt; | UrbanRural6FoldCode &lt;fct&gt; | UrbanRural8FoldCode &lt;fct&gt; | DateOfDeletion &lt;chr&gt; | LinkedSmallUserPostcode &lt;chr&gt; | CouncilArea2019Code &lt;fct&gt; | Settlement2016Code &lt;fct&gt; | SIMD2020Rank &lt;chr&gt; | UrbanRural6Fold2016Code &lt;fct&gt; | UrbanRural8Fold2016Code &lt;fct&gt; |\n",
       "|---|---|---|---|---|---|---|---|---|---|---|---|---|---|---|\n",
       "| NA                                               | 3009084 | Ageas Retail Ltd                                       | G71 5PU  | 1  | 1  | 2  | 2  | 29/10/2018 00:00:00 | G71 5PD  | S12000050 | S20001383 | 4374 | 2  | 2  |\n",
       "| NA                                               | 4196775 | Forward Training Partnership                           | EH54 6NG | 1  | 1  | 2  | 2  | NA                  | NA       | NA        | NA        | NA   | NA | NA |\n",
       "| Perth &amp; Kinross Council Education Department     | 5349834 | Breadalbane Academy                                    | PH15 2DU | 2  | 3  | 6  | 7  | NA                  | NA       | NA        | NA        | NA   | NA | NA |\n",
       "| Independent                                      | 5780136 | Beaconhurst School                                     | FK9 4RR  | 1  | 1  | 2  | 2  | 24/7/2019 00:00:00  | FK9 4RS  | S12000030 | S20001477 | 6921 | 2  | 2  |\n",
       "| Renfrewshire Council Education Department        | 8631344 | Kersland School                                        | PA2 7BU  | 1  | 1  | 1  | 1  | NA                  | NA       | NA        | NA        | NA   | NA | NA |\n",
       "| NA                                               | 3001024 | Calder Associates (Scotland) Limited                   | KY12 OQX | NA | NA | NA | NA | NA                  | NA       | NA        | NA        | NA   | NA | NA |\n",
       "| NA                                               | 3006166 | Ritchies Training Centre                               | G21 4AU  | 1  | 1  | 1  | 1  | 19/7/2016 00:00:00  | G21 4AQ  | S12000049 | S20001250 | 0678 | 1  | 1  |\n",
       "| NA                                               | 3006166 | Ritchies Training Centre                               | G21 4AU  | 1  | 1  | 1  | 1  | 19/7/2016 00:00:00  | G21 4AQ  | S12000049 | S20001250 | 0678 | 1  | 1  |\n",
       "| NA                                               | 3012743 | Fitness Training Scotland                              | KA1 9GX  | NA | NA | NA | NA | NA                  | NA       | NA        | NA        | NA   | NA | NA |\n",
       "| NA                                               | 4197437 | Training Matters (Scotland) Limited                    | G52 4RU  | NA | NA | NA | NA | NA                  | NA       | NA        | NA        | NA   | NA | NA |\n",
       "| Highland Council Education Department            | 5135532 | Kinlochleven High School                               | PH50 4QE | 2  | 3  | 6  | 7  | 1/10/2008 00:00:00  | PH50 4QL | S12000017 | S20001305 | 2290 | 6  | 7  |\n",
       "| NA                                               | 5294738 | Aberdeen City Council                                  | AB15 5PD | NA | NA | NA | NA | NA                  | NA       | NA        | NA        | NA   | NA | NA |\n",
       "| Fife Council Education Department                | 5406331 | Buckhaven High School                                  | KY8 1HL  | 1  | 1  | 2  | 2  | 19/10/2016 00:00:00 | KY8 1EA  | S12000047 | S20001368 | 1036 | 2  | 2  |\n",
       "| West Lothian Council Education Department        | 5511844 | Cedarbank School                                       | EH54 6FW | NA | NA | NA | NA | NA                  | NA       | NA        | NA        | NA   | NA | NA |\n",
       "| NA                                               | 5590183 | Midlothian Council - Communities and Lifelong Learning | EH22 3ZG | NA | NA | NA | NA | NA                  | NA       | NA        | NA        | NA   | NA | NA |\n",
       "| Dumfries &amp; Galloway Council Education Department | 5939534 | North West Community Campus                            | DG2 9DY  | 1  | 1  | 2  | 2  | 1/9/1995 00:00:00   | DG2 9DX  | S12000006 | S20001177 | 1711 | 2  | 2  |\n",
       "| Inverclyde Council Education Department          | 8645434 | St Columba's High School (Gourock)                     | PA19 1TP | 1  | 1  | 2  | 2  | 13/10/2011 00:00:00 | PA19 1TN | S12000018 | S20001252 | 4533 | 2  | 2  |\n",
       "| NA                                               | 8694036 | East Renfrewshire Council                              | G78 2QY  | 1  | 1  | 2  | 2  | 17/10/2013 00:00:00 | G78 2RA  | S12000011 | S20001066 | 1215 | 2  | 2  |\n",
       "| Orkney Islands Council Education Department      | 6003230 | Sanday Secondary School                                | SG19 1BL | NA | NA | NA | NA | NA                  | NA       | NA        | NA        | NA   | NA | NA |\n",
       "\n"
      ],
      "text/plain": [
       "   EducationAuthority                               Centre \n",
       "1  NA                                               3009084\n",
       "2  NA                                               4196775\n",
       "3  Perth & Kinross Council Education Department     5349834\n",
       "4  Independent                                      5780136\n",
       "5  Renfrewshire Council Education Department        8631344\n",
       "6  NA                                               3001024\n",
       "7  NA                                               3006166\n",
       "8  NA                                               3006166\n",
       "9  NA                                               3012743\n",
       "10 NA                                               4197437\n",
       "11 Highland Council Education Department            5135532\n",
       "12 NA                                               5294738\n",
       "13 Fife Council Education Department                5406331\n",
       "14 West Lothian Council Education Department        5511844\n",
       "15 NA                                               5590183\n",
       "16 Dumfries & Galloway Council Education Department 5939534\n",
       "17 Inverclyde Council Education Department          8645434\n",
       "18 NA                                               8694036\n",
       "19 Orkney Islands Council Education Department      6003230\n",
       "   CentreName                                             Postcode\n",
       "1  Ageas Retail Ltd                                       G71 5PU \n",
       "2  Forward Training Partnership                           EH54 6NG\n",
       "3  Breadalbane Academy                                    PH15 2DU\n",
       "4  Beaconhurst School                                     FK9 4RR \n",
       "5  Kersland School                                        PA2 7BU \n",
       "6  Calder Associates (Scotland) Limited                   KY12 OQX\n",
       "7  Ritchies Training Centre                               G21 4AU \n",
       "8  Ritchies Training Centre                               G21 4AU \n",
       "9  Fitness Training Scotland                              KA1 9GX \n",
       "10 Training Matters (Scotland) Limited                    G52 4RU \n",
       "11 Kinlochleven High School                               PH50 4QE\n",
       "12 Aberdeen City Council                                  AB15 5PD\n",
       "13 Buckhaven High School                                  KY8 1HL \n",
       "14 Cedarbank School                                       EH54 6FW\n",
       "15 Midlothian Council - Communities and Lifelong Learning EH22 3ZG\n",
       "16 North West Community Campus                            DG2 9DY \n",
       "17 St Columba's High School (Gourock)                     PA19 1TP\n",
       "18 East Renfrewshire Council                              G78 2QY \n",
       "19 Sanday Secondary School                                SG19 1BL\n",
       "   UrbanRural2FoldCode UrbanRural3FoldCode UrbanRural6FoldCode\n",
       "1  1                   1                   2                  \n",
       "2  1                   1                   2                  \n",
       "3  2                   3                   6                  \n",
       "4  1                   1                   2                  \n",
       "5  1                   1                   1                  \n",
       "6  NA                  NA                  NA                 \n",
       "7  1                   1                   1                  \n",
       "8  1                   1                   1                  \n",
       "9  NA                  NA                  NA                 \n",
       "10 NA                  NA                  NA                 \n",
       "11 2                   3                   6                  \n",
       "12 NA                  NA                  NA                 \n",
       "13 1                   1                   2                  \n",
       "14 NA                  NA                  NA                 \n",
       "15 NA                  NA                  NA                 \n",
       "16 1                   1                   2                  \n",
       "17 1                   1                   2                  \n",
       "18 1                   1                   2                  \n",
       "19 NA                  NA                  NA                 \n",
       "   UrbanRural8FoldCode DateOfDeletion      LinkedSmallUserPostcode\n",
       "1  2                   29/10/2018 00:00:00 G71 5PD                \n",
       "2  2                   NA                  NA                     \n",
       "3  7                   NA                  NA                     \n",
       "4  2                   24/7/2019 00:00:00  FK9 4RS                \n",
       "5  1                   NA                  NA                     \n",
       "6  NA                  NA                  NA                     \n",
       "7  1                   19/7/2016 00:00:00  G21 4AQ                \n",
       "8  1                   19/7/2016 00:00:00  G21 4AQ                \n",
       "9  NA                  NA                  NA                     \n",
       "10 NA                  NA                  NA                     \n",
       "11 7                   1/10/2008 00:00:00  PH50 4QL               \n",
       "12 NA                  NA                  NA                     \n",
       "13 2                   19/10/2016 00:00:00 KY8 1EA                \n",
       "14 NA                  NA                  NA                     \n",
       "15 NA                  NA                  NA                     \n",
       "16 2                   1/9/1995 00:00:00   DG2 9DX                \n",
       "17 2                   13/10/2011 00:00:00 PA19 1TN               \n",
       "18 2                   17/10/2013 00:00:00 G78 2RA                \n",
       "19 NA                  NA                  NA                     \n",
       "   CouncilArea2019Code Settlement2016Code SIMD2020Rank UrbanRural6Fold2016Code\n",
       "1  S12000050           S20001383          4374         2                      \n",
       "2  NA                  NA                 NA           NA                     \n",
       "3  NA                  NA                 NA           NA                     \n",
       "4  S12000030           S20001477          6921         2                      \n",
       "5  NA                  NA                 NA           NA                     \n",
       "6  NA                  NA                 NA           NA                     \n",
       "7  S12000049           S20001250          0678         1                      \n",
       "8  S12000049           S20001250          0678         1                      \n",
       "9  NA                  NA                 NA           NA                     \n",
       "10 NA                  NA                 NA           NA                     \n",
       "11 S12000017           S20001305          2290         6                      \n",
       "12 NA                  NA                 NA           NA                     \n",
       "13 S12000047           S20001368          1036         2                      \n",
       "14 NA                  NA                 NA           NA                     \n",
       "15 NA                  NA                 NA           NA                     \n",
       "16 S12000006           S20001177          1711         2                      \n",
       "17 S12000018           S20001252          4533         2                      \n",
       "18 S12000011           S20001066          1215         2                      \n",
       "19 NA                  NA                 NA           NA                     \n",
       "   UrbanRural8Fold2016Code\n",
       "1  2                      \n",
       "2  NA                     \n",
       "3  NA                     \n",
       "4  2                      \n",
       "5  NA                     \n",
       "6  NA                     \n",
       "7  1                      \n",
       "8  1                      \n",
       "9  NA                     \n",
       "10 NA                     \n",
       "11 7                      \n",
       "12 NA                     \n",
       "13 2                      \n",
       "14 NA                     \n",
       "15 NA                     \n",
       "16 2                      \n",
       "17 2                      \n",
       "18 2                      \n",
       "19 NA                     "
      ]
     },
     "metadata": {},
     "output_type": "display_data"
    }
   ],
   "source": [
    "centre_postcodes %>%\n",
    "    filter(Country == \"Scotland\") %>%\n",
    "    filter(!(Postcode %in% \n",
    "              (postcode_lookup %>%\n",
    "                   filter(is.na(DateOfDeletion)) %>%\n",
    "                   distinct(Postcode) %>%\n",
    "                   deframe()))) %>%\n",
    "    select(EducationAuthority, Centre, CentreName, Postcode, starts_with(\"UrbanRural\")) %>%\n",
    "    distinct() %>%\n",
    "\n",
    "    left_join(postcode_lookup %>%\n",
    "                  filter(LinkedSmallUserPostcode != \"NO LINKP\") %>%\n",
    "                  select(Postcode, DateOfDeletion, LinkedSmallUserPostcode) \n",
    "    ) %>%\n",
    "\n",
    "    left_join(postcode_lookup %>%\n",
    "                  select(Postcode, contains(c(\"CouncilArea2019\", \"Settlement2016\", \"SIMD2020\", \"UrbanRural\"))),\n",
    "              by = c(\"LinkedSmallUserPostcode\" = \"Postcode\")\n",
    "    )"
   ]
  },
  {
   "cell_type": "code",
   "execution_count": 50,
   "metadata": {},
   "outputs": [
    {
     "data": {
      "text/html": [
       "<table class=\"dataframe\">\n",
       "<caption>A tibble: 18 × 4</caption>\n",
       "<thead>\n",
       "\t<tr><th scope=col>EducationAuthority</th><th scope=col>Centre</th><th scope=col>CentreName</th><th scope=col>Postcode</th></tr>\n",
       "\t<tr><th scope=col>&lt;fct&gt;</th><th scope=col>&lt;fct&gt;</th><th scope=col>&lt;fct&gt;</th><th scope=col>&lt;fct&gt;</th></tr>\n",
       "</thead>\n",
       "<tbody>\n",
       "\t<tr><td>Dumfries &amp; Galloway Council Education Department</td><td>1004620</td><td><span style=white-space:pre-wrap>North West Community Campus                           </span></td><td>DG2 9DF </td></tr>\n",
       "\t<tr><td>Dumfries &amp; Galloway Council Education Department</td><td>5940745</td><td><span style=white-space:pre-wrap>Langlands School                                      </span></td><td>DG2 9DF </td></tr>\n",
       "\t<tr><td>Midlothian Council Education Department         </td><td>5546036</td><td>Newbattle High School                                 </td><td>EH22 4SX</td></tr>\n",
       "\t<tr><td>North Ayrshire Council Education Department     </td><td>1005405</td><td>Lockhart Campus                                       </td><td>KA20 3JX</td></tr>\n",
       "\t<tr><td>North Ayrshire Council Education Department     </td><td>8215839</td><td>Largs Academy                                         </td><td>KA30 9DR</td></tr>\n",
       "\t<tr><td>Orkney Islands Council Education Department     </td><td>6003230</td><td>Sanday Secondary School                               </td><td>SG19 1BL</td></tr>\n",
       "\t<tr><td><span style=white-space:pre-wrap>Perth &amp; Kinross Council Education Department    </span></td><td>1004743</td><td><span style=white-space:pre-wrap>Bertha Park High School                               </span></td><td>PH1 0AU </td></tr>\n",
       "\t<tr><td>West Lothian Council Education Department       </td><td>5502330</td><td>West Calder High School                               </td><td>EH55 8BF</td></tr>\n",
       "\t<tr><td>West Lothian Council Education Department       </td><td>5511844</td><td>Cedarbank School                                      </td><td>EH54 6FW</td></tr>\n",
       "\t<tr><td>NA                                              </td><td>3000451</td><td>Rewards Training                                      </td><td>G2 3BZ  </td></tr>\n",
       "\t<tr><td>NA                                              </td><td>3001024</td><td>Calder Associates (Scotland) Limited                  </td><td>KY12 OQX</td></tr>\n",
       "\t<tr><td>NA                                              </td><td>3012743</td><td>Fitness Training Scotland                             </td><td>KA1 9GX </td></tr>\n",
       "\t<tr><td>NA                                              </td><td>3012808</td><td>Alma Care Training                                    </td><td>G72 6AN </td></tr>\n",
       "\t<tr><td>NA                                              </td><td>3023486</td><td>Lead Scotland                                         </td><td>EH5 2FF </td></tr>\n",
       "\t<tr><td>NA                                              </td><td>4197437</td><td>Training Matters (Scotland) Limited                   </td><td>G52 4RU </td></tr>\n",
       "\t<tr><td>NA                                              </td><td>5294738</td><td>Aberdeen City Council                                 </td><td>AB15 5PD</td></tr>\n",
       "\t<tr><td>NA                                              </td><td>5590183</td><td>Midlothian Council - Communities and Lifelong Learning</td><td>EH22 3ZG</td></tr>\n",
       "\t<tr><td>NA                                              </td><td>5592631</td><td>Workers Educational Association                       </td><td>EH5 2FF </td></tr>\n",
       "</tbody>\n",
       "</table>\n"
      ],
      "text/latex": [
       "A tibble: 18 × 4\n",
       "\\begin{tabular}{llll}\n",
       " EducationAuthority & Centre & CentreName & Postcode\\\\\n",
       " <fct> & <fct> & <fct> & <fct>\\\\\n",
       "\\hline\n",
       "\t Dumfries \\& Galloway Council Education Department & 1004620 & North West Community Campus                            & DG2 9DF \\\\\n",
       "\t Dumfries \\& Galloway Council Education Department & 5940745 & Langlands School                                       & DG2 9DF \\\\\n",
       "\t Midlothian Council Education Department          & 5546036 & Newbattle High School                                  & EH22 4SX\\\\\n",
       "\t North Ayrshire Council Education Department      & 1005405 & Lockhart Campus                                        & KA20 3JX\\\\\n",
       "\t North Ayrshire Council Education Department      & 8215839 & Largs Academy                                          & KA30 9DR\\\\\n",
       "\t Orkney Islands Council Education Department      & 6003230 & Sanday Secondary School                                & SG19 1BL\\\\\n",
       "\t Perth \\& Kinross Council Education Department     & 1004743 & Bertha Park High School                                & PH1 0AU \\\\\n",
       "\t West Lothian Council Education Department        & 5502330 & West Calder High School                                & EH55 8BF\\\\\n",
       "\t West Lothian Council Education Department        & 5511844 & Cedarbank School                                       & EH54 6FW\\\\\n",
       "\t NA                                               & 3000451 & Rewards Training                                       & G2 3BZ  \\\\\n",
       "\t NA                                               & 3001024 & Calder Associates (Scotland) Limited                   & KY12 OQX\\\\\n",
       "\t NA                                               & 3012743 & Fitness Training Scotland                              & KA1 9GX \\\\\n",
       "\t NA                                               & 3012808 & Alma Care Training                                     & G72 6AN \\\\\n",
       "\t NA                                               & 3023486 & Lead Scotland                                          & EH5 2FF \\\\\n",
       "\t NA                                               & 4197437 & Training Matters (Scotland) Limited                    & G52 4RU \\\\\n",
       "\t NA                                               & 5294738 & Aberdeen City Council                                  & AB15 5PD\\\\\n",
       "\t NA                                               & 5590183 & Midlothian Council - Communities and Lifelong Learning & EH22 3ZG\\\\\n",
       "\t NA                                               & 5592631 & Workers Educational Association                        & EH5 2FF \\\\\n",
       "\\end{tabular}\n"
      ],
      "text/markdown": [
       "\n",
       "A tibble: 18 × 4\n",
       "\n",
       "| EducationAuthority &lt;fct&gt; | Centre &lt;fct&gt; | CentreName &lt;fct&gt; | Postcode &lt;fct&gt; |\n",
       "|---|---|---|---|\n",
       "| Dumfries &amp; Galloway Council Education Department | 1004620 | North West Community Campus                            | DG2 9DF  |\n",
       "| Dumfries &amp; Galloway Council Education Department | 5940745 | Langlands School                                       | DG2 9DF  |\n",
       "| Midlothian Council Education Department          | 5546036 | Newbattle High School                                  | EH22 4SX |\n",
       "| North Ayrshire Council Education Department      | 1005405 | Lockhart Campus                                        | KA20 3JX |\n",
       "| North Ayrshire Council Education Department      | 8215839 | Largs Academy                                          | KA30 9DR |\n",
       "| Orkney Islands Council Education Department      | 6003230 | Sanday Secondary School                                | SG19 1BL |\n",
       "| Perth &amp; Kinross Council Education Department     | 1004743 | Bertha Park High School                                | PH1 0AU  |\n",
       "| West Lothian Council Education Department        | 5502330 | West Calder High School                                | EH55 8BF |\n",
       "| West Lothian Council Education Department        | 5511844 | Cedarbank School                                       | EH54 6FW |\n",
       "| NA                                               | 3000451 | Rewards Training                                       | G2 3BZ   |\n",
       "| NA                                               | 3001024 | Calder Associates (Scotland) Limited                   | KY12 OQX |\n",
       "| NA                                               | 3012743 | Fitness Training Scotland                              | KA1 9GX  |\n",
       "| NA                                               | 3012808 | Alma Care Training                                     | G72 6AN  |\n",
       "| NA                                               | 3023486 | Lead Scotland                                          | EH5 2FF  |\n",
       "| NA                                               | 4197437 | Training Matters (Scotland) Limited                    | G52 4RU  |\n",
       "| NA                                               | 5294738 | Aberdeen City Council                                  | AB15 5PD |\n",
       "| NA                                               | 5590183 | Midlothian Council - Communities and Lifelong Learning | EH22 3ZG |\n",
       "| NA                                               | 5592631 | Workers Educational Association                        | EH5 2FF  |\n",
       "\n"
      ],
      "text/plain": [
       "   EducationAuthority                               Centre \n",
       "1  Dumfries & Galloway Council Education Department 1004620\n",
       "2  Dumfries & Galloway Council Education Department 5940745\n",
       "3  Midlothian Council Education Department          5546036\n",
       "4  North Ayrshire Council Education Department      1005405\n",
       "5  North Ayrshire Council Education Department      8215839\n",
       "6  Orkney Islands Council Education Department      6003230\n",
       "7  Perth & Kinross Council Education Department     1004743\n",
       "8  West Lothian Council Education Department        5502330\n",
       "9  West Lothian Council Education Department        5511844\n",
       "10 NA                                               3000451\n",
       "11 NA                                               3001024\n",
       "12 NA                                               3012743\n",
       "13 NA                                               3012808\n",
       "14 NA                                               3023486\n",
       "15 NA                                               4197437\n",
       "16 NA                                               5294738\n",
       "17 NA                                               5590183\n",
       "18 NA                                               5592631\n",
       "   CentreName                                             Postcode\n",
       "1  North West Community Campus                            DG2 9DF \n",
       "2  Langlands School                                       DG2 9DF \n",
       "3  Newbattle High School                                  EH22 4SX\n",
       "4  Lockhart Campus                                        KA20 3JX\n",
       "5  Largs Academy                                          KA30 9DR\n",
       "6  Sanday Secondary School                                SG19 1BL\n",
       "7  Bertha Park High School                                PH1 0AU \n",
       "8  West Calder High School                                EH55 8BF\n",
       "9  Cedarbank School                                       EH54 6FW\n",
       "10 Rewards Training                                       G2 3BZ  \n",
       "11 Calder Associates (Scotland) Limited                   KY12 OQX\n",
       "12 Fitness Training Scotland                              KA1 9GX \n",
       "13 Alma Care Training                                     G72 6AN \n",
       "14 Lead Scotland                                          EH5 2FF \n",
       "15 Training Matters (Scotland) Limited                    G52 4RU \n",
       "16 Aberdeen City Council                                  AB15 5PD\n",
       "17 Midlothian Council - Communities and Lifelong Learning EH22 3ZG\n",
       "18 Workers Educational Association                        EH5 2FF "
      ]
     },
     "metadata": {},
     "output_type": "display_data"
    }
   ],
   "source": [
    "centre_postcodes %>%\n",
    "    filter((Country == \"Scotland\") & if_all(starts_with(\"UrbanRural\"), is.na)) %>%\n",
    "    select(contains(c(\"Authority\", \"Centre\")), Postcode) %>%\n",
    "    distinct() %>%\n",
    "    arrange(EducationAuthority)"
   ]
  },
  {
   "cell_type": "code",
   "execution_count": null,
   "metadata": {},
   "outputs": [],
   "source": []
  },
  {
   "cell_type": "code",
   "execution_count": 51,
   "metadata": {},
   "outputs": [
    {
     "name": "stderr",
     "output_type": "stream",
     "text": [
      "Joining, by = \"Postcode\"\n",
      "Joining, by = \"UrbanRural6FoldCode\"\n",
      "Joining, by = \"UrbanRural8FoldCode\"\n"
     ]
    },
    {
     "data": {
      "text/html": [
       "<table class=\"dataframe\">\n",
       "<caption>A tibble: 12 × 10</caption>\n",
       "<thead>\n",
       "\t<tr><th scope=col>EducationAuthority</th><th scope=col>Centre</th><th scope=col>CentreName</th><th scope=col>Postcode</th><th scope=col>CouncilArea2019Code</th><th scope=col>Settlement2016Code</th><th scope=col>UrbanRural6FoldCode</th><th scope=col>UrbanRural8FoldCode</th><th scope=col>UrbanRural6FoldClassification</th><th scope=col>UrbanRural8FoldClassification</th></tr>\n",
       "\t<tr><th scope=col>&lt;fct&gt;</th><th scope=col>&lt;fct&gt;</th><th scope=col>&lt;fct&gt;</th><th scope=col>&lt;chr&gt;</th><th scope=col>&lt;fct&gt;</th><th scope=col>&lt;fct&gt;</th><th scope=col>&lt;fct&gt;</th><th scope=col>&lt;fct&gt;</th><th scope=col>&lt;fct&gt;</th><th scope=col>&lt;fct&gt;</th></tr>\n",
       "</thead>\n",
       "<tbody>\n",
       "\t<tr><td>Dumfries &amp; Galloway Council Education Department</td><td>1004620</td><td><span style=white-space:pre-wrap>North West Community Campus    </span></td><td>DG2 9DF </td><td>S12000006</td><td>S20001177</td><td>2</td><td>2</td><td>Other Urban Areas</td><td><span style=white-space:pre-wrap>Other Urban Areas     </span></td></tr>\n",
       "\t<tr><td><span style=white-space:pre-wrap>Perth &amp; Kinross Council Education Department    </span></td><td>1004743</td><td><span style=white-space:pre-wrap>Bertha Park High School        </span></td><td>PH1 0AU </td><td>S12000048</td><td><span style=white-space:pre-wrap>NA       </span></td><td>5</td><td>6</td><td>Accessible Rural </td><td>Accessible Rural Areas</td></tr>\n",
       "\t<tr><td>North Ayrshire Council Education Department     </td><td>1005405</td><td>Lockhart Campus                </td><td>KA20 3JX</td><td>S12000021</td><td>S20001453</td><td>2</td><td>2</td><td>Other Urban Areas</td><td>Other Urban Areas     </td></tr>\n",
       "\t<tr><td>NA                                              </td><td>3000451</td><td>Rewards Training               </td><td>G2 3BZ  </td><td>S12000049</td><td>S20001250</td><td>1</td><td>1</td><td>Large Urban Areas</td><td>Large Urban Areas     </td></tr>\n",
       "\t<tr><td>NA                                              </td><td>3000451</td><td>Rewards Training               </td><td>G2 3BZ  </td><td>S12000049</td><td>S20001250</td><td>1</td><td>1</td><td>Large Urban Areas</td><td>Large Urban Areas     </td></tr>\n",
       "\t<tr><td>NA                                              </td><td>3012808</td><td>Alma Care Training             </td><td>G72 6AN </td><td>S12000029</td><td>S20001250</td><td>1</td><td>1</td><td>Large Urban Areas</td><td>Large Urban Areas     </td></tr>\n",
       "\t<tr><td>NA                                              </td><td>3023486</td><td>Lead Scotland                  </td><td>EH5 2FF </td><td>S12000036</td><td>S20001198</td><td>1</td><td>1</td><td>Large Urban Areas</td><td>Large Urban Areas     </td></tr>\n",
       "\t<tr><td>West Lothian Council Education Department       </td><td>5502330</td><td>West Calder High School        </td><td>EH55 8BF</td><td>S12000040</td><td>NA       </td><td>5</td><td>6</td><td>Accessible Rural </td><td>Accessible Rural Areas</td></tr>\n",
       "\t<tr><td>Midlothian Council Education Department         </td><td>5546036</td><td>Newbattle High School          </td><td>EH22 4SX</td><td>S12000019</td><td>S20001082</td><td>2</td><td>2</td><td>Other Urban Areas</td><td>Other Urban Areas     </td></tr>\n",
       "\t<tr><td>NA                                              </td><td>5592631</td><td>Workers Educational Association</td><td>EH5 2FF </td><td>S12000036</td><td>S20001198</td><td>1</td><td>1</td><td>Large Urban Areas</td><td>Large Urban Areas     </td></tr>\n",
       "\t<tr><td>Dumfries &amp; Galloway Council Education Department</td><td>5940745</td><td><span style=white-space:pre-wrap>Langlands School               </span></td><td>DG2 9DF </td><td>S12000006</td><td>S20001177</td><td>2</td><td>2</td><td>Other Urban Areas</td><td><span style=white-space:pre-wrap>Other Urban Areas     </span></td></tr>\n",
       "\t<tr><td>North Ayrshire Council Education Department     </td><td>8215839</td><td>Largs Academy                  </td><td>KA30 9DR</td><td>S12000021</td><td>NA       </td><td>5</td><td>6</td><td>Accessible Rural </td><td>Accessible Rural Areas</td></tr>\n",
       "</tbody>\n",
       "</table>\n"
      ],
      "text/latex": [
       "A tibble: 12 × 10\n",
       "\\begin{tabular}{llllllllll}\n",
       " EducationAuthority & Centre & CentreName & Postcode & CouncilArea2019Code & Settlement2016Code & UrbanRural6FoldCode & UrbanRural8FoldCode & UrbanRural6FoldClassification & UrbanRural8FoldClassification\\\\\n",
       " <fct> & <fct> & <fct> & <chr> & <fct> & <fct> & <fct> & <fct> & <fct> & <fct>\\\\\n",
       "\\hline\n",
       "\t Dumfries \\& Galloway Council Education Department & 1004620 & North West Community Campus     & DG2 9DF  & S12000006 & S20001177 & 2 & 2 & Other Urban Areas & Other Urban Areas     \\\\\n",
       "\t Perth \\& Kinross Council Education Department     & 1004743 & Bertha Park High School         & PH1 0AU  & S12000048 & NA        & 5 & 6 & Accessible Rural  & Accessible Rural Areas\\\\\n",
       "\t North Ayrshire Council Education Department      & 1005405 & Lockhart Campus                 & KA20 3JX & S12000021 & S20001453 & 2 & 2 & Other Urban Areas & Other Urban Areas     \\\\\n",
       "\t NA                                               & 3000451 & Rewards Training                & G2 3BZ   & S12000049 & S20001250 & 1 & 1 & Large Urban Areas & Large Urban Areas     \\\\\n",
       "\t NA                                               & 3000451 & Rewards Training                & G2 3BZ   & S12000049 & S20001250 & 1 & 1 & Large Urban Areas & Large Urban Areas     \\\\\n",
       "\t NA                                               & 3012808 & Alma Care Training              & G72 6AN  & S12000029 & S20001250 & 1 & 1 & Large Urban Areas & Large Urban Areas     \\\\\n",
       "\t NA                                               & 3023486 & Lead Scotland                   & EH5 2FF  & S12000036 & S20001198 & 1 & 1 & Large Urban Areas & Large Urban Areas     \\\\\n",
       "\t West Lothian Council Education Department        & 5502330 & West Calder High School         & EH55 8BF & S12000040 & NA        & 5 & 6 & Accessible Rural  & Accessible Rural Areas\\\\\n",
       "\t Midlothian Council Education Department          & 5546036 & Newbattle High School           & EH22 4SX & S12000019 & S20001082 & 2 & 2 & Other Urban Areas & Other Urban Areas     \\\\\n",
       "\t NA                                               & 5592631 & Workers Educational Association & EH5 2FF  & S12000036 & S20001198 & 1 & 1 & Large Urban Areas & Large Urban Areas     \\\\\n",
       "\t Dumfries \\& Galloway Council Education Department & 5940745 & Langlands School                & DG2 9DF  & S12000006 & S20001177 & 2 & 2 & Other Urban Areas & Other Urban Areas     \\\\\n",
       "\t North Ayrshire Council Education Department      & 8215839 & Largs Academy                   & KA30 9DR & S12000021 & NA        & 5 & 6 & Accessible Rural  & Accessible Rural Areas\\\\\n",
       "\\end{tabular}\n"
      ],
      "text/markdown": [
       "\n",
       "A tibble: 12 × 10\n",
       "\n",
       "| EducationAuthority &lt;fct&gt; | Centre &lt;fct&gt; | CentreName &lt;fct&gt; | Postcode &lt;chr&gt; | CouncilArea2019Code &lt;fct&gt; | Settlement2016Code &lt;fct&gt; | UrbanRural6FoldCode &lt;fct&gt; | UrbanRural8FoldCode &lt;fct&gt; | UrbanRural6FoldClassification &lt;fct&gt; | UrbanRural8FoldClassification &lt;fct&gt; |\n",
       "|---|---|---|---|---|---|---|---|---|---|\n",
       "| Dumfries &amp; Galloway Council Education Department | 1004620 | North West Community Campus     | DG2 9DF  | S12000006 | S20001177 | 2 | 2 | Other Urban Areas | Other Urban Areas      |\n",
       "| Perth &amp; Kinross Council Education Department     | 1004743 | Bertha Park High School         | PH1 0AU  | S12000048 | NA        | 5 | 6 | Accessible Rural  | Accessible Rural Areas |\n",
       "| North Ayrshire Council Education Department      | 1005405 | Lockhart Campus                 | KA20 3JX | S12000021 | S20001453 | 2 | 2 | Other Urban Areas | Other Urban Areas      |\n",
       "| NA                                               | 3000451 | Rewards Training                | G2 3BZ   | S12000049 | S20001250 | 1 | 1 | Large Urban Areas | Large Urban Areas      |\n",
       "| NA                                               | 3000451 | Rewards Training                | G2 3BZ   | S12000049 | S20001250 | 1 | 1 | Large Urban Areas | Large Urban Areas      |\n",
       "| NA                                               | 3012808 | Alma Care Training              | G72 6AN  | S12000029 | S20001250 | 1 | 1 | Large Urban Areas | Large Urban Areas      |\n",
       "| NA                                               | 3023486 | Lead Scotland                   | EH5 2FF  | S12000036 | S20001198 | 1 | 1 | Large Urban Areas | Large Urban Areas      |\n",
       "| West Lothian Council Education Department        | 5502330 | West Calder High School         | EH55 8BF | S12000040 | NA        | 5 | 6 | Accessible Rural  | Accessible Rural Areas |\n",
       "| Midlothian Council Education Department          | 5546036 | Newbattle High School           | EH22 4SX | S12000019 | S20001082 | 2 | 2 | Other Urban Areas | Other Urban Areas      |\n",
       "| NA                                               | 5592631 | Workers Educational Association | EH5 2FF  | S12000036 | S20001198 | 1 | 1 | Large Urban Areas | Large Urban Areas      |\n",
       "| Dumfries &amp; Galloway Council Education Department | 5940745 | Langlands School                | DG2 9DF  | S12000006 | S20001177 | 2 | 2 | Other Urban Areas | Other Urban Areas      |\n",
       "| North Ayrshire Council Education Department      | 8215839 | Largs Academy                   | KA30 9DR | S12000021 | NA        | 5 | 6 | Accessible Rural  | Accessible Rural Areas |\n",
       "\n"
      ],
      "text/plain": [
       "   EducationAuthority                               Centre \n",
       "1  Dumfries & Galloway Council Education Department 1004620\n",
       "2  Perth & Kinross Council Education Department     1004743\n",
       "3  North Ayrshire Council Education Department      1005405\n",
       "4  NA                                               3000451\n",
       "5  NA                                               3000451\n",
       "6  NA                                               3012808\n",
       "7  NA                                               3023486\n",
       "8  West Lothian Council Education Department        5502330\n",
       "9  Midlothian Council Education Department          5546036\n",
       "10 NA                                               5592631\n",
       "11 Dumfries & Galloway Council Education Department 5940745\n",
       "12 North Ayrshire Council Education Department      8215839\n",
       "   CentreName                      Postcode CouncilArea2019Code\n",
       "1  North West Community Campus     DG2 9DF  S12000006          \n",
       "2  Bertha Park High School         PH1 0AU  S12000048          \n",
       "3  Lockhart Campus                 KA20 3JX S12000021          \n",
       "4  Rewards Training                G2 3BZ   S12000049          \n",
       "5  Rewards Training                G2 3BZ   S12000049          \n",
       "6  Alma Care Training              G72 6AN  S12000029          \n",
       "7  Lead Scotland                   EH5 2FF  S12000036          \n",
       "8  West Calder High School         EH55 8BF S12000040          \n",
       "9  Newbattle High School           EH22 4SX S12000019          \n",
       "10 Workers Educational Association EH5 2FF  S12000036          \n",
       "11 Langlands School                DG2 9DF  S12000006          \n",
       "12 Largs Academy                   KA30 9DR S12000021          \n",
       "   Settlement2016Code UrbanRural6FoldCode UrbanRural8FoldCode\n",
       "1  S20001177          2                   2                  \n",
       "2  NA                 5                   6                  \n",
       "3  S20001453          2                   2                  \n",
       "4  S20001250          1                   1                  \n",
       "5  S20001250          1                   1                  \n",
       "6  S20001250          1                   1                  \n",
       "7  S20001198          1                   1                  \n",
       "8  NA                 5                   6                  \n",
       "9  S20001082          2                   2                  \n",
       "10 S20001198          1                   1                  \n",
       "11 S20001177          2                   2                  \n",
       "12 NA                 5                   6                  \n",
       "   UrbanRural6FoldClassification UrbanRural8FoldClassification\n",
       "1  Other Urban Areas             Other Urban Areas            \n",
       "2  Accessible Rural              Accessible Rural Areas       \n",
       "3  Other Urban Areas             Other Urban Areas            \n",
       "4  Large Urban Areas             Large Urban Areas            \n",
       "5  Large Urban Areas             Large Urban Areas            \n",
       "6  Large Urban Areas             Large Urban Areas            \n",
       "7  Large Urban Areas             Large Urban Areas            \n",
       "8  Accessible Rural              Accessible Rural Areas       \n",
       "9  Other Urban Areas             Other Urban Areas            \n",
       "10 Large Urban Areas             Large Urban Areas            \n",
       "11 Other Urban Areas             Other Urban Areas            \n",
       "12 Accessible Rural              Accessible Rural Areas       "
      ]
     },
     "metadata": {},
     "output_type": "display_data"
    }
   ],
   "source": [
    "# fill in remaining blanks... \n",
    "\n",
    "centre_postcodes %>%\n",
    "    filter((Country == \"Scotland\") & if_any(starts_with(\"UrbanRural\"), is.na)) %>%\n",
    "    select(- starts_with(\"UrbanRural\")) %>%\n",
    "    \n",
    "    filter(Postcode %in% \n",
    "              (postcode_lookup %>%\n",
    "                   filter(is.na(DateOfDeletion)) %>%\n",
    "                   distinct(Postcode) %>%\n",
    "                   deframe())) %>%\n",
    "\n",
    "    left_join(postcode_lookup %>%\n",
    "                  select(Postcode, contains(c(\"CouncilArea2019\", \"Settlement2016\", \"IndexOfMultipleDeprivation\", \"UrbanRural\")))\n",
    "             ) %>%\n",
    "    rename_with(~ str_replace(., \"2016\", \"\"), starts_with(\"UrbanRural\")) %>%\n",
    "    \n",
    "\n",
    "    left_join(sg_6_fold_urban_rural_classification %>%\n",
    "                  select(- Description)) %>%\n",
    "    left_join(sg_8_fold_urban_rural_classification %>%\n",
    "                 select(- Description)) %>%\n",
    "\n",
    "    select(EducationAuthority, Centre, CentreName, Postcode, contains(c(\"CouncilArea2019\", \"Settlement2016\", \"IndexOfMultipleDeprivation\", \"UrbanRural\"))) \n"
   ]
  },
  {
   "cell_type": "code",
   "execution_count": 52,
   "metadata": {},
   "outputs": [
    {
     "name": "stderr",
     "output_type": "stream",
     "text": [
      "Joining, by = \"Postcode\"\n",
      "Joining, by = c(\"UrbanRural6FoldCode\", \"UrbanRural8FoldCode\")\n"
     ]
    },
    {
     "data": {
      "text/html": [
       "<table class=\"dataframe\">\n",
       "<caption>A tibble: 3 × 4</caption>\n",
       "<thead>\n",
       "\t<tr><th scope=col>UrbanRural2FoldCode</th><th scope=col>UrbanRural3FoldCode</th><th scope=col>UrbanRural6FoldCode</th><th scope=col>UrbanRural8FoldCode</th></tr>\n",
       "\t<tr><th scope=col>&lt;fct&gt;</th><th scope=col>&lt;fct&gt;</th><th scope=col>&lt;fct&gt;</th><th scope=col>&lt;fct&gt;</th></tr>\n",
       "</thead>\n",
       "<tbody>\n",
       "\t<tr><td>1</td><td>1</td><td>2</td><td>2</td></tr>\n",
       "\t<tr><td>1</td><td>1</td><td>1</td><td>1</td></tr>\n",
       "\t<tr><td>2</td><td>2</td><td>5</td><td>6</td></tr>\n",
       "</tbody>\n",
       "</table>\n"
      ],
      "text/latex": [
       "A tibble: 3 × 4\n",
       "\\begin{tabular}{llll}\n",
       " UrbanRural2FoldCode & UrbanRural3FoldCode & UrbanRural6FoldCode & UrbanRural8FoldCode\\\\\n",
       " <fct> & <fct> & <fct> & <fct>\\\\\n",
       "\\hline\n",
       "\t 1 & 1 & 2 & 2\\\\\n",
       "\t 1 & 1 & 1 & 1\\\\\n",
       "\t 2 & 2 & 5 & 6\\\\\n",
       "\\end{tabular}\n"
      ],
      "text/markdown": [
       "\n",
       "A tibble: 3 × 4\n",
       "\n",
       "| UrbanRural2FoldCode &lt;fct&gt; | UrbanRural3FoldCode &lt;fct&gt; | UrbanRural6FoldCode &lt;fct&gt; | UrbanRural8FoldCode &lt;fct&gt; |\n",
       "|---|---|---|---|\n",
       "| 1 | 1 | 2 | 2 |\n",
       "| 1 | 1 | 1 | 1 |\n",
       "| 2 | 2 | 5 | 6 |\n",
       "\n"
      ],
      "text/plain": [
       "  UrbanRural2FoldCode UrbanRural3FoldCode UrbanRural6FoldCode\n",
       "1 1                   1                   2                  \n",
       "2 1                   1                   1                  \n",
       "3 2                   2                   5                  \n",
       "  UrbanRural8FoldCode\n",
       "1 2                  \n",
       "2 1                  \n",
       "3 6                  "
      ]
     },
     "metadata": {},
     "output_type": "display_data"
    },
    {
     "data": {
      "text/html": [
       "<table class=\"dataframe\">\n",
       "<caption>A tibble: 9 × 4</caption>\n",
       "<thead>\n",
       "\t<tr><th scope=col>UrbanRural2FoldCode</th><th scope=col>UrbanRural3FoldCode</th><th scope=col>UrbanRural6FoldCode</th><th scope=col>UrbanRural8FoldCode</th></tr>\n",
       "\t<tr><th scope=col>&lt;fct&gt;</th><th scope=col>&lt;fct&gt;</th><th scope=col>&lt;fct&gt;</th><th scope=col>&lt;fct&gt;</th></tr>\n",
       "</thead>\n",
       "<tbody>\n",
       "\t<tr><td>1 </td><td>1 </td><td>1 </td><td>1 </td></tr>\n",
       "\t<tr><td>1 </td><td>1 </td><td>3 </td><td>3 </td></tr>\n",
       "\t<tr><td>2 </td><td>2 </td><td>5 </td><td>6 </td></tr>\n",
       "\t<tr><td>1 </td><td>1 </td><td>2 </td><td>2 </td></tr>\n",
       "\t<tr><td>2 </td><td>3 </td><td>6 </td><td>7 </td></tr>\n",
       "\t<tr><td>1 </td><td>1 </td><td>4 </td><td>4 </td></tr>\n",
       "\t<tr><td>1 </td><td>1 </td><td>4 </td><td>5 </td></tr>\n",
       "\t<tr><td>2 </td><td>3 </td><td>6 </td><td>8 </td></tr>\n",
       "\t<tr><td>NA</td><td>NA</td><td>NA</td><td>NA</td></tr>\n",
       "</tbody>\n",
       "</table>\n"
      ],
      "text/latex": [
       "A tibble: 9 × 4\n",
       "\\begin{tabular}{llll}\n",
       " UrbanRural2FoldCode & UrbanRural3FoldCode & UrbanRural6FoldCode & UrbanRural8FoldCode\\\\\n",
       " <fct> & <fct> & <fct> & <fct>\\\\\n",
       "\\hline\n",
       "\t 1  & 1  & 1  & 1 \\\\\n",
       "\t 1  & 1  & 3  & 3 \\\\\n",
       "\t 2  & 2  & 5  & 6 \\\\\n",
       "\t 1  & 1  & 2  & 2 \\\\\n",
       "\t 2  & 3  & 6  & 7 \\\\\n",
       "\t 1  & 1  & 4  & 4 \\\\\n",
       "\t 1  & 1  & 4  & 5 \\\\\n",
       "\t 2  & 3  & 6  & 8 \\\\\n",
       "\t NA & NA & NA & NA\\\\\n",
       "\\end{tabular}\n"
      ],
      "text/markdown": [
       "\n",
       "A tibble: 9 × 4\n",
       "\n",
       "| UrbanRural2FoldCode &lt;fct&gt; | UrbanRural3FoldCode &lt;fct&gt; | UrbanRural6FoldCode &lt;fct&gt; | UrbanRural8FoldCode &lt;fct&gt; |\n",
       "|---|---|---|---|\n",
       "| 1  | 1  | 1  | 1  |\n",
       "| 1  | 1  | 3  | 3  |\n",
       "| 2  | 2  | 5  | 6  |\n",
       "| 1  | 1  | 2  | 2  |\n",
       "| 2  | 3  | 6  | 7  |\n",
       "| 1  | 1  | 4  | 4  |\n",
       "| 1  | 1  | 4  | 5  |\n",
       "| 2  | 3  | 6  | 8  |\n",
       "| NA | NA | NA | NA |\n",
       "\n"
      ],
      "text/plain": [
       "  UrbanRural2FoldCode UrbanRural3FoldCode UrbanRural6FoldCode\n",
       "1 1                   1                   1                  \n",
       "2 1                   1                   3                  \n",
       "3 2                   2                   5                  \n",
       "4 1                   1                   2                  \n",
       "5 2                   3                   6                  \n",
       "6 1                   1                   4                  \n",
       "7 1                   1                   4                  \n",
       "8 2                   3                   6                  \n",
       "9 NA                  NA                  NA                 \n",
       "  UrbanRural8FoldCode\n",
       "1 1                  \n",
       "2 3                  \n",
       "3 6                  \n",
       "4 2                  \n",
       "5 7                  \n",
       "6 4                  \n",
       "7 5                  \n",
       "8 8                  \n",
       "9 NA                 "
      ]
     },
     "metadata": {},
     "output_type": "display_data"
    }
   ],
   "source": [
    "postcode_lookup %>%\n",
    "    anti_join(sg_urban_rural_classification_postcode_lookup) %>%\n",
    "    rename_with(~ gsub(\"^(UrbanRural\\\\dFold)(\\\\d+)(C\\\\w+)\", \"\\\\1\\\\3\", ., ignore.case = TRUE)) %>%\n",
    "\n",
    "    left_join(sg_urban_rural_classification_postcode_lookup %>%\n",
    "                  distinct(across(matches(\"^UrbanRural\\\\d\"))) %>%\n",
    "                  drop_na()\n",
    "             ) %>%\n",
    "    distinct(across(matches(\"^(UrbanRural\\\\dFold)\"))) %>%\n",
    "    relocate(UrbanRural2FoldCode, UrbanRural3FoldCode)\n",
    "\n",
    "sg_urban_rural_classification_postcode_lookup %>%\n",
    "    distinct(across(matches(\"^(UrbanRural\\\\dFold)\")))\n"
   ]
  },
  {
   "cell_type": "code",
   "execution_count": 53,
   "metadata": {},
   "outputs": [
    {
     "name": "stderr",
     "output_type": "stream",
     "text": [
      "Joining, by = \"Postcode\"\n",
      "Joining, by = c(\"UrbanRural6FoldCode\", \"UrbanRural8FoldCode\")\n"
     ]
    },
    {
     "data": {
      "text/html": [
       "<table class=\"dataframe\">\n",
       "<caption>A tibble: 10 × 10</caption>\n",
       "<thead>\n",
       "\t<tr><th scope=col>Postcode</th><th scope=col>DateOfDeletion</th><th scope=col>LinkedSmallUserPostcode</th><th scope=col>CouncilArea2019Code</th><th scope=col>Settlement2016Code</th><th scope=col>SIMD2020Rank</th><th scope=col>UrbanRural2FoldCode</th><th scope=col>UrbanRural3FoldCode</th><th scope=col>UrbanRural6FoldCode</th><th scope=col>UrbanRural8FoldCode</th></tr>\n",
       "\t<tr><th scope=col>&lt;chr&gt;</th><th scope=col>&lt;chr&gt;</th><th scope=col>&lt;chr&gt;</th><th scope=col>&lt;fct&gt;</th><th scope=col>&lt;fct&gt;</th><th scope=col>&lt;chr&gt;</th><th scope=col>&lt;fct&gt;</th><th scope=col>&lt;fct&gt;</th><th scope=col>&lt;fct&gt;</th><th scope=col>&lt;fct&gt;</th></tr>\n",
       "</thead>\n",
       "<tbody>\n",
       "\t<tr><td>DG2 9DF </td><td>NA</td><td>NA</td><td>S12000006</td><td>S20001177</td><td>0455</td><td>1</td><td>1</td><td>2</td><td>2</td></tr>\n",
       "\t<tr><td>EH22 4SX</td><td>NA</td><td>NA</td><td>S12000019</td><td>S20001082</td><td>5532</td><td>1</td><td>1</td><td>2</td><td>2</td></tr>\n",
       "\t<tr><td>EH5 2FF </td><td>NA</td><td>NA</td><td>S12000036</td><td>S20001198</td><td>6707</td><td>1</td><td>1</td><td>1</td><td>1</td></tr>\n",
       "\t<tr><td>EH55 8BF</td><td>NA</td><td>NA</td><td>S12000040</td><td>NA       </td><td>3691</td><td>2</td><td>2</td><td>5</td><td>6</td></tr>\n",
       "\t<tr><td>G72 6AN </td><td>NA</td><td>NA</td><td>S12000029</td><td>S20001250</td><td>5336</td><td>1</td><td>1</td><td>1</td><td>1</td></tr>\n",
       "\t<tr><td>KA20 3JX</td><td>NA</td><td>NA</td><td>S12000021</td><td>S20001453</td><td>2407</td><td>1</td><td>1</td><td>2</td><td>2</td></tr>\n",
       "\t<tr><td>KA30 9DR</td><td>NA</td><td>NA</td><td>S12000021</td><td>NA       </td><td>3129</td><td>2</td><td>2</td><td>5</td><td>6</td></tr>\n",
       "\t<tr><td>PH1 0AU </td><td>NA</td><td>NA</td><td>S12000048</td><td>NA       </td><td>4624</td><td>2</td><td>2</td><td>5</td><td>6</td></tr>\n",
       "\t<tr><td>FK9 4RS </td><td>NA</td><td>NA</td><td>S12000030</td><td>S20001477</td><td>6921</td><td>1</td><td>1</td><td>2</td><td>2</td></tr>\n",
       "\t<tr><td>G71 5PD </td><td>NA</td><td>NA</td><td>S12000050</td><td>S20001383</td><td>4374</td><td>1</td><td>1</td><td>2</td><td>2</td></tr>\n",
       "</tbody>\n",
       "</table>\n"
      ],
      "text/latex": [
       "A tibble: 10 × 10\n",
       "\\begin{tabular}{llllllllll}\n",
       " Postcode & DateOfDeletion & LinkedSmallUserPostcode & CouncilArea2019Code & Settlement2016Code & SIMD2020Rank & UrbanRural2FoldCode & UrbanRural3FoldCode & UrbanRural6FoldCode & UrbanRural8FoldCode\\\\\n",
       " <chr> & <chr> & <chr> & <fct> & <fct> & <chr> & <fct> & <fct> & <fct> & <fct>\\\\\n",
       "\\hline\n",
       "\t DG2 9DF  & NA & NA & S12000006 & S20001177 & 0455 & 1 & 1 & 2 & 2\\\\\n",
       "\t EH22 4SX & NA & NA & S12000019 & S20001082 & 5532 & 1 & 1 & 2 & 2\\\\\n",
       "\t EH5 2FF  & NA & NA & S12000036 & S20001198 & 6707 & 1 & 1 & 1 & 1\\\\\n",
       "\t EH55 8BF & NA & NA & S12000040 & NA        & 3691 & 2 & 2 & 5 & 6\\\\\n",
       "\t G72 6AN  & NA & NA & S12000029 & S20001250 & 5336 & 1 & 1 & 1 & 1\\\\\n",
       "\t KA20 3JX & NA & NA & S12000021 & S20001453 & 2407 & 1 & 1 & 2 & 2\\\\\n",
       "\t KA30 9DR & NA & NA & S12000021 & NA        & 3129 & 2 & 2 & 5 & 6\\\\\n",
       "\t PH1 0AU  & NA & NA & S12000048 & NA        & 4624 & 2 & 2 & 5 & 6\\\\\n",
       "\t FK9 4RS  & NA & NA & S12000030 & S20001477 & 6921 & 1 & 1 & 2 & 2\\\\\n",
       "\t G71 5PD  & NA & NA & S12000050 & S20001383 & 4374 & 1 & 1 & 2 & 2\\\\\n",
       "\\end{tabular}\n"
      ],
      "text/markdown": [
       "\n",
       "A tibble: 10 × 10\n",
       "\n",
       "| Postcode &lt;chr&gt; | DateOfDeletion &lt;chr&gt; | LinkedSmallUserPostcode &lt;chr&gt; | CouncilArea2019Code &lt;fct&gt; | Settlement2016Code &lt;fct&gt; | SIMD2020Rank &lt;chr&gt; | UrbanRural2FoldCode &lt;fct&gt; | UrbanRural3FoldCode &lt;fct&gt; | UrbanRural6FoldCode &lt;fct&gt; | UrbanRural8FoldCode &lt;fct&gt; |\n",
       "|---|---|---|---|---|---|---|---|---|---|\n",
       "| DG2 9DF  | NA | NA | S12000006 | S20001177 | 0455 | 1 | 1 | 2 | 2 |\n",
       "| EH22 4SX | NA | NA | S12000019 | S20001082 | 5532 | 1 | 1 | 2 | 2 |\n",
       "| EH5 2FF  | NA | NA | S12000036 | S20001198 | 6707 | 1 | 1 | 1 | 1 |\n",
       "| EH55 8BF | NA | NA | S12000040 | NA        | 3691 | 2 | 2 | 5 | 6 |\n",
       "| G72 6AN  | NA | NA | S12000029 | S20001250 | 5336 | 1 | 1 | 1 | 1 |\n",
       "| KA20 3JX | NA | NA | S12000021 | S20001453 | 2407 | 1 | 1 | 2 | 2 |\n",
       "| KA30 9DR | NA | NA | S12000021 | NA        | 3129 | 2 | 2 | 5 | 6 |\n",
       "| PH1 0AU  | NA | NA | S12000048 | NA        | 4624 | 2 | 2 | 5 | 6 |\n",
       "| FK9 4RS  | NA | NA | S12000030 | S20001477 | 6921 | 1 | 1 | 2 | 2 |\n",
       "| G71 5PD  | NA | NA | S12000050 | S20001383 | 4374 | 1 | 1 | 2 | 2 |\n",
       "\n"
      ],
      "text/plain": [
       "   Postcode DateOfDeletion LinkedSmallUserPostcode CouncilArea2019Code\n",
       "1  DG2 9DF  NA             NA                      S12000006          \n",
       "2  EH22 4SX NA             NA                      S12000019          \n",
       "3  EH5 2FF  NA             NA                      S12000036          \n",
       "4  EH55 8BF NA             NA                      S12000040          \n",
       "5  G72 6AN  NA             NA                      S12000029          \n",
       "6  KA20 3JX NA             NA                      S12000021          \n",
       "7  KA30 9DR NA             NA                      S12000021          \n",
       "8  PH1 0AU  NA             NA                      S12000048          \n",
       "9  FK9 4RS  NA             NA                      S12000030          \n",
       "10 G71 5PD  NA             NA                      S12000050          \n",
       "   Settlement2016Code SIMD2020Rank UrbanRural2FoldCode UrbanRural3FoldCode\n",
       "1  S20001177          0455         1                   1                  \n",
       "2  S20001082          5532         1                   1                  \n",
       "3  S20001198          6707         1                   1                  \n",
       "4  NA                 3691         2                   2                  \n",
       "5  S20001250          5336         1                   1                  \n",
       "6  S20001453          2407         1                   1                  \n",
       "7  NA                 3129         2                   2                  \n",
       "8  NA                 4624         2                   2                  \n",
       "9  S20001477          6921         1                   1                  \n",
       "10 S20001383          4374         1                   1                  \n",
       "   UrbanRural6FoldCode UrbanRural8FoldCode\n",
       "1  2                   2                  \n",
       "2  2                   2                  \n",
       "3  1                   1                  \n",
       "4  5                   6                  \n",
       "5  1                   1                  \n",
       "6  2                   2                  \n",
       "7  5                   6                  \n",
       "8  5                   6                  \n",
       "9  2                   2                  \n",
       "10 2                   2                  "
      ]
     },
     "metadata": {},
     "output_type": "display_data"
    }
   ],
   "source": [
    "postcode_lookup %>%\n",
    "    anti_join(sg_urban_rural_classification_postcode_lookup) %>%\n",
    "    rename_with(~ gsub(\"^(UrbanRural\\\\dFold)(\\\\d+)(C\\\\w+)\", \"\\\\1\\\\3\", ., ignore.case = TRUE)) %>%\n",
    "\n",
    "    left_join(sg_urban_rural_classification_postcode_lookup %>%\n",
    "                  distinct(across(matches(\"^UrbanRural\\\\d\"))) %>%\n",
    "                  drop_na()\n",
    "             ) %>%\n",
    "    relocate(UrbanRural2FoldCode, UrbanRural3FoldCode, .before = UrbanRural6FoldCode)"
   ]
  },
  {
   "cell_type": "code",
   "execution_count": 54,
   "metadata": {},
   "outputs": [
    {
     "data": {
      "text/html": [
       "<table class=\"dataframe\">\n",
       "<caption>A tibble: 2 × 8</caption>\n",
       "<thead>\n",
       "\t<tr><th scope=col>Postcode</th><th scope=col>DateOfDeletion</th><th scope=col>LinkedSmallUserPostcode</th><th scope=col>CouncilArea2019Code</th><th scope=col>Settlement2016Code</th><th scope=col>SIMD2020Rank</th><th scope=col>UrbanRural6Fold2016Code</th><th scope=col>UrbanRural8Fold2016Code</th></tr>\n",
       "\t<tr><th scope=col>&lt;chr&gt;</th><th scope=col>&lt;chr&gt;</th><th scope=col>&lt;chr&gt;</th><th scope=col>&lt;fct&gt;</th><th scope=col>&lt;fct&gt;</th><th scope=col>&lt;chr&gt;</th><th scope=col>&lt;fct&gt;</th><th scope=col>&lt;fct&gt;</th></tr>\n",
       "</thead>\n",
       "<tbody>\n",
       "\t<tr><td>G2 3BZ</td><td>NA               </td><td>NA</td><td>S12000049</td><td>S20001250</td><td>2198</td><td>1</td><td>1</td></tr>\n",
       "\t<tr><td>G2 3BZ</td><td>9/7/2015 00:00:00</td><td>NA</td><td>S12000049</td><td>S20001250</td><td>2198</td><td>1</td><td>1</td></tr>\n",
       "</tbody>\n",
       "</table>\n"
      ],
      "text/latex": [
       "A tibble: 2 × 8\n",
       "\\begin{tabular}{llllllll}\n",
       " Postcode & DateOfDeletion & LinkedSmallUserPostcode & CouncilArea2019Code & Settlement2016Code & SIMD2020Rank & UrbanRural6Fold2016Code & UrbanRural8Fold2016Code\\\\\n",
       " <chr> & <chr> & <chr> & <fct> & <fct> & <chr> & <fct> & <fct>\\\\\n",
       "\\hline\n",
       "\t G2 3BZ & NA                & NA & S12000049 & S20001250 & 2198 & 1 & 1\\\\\n",
       "\t G2 3BZ & 9/7/2015 00:00:00 & NA & S12000049 & S20001250 & 2198 & 1 & 1\\\\\n",
       "\\end{tabular}\n"
      ],
      "text/markdown": [
       "\n",
       "A tibble: 2 × 8\n",
       "\n",
       "| Postcode &lt;chr&gt; | DateOfDeletion &lt;chr&gt; | LinkedSmallUserPostcode &lt;chr&gt; | CouncilArea2019Code &lt;fct&gt; | Settlement2016Code &lt;fct&gt; | SIMD2020Rank &lt;chr&gt; | UrbanRural6Fold2016Code &lt;fct&gt; | UrbanRural8Fold2016Code &lt;fct&gt; |\n",
       "|---|---|---|---|---|---|---|---|\n",
       "| G2 3BZ | NA                | NA | S12000049 | S20001250 | 2198 | 1 | 1 |\n",
       "| G2 3BZ | 9/7/2015 00:00:00 | NA | S12000049 | S20001250 | 2198 | 1 | 1 |\n",
       "\n"
      ],
      "text/plain": [
       "  Postcode DateOfDeletion    LinkedSmallUserPostcode CouncilArea2019Code\n",
       "1 G2 3BZ   NA                NA                      S12000049          \n",
       "2 G2 3BZ   9/7/2015 00:00:00 NA                      S12000049          \n",
       "  Settlement2016Code SIMD2020Rank UrbanRural6Fold2016Code\n",
       "1 S20001250          2198         1                      \n",
       "2 S20001250          2198         1                      \n",
       "  UrbanRural8Fold2016Code\n",
       "1 1                      \n",
       "2 1                      "
      ]
     },
     "metadata": {},
     "output_type": "display_data"
    }
   ],
   "source": [
    "postcode_lookup %>%\n",
    "    filter(Postcode == \"G2 3BZ\") "
   ]
  },
  {
   "cell_type": "code",
   "execution_count": null,
   "metadata": {},
   "outputs": [],
   "source": []
  },
  {
   "cell_type": "code",
   "execution_count": 55,
   "metadata": {},
   "outputs": [
    {
     "name": "stderr",
     "output_type": "stream",
     "text": [
      "Joining, by = \"Postcode\"\n",
      "Joining, by = c(\"UrbanRural6FoldCode\", \"UrbanRural8FoldCode\")\n"
     ]
    },
    {
     "data": {
      "text/html": [
       "<table class=\"dataframe\">\n",
       "<caption>A tibble: 11 × 7</caption>\n",
       "<thead>\n",
       "\t<tr><th scope=col>Centre</th><th scope=col>CentreName</th><th scope=col>Postcode</th><th scope=col>UrbanRural6FoldCode</th><th scope=col>UrbanRural8FoldCode</th><th scope=col>UrbanRural2FoldCode</th><th scope=col>UrbanRural3FoldCode</th></tr>\n",
       "\t<tr><th scope=col>&lt;fct&gt;</th><th scope=col>&lt;fct&gt;</th><th scope=col>&lt;chr&gt;</th><th scope=col>&lt;fct&gt;</th><th scope=col>&lt;fct&gt;</th><th scope=col>&lt;fct&gt;</th><th scope=col>&lt;fct&gt;</th></tr>\n",
       "</thead>\n",
       "<tbody>\n",
       "\t<tr><td>1004620</td><td>North West Community Campus    </td><td>DG2 9DF </td><td>2</td><td>2</td><td>1</td><td>1</td></tr>\n",
       "\t<tr><td>1004743</td><td>Bertha Park High School        </td><td>PH1 0AU </td><td>5</td><td>6</td><td>2</td><td>2</td></tr>\n",
       "\t<tr><td>1005405</td><td>Lockhart Campus                </td><td>KA20 3JX</td><td>2</td><td>2</td><td>1</td><td>1</td></tr>\n",
       "\t<tr><td>3000451</td><td>Rewards Training               </td><td>G2 3BZ  </td><td>1</td><td>1</td><td>1</td><td>1</td></tr>\n",
       "\t<tr><td>3012808</td><td>Alma Care Training             </td><td>G72 6AN </td><td>1</td><td>1</td><td>1</td><td>1</td></tr>\n",
       "\t<tr><td>3023486</td><td>Lead Scotland                  </td><td>EH5 2FF </td><td>1</td><td>1</td><td>1</td><td>1</td></tr>\n",
       "\t<tr><td>5502330</td><td>West Calder High School        </td><td>EH55 8BF</td><td>5</td><td>6</td><td>2</td><td>2</td></tr>\n",
       "\t<tr><td>5546036</td><td>Newbattle High School          </td><td>EH22 4SX</td><td>2</td><td>2</td><td>1</td><td>1</td></tr>\n",
       "\t<tr><td>5592631</td><td>Workers Educational Association</td><td>EH5 2FF </td><td>1</td><td>1</td><td>1</td><td>1</td></tr>\n",
       "\t<tr><td>5940745</td><td>Langlands School               </td><td>DG2 9DF </td><td>2</td><td>2</td><td>1</td><td>1</td></tr>\n",
       "\t<tr><td>8215839</td><td>Largs Academy                  </td><td>KA30 9DR</td><td>5</td><td>6</td><td>2</td><td>2</td></tr>\n",
       "</tbody>\n",
       "</table>\n"
      ],
      "text/latex": [
       "A tibble: 11 × 7\n",
       "\\begin{tabular}{lllllll}\n",
       " Centre & CentreName & Postcode & UrbanRural6FoldCode & UrbanRural8FoldCode & UrbanRural2FoldCode & UrbanRural3FoldCode\\\\\n",
       " <fct> & <fct> & <chr> & <fct> & <fct> & <fct> & <fct>\\\\\n",
       "\\hline\n",
       "\t 1004620 & North West Community Campus     & DG2 9DF  & 2 & 2 & 1 & 1\\\\\n",
       "\t 1004743 & Bertha Park High School         & PH1 0AU  & 5 & 6 & 2 & 2\\\\\n",
       "\t 1005405 & Lockhart Campus                 & KA20 3JX & 2 & 2 & 1 & 1\\\\\n",
       "\t 3000451 & Rewards Training                & G2 3BZ   & 1 & 1 & 1 & 1\\\\\n",
       "\t 3012808 & Alma Care Training              & G72 6AN  & 1 & 1 & 1 & 1\\\\\n",
       "\t 3023486 & Lead Scotland                   & EH5 2FF  & 1 & 1 & 1 & 1\\\\\n",
       "\t 5502330 & West Calder High School         & EH55 8BF & 5 & 6 & 2 & 2\\\\\n",
       "\t 5546036 & Newbattle High School           & EH22 4SX & 2 & 2 & 1 & 1\\\\\n",
       "\t 5592631 & Workers Educational Association & EH5 2FF  & 1 & 1 & 1 & 1\\\\\n",
       "\t 5940745 & Langlands School                & DG2 9DF  & 2 & 2 & 1 & 1\\\\\n",
       "\t 8215839 & Largs Academy                   & KA30 9DR & 5 & 6 & 2 & 2\\\\\n",
       "\\end{tabular}\n"
      ],
      "text/markdown": [
       "\n",
       "A tibble: 11 × 7\n",
       "\n",
       "| Centre &lt;fct&gt; | CentreName &lt;fct&gt; | Postcode &lt;chr&gt; | UrbanRural6FoldCode &lt;fct&gt; | UrbanRural8FoldCode &lt;fct&gt; | UrbanRural2FoldCode &lt;fct&gt; | UrbanRural3FoldCode &lt;fct&gt; |\n",
       "|---|---|---|---|---|---|---|\n",
       "| 1004620 | North West Community Campus     | DG2 9DF  | 2 | 2 | 1 | 1 |\n",
       "| 1004743 | Bertha Park High School         | PH1 0AU  | 5 | 6 | 2 | 2 |\n",
       "| 1005405 | Lockhart Campus                 | KA20 3JX | 2 | 2 | 1 | 1 |\n",
       "| 3000451 | Rewards Training                | G2 3BZ   | 1 | 1 | 1 | 1 |\n",
       "| 3012808 | Alma Care Training              | G72 6AN  | 1 | 1 | 1 | 1 |\n",
       "| 3023486 | Lead Scotland                   | EH5 2FF  | 1 | 1 | 1 | 1 |\n",
       "| 5502330 | West Calder High School         | EH55 8BF | 5 | 6 | 2 | 2 |\n",
       "| 5546036 | Newbattle High School           | EH22 4SX | 2 | 2 | 1 | 1 |\n",
       "| 5592631 | Workers Educational Association | EH5 2FF  | 1 | 1 | 1 | 1 |\n",
       "| 5940745 | Langlands School                | DG2 9DF  | 2 | 2 | 1 | 1 |\n",
       "| 8215839 | Largs Academy                   | KA30 9DR | 5 | 6 | 2 | 2 |\n",
       "\n"
      ],
      "text/plain": [
       "   Centre  CentreName                      Postcode UrbanRural6FoldCode\n",
       "1  1004620 North West Community Campus     DG2 9DF  2                  \n",
       "2  1004743 Bertha Park High School         PH1 0AU  5                  \n",
       "3  1005405 Lockhart Campus                 KA20 3JX 2                  \n",
       "4  3000451 Rewards Training                G2 3BZ   1                  \n",
       "5  3012808 Alma Care Training              G72 6AN  1                  \n",
       "6  3023486 Lead Scotland                   EH5 2FF  1                  \n",
       "7  5502330 West Calder High School         EH55 8BF 5                  \n",
       "8  5546036 Newbattle High School           EH22 4SX 2                  \n",
       "9  5592631 Workers Educational Association EH5 2FF  1                  \n",
       "10 5940745 Langlands School                DG2 9DF  2                  \n",
       "11 8215839 Largs Academy                   KA30 9DR 5                  \n",
       "   UrbanRural8FoldCode UrbanRural2FoldCode UrbanRural3FoldCode\n",
       "1  2                   1                   1                  \n",
       "2  6                   2                   2                  \n",
       "3  2                   1                   1                  \n",
       "4  1                   1                   1                  \n",
       "5  1                   1                   1                  \n",
       "6  1                   1                   1                  \n",
       "7  6                   2                   2                  \n",
       "8  2                   1                   1                  \n",
       "9  1                   1                   1                  \n",
       "10 2                   1                   1                  \n",
       "11 6                   2                   2                  "
      ]
     },
     "metadata": {},
     "output_type": "display_data"
    },
    {
     "data": {
      "text/html": [
       "<table class=\"dataframe\">\n",
       "<caption>A tibble: 7 × 7</caption>\n",
       "<thead>\n",
       "\t<tr><th scope=col>Centre</th><th scope=col>CentreName</th><th scope=col>Postcode</th><th scope=col>UrbanRural2FoldCode</th><th scope=col>UrbanRural3FoldCode</th><th scope=col>UrbanRural6FoldCode</th><th scope=col>UrbanRural8FoldCode</th></tr>\n",
       "\t<tr><th scope=col>&lt;fct&gt;</th><th scope=col>&lt;fct&gt;</th><th scope=col>&lt;fct&gt;</th><th scope=col>&lt;fct&gt;</th><th scope=col>&lt;fct&gt;</th><th scope=col>&lt;fct&gt;</th><th scope=col>&lt;fct&gt;</th></tr>\n",
       "</thead>\n",
       "<tbody>\n",
       "\t<tr><td>3001024</td><td>Calder Associates (Scotland) Limited                  </td><td>KY12 OQX</td><td>NA</td><td>NA</td><td>NA</td><td>NA</td></tr>\n",
       "\t<tr><td>3012743</td><td>Fitness Training Scotland                             </td><td>KA1 9GX </td><td>NA</td><td>NA</td><td>NA</td><td>NA</td></tr>\n",
       "\t<tr><td>4197437</td><td>Training Matters (Scotland) Limited                   </td><td>G52 4RU </td><td>NA</td><td>NA</td><td>NA</td><td>NA</td></tr>\n",
       "\t<tr><td>5294738</td><td>Aberdeen City Council                                 </td><td>AB15 5PD</td><td>NA</td><td>NA</td><td>NA</td><td>NA</td></tr>\n",
       "\t<tr><td>5511844</td><td>Cedarbank School                                      </td><td>EH54 6FW</td><td>NA</td><td>NA</td><td>NA</td><td>NA</td></tr>\n",
       "\t<tr><td>5590183</td><td>Midlothian Council - Communities and Lifelong Learning</td><td>EH22 3ZG</td><td>NA</td><td>NA</td><td>NA</td><td>NA</td></tr>\n",
       "\t<tr><td>6003230</td><td>Sanday Secondary School                               </td><td>SG19 1BL</td><td>NA</td><td>NA</td><td>NA</td><td>NA</td></tr>\n",
       "</tbody>\n",
       "</table>\n"
      ],
      "text/latex": [
       "A tibble: 7 × 7\n",
       "\\begin{tabular}{lllllll}\n",
       " Centre & CentreName & Postcode & UrbanRural2FoldCode & UrbanRural3FoldCode & UrbanRural6FoldCode & UrbanRural8FoldCode\\\\\n",
       " <fct> & <fct> & <fct> & <fct> & <fct> & <fct> & <fct>\\\\\n",
       "\\hline\n",
       "\t 3001024 & Calder Associates (Scotland) Limited                   & KY12 OQX & NA & NA & NA & NA\\\\\n",
       "\t 3012743 & Fitness Training Scotland                              & KA1 9GX  & NA & NA & NA & NA\\\\\n",
       "\t 4197437 & Training Matters (Scotland) Limited                    & G52 4RU  & NA & NA & NA & NA\\\\\n",
       "\t 5294738 & Aberdeen City Council                                  & AB15 5PD & NA & NA & NA & NA\\\\\n",
       "\t 5511844 & Cedarbank School                                       & EH54 6FW & NA & NA & NA & NA\\\\\n",
       "\t 5590183 & Midlothian Council - Communities and Lifelong Learning & EH22 3ZG & NA & NA & NA & NA\\\\\n",
       "\t 6003230 & Sanday Secondary School                                & SG19 1BL & NA & NA & NA & NA\\\\\n",
       "\\end{tabular}\n"
      ],
      "text/markdown": [
       "\n",
       "A tibble: 7 × 7\n",
       "\n",
       "| Centre &lt;fct&gt; | CentreName &lt;fct&gt; | Postcode &lt;fct&gt; | UrbanRural2FoldCode &lt;fct&gt; | UrbanRural3FoldCode &lt;fct&gt; | UrbanRural6FoldCode &lt;fct&gt; | UrbanRural8FoldCode &lt;fct&gt; |\n",
       "|---|---|---|---|---|---|---|\n",
       "| 3001024 | Calder Associates (Scotland) Limited                   | KY12 OQX | NA | NA | NA | NA |\n",
       "| 3012743 | Fitness Training Scotland                              | KA1 9GX  | NA | NA | NA | NA |\n",
       "| 4197437 | Training Matters (Scotland) Limited                    | G52 4RU  | NA | NA | NA | NA |\n",
       "| 5294738 | Aberdeen City Council                                  | AB15 5PD | NA | NA | NA | NA |\n",
       "| 5511844 | Cedarbank School                                       | EH54 6FW | NA | NA | NA | NA |\n",
       "| 5590183 | Midlothian Council - Communities and Lifelong Learning | EH22 3ZG | NA | NA | NA | NA |\n",
       "| 6003230 | Sanday Secondary School                                | SG19 1BL | NA | NA | NA | NA |\n",
       "\n"
      ],
      "text/plain": [
       "  Centre  CentreName                                             Postcode\n",
       "1 3001024 Calder Associates (Scotland) Limited                   KY12 OQX\n",
       "2 3012743 Fitness Training Scotland                              KA1 9GX \n",
       "3 4197437 Training Matters (Scotland) Limited                    G52 4RU \n",
       "4 5294738 Aberdeen City Council                                  AB15 5PD\n",
       "5 5511844 Cedarbank School                                       EH54 6FW\n",
       "6 5590183 Midlothian Council - Communities and Lifelong Learning EH22 3ZG\n",
       "7 6003230 Sanday Secondary School                                SG19 1BL\n",
       "  UrbanRural2FoldCode UrbanRural3FoldCode UrbanRural6FoldCode\n",
       "1 NA                  NA                  NA                 \n",
       "2 NA                  NA                  NA                 \n",
       "3 NA                  NA                  NA                 \n",
       "4 NA                  NA                  NA                 \n",
       "5 NA                  NA                  NA                 \n",
       "6 NA                  NA                  NA                 \n",
       "7 NA                  NA                  NA                 \n",
       "  UrbanRural8FoldCode\n",
       "1 NA                 \n",
       "2 NA                 \n",
       "3 NA                 \n",
       "4 NA                 \n",
       "5 NA                 \n",
       "6 NA                 \n",
       "7 NA                 "
      ]
     },
     "metadata": {},
     "output_type": "display_data"
    },
    {
     "name": "stderr",
     "output_type": "stream",
     "text": [
      "Joining, by = \"Postcode\"\n"
     ]
    },
    {
     "data": {
      "text/html": [
       "<table class=\"dataframe\">\n",
       "<caption>A tibble: 3 × 14</caption>\n",
       "<thead>\n",
       "\t<tr><th scope=col>Centre</th><th scope=col>CentreName</th><th scope=col>Postcode</th><th scope=col>EducationAuthority</th><th scope=col>GeoArea</th><th scope=col>Country</th><th scope=col>LinkPostcode</th><th scope=col>DateOfDeletion</th><th scope=col>LinkedSmallUserPostcode</th><th scope=col>CouncilArea2019Code</th><th scope=col>Settlement2016Code</th><th scope=col>SIMD2020Rank</th><th scope=col>UrbanRural6Fold2016Code</th><th scope=col>UrbanRural8Fold2016Code</th></tr>\n",
       "\t<tr><th scope=col>&lt;fct&gt;</th><th scope=col>&lt;fct&gt;</th><th scope=col>&lt;chr&gt;</th><th scope=col>&lt;fct&gt;</th><th scope=col>&lt;fct&gt;</th><th scope=col>&lt;fct&gt;</th><th scope=col>&lt;fct&gt;</th><th scope=col>&lt;chr&gt;</th><th scope=col>&lt;chr&gt;</th><th scope=col>&lt;fct&gt;</th><th scope=col>&lt;fct&gt;</th><th scope=col>&lt;chr&gt;</th><th scope=col>&lt;fct&gt;</th><th scope=col>&lt;fct&gt;</th></tr>\n",
       "</thead>\n",
       "<tbody>\n",
       "\t<tr><td>3000451</td><td>Rewards Training                   </td><td>G2 3BZ  </td><td>NA</td><td>Glasgow City </td><td>Scotland</td><td>NA</td><td>9/7/2015 00:00:00</td><td>NA</td><td>S12000049</td><td>S20001250</td><td>2198</td><td>1</td><td>1</td></tr>\n",
       "\t<tr><td>4197437</td><td>Training Matters (Scotland) Limited</td><td>G52 4RU </td><td>NA</td><td>Glasgow City </td><td>Scotland</td><td>NA</td><td>3/6/2008 00:00:00</td><td>NA</td><td>S12000049</td><td>S20001250</td><td>1610</td><td>1</td><td>1</td></tr>\n",
       "\t<tr><td>5294738</td><td>Aberdeen City Council              </td><td>AB15 5PD</td><td>NA</td><td>Aberdeen City</td><td>Scotland</td><td>NA</td><td>9/7/2015 00:00:00</td><td>NA</td><td>S12000033</td><td>S20001020</td><td>4724</td><td>1</td><td>1</td></tr>\n",
       "</tbody>\n",
       "</table>\n"
      ],
      "text/latex": [
       "A tibble: 3 × 14\n",
       "\\begin{tabular}{llllllllllllll}\n",
       " Centre & CentreName & Postcode & EducationAuthority & GeoArea & Country & LinkPostcode & DateOfDeletion & LinkedSmallUserPostcode & CouncilArea2019Code & Settlement2016Code & SIMD2020Rank & UrbanRural6Fold2016Code & UrbanRural8Fold2016Code\\\\\n",
       " <fct> & <fct> & <chr> & <fct> & <fct> & <fct> & <fct> & <chr> & <chr> & <fct> & <fct> & <chr> & <fct> & <fct>\\\\\n",
       "\\hline\n",
       "\t 3000451 & Rewards Training                    & G2 3BZ   & NA & Glasgow City  & Scotland & NA & 9/7/2015 00:00:00 & NA & S12000049 & S20001250 & 2198 & 1 & 1\\\\\n",
       "\t 4197437 & Training Matters (Scotland) Limited & G52 4RU  & NA & Glasgow City  & Scotland & NA & 3/6/2008 00:00:00 & NA & S12000049 & S20001250 & 1610 & 1 & 1\\\\\n",
       "\t 5294738 & Aberdeen City Council               & AB15 5PD & NA & Aberdeen City & Scotland & NA & 9/7/2015 00:00:00 & NA & S12000033 & S20001020 & 4724 & 1 & 1\\\\\n",
       "\\end{tabular}\n"
      ],
      "text/markdown": [
       "\n",
       "A tibble: 3 × 14\n",
       "\n",
       "| Centre &lt;fct&gt; | CentreName &lt;fct&gt; | Postcode &lt;chr&gt; | EducationAuthority &lt;fct&gt; | GeoArea &lt;fct&gt; | Country &lt;fct&gt; | LinkPostcode &lt;fct&gt; | DateOfDeletion &lt;chr&gt; | LinkedSmallUserPostcode &lt;chr&gt; | CouncilArea2019Code &lt;fct&gt; | Settlement2016Code &lt;fct&gt; | SIMD2020Rank &lt;chr&gt; | UrbanRural6Fold2016Code &lt;fct&gt; | UrbanRural8Fold2016Code &lt;fct&gt; |\n",
       "|---|---|---|---|---|---|---|---|---|---|---|---|---|---|\n",
       "| 3000451 | Rewards Training                    | G2 3BZ   | NA | Glasgow City  | Scotland | NA | 9/7/2015 00:00:00 | NA | S12000049 | S20001250 | 2198 | 1 | 1 |\n",
       "| 4197437 | Training Matters (Scotland) Limited | G52 4RU  | NA | Glasgow City  | Scotland | NA | 3/6/2008 00:00:00 | NA | S12000049 | S20001250 | 1610 | 1 | 1 |\n",
       "| 5294738 | Aberdeen City Council               | AB15 5PD | NA | Aberdeen City | Scotland | NA | 9/7/2015 00:00:00 | NA | S12000033 | S20001020 | 4724 | 1 | 1 |\n",
       "\n"
      ],
      "text/plain": [
       "  Centre  CentreName                          Postcode EducationAuthority\n",
       "1 3000451 Rewards Training                    G2 3BZ   NA                \n",
       "2 4197437 Training Matters (Scotland) Limited G52 4RU  NA                \n",
       "3 5294738 Aberdeen City Council               AB15 5PD NA                \n",
       "  GeoArea       Country  LinkPostcode DateOfDeletion    LinkedSmallUserPostcode\n",
       "1 Glasgow City  Scotland NA           9/7/2015 00:00:00 NA                     \n",
       "2 Glasgow City  Scotland NA           3/6/2008 00:00:00 NA                     \n",
       "3 Aberdeen City Scotland NA           9/7/2015 00:00:00 NA                     \n",
       "  CouncilArea2019Code Settlement2016Code SIMD2020Rank UrbanRural6Fold2016Code\n",
       "1 S12000049           S20001250          2198         1                      \n",
       "2 S12000049           S20001250          1610         1                      \n",
       "3 S12000033           S20001020          4724         1                      \n",
       "  UrbanRural8Fold2016Code\n",
       "1 1                      \n",
       "2 1                      \n",
       "3 1                      "
      ]
     },
     "metadata": {},
     "output_type": "display_data"
    }
   ],
   "source": [
    "tmp_df <- centre_postcodes %>%\n",
    "    filter((Country == \"Scotland\") & if_any(matches(\"^UrbanRural\\\\d\"), is.na))\n",
    "\n",
    "tmp_df <- tmp_df %>%\n",
    "    select(- starts_with(\"UrbanRural\")) %>%\n",
    "\n",
    "    filter(Postcode %in% \n",
    "              (postcode_lookup %>%\n",
    "                   filter(is.na(DateOfDeletion)) %>%\n",
    "                   distinct(Postcode) %>%\n",
    "                   deframe())) %>%\n",
    "\n",
    "    left_join(postcode_lookup %>%\n",
    "                  filter(is.na(DateOfDeletion)) %>%\n",
    "                  select(Postcode, LinkedSmallUserPostcode, matches(\"^UrbanRural\\\\d\"))\n",
    "             ) %>%\n",
    "    rename_with(~ str_replace(., \"2016\", \"\"), matches(\"^UrbanRural\\\\d\")) %>%\n",
    "\n",
    "    rename_with(~ gsub(\"^(UrbanRural\\\\dFold)(\\\\d+)(C\\\\w+)\", \"\\\\1\\\\3\", ., ignore.case = TRUE)) %>%\n",
    "\n",
    "    left_join(sg_urban_rural_classification_postcode_lookup %>%\n",
    "                  distinct(across(matches(\"^UrbanRural\\\\d\"))) %>%\n",
    "                  drop_na()\n",
    "             ) \n",
    "\n",
    "tmp_df %>%\n",
    "    select(matches(\"^(Centre|Postcode|UrbanRural)\"))\n",
    "\n",
    "centre_postcodes %>%\n",
    "    filter((Country == \"Scotland\") & if_any(matches(\"^UrbanRural\\\\d\"), is.na)) %>%\n",
    "\n",
    "    anti_join(tmp_df, by = \"Centre\"\n",
    "             ) %>%\n",
    "    select(matches(\"^(Centre|Postcode|UrbanRural)\"))\n",
    "\n",
    "centre_postcodes %>%\n",
    "    filter((Country == \"Scotland\") & if_any(matches(\"^UrbanRural\\\\d\"), is.na))  %>%\n",
    "    select(- matches(\"UrbanRural|DateOfDeletion\")) %>%\n",
    "\n",
    "    inner_join(postcode_lookup %>%\n",
    "                   filter(!is.na(DateOfDeletion)) %>%\n",
    "                   distinct()\n",
    "             ) "
   ]
  },
  {
   "cell_type": "code",
   "execution_count": 56,
   "metadata": {
    "scrolled": false
   },
   "outputs": [
    {
     "name": "stderr",
     "output_type": "stream",
     "text": [
      "Joining, by = \"Postcode\"\n",
      "Joining, by = c(\"UrbanRural6FoldCode\", \"UrbanRural8FoldCode\")\n"
     ]
    },
    {
     "data": {
      "text/html": [
       "<table class=\"dataframe\">\n",
       "<caption>A tibble: 18 × 12</caption>\n",
       "<thead>\n",
       "\t<tr><th scope=col>Centre</th><th scope=col>CentreName</th><th scope=col>Postcode</th><th scope=col>EducationAuthority</th><th scope=col>GeoArea</th><th scope=col>Country</th><th scope=col>LinkPostcode</th><th scope=col>LinkedSmallUserPostcode</th><th scope=col>UrbanRural6FoldCode</th><th scope=col>UrbanRural8FoldCode</th><th scope=col>UrbanRural2FoldCode</th><th scope=col>UrbanRural3FoldCode</th></tr>\n",
       "\t<tr><th scope=col>&lt;fct&gt;</th><th scope=col>&lt;fct&gt;</th><th scope=col>&lt;chr&gt;</th><th scope=col>&lt;fct&gt;</th><th scope=col>&lt;fct&gt;</th><th scope=col>&lt;fct&gt;</th><th scope=col>&lt;fct&gt;</th><th scope=col>&lt;chr&gt;</th><th scope=col>&lt;fct&gt;</th><th scope=col>&lt;fct&gt;</th><th scope=col>&lt;fct&gt;</th><th scope=col>&lt;fct&gt;</th></tr>\n",
       "</thead>\n",
       "<tbody>\n",
       "\t<tr><td>1004620</td><td><span style=white-space:pre-wrap>North West Community Campus                           </span></td><td>DG2 9DF </td><td>Dumfries &amp; Galloway Council Education Department</td><td>Dumfries &amp; Galloway</td><td>Scotland</td><td>NA</td><td>NA</td><td>2 </td><td>2 </td><td>1 </td><td>1 </td></tr>\n",
       "\t<tr><td>1004743</td><td><span style=white-space:pre-wrap>Bertha Park High School                               </span></td><td>PH1 0AU </td><td><span style=white-space:pre-wrap>Perth &amp; Kinross Council Education Department    </span></td><td><span style=white-space:pre-wrap>Perth &amp; Kinross    </span></td><td>Scotland</td><td>NA</td><td>NA</td><td>5 </td><td>6 </td><td>2 </td><td>2 </td></tr>\n",
       "\t<tr><td>1005405</td><td>Lockhart Campus                                       </td><td>KA20 3JX</td><td>North Ayrshire Council Education Department     </td><td>North Ayrshire     </td><td>Scotland</td><td>NA</td><td>NA</td><td>2 </td><td>2 </td><td>1 </td><td>1 </td></tr>\n",
       "\t<tr><td>3000451</td><td>Rewards Training                                      </td><td>G2 3BZ  </td><td>NA                                              </td><td>Glasgow City       </td><td>Scotland</td><td>NA</td><td>NA</td><td>1 </td><td>1 </td><td>1 </td><td>1 </td></tr>\n",
       "\t<tr><td>3012808</td><td>Alma Care Training                                    </td><td>G72 6AN </td><td>NA                                              </td><td>South Lanarkshire  </td><td>Scotland</td><td>NA</td><td>NA</td><td>1 </td><td>1 </td><td>1 </td><td>1 </td></tr>\n",
       "\t<tr><td>3023486</td><td>Lead Scotland                                         </td><td>EH5 2FF </td><td>NA                                              </td><td>City of Edinburgh  </td><td>Scotland</td><td>NA</td><td>NA</td><td>1 </td><td>1 </td><td>1 </td><td>1 </td></tr>\n",
       "\t<tr><td>5502330</td><td>West Calder High School                               </td><td>EH55 8BF</td><td>West Lothian Council Education Department       </td><td>West Lothian       </td><td>Scotland</td><td>NA</td><td>NA</td><td>5 </td><td>6 </td><td>2 </td><td>2 </td></tr>\n",
       "\t<tr><td>5546036</td><td>Newbattle High School                                 </td><td>EH22 4SX</td><td>Midlothian Council Education Department         </td><td>Midlothian         </td><td>Scotland</td><td>NA</td><td>NA</td><td>2 </td><td>2 </td><td>1 </td><td>1 </td></tr>\n",
       "\t<tr><td>5592631</td><td>Workers Educational Association                       </td><td>EH5 2FF </td><td>NA                                              </td><td>City of Edinburgh  </td><td>Scotland</td><td>NA</td><td>NA</td><td>1 </td><td>1 </td><td>1 </td><td>1 </td></tr>\n",
       "\t<tr><td>5940745</td><td><span style=white-space:pre-wrap>Langlands School                                      </span></td><td>DG2 9DF </td><td>Dumfries &amp; Galloway Council Education Department</td><td>Dumfries &amp; Galloway</td><td>Scotland</td><td>NA</td><td>NA</td><td>2 </td><td>2 </td><td>1 </td><td>1 </td></tr>\n",
       "\t<tr><td>8215839</td><td>Largs Academy                                         </td><td>KA30 9DR</td><td>North Ayrshire Council Education Department     </td><td>North Ayrshire     </td><td>Scotland</td><td>NA</td><td>NA</td><td>5 </td><td>6 </td><td>2 </td><td>2 </td></tr>\n",
       "\t<tr><td>3001024</td><td>Calder Associates (Scotland) Limited                  </td><td>KY12 OQX</td><td>NA                                              </td><td>Fife               </td><td>Scotland</td><td>NA</td><td>NA</td><td>NA</td><td>NA</td><td>NA</td><td>NA</td></tr>\n",
       "\t<tr><td>3012743</td><td>Fitness Training Scotland                             </td><td>KA1 9GX </td><td>NA                                              </td><td>East Ayrshire      </td><td>Scotland</td><td>NA</td><td>NA</td><td>NA</td><td>NA</td><td>NA</td><td>NA</td></tr>\n",
       "\t<tr><td>4197437</td><td>Training Matters (Scotland) Limited                   </td><td>G52 4RU </td><td>NA                                              </td><td>Glasgow City       </td><td>Scotland</td><td>NA</td><td>NA</td><td>NA</td><td>NA</td><td>NA</td><td>NA</td></tr>\n",
       "\t<tr><td>5294738</td><td>Aberdeen City Council                                 </td><td>AB15 5PD</td><td>NA                                              </td><td>Aberdeen City      </td><td>Scotland</td><td>NA</td><td>NA</td><td>NA</td><td>NA</td><td>NA</td><td>NA</td></tr>\n",
       "\t<tr><td>5511844</td><td>Cedarbank School                                      </td><td>EH54 6FW</td><td>West Lothian Council Education Department       </td><td>West Lothian       </td><td>Scotland</td><td>NA</td><td>NA</td><td>NA</td><td>NA</td><td>NA</td><td>NA</td></tr>\n",
       "\t<tr><td>5590183</td><td>Midlothian Council - Communities and Lifelong Learning</td><td>EH22 3ZG</td><td>NA                                              </td><td>Midlothian         </td><td>Scotland</td><td>NA</td><td>NA</td><td>NA</td><td>NA</td><td>NA</td><td>NA</td></tr>\n",
       "\t<tr><td>6003230</td><td>Sanday Secondary School                               </td><td>SG19 1BL</td><td>Orkney Islands Council Education Department     </td><td>Orkney Islands     </td><td>Scotland</td><td>NA</td><td>NA</td><td>NA</td><td>NA</td><td>NA</td><td>NA</td></tr>\n",
       "</tbody>\n",
       "</table>\n"
      ],
      "text/latex": [
       "A tibble: 18 × 12\n",
       "\\begin{tabular}{llllllllllll}\n",
       " Centre & CentreName & Postcode & EducationAuthority & GeoArea & Country & LinkPostcode & LinkedSmallUserPostcode & UrbanRural6FoldCode & UrbanRural8FoldCode & UrbanRural2FoldCode & UrbanRural3FoldCode\\\\\n",
       " <fct> & <fct> & <chr> & <fct> & <fct> & <fct> & <fct> & <chr> & <fct> & <fct> & <fct> & <fct>\\\\\n",
       "\\hline\n",
       "\t 1004620 & North West Community Campus                            & DG2 9DF  & Dumfries \\& Galloway Council Education Department & Dumfries \\& Galloway & Scotland & NA & NA & 2  & 2  & 1  & 1 \\\\\n",
       "\t 1004743 & Bertha Park High School                                & PH1 0AU  & Perth \\& Kinross Council Education Department     & Perth \\& Kinross     & Scotland & NA & NA & 5  & 6  & 2  & 2 \\\\\n",
       "\t 1005405 & Lockhart Campus                                        & KA20 3JX & North Ayrshire Council Education Department      & North Ayrshire      & Scotland & NA & NA & 2  & 2  & 1  & 1 \\\\\n",
       "\t 3000451 & Rewards Training                                       & G2 3BZ   & NA                                               & Glasgow City        & Scotland & NA & NA & 1  & 1  & 1  & 1 \\\\\n",
       "\t 3012808 & Alma Care Training                                     & G72 6AN  & NA                                               & South Lanarkshire   & Scotland & NA & NA & 1  & 1  & 1  & 1 \\\\\n",
       "\t 3023486 & Lead Scotland                                          & EH5 2FF  & NA                                               & City of Edinburgh   & Scotland & NA & NA & 1  & 1  & 1  & 1 \\\\\n",
       "\t 5502330 & West Calder High School                                & EH55 8BF & West Lothian Council Education Department        & West Lothian        & Scotland & NA & NA & 5  & 6  & 2  & 2 \\\\\n",
       "\t 5546036 & Newbattle High School                                  & EH22 4SX & Midlothian Council Education Department          & Midlothian          & Scotland & NA & NA & 2  & 2  & 1  & 1 \\\\\n",
       "\t 5592631 & Workers Educational Association                        & EH5 2FF  & NA                                               & City of Edinburgh   & Scotland & NA & NA & 1  & 1  & 1  & 1 \\\\\n",
       "\t 5940745 & Langlands School                                       & DG2 9DF  & Dumfries \\& Galloway Council Education Department & Dumfries \\& Galloway & Scotland & NA & NA & 2  & 2  & 1  & 1 \\\\\n",
       "\t 8215839 & Largs Academy                                          & KA30 9DR & North Ayrshire Council Education Department      & North Ayrshire      & Scotland & NA & NA & 5  & 6  & 2  & 2 \\\\\n",
       "\t 3001024 & Calder Associates (Scotland) Limited                   & KY12 OQX & NA                                               & Fife                & Scotland & NA & NA & NA & NA & NA & NA\\\\\n",
       "\t 3012743 & Fitness Training Scotland                              & KA1 9GX  & NA                                               & East Ayrshire       & Scotland & NA & NA & NA & NA & NA & NA\\\\\n",
       "\t 4197437 & Training Matters (Scotland) Limited                    & G52 4RU  & NA                                               & Glasgow City        & Scotland & NA & NA & NA & NA & NA & NA\\\\\n",
       "\t 5294738 & Aberdeen City Council                                  & AB15 5PD & NA                                               & Aberdeen City       & Scotland & NA & NA & NA & NA & NA & NA\\\\\n",
       "\t 5511844 & Cedarbank School                                       & EH54 6FW & West Lothian Council Education Department        & West Lothian        & Scotland & NA & NA & NA & NA & NA & NA\\\\\n",
       "\t 5590183 & Midlothian Council - Communities and Lifelong Learning & EH22 3ZG & NA                                               & Midlothian          & Scotland & NA & NA & NA & NA & NA & NA\\\\\n",
       "\t 6003230 & Sanday Secondary School                                & SG19 1BL & Orkney Islands Council Education Department      & Orkney Islands      & Scotland & NA & NA & NA & NA & NA & NA\\\\\n",
       "\\end{tabular}\n"
      ],
      "text/markdown": [
       "\n",
       "A tibble: 18 × 12\n",
       "\n",
       "| Centre &lt;fct&gt; | CentreName &lt;fct&gt; | Postcode &lt;chr&gt; | EducationAuthority &lt;fct&gt; | GeoArea &lt;fct&gt; | Country &lt;fct&gt; | LinkPostcode &lt;fct&gt; | LinkedSmallUserPostcode &lt;chr&gt; | UrbanRural6FoldCode &lt;fct&gt; | UrbanRural8FoldCode &lt;fct&gt; | UrbanRural2FoldCode &lt;fct&gt; | UrbanRural3FoldCode &lt;fct&gt; |\n",
       "|---|---|---|---|---|---|---|---|---|---|---|---|\n",
       "| 1004620 | North West Community Campus                            | DG2 9DF  | Dumfries &amp; Galloway Council Education Department | Dumfries &amp; Galloway | Scotland | NA | NA | 2  | 2  | 1  | 1  |\n",
       "| 1004743 | Bertha Park High School                                | PH1 0AU  | Perth &amp; Kinross Council Education Department     | Perth &amp; Kinross     | Scotland | NA | NA | 5  | 6  | 2  | 2  |\n",
       "| 1005405 | Lockhart Campus                                        | KA20 3JX | North Ayrshire Council Education Department      | North Ayrshire      | Scotland | NA | NA | 2  | 2  | 1  | 1  |\n",
       "| 3000451 | Rewards Training                                       | G2 3BZ   | NA                                               | Glasgow City        | Scotland | NA | NA | 1  | 1  | 1  | 1  |\n",
       "| 3012808 | Alma Care Training                                     | G72 6AN  | NA                                               | South Lanarkshire   | Scotland | NA | NA | 1  | 1  | 1  | 1  |\n",
       "| 3023486 | Lead Scotland                                          | EH5 2FF  | NA                                               | City of Edinburgh   | Scotland | NA | NA | 1  | 1  | 1  | 1  |\n",
       "| 5502330 | West Calder High School                                | EH55 8BF | West Lothian Council Education Department        | West Lothian        | Scotland | NA | NA | 5  | 6  | 2  | 2  |\n",
       "| 5546036 | Newbattle High School                                  | EH22 4SX | Midlothian Council Education Department          | Midlothian          | Scotland | NA | NA | 2  | 2  | 1  | 1  |\n",
       "| 5592631 | Workers Educational Association                        | EH5 2FF  | NA                                               | City of Edinburgh   | Scotland | NA | NA | 1  | 1  | 1  | 1  |\n",
       "| 5940745 | Langlands School                                       | DG2 9DF  | Dumfries &amp; Galloway Council Education Department | Dumfries &amp; Galloway | Scotland | NA | NA | 2  | 2  | 1  | 1  |\n",
       "| 8215839 | Largs Academy                                          | KA30 9DR | North Ayrshire Council Education Department      | North Ayrshire      | Scotland | NA | NA | 5  | 6  | 2  | 2  |\n",
       "| 3001024 | Calder Associates (Scotland) Limited                   | KY12 OQX | NA                                               | Fife                | Scotland | NA | NA | NA | NA | NA | NA |\n",
       "| 3012743 | Fitness Training Scotland                              | KA1 9GX  | NA                                               | East Ayrshire       | Scotland | NA | NA | NA | NA | NA | NA |\n",
       "| 4197437 | Training Matters (Scotland) Limited                    | G52 4RU  | NA                                               | Glasgow City        | Scotland | NA | NA | NA | NA | NA | NA |\n",
       "| 5294738 | Aberdeen City Council                                  | AB15 5PD | NA                                               | Aberdeen City       | Scotland | NA | NA | NA | NA | NA | NA |\n",
       "| 5511844 | Cedarbank School                                       | EH54 6FW | West Lothian Council Education Department        | West Lothian        | Scotland | NA | NA | NA | NA | NA | NA |\n",
       "| 5590183 | Midlothian Council - Communities and Lifelong Learning | EH22 3ZG | NA                                               | Midlothian          | Scotland | NA | NA | NA | NA | NA | NA |\n",
       "| 6003230 | Sanday Secondary School                                | SG19 1BL | Orkney Islands Council Education Department      | Orkney Islands      | Scotland | NA | NA | NA | NA | NA | NA |\n",
       "\n"
      ],
      "text/plain": [
       "   Centre  CentreName                                             Postcode\n",
       "1  1004620 North West Community Campus                            DG2 9DF \n",
       "2  1004743 Bertha Park High School                                PH1 0AU \n",
       "3  1005405 Lockhart Campus                                        KA20 3JX\n",
       "4  3000451 Rewards Training                                       G2 3BZ  \n",
       "5  3012808 Alma Care Training                                     G72 6AN \n",
       "6  3023486 Lead Scotland                                          EH5 2FF \n",
       "7  5502330 West Calder High School                                EH55 8BF\n",
       "8  5546036 Newbattle High School                                  EH22 4SX\n",
       "9  5592631 Workers Educational Association                        EH5 2FF \n",
       "10 5940745 Langlands School                                       DG2 9DF \n",
       "11 8215839 Largs Academy                                          KA30 9DR\n",
       "12 3001024 Calder Associates (Scotland) Limited                   KY12 OQX\n",
       "13 3012743 Fitness Training Scotland                              KA1 9GX \n",
       "14 4197437 Training Matters (Scotland) Limited                    G52 4RU \n",
       "15 5294738 Aberdeen City Council                                  AB15 5PD\n",
       "16 5511844 Cedarbank School                                       EH54 6FW\n",
       "17 5590183 Midlothian Council - Communities and Lifelong Learning EH22 3ZG\n",
       "18 6003230 Sanday Secondary School                                SG19 1BL\n",
       "   EducationAuthority                               GeoArea            \n",
       "1  Dumfries & Galloway Council Education Department Dumfries & Galloway\n",
       "2  Perth & Kinross Council Education Department     Perth & Kinross    \n",
       "3  North Ayrshire Council Education Department      North Ayrshire     \n",
       "4  NA                                               Glasgow City       \n",
       "5  NA                                               South Lanarkshire  \n",
       "6  NA                                               City of Edinburgh  \n",
       "7  West Lothian Council Education Department        West Lothian       \n",
       "8  Midlothian Council Education Department          Midlothian         \n",
       "9  NA                                               City of Edinburgh  \n",
       "10 Dumfries & Galloway Council Education Department Dumfries & Galloway\n",
       "11 North Ayrshire Council Education Department      North Ayrshire     \n",
       "12 NA                                               Fife               \n",
       "13 NA                                               East Ayrshire      \n",
       "14 NA                                               Glasgow City       \n",
       "15 NA                                               Aberdeen City      \n",
       "16 West Lothian Council Education Department        West Lothian       \n",
       "17 NA                                               Midlothian         \n",
       "18 Orkney Islands Council Education Department      Orkney Islands     \n",
       "   Country  LinkPostcode LinkedSmallUserPostcode UrbanRural6FoldCode\n",
       "1  Scotland NA           NA                      2                  \n",
       "2  Scotland NA           NA                      5                  \n",
       "3  Scotland NA           NA                      2                  \n",
       "4  Scotland NA           NA                      1                  \n",
       "5  Scotland NA           NA                      1                  \n",
       "6  Scotland NA           NA                      1                  \n",
       "7  Scotland NA           NA                      5                  \n",
       "8  Scotland NA           NA                      2                  \n",
       "9  Scotland NA           NA                      1                  \n",
       "10 Scotland NA           NA                      2                  \n",
       "11 Scotland NA           NA                      5                  \n",
       "12 Scotland NA           NA                      NA                 \n",
       "13 Scotland NA           NA                      NA                 \n",
       "14 Scotland NA           NA                      NA                 \n",
       "15 Scotland NA           NA                      NA                 \n",
       "16 Scotland NA           NA                      NA                 \n",
       "17 Scotland NA           NA                      NA                 \n",
       "18 Scotland NA           NA                      NA                 \n",
       "   UrbanRural8FoldCode UrbanRural2FoldCode UrbanRural3FoldCode\n",
       "1  2                   1                   1                  \n",
       "2  6                   2                   2                  \n",
       "3  2                   1                   1                  \n",
       "4  1                   1                   1                  \n",
       "5  1                   1                   1                  \n",
       "6  1                   1                   1                  \n",
       "7  6                   2                   2                  \n",
       "8  2                   1                   1                  \n",
       "9  1                   1                   1                  \n",
       "10 2                   1                   1                  \n",
       "11 6                   2                   2                  \n",
       "12 NA                  NA                  NA                 \n",
       "13 NA                  NA                  NA                 \n",
       "14 NA                  NA                  NA                 \n",
       "15 NA                  NA                  NA                 \n",
       "16 NA                  NA                  NA                 \n",
       "17 NA                  NA                  NA                 \n",
       "18 NA                  NA                  NA                 "
      ]
     },
     "metadata": {},
     "output_type": "display_data"
    }
   ],
   "source": [
    "tmp_df %>%\n",
    "    bind_rows(centre_postcodes %>%\n",
    "                filter((Country == \"Scotland\") & if_any(matches(\"^UrbanRural\\\\d\"), is.na)) %>%\n",
    "                select(- starts_with(\"UrbanRural\")) %>%\n",
    "\n",
    "                anti_join(tmp_df, by = \"Centre\"\n",
    "                         ) %>%\n",
    "                \n",
    "                left_join(postcode_lookup %>%\n",
    "                              filter(!is.na(DateOfDeletion)) %>%\n",
    "                              select(Postcode, LinkedSmallUserPostcode)) %>%\n",
    "\n",
    "                left_join(postcode_lookup %>%\n",
    "                              filter(is.na(DateOfDeletion)) %>%\n",
    "                              select(Postcode, matches(\"UrbanRural\")),\n",
    "                          by = c(\"LinkedSmallUserPostcode\" = \"Postcode\")\n",
    "                         ) %>% \n",
    "              \n",
    "                rename_with(~ str_replace(., \"2016\", \"\"), matches(\"^UrbanRural\\\\d\")) %>%\n",
    "\n",
    "                rename_with(~ gsub(\"^(UrbanRural\\\\dFold)(\\\\d+)(C\\\\w+)\", \"\\\\1\\\\3\", ., ignore.case = TRUE)) %>%\n",
    "\n",
    "                left_join(sg_urban_rural_classification_postcode_lookup %>%\n",
    "                              distinct(across(matches(\"^UrbanRural\\\\d\"))) %>%\n",
    "                              drop_na()\n",
    "                         ) \n",
    "                ) "
   ]
  },
  {
   "cell_type": "code",
   "execution_count": null,
   "metadata": {},
   "outputs": [],
   "source": []
  },
  {
   "cell_type": "code",
   "execution_count": 57,
   "metadata": {
    "scrolled": false
   },
   "outputs": [
    {
     "name": "stderr",
     "output_type": "stream",
     "text": [
      "Joining, by = \"Postcode\"\n",
      "Joining, by = c(\"UrbanRural6FoldCode\", \"UrbanRural8FoldCode\")\n"
     ]
    },
    {
     "name": "stdout",
     "output_type": "stream",
     "text": [
      "Rows: 1,002\n",
      "Columns: 11\n",
      "$ Centre              \u001b[3m\u001b[90m<fct>\u001b[39m\u001b[23m 1000144, 1001930, 1002732, 1002759, 1002856, 10029…\n",
      "$ CentreName          \u001b[3m\u001b[90m<fct>\u001b[39m\u001b[23m \"Firpark Secondary School\", \"Buchanan High School\"…\n",
      "$ Postcode            \u001b[3m\u001b[90m<fct>\u001b[39m\u001b[23m ML1 2PR, ML5 2HT, G67 2UF, KA13 6DE, DD3 8LE, EH11…\n",
      "$ EducationAuthority  \u001b[3m\u001b[90m<fct>\u001b[39m\u001b[23m North Lanarkshire Council Education Department, No…\n",
      "$ GeoArea             \u001b[3m\u001b[90m<fct>\u001b[39m\u001b[23m North Lanarkshire, North Lanarkshire, North Lanark…\n",
      "$ Country             \u001b[3m\u001b[90m<fct>\u001b[39m\u001b[23m Scotland, Scotland, Scotland, Scotland, Scotland, …\n",
      "$ UrbanRural2FoldCode \u001b[3m\u001b[90m<fct>\u001b[39m\u001b[23m 1, 1, 1, 1, 1, 1, 1, 1, 1, 1, 1, 2, 1, 1, 1, 1, 1,…\n",
      "$ UrbanRural3FoldCode \u001b[3m\u001b[90m<fct>\u001b[39m\u001b[23m 1, 1, 1, 1, 1, 1, 1, 1, 1, 1, 1, 2, 1, 1, 1, 1, 1,…\n",
      "$ UrbanRural6FoldCode \u001b[3m\u001b[90m<fct>\u001b[39m\u001b[23m 2, 2, 2, 2, 1, 1, 2, 1, 1, 1, 2, 5, 2, 1, 2, 1, 1,…\n",
      "$ UrbanRural8FoldCode \u001b[3m\u001b[90m<fct>\u001b[39m\u001b[23m 2, 2, 2, 2, 1, 1, 2, 1, 1, 1, 2, 6, 2, 1, 2, 1, 1,…\n",
      "$ LinkPostcode        \u001b[3m\u001b[90m<fct>\u001b[39m\u001b[23m NA, NA, NA, NA, NA, NA, NA, NA, NA, NA, NA, NA, NA…\n"
     ]
    }
   ],
   "source": [
    "# fill in remaining blanks... \n",
    "\n",
    "centre_postcodes <- centre_postcodes %>%\n",
    "    filter((Country != \"Scotland\") | if_all(starts_with(\"UrbanRural\"), ~ !is.na(.))) %>%\n",
    "\n",
    "    rbind(tmp_df %>%\n",
    "                bind_rows(centre_postcodes %>%\n",
    "                            filter((Country == \"Scotland\") & if_any(matches(\"^UrbanRural\\\\d\"), is.na)) %>%\n",
    "                            select(- starts_with(\"UrbanRural\")) %>%\n",
    "\n",
    "                            anti_join(tmp_df, by = \"Centre\"\n",
    "                                     ) %>%\n",
    "\n",
    "                            left_join(postcode_lookup %>%\n",
    "                                          filter(!is.na(DateOfDeletion)) %>%\n",
    "                                          select(Postcode, LinkedSmallUserPostcode)) %>%\n",
    "\n",
    "                            left_join(postcode_lookup %>%\n",
    "                                          filter(is.na(DateOfDeletion)) %>%\n",
    "                                          select(Postcode, matches(\"UrbanRural\")),\n",
    "                                      by = c(\"LinkedSmallUserPostcode\" = \"Postcode\")\n",
    "                                     ) %>% \n",
    "\n",
    "                            rename_with(~ str_replace(., \"2016\", \"\"), matches(\"^UrbanRural\\\\d\")) %>%\n",
    "\n",
    "                            rename_with(~ gsub(\"^(UrbanRural\\\\dFold)(\\\\d+)(C\\\\w+)\", \"\\\\1\\\\3\", ., ignore.case = TRUE)) %>%\n",
    "\n",
    "                            left_join(sg_urban_rural_classification_postcode_lookup %>%\n",
    "                                          distinct(across(matches(\"^UrbanRural\\\\d\"))) %>%\n",
    "                                          drop_na()\n",
    "                                     ) \n",
    "                            ) %>%\n",
    "                select(names(centre_postcodes)) \n",
    "              \n",
    "             ) %>%\n",
    "\n",
    "    glimpse()"
   ]
  },
  {
   "cell_type": "code",
   "execution_count": null,
   "metadata": {},
   "outputs": [],
   "source": []
  },
  {
   "cell_type": "markdown",
   "metadata": {},
   "source": [
    "#### END &ndash; \"external data\" &ndash; urban/rural classification"
   ]
  },
  {
   "cell_type": "markdown",
   "metadata": {},
   "source": [
    "### SIMD\n",
    "* using the Scottish Index of Multiple Deprivation 2020 rankings"
   ]
  },
  {
   "cell_type": "code",
   "execution_count": 58,
   "metadata": {},
   "outputs": [
    {
     "data": {
      "text/html": [
       "71"
      ],
      "text/latex": [
       "71"
      ],
      "text/markdown": [
       "71"
      ],
      "text/plain": [
       "[1] 71"
      ]
     },
     "metadata": {},
     "output_type": "display_data"
    },
    {
     "data": {
      "text/html": [
       "<table class=\"dataframe\">\n",
       "<caption>A grouped_df: 0 × 5</caption>\n",
       "<thead>\n",
       "\t<tr><th scope=col>Postcode</th><th scope=col>SIMD2020Rank</th><th scope=col>DateOfDeletion</th><th scope=col>LinkedSmallUserPostcode</th><th scope=col>n</th></tr>\n",
       "\t<tr><th scope=col>&lt;chr&gt;</th><th scope=col>&lt;chr&gt;</th><th scope=col>&lt;chr&gt;</th><th scope=col>&lt;chr&gt;</th><th scope=col>&lt;int&gt;</th></tr>\n",
       "</thead>\n",
       "<tbody>\n",
       "</tbody>\n",
       "</table>\n"
      ],
      "text/latex": [
       "A grouped\\_df: 0 × 5\n",
       "\\begin{tabular}{lllll}\n",
       " Postcode & SIMD2020Rank & DateOfDeletion & LinkedSmallUserPostcode & n\\\\\n",
       " <chr> & <chr> & <chr> & <chr> & <int>\\\\\n",
       "\\hline\n",
       "\\end{tabular}\n"
      ],
      "text/markdown": [
       "\n",
       "A grouped_df: 0 × 5\n",
       "\n",
       "| Postcode &lt;chr&gt; | SIMD2020Rank &lt;chr&gt; | DateOfDeletion &lt;chr&gt; | LinkedSmallUserPostcode &lt;chr&gt; | n &lt;int&gt; |\n",
       "|---|---|---|---|---|\n",
       "\n"
      ],
      "text/plain": [
       "     Postcode SIMD2020Rank DateOfDeletion LinkedSmallUserPostcode n"
      ]
     },
     "metadata": {},
     "output_type": "display_data"
    }
   ],
   "source": [
    "postcode_lookup %>%\n",
    "    select(Postcode, SIMD2020Rank, DateOfDeletion, LinkedSmallUserPostcode) %>%\n",
    "    group_by(Postcode, SIMD2020Rank) %>%\n",
    "    add_tally() %>%\n",
    "    filter(n > 1) %>%\n",
    "    #arrange(Postcode, desc(DateOfDeletion), SIMD2020Rank)\n",
    "    distinct(Postcode) %>%\n",
    "    nrow()\n",
    "\n",
    "postcode_lookup %>%\n",
    "    select(Postcode, SIMD2020Rank, DateOfDeletion, LinkedSmallUserPostcode) %>%\n",
    "    group_by(Postcode, SIMD2020Rank, DateOfDeletion) %>%\n",
    "    add_tally() %>%\n",
    "    filter(n > 1)"
   ]
  },
  {
   "cell_type": "code",
   "execution_count": 59,
   "metadata": {},
   "outputs": [
    {
     "name": "stderr",
     "output_type": "stream",
     "text": [
      "Joining, by = \"Postcode\"\n"
     ]
    },
    {
     "data": {
      "text/html": [
       "<table class=\"dataframe\">\n",
       "<caption>A tibble: 18 × 4</caption>\n",
       "<thead>\n",
       "\t<tr><th scope=col>Centre</th><th scope=col>CentreName</th><th scope=col>Postcode</th><th scope=col>EducationAuthority</th></tr>\n",
       "\t<tr><th scope=col>&lt;fct&gt;</th><th scope=col>&lt;fct&gt;</th><th scope=col>&lt;chr&gt;</th><th scope=col>&lt;fct&gt;</th></tr>\n",
       "</thead>\n",
       "<tbody>\n",
       "\t<tr><td>3009084</td><td>Ageas Retail Ltd                                      </td><td>G71 5PU </td><td>NA                                              </td></tr>\n",
       "\t<tr><td>4196775</td><td>Forward Training Partnership                          </td><td>EH54 6NG</td><td>NA                                              </td></tr>\n",
       "\t<tr><td>5349834</td><td><span style=white-space:pre-wrap>Breadalbane Academy                                   </span></td><td>PH15 2DU</td><td><span style=white-space:pre-wrap>Perth &amp; Kinross Council Education Department    </span></td></tr>\n",
       "\t<tr><td>5780136</td><td>Beaconhurst School                                    </td><td>FK9 4RR </td><td>Independent                                     </td></tr>\n",
       "\t<tr><td>8631344</td><td>Kersland School                                       </td><td>PA2 7BU </td><td>Renfrewshire Council Education Department       </td></tr>\n",
       "\t<tr><td>3006166</td><td>Ritchies Training Centre                              </td><td>G21 4AU </td><td>NA                                              </td></tr>\n",
       "\t<tr><td>5135532</td><td>Kinlochleven High School                              </td><td>PH50 4QE</td><td>Highland Council Education Department           </td></tr>\n",
       "\t<tr><td>5406331</td><td>Buckhaven High School                                 </td><td>KY8 1HL </td><td>Fife Council Education Department               </td></tr>\n",
       "\t<tr><td>5939534</td><td><span style=white-space:pre-wrap>North West Community Campus                           </span></td><td>DG2 9DY </td><td>Dumfries &amp; Galloway Council Education Department</td></tr>\n",
       "\t<tr><td>8645434</td><td>St Columba's High School (Gourock)                    </td><td>PA19 1TP</td><td>Inverclyde Council Education Department         </td></tr>\n",
       "\t<tr><td>8694036</td><td>East Renfrewshire Council                             </td><td>G78 2QY </td><td>NA                                              </td></tr>\n",
       "\t<tr><td>3001024</td><td>Calder Associates (Scotland) Limited                  </td><td>KY12 OQX</td><td>NA                                              </td></tr>\n",
       "\t<tr><td>3012743</td><td>Fitness Training Scotland                             </td><td>KA1 9GX </td><td>NA                                              </td></tr>\n",
       "\t<tr><td>4197437</td><td>Training Matters (Scotland) Limited                   </td><td>G52 4RU </td><td>NA                                              </td></tr>\n",
       "\t<tr><td>5294738</td><td>Aberdeen City Council                                 </td><td>AB15 5PD</td><td>NA                                              </td></tr>\n",
       "\t<tr><td>5511844</td><td>Cedarbank School                                      </td><td>EH54 6FW</td><td>West Lothian Council Education Department       </td></tr>\n",
       "\t<tr><td>5590183</td><td>Midlothian Council - Communities and Lifelong Learning</td><td>EH22 3ZG</td><td>NA                                              </td></tr>\n",
       "\t<tr><td>6003230</td><td>Sanday Secondary School                               </td><td>SG19 1BL</td><td>Orkney Islands Council Education Department     </td></tr>\n",
       "</tbody>\n",
       "</table>\n"
      ],
      "text/latex": [
       "A tibble: 18 × 4\n",
       "\\begin{tabular}{llll}\n",
       " Centre & CentreName & Postcode & EducationAuthority\\\\\n",
       " <fct> & <fct> & <chr> & <fct>\\\\\n",
       "\\hline\n",
       "\t 3009084 & Ageas Retail Ltd                                       & G71 5PU  & NA                                              \\\\\n",
       "\t 4196775 & Forward Training Partnership                           & EH54 6NG & NA                                              \\\\\n",
       "\t 5349834 & Breadalbane Academy                                    & PH15 2DU & Perth \\& Kinross Council Education Department    \\\\\n",
       "\t 5780136 & Beaconhurst School                                     & FK9 4RR  & Independent                                     \\\\\n",
       "\t 8631344 & Kersland School                                        & PA2 7BU  & Renfrewshire Council Education Department       \\\\\n",
       "\t 3006166 & Ritchies Training Centre                               & G21 4AU  & NA                                              \\\\\n",
       "\t 5135532 & Kinlochleven High School                               & PH50 4QE & Highland Council Education Department           \\\\\n",
       "\t 5406331 & Buckhaven High School                                  & KY8 1HL  & Fife Council Education Department               \\\\\n",
       "\t 5939534 & North West Community Campus                            & DG2 9DY  & Dumfries \\& Galloway Council Education Department\\\\\n",
       "\t 8645434 & St Columba's High School (Gourock)                     & PA19 1TP & Inverclyde Council Education Department         \\\\\n",
       "\t 8694036 & East Renfrewshire Council                              & G78 2QY  & NA                                              \\\\\n",
       "\t 3001024 & Calder Associates (Scotland) Limited                   & KY12 OQX & NA                                              \\\\\n",
       "\t 3012743 & Fitness Training Scotland                              & KA1 9GX  & NA                                              \\\\\n",
       "\t 4197437 & Training Matters (Scotland) Limited                    & G52 4RU  & NA                                              \\\\\n",
       "\t 5294738 & Aberdeen City Council                                  & AB15 5PD & NA                                              \\\\\n",
       "\t 5511844 & Cedarbank School                                       & EH54 6FW & West Lothian Council Education Department       \\\\\n",
       "\t 5590183 & Midlothian Council - Communities and Lifelong Learning & EH22 3ZG & NA                                              \\\\\n",
       "\t 6003230 & Sanday Secondary School                                & SG19 1BL & Orkney Islands Council Education Department     \\\\\n",
       "\\end{tabular}\n"
      ],
      "text/markdown": [
       "\n",
       "A tibble: 18 × 4\n",
       "\n",
       "| Centre &lt;fct&gt; | CentreName &lt;fct&gt; | Postcode &lt;chr&gt; | EducationAuthority &lt;fct&gt; |\n",
       "|---|---|---|---|\n",
       "| 3009084 | Ageas Retail Ltd                                       | G71 5PU  | NA                                               |\n",
       "| 4196775 | Forward Training Partnership                           | EH54 6NG | NA                                               |\n",
       "| 5349834 | Breadalbane Academy                                    | PH15 2DU | Perth &amp; Kinross Council Education Department     |\n",
       "| 5780136 | Beaconhurst School                                     | FK9 4RR  | Independent                                      |\n",
       "| 8631344 | Kersland School                                        | PA2 7BU  | Renfrewshire Council Education Department        |\n",
       "| 3006166 | Ritchies Training Centre                               | G21 4AU  | NA                                               |\n",
       "| 5135532 | Kinlochleven High School                               | PH50 4QE | Highland Council Education Department            |\n",
       "| 5406331 | Buckhaven High School                                  | KY8 1HL  | Fife Council Education Department                |\n",
       "| 5939534 | North West Community Campus                            | DG2 9DY  | Dumfries &amp; Galloway Council Education Department |\n",
       "| 8645434 | St Columba's High School (Gourock)                     | PA19 1TP | Inverclyde Council Education Department          |\n",
       "| 8694036 | East Renfrewshire Council                              | G78 2QY  | NA                                               |\n",
       "| 3001024 | Calder Associates (Scotland) Limited                   | KY12 OQX | NA                                               |\n",
       "| 3012743 | Fitness Training Scotland                              | KA1 9GX  | NA                                               |\n",
       "| 4197437 | Training Matters (Scotland) Limited                    | G52 4RU  | NA                                               |\n",
       "| 5294738 | Aberdeen City Council                                  | AB15 5PD | NA                                               |\n",
       "| 5511844 | Cedarbank School                                       | EH54 6FW | West Lothian Council Education Department        |\n",
       "| 5590183 | Midlothian Council - Communities and Lifelong Learning | EH22 3ZG | NA                                               |\n",
       "| 6003230 | Sanday Secondary School                                | SG19 1BL | Orkney Islands Council Education Department      |\n",
       "\n"
      ],
      "text/plain": [
       "   Centre  CentreName                                             Postcode\n",
       "1  3009084 Ageas Retail Ltd                                       G71 5PU \n",
       "2  4196775 Forward Training Partnership                           EH54 6NG\n",
       "3  5349834 Breadalbane Academy                                    PH15 2DU\n",
       "4  5780136 Beaconhurst School                                     FK9 4RR \n",
       "5  8631344 Kersland School                                        PA2 7BU \n",
       "6  3006166 Ritchies Training Centre                               G21 4AU \n",
       "7  5135532 Kinlochleven High School                               PH50 4QE\n",
       "8  5406331 Buckhaven High School                                  KY8 1HL \n",
       "9  5939534 North West Community Campus                            DG2 9DY \n",
       "10 8645434 St Columba's High School (Gourock)                     PA19 1TP\n",
       "11 8694036 East Renfrewshire Council                              G78 2QY \n",
       "12 3001024 Calder Associates (Scotland) Limited                   KY12 OQX\n",
       "13 3012743 Fitness Training Scotland                              KA1 9GX \n",
       "14 4197437 Training Matters (Scotland) Limited                    G52 4RU \n",
       "15 5294738 Aberdeen City Council                                  AB15 5PD\n",
       "16 5511844 Cedarbank School                                       EH54 6FW\n",
       "17 5590183 Midlothian Council - Communities and Lifelong Learning EH22 3ZG\n",
       "18 6003230 Sanday Secondary School                                SG19 1BL\n",
       "   EducationAuthority                              \n",
       "1  NA                                              \n",
       "2  NA                                              \n",
       "3  Perth & Kinross Council Education Department    \n",
       "4  Independent                                     \n",
       "5  Renfrewshire Council Education Department       \n",
       "6  NA                                              \n",
       "7  Highland Council Education Department           \n",
       "8  Fife Council Education Department               \n",
       "9  Dumfries & Galloway Council Education Department\n",
       "10 Inverclyde Council Education Department         \n",
       "11 NA                                              \n",
       "12 NA                                              \n",
       "13 NA                                              \n",
       "14 NA                                              \n",
       "15 NA                                              \n",
       "16 West Lothian Council Education Department       \n",
       "17 NA                                              \n",
       "18 Orkney Islands Council Education Department     "
      ]
     },
     "metadata": {},
     "output_type": "display_data"
    }
   ],
   "source": [
    "centre_postcodes <- centre_postcodes %>%\n",
    "    left_join(postcode_lookup %>%\n",
    "                  filter(is.na(DateOfDeletion)) %>%\n",
    "                  select(Postcode, SIMD2020Rank) \n",
    "             )\n",
    "\n",
    "centre_postcodes %>%\n",
    "    filter((Country == \"Scotland\") & is.na(SIMD2020Rank)) %>%\n",
    "    distinct(EducationAuthority, Centre, CentreName, Postcode)"
   ]
  },
  {
   "cell_type": "code",
   "execution_count": 60,
   "metadata": {
    "scrolled": false
   },
   "outputs": [
    {
     "name": "stderr",
     "output_type": "stream",
     "text": [
      "Joining, by = \"Postcode\"\n"
     ]
    }
   ],
   "source": [
    "tmp_df <- centre_postcodes %>%\n",
    "    filter((Country == \"Scotland\") & is.na(SIMD2020Rank)) %>%\n",
    "    select(- SIMD2020Rank) %>%\n",
    "\n",
    "    left_join(postcode_lookup %>%\n",
    "                  filter(!is.na(DateOfDeletion) & (LinkedSmallUserPostcode != \"NO LINKP\")) %>%\n",
    "                  distinct(Postcode, LinkedSmallUserPostcode) \n",
    "             ) %>%\n",
    "\n",
    "    left_join(postcode_lookup %>%\n",
    "                  distinct(Postcode, SIMD2020Rank),\n",
    "              by = c(\"LinkedSmallUserPostcode\" = \"Postcode\")\n",
    "    )\n",
    "\n",
    "# remaining matches not in use anywhere else; use (deleted ranking)?\n",
    "#tmp_df%>%\n",
    "#    filter(!is.na(SIMD2020Rank)) %>%\n",
    "#\n",
    "#    bind_rows(tmp_df %>%\n",
    "#\n",
    "#                filter(is.na(SIMD2020Rank)) %>%\n",
    "#                select(- SIMD2020Rank) %>%\n",
    "#\n",
    "#                left_join(postcode_lookup %>%\n",
    "#                              select(Postcode, SIMD2020Rank) \n",
    "#                         )\n",
    "#              )"
   ]
  },
  {
   "cell_type": "code",
   "execution_count": 61,
   "metadata": {},
   "outputs": [
    {
     "name": "stdout",
     "output_type": "stream",
     "text": [
      "Rows: 1,002\n",
      "Columns: 12\n",
      "$ Centre              \u001b[3m\u001b[90m<fct>\u001b[39m\u001b[23m 1000144, 1001930, 1002732, 1002759, 1002856, 10029…\n",
      "$ CentreName          \u001b[3m\u001b[90m<fct>\u001b[39m\u001b[23m \"Firpark Secondary School\", \"Buchanan High School\"…\n",
      "$ Postcode            \u001b[3m\u001b[90m<chr>\u001b[39m\u001b[23m \"ML1 2PR\", \"ML5 2HT\", \"G67 2UF\", \"KA13 6DE\", \"DD3 …\n",
      "$ EducationAuthority  \u001b[3m\u001b[90m<fct>\u001b[39m\u001b[23m North Lanarkshire Council Education Department, No…\n",
      "$ GeoArea             \u001b[3m\u001b[90m<fct>\u001b[39m\u001b[23m North Lanarkshire, North Lanarkshire, North Lanark…\n",
      "$ Country             \u001b[3m\u001b[90m<fct>\u001b[39m\u001b[23m Scotland, Scotland, Scotland, Scotland, Scotland, …\n",
      "$ UrbanRural2FoldCode \u001b[3m\u001b[90m<fct>\u001b[39m\u001b[23m 1, 1, 1, 1, 1, 1, 1, 1, 1, 1, 1, 2, 1, 1, 1, 1, 1,…\n",
      "$ UrbanRural3FoldCode \u001b[3m\u001b[90m<fct>\u001b[39m\u001b[23m 1, 1, 1, 1, 1, 1, 1, 1, 1, 1, 1, 2, 1, 1, 1, 1, 1,…\n",
      "$ UrbanRural6FoldCode \u001b[3m\u001b[90m<fct>\u001b[39m\u001b[23m 2, 2, 2, 2, 1, 1, 2, 1, 1, 1, 2, 5, 2, 1, 2, 1, 1,…\n",
      "$ UrbanRural8FoldCode \u001b[3m\u001b[90m<fct>\u001b[39m\u001b[23m 2, 2, 2, 2, 1, 1, 2, 1, 1, 1, 2, 6, 2, 1, 2, 1, 1,…\n",
      "$ LinkPostcode        \u001b[3m\u001b[90m<fct>\u001b[39m\u001b[23m NA, NA, NA, NA, NA, NA, NA, NA, NA, NA, NA, NA, NA…\n",
      "$ SIMD2020Rank        \u001b[3m\u001b[90m<chr>\u001b[39m\u001b[23m \"6660\", \"0860\", \"1738\", \"0499\", \"6028\", \"2531\", \"2…\n"
     ]
    }
   ],
   "source": [
    "glimpse(centre_postcodes)"
   ]
  },
  {
   "cell_type": "code",
   "execution_count": 62,
   "metadata": {},
   "outputs": [
    {
     "name": "stderr",
     "output_type": "stream",
     "text": [
      "Joining, by = \"Postcode\"\n"
     ]
    },
    {
     "name": "stdout",
     "output_type": "stream",
     "text": [
      "Rows: 1,002\n",
      "Columns: 13\n",
      "$ Centre                  \u001b[3m\u001b[90m<fct>\u001b[39m\u001b[23m 1000144, 1001930, 1002732, 1002759, 1002856, 1…\n",
      "$ CentreName              \u001b[3m\u001b[90m<fct>\u001b[39m\u001b[23m \"Firpark Secondary School\", \"Buchanan High Sch…\n",
      "$ Postcode                \u001b[3m\u001b[90m<chr>\u001b[39m\u001b[23m \"ML1 2PR\", \"ML5 2HT\", \"G67 2UF\", \"KA13 6DE\", \"…\n",
      "$ EducationAuthority      \u001b[3m\u001b[90m<fct>\u001b[39m\u001b[23m North Lanarkshire Council Education Department…\n",
      "$ GeoArea                 \u001b[3m\u001b[90m<fct>\u001b[39m\u001b[23m North Lanarkshire, North Lanarkshire, North La…\n",
      "$ Country                 \u001b[3m\u001b[90m<fct>\u001b[39m\u001b[23m Scotland, Scotland, Scotland, Scotland, Scotla…\n",
      "$ UrbanRural2FoldCode     \u001b[3m\u001b[90m<fct>\u001b[39m\u001b[23m 1, 1, 1, 1, 1, 1, 1, 1, 1, 1, 1, 2, 1, 1, 1, 1…\n",
      "$ UrbanRural3FoldCode     \u001b[3m\u001b[90m<fct>\u001b[39m\u001b[23m 1, 1, 1, 1, 1, 1, 1, 1, 1, 1, 1, 2, 1, 1, 1, 1…\n",
      "$ UrbanRural6FoldCode     \u001b[3m\u001b[90m<fct>\u001b[39m\u001b[23m 2, 2, 2, 2, 1, 1, 2, 1, 1, 1, 2, 5, 2, 1, 2, 1…\n",
      "$ UrbanRural8FoldCode     \u001b[3m\u001b[90m<fct>\u001b[39m\u001b[23m 2, 2, 2, 2, 1, 1, 2, 1, 1, 1, 2, 6, 2, 1, 2, 1…\n",
      "$ LinkPostcode            \u001b[3m\u001b[90m<fct>\u001b[39m\u001b[23m NA, NA, NA, NA, NA, NA, NA, NA, NA, NA, NA, NA…\n",
      "$ LinkedSmallUserPostcode \u001b[3m\u001b[90m<chr>\u001b[39m\u001b[23m NA, NA, NA, NA, NA, NA, NA, NA, NA, NA, NA, NA…\n",
      "$ SIMD2020Rank            \u001b[3m\u001b[90m<chr>\u001b[39m\u001b[23m \"6660\", \"0860\", \"1738\", \"0499\", \"6028\", \"2531\"…\n"
     ]
    },
    {
     "data": {
      "text/html": [
       "<table class=\"dataframe\">\n",
       "<caption>A tibble: 10 × 13</caption>\n",
       "<thead>\n",
       "\t<tr><th scope=col>Centre</th><th scope=col>CentreName</th><th scope=col>Postcode</th><th scope=col>EducationAuthority</th><th scope=col>GeoArea</th><th scope=col>Country</th><th scope=col>UrbanRural2FoldCode</th><th scope=col>UrbanRural3FoldCode</th><th scope=col>UrbanRural6FoldCode</th><th scope=col>UrbanRural8FoldCode</th><th scope=col>LinkPostcode</th><th scope=col>LinkedSmallUserPostcode</th><th scope=col>SIMD2020Rank</th></tr>\n",
       "\t<tr><th scope=col>&lt;fct&gt;</th><th scope=col>&lt;fct&gt;</th><th scope=col>&lt;chr&gt;</th><th scope=col>&lt;fct&gt;</th><th scope=col>&lt;fct&gt;</th><th scope=col>&lt;fct&gt;</th><th scope=col>&lt;fct&gt;</th><th scope=col>&lt;fct&gt;</th><th scope=col>&lt;fct&gt;</th><th scope=col>&lt;fct&gt;</th><th scope=col>&lt;fct&gt;</th><th scope=col>&lt;chr&gt;</th><th scope=col>&lt;chr&gt;</th></tr>\n",
       "</thead>\n",
       "<tbody>\n",
       "\t<tr><td>4196775</td><td>Forward Training Partnership                          </td><td>EH54 6NG</td><td>NA                                          </td><td>West Lothian   </td><td>Scotland</td><td>1 </td><td>1 </td><td>2 </td><td>2 </td><td>NA</td><td>NA</td><td>NA</td></tr>\n",
       "\t<tr><td>5349834</td><td><span style=white-space:pre-wrap>Breadalbane Academy                                   </span></td><td>PH15 2DU</td><td>Perth &amp; Kinross Council Education Department</td><td>Perth &amp; Kinross</td><td>Scotland</td><td>2 </td><td>3 </td><td>6 </td><td>7 </td><td>NA</td><td>NA</td><td>NA</td></tr>\n",
       "\t<tr><td>8631344</td><td>Kersland School                                       </td><td>PA2 7BU </td><td>Renfrewshire Council Education Department   </td><td>Renfrewshire   </td><td>Scotland</td><td>1 </td><td>1 </td><td>1 </td><td>1 </td><td>NA</td><td>NA</td><td>NA</td></tr>\n",
       "\t<tr><td>3001024</td><td>Calder Associates (Scotland) Limited                  </td><td>KY12 OQX</td><td>NA                                          </td><td>Fife           </td><td>Scotland</td><td>NA</td><td>NA</td><td>NA</td><td>NA</td><td>NA</td><td>NA</td><td>NA</td></tr>\n",
       "\t<tr><td>3012743</td><td>Fitness Training Scotland                             </td><td>KA1 9GX </td><td>NA                                          </td><td>East Ayrshire  </td><td>Scotland</td><td>NA</td><td>NA</td><td>NA</td><td>NA</td><td>NA</td><td>NA</td><td>NA</td></tr>\n",
       "\t<tr><td>4197437</td><td>Training Matters (Scotland) Limited                   </td><td>G52 4RU </td><td>NA                                          </td><td>Glasgow City   </td><td>Scotland</td><td>NA</td><td>NA</td><td>NA</td><td>NA</td><td>NA</td><td>NA</td><td>NA</td></tr>\n",
       "\t<tr><td>5294738</td><td>Aberdeen City Council                                 </td><td>AB15 5PD</td><td>NA                                          </td><td>Aberdeen City  </td><td>Scotland</td><td>NA</td><td>NA</td><td>NA</td><td>NA</td><td>NA</td><td>NA</td><td>NA</td></tr>\n",
       "\t<tr><td>5511844</td><td>Cedarbank School                                      </td><td>EH54 6FW</td><td>West Lothian Council Education Department   </td><td>West Lothian   </td><td>Scotland</td><td>NA</td><td>NA</td><td>NA</td><td>NA</td><td>NA</td><td>NA</td><td>NA</td></tr>\n",
       "\t<tr><td>5590183</td><td>Midlothian Council - Communities and Lifelong Learning</td><td>EH22 3ZG</td><td>NA                                          </td><td>Midlothian     </td><td>Scotland</td><td>NA</td><td>NA</td><td>NA</td><td>NA</td><td>NA</td><td>NA</td><td>NA</td></tr>\n",
       "\t<tr><td>6003230</td><td>Sanday Secondary School                               </td><td>SG19 1BL</td><td>Orkney Islands Council Education Department </td><td>Orkney Islands </td><td>Scotland</td><td>NA</td><td>NA</td><td>NA</td><td>NA</td><td>NA</td><td>NA</td><td>NA</td></tr>\n",
       "</tbody>\n",
       "</table>\n"
      ],
      "text/latex": [
       "A tibble: 10 × 13\n",
       "\\begin{tabular}{lllllllllllll}\n",
       " Centre & CentreName & Postcode & EducationAuthority & GeoArea & Country & UrbanRural2FoldCode & UrbanRural3FoldCode & UrbanRural6FoldCode & UrbanRural8FoldCode & LinkPostcode & LinkedSmallUserPostcode & SIMD2020Rank\\\\\n",
       " <fct> & <fct> & <chr> & <fct> & <fct> & <fct> & <fct> & <fct> & <fct> & <fct> & <fct> & <chr> & <chr>\\\\\n",
       "\\hline\n",
       "\t 4196775 & Forward Training Partnership                           & EH54 6NG & NA                                           & West Lothian    & Scotland & 1  & 1  & 2  & 2  & NA & NA & NA\\\\\n",
       "\t 5349834 & Breadalbane Academy                                    & PH15 2DU & Perth \\& Kinross Council Education Department & Perth \\& Kinross & Scotland & 2  & 3  & 6  & 7  & NA & NA & NA\\\\\n",
       "\t 8631344 & Kersland School                                        & PA2 7BU  & Renfrewshire Council Education Department    & Renfrewshire    & Scotland & 1  & 1  & 1  & 1  & NA & NA & NA\\\\\n",
       "\t 3001024 & Calder Associates (Scotland) Limited                   & KY12 OQX & NA                                           & Fife            & Scotland & NA & NA & NA & NA & NA & NA & NA\\\\\n",
       "\t 3012743 & Fitness Training Scotland                              & KA1 9GX  & NA                                           & East Ayrshire   & Scotland & NA & NA & NA & NA & NA & NA & NA\\\\\n",
       "\t 4197437 & Training Matters (Scotland) Limited                    & G52 4RU  & NA                                           & Glasgow City    & Scotland & NA & NA & NA & NA & NA & NA & NA\\\\\n",
       "\t 5294738 & Aberdeen City Council                                  & AB15 5PD & NA                                           & Aberdeen City   & Scotland & NA & NA & NA & NA & NA & NA & NA\\\\\n",
       "\t 5511844 & Cedarbank School                                       & EH54 6FW & West Lothian Council Education Department    & West Lothian    & Scotland & NA & NA & NA & NA & NA & NA & NA\\\\\n",
       "\t 5590183 & Midlothian Council - Communities and Lifelong Learning & EH22 3ZG & NA                                           & Midlothian      & Scotland & NA & NA & NA & NA & NA & NA & NA\\\\\n",
       "\t 6003230 & Sanday Secondary School                                & SG19 1BL & Orkney Islands Council Education Department  & Orkney Islands  & Scotland & NA & NA & NA & NA & NA & NA & NA\\\\\n",
       "\\end{tabular}\n"
      ],
      "text/markdown": [
       "\n",
       "A tibble: 10 × 13\n",
       "\n",
       "| Centre &lt;fct&gt; | CentreName &lt;fct&gt; | Postcode &lt;chr&gt; | EducationAuthority &lt;fct&gt; | GeoArea &lt;fct&gt; | Country &lt;fct&gt; | UrbanRural2FoldCode &lt;fct&gt; | UrbanRural3FoldCode &lt;fct&gt; | UrbanRural6FoldCode &lt;fct&gt; | UrbanRural8FoldCode &lt;fct&gt; | LinkPostcode &lt;fct&gt; | LinkedSmallUserPostcode &lt;chr&gt; | SIMD2020Rank &lt;chr&gt; |\n",
       "|---|---|---|---|---|---|---|---|---|---|---|---|---|\n",
       "| 4196775 | Forward Training Partnership                           | EH54 6NG | NA                                           | West Lothian    | Scotland | 1  | 1  | 2  | 2  | NA | NA | NA |\n",
       "| 5349834 | Breadalbane Academy                                    | PH15 2DU | Perth &amp; Kinross Council Education Department | Perth &amp; Kinross | Scotland | 2  | 3  | 6  | 7  | NA | NA | NA |\n",
       "| 8631344 | Kersland School                                        | PA2 7BU  | Renfrewshire Council Education Department    | Renfrewshire    | Scotland | 1  | 1  | 1  | 1  | NA | NA | NA |\n",
       "| 3001024 | Calder Associates (Scotland) Limited                   | KY12 OQX | NA                                           | Fife            | Scotland | NA | NA | NA | NA | NA | NA | NA |\n",
       "| 3012743 | Fitness Training Scotland                              | KA1 9GX  | NA                                           | East Ayrshire   | Scotland | NA | NA | NA | NA | NA | NA | NA |\n",
       "| 4197437 | Training Matters (Scotland) Limited                    | G52 4RU  | NA                                           | Glasgow City    | Scotland | NA | NA | NA | NA | NA | NA | NA |\n",
       "| 5294738 | Aberdeen City Council                                  | AB15 5PD | NA                                           | Aberdeen City   | Scotland | NA | NA | NA | NA | NA | NA | NA |\n",
       "| 5511844 | Cedarbank School                                       | EH54 6FW | West Lothian Council Education Department    | West Lothian    | Scotland | NA | NA | NA | NA | NA | NA | NA |\n",
       "| 5590183 | Midlothian Council - Communities and Lifelong Learning | EH22 3ZG | NA                                           | Midlothian      | Scotland | NA | NA | NA | NA | NA | NA | NA |\n",
       "| 6003230 | Sanday Secondary School                                | SG19 1BL | Orkney Islands Council Education Department  | Orkney Islands  | Scotland | NA | NA | NA | NA | NA | NA | NA |\n",
       "\n"
      ],
      "text/plain": [
       "   Centre  CentreName                                             Postcode\n",
       "1  4196775 Forward Training Partnership                           EH54 6NG\n",
       "2  5349834 Breadalbane Academy                                    PH15 2DU\n",
       "3  8631344 Kersland School                                        PA2 7BU \n",
       "4  3001024 Calder Associates (Scotland) Limited                   KY12 OQX\n",
       "5  3012743 Fitness Training Scotland                              KA1 9GX \n",
       "6  4197437 Training Matters (Scotland) Limited                    G52 4RU \n",
       "7  5294738 Aberdeen City Council                                  AB15 5PD\n",
       "8  5511844 Cedarbank School                                       EH54 6FW\n",
       "9  5590183 Midlothian Council - Communities and Lifelong Learning EH22 3ZG\n",
       "10 6003230 Sanday Secondary School                                SG19 1BL\n",
       "   EducationAuthority                           GeoArea         Country \n",
       "1  NA                                           West Lothian    Scotland\n",
       "2  Perth & Kinross Council Education Department Perth & Kinross Scotland\n",
       "3  Renfrewshire Council Education Department    Renfrewshire    Scotland\n",
       "4  NA                                           Fife            Scotland\n",
       "5  NA                                           East Ayrshire   Scotland\n",
       "6  NA                                           Glasgow City    Scotland\n",
       "7  NA                                           Aberdeen City   Scotland\n",
       "8  West Lothian Council Education Department    West Lothian    Scotland\n",
       "9  NA                                           Midlothian      Scotland\n",
       "10 Orkney Islands Council Education Department  Orkney Islands  Scotland\n",
       "   UrbanRural2FoldCode UrbanRural3FoldCode UrbanRural6FoldCode\n",
       "1  1                   1                   2                  \n",
       "2  2                   3                   6                  \n",
       "3  1                   1                   1                  \n",
       "4  NA                  NA                  NA                 \n",
       "5  NA                  NA                  NA                 \n",
       "6  NA                  NA                  NA                 \n",
       "7  NA                  NA                  NA                 \n",
       "8  NA                  NA                  NA                 \n",
       "9  NA                  NA                  NA                 \n",
       "10 NA                  NA                  NA                 \n",
       "   UrbanRural8FoldCode LinkPostcode LinkedSmallUserPostcode SIMD2020Rank\n",
       "1  2                   NA           NA                      NA          \n",
       "2  7                   NA           NA                      NA          \n",
       "3  1                   NA           NA                      NA          \n",
       "4  NA                  NA           NA                      NA          \n",
       "5  NA                  NA           NA                      NA          \n",
       "6  NA                  NA           NA                      NA          \n",
       "7  NA                  NA           NA                      NA          \n",
       "8  NA                  NA           NA                      NA          \n",
       "9  NA                  NA           NA                      NA          \n",
       "10 NA                  NA           NA                      NA          "
      ]
     },
     "metadata": {},
     "output_type": "display_data"
    }
   ],
   "source": [
    "centre_postcodes <- centre_postcodes %>%\n",
    "    filter((Country != \"Scotland\") | !is.na(SIMD2020Rank)) %>%\n",
    " \n",
    "    bind_rows(centre_postcodes %>%\n",
    "                filter((Country == \"Scotland\") & is.na(SIMD2020Rank)) %>%\n",
    "                select(- SIMD2020Rank) %>%\n",
    "\n",
    "                left_join(postcode_lookup %>%\n",
    "                              filter(!is.na(DateOfDeletion) & (LinkedSmallUserPostcode != \"NO LINKP\")) %>%\n",
    "                              distinct(Postcode, LinkedSmallUserPostcode) \n",
    "                         ) %>%\n",
    "\n",
    "                left_join(postcode_lookup %>%\n",
    "                              distinct(Postcode, SIMD2020Rank),\n",
    "                          by = c(\"LinkedSmallUserPostcode\" = \"Postcode\")\n",
    "                )\n",
    "             ) %>%\n",
    "    relocate(SIMD2020Rank, .after = last_col()) %>%\n",
    "    glimpse()\n",
    "\n",
    "\n",
    "centre_postcodes %>%\n",
    "    filter((Country == \"Scotland\") & is.na(SIMD2020Rank))"
   ]
  },
  {
   "cell_type": "code",
   "execution_count": null,
   "metadata": {},
   "outputs": [],
   "source": [
    "***"
   ]
  },
  {
   "cell_type": "code",
   "execution_count": 84,
   "metadata": {},
   "outputs": [
    {
     "name": "stderr",
     "output_type": "stream",
     "text": [
      "Joining, by = \"Postcode\"\n"
     ]
    },
    {
     "data": {
      "text/html": [
       "<table class=\"dataframe\">\n",
       "<caption>A tibble: 10 × 8</caption>\n",
       "<thead>\n",
       "\t<tr><th scope=col>Centre</th><th scope=col>CentreName</th><th scope=col>Postcode</th><th scope=col>UrbanRural8FoldCode</th><th scope=col>SIMD2020RelativeRank</th><th scope=col>SIMD2020Quintile</th><th scope=col>DateOfDeletion</th><th scope=col>SIMD2020Rank</th></tr>\n",
       "\t<tr><th scope=col>&lt;fct&gt;</th><th scope=col>&lt;fct&gt;</th><th scope=col>&lt;chr&gt;</th><th scope=col>&lt;fct&gt;</th><th scope=col>&lt;int&gt;</th><th scope=col>&lt;int&gt;</th><th scope=col>&lt;chr&gt;</th><th scope=col>&lt;chr&gt;</th></tr>\n",
       "</thead>\n",
       "<tbody>\n",
       "\t<tr><td>4196775</td><td>Forward Training Partnership                          </td><td>EH54 6NG</td><td>2 </td><td>NA</td><td>NA</td><td>17/7/2020 00:00:00</td><td>2131</td></tr>\n",
       "\t<tr><td>5349834</td><td>Breadalbane Academy                                   </td><td>PH15 2DU</td><td>7 </td><td>NA</td><td>NA</td><td>28/4/2021 00:00:00</td><td>4192</td></tr>\n",
       "\t<tr><td>8631344</td><td>Kersland School                                       </td><td>PA2 7BU </td><td>1 </td><td>NA</td><td>NA</td><td>31/7/2018 00:00:00</td><td>5744</td></tr>\n",
       "\t<tr><td>3001024</td><td>Calder Associates (Scotland) Limited                  </td><td>KY12 OQX</td><td>NA</td><td>NA</td><td>NA</td><td>NA                </td><td>NA  </td></tr>\n",
       "\t<tr><td>3012743</td><td>Fitness Training Scotland                             </td><td>KA1 9GX </td><td>NA</td><td>NA</td><td>NA</td><td>NA                </td><td>NA  </td></tr>\n",
       "\t<tr><td>4197437</td><td>Training Matters (Scotland) Limited                   </td><td>G52 4RU </td><td>NA</td><td>NA</td><td>NA</td><td>3/6/2008 00:00:00 </td><td>1610</td></tr>\n",
       "\t<tr><td>5294738</td><td>Aberdeen City Council                                 </td><td>AB15 5PD</td><td>NA</td><td>NA</td><td>NA</td><td>9/7/2015 00:00:00 </td><td>4724</td></tr>\n",
       "\t<tr><td>5511844</td><td>Cedarbank School                                      </td><td>EH54 6FW</td><td>NA</td><td>NA</td><td>NA</td><td>NA                </td><td>NA  </td></tr>\n",
       "\t<tr><td>5590183</td><td>Midlothian Council - Communities and Lifelong Learning</td><td>EH22 3ZG</td><td>NA</td><td>NA</td><td>NA</td><td>NA                </td><td>NA  </td></tr>\n",
       "\t<tr><td>6003230</td><td>Sanday Secondary School                               </td><td>SG19 1BL</td><td>NA</td><td>NA</td><td>NA</td><td>NA                </td><td>NA  </td></tr>\n",
       "</tbody>\n",
       "</table>\n"
      ],
      "text/latex": [
       "A tibble: 10 × 8\n",
       "\\begin{tabular}{llllllll}\n",
       " Centre & CentreName & Postcode & UrbanRural8FoldCode & SIMD2020RelativeRank & SIMD2020Quintile & DateOfDeletion & SIMD2020Rank\\\\\n",
       " <fct> & <fct> & <chr> & <fct> & <int> & <int> & <chr> & <chr>\\\\\n",
       "\\hline\n",
       "\t 4196775 & Forward Training Partnership                           & EH54 6NG & 2  & NA & NA & 17/7/2020 00:00:00 & 2131\\\\\n",
       "\t 5349834 & Breadalbane Academy                                    & PH15 2DU & 7  & NA & NA & 28/4/2021 00:00:00 & 4192\\\\\n",
       "\t 8631344 & Kersland School                                        & PA2 7BU  & 1  & NA & NA & 31/7/2018 00:00:00 & 5744\\\\\n",
       "\t 3001024 & Calder Associates (Scotland) Limited                   & KY12 OQX & NA & NA & NA & NA                 & NA  \\\\\n",
       "\t 3012743 & Fitness Training Scotland                              & KA1 9GX  & NA & NA & NA & NA                 & NA  \\\\\n",
       "\t 4197437 & Training Matters (Scotland) Limited                    & G52 4RU  & NA & NA & NA & 3/6/2008 00:00:00  & 1610\\\\\n",
       "\t 5294738 & Aberdeen City Council                                  & AB15 5PD & NA & NA & NA & 9/7/2015 00:00:00  & 4724\\\\\n",
       "\t 5511844 & Cedarbank School                                       & EH54 6FW & NA & NA & NA & NA                 & NA  \\\\\n",
       "\t 5590183 & Midlothian Council - Communities and Lifelong Learning & EH22 3ZG & NA & NA & NA & NA                 & NA  \\\\\n",
       "\t 6003230 & Sanday Secondary School                                & SG19 1BL & NA & NA & NA & NA                 & NA  \\\\\n",
       "\\end{tabular}\n"
      ],
      "text/markdown": [
       "\n",
       "A tibble: 10 × 8\n",
       "\n",
       "| Centre &lt;fct&gt; | CentreName &lt;fct&gt; | Postcode &lt;chr&gt; | UrbanRural8FoldCode &lt;fct&gt; | SIMD2020RelativeRank &lt;int&gt; | SIMD2020Quintile &lt;int&gt; | DateOfDeletion &lt;chr&gt; | SIMD2020Rank &lt;chr&gt; |\n",
       "|---|---|---|---|---|---|---|---|\n",
       "| 4196775 | Forward Training Partnership                           | EH54 6NG | 2  | NA | NA | 17/7/2020 00:00:00 | 2131 |\n",
       "| 5349834 | Breadalbane Academy                                    | PH15 2DU | 7  | NA | NA | 28/4/2021 00:00:00 | 4192 |\n",
       "| 8631344 | Kersland School                                        | PA2 7BU  | 1  | NA | NA | 31/7/2018 00:00:00 | 5744 |\n",
       "| 3001024 | Calder Associates (Scotland) Limited                   | KY12 OQX | NA | NA | NA | NA                 | NA   |\n",
       "| 3012743 | Fitness Training Scotland                              | KA1 9GX  | NA | NA | NA | NA                 | NA   |\n",
       "| 4197437 | Training Matters (Scotland) Limited                    | G52 4RU  | NA | NA | NA | 3/6/2008 00:00:00  | 1610 |\n",
       "| 5294738 | Aberdeen City Council                                  | AB15 5PD | NA | NA | NA | 9/7/2015 00:00:00  | 4724 |\n",
       "| 5511844 | Cedarbank School                                       | EH54 6FW | NA | NA | NA | NA                 | NA   |\n",
       "| 5590183 | Midlothian Council - Communities and Lifelong Learning | EH22 3ZG | NA | NA | NA | NA                 | NA   |\n",
       "| 6003230 | Sanday Secondary School                                | SG19 1BL | NA | NA | NA | NA                 | NA   |\n",
       "\n"
      ],
      "text/plain": [
       "   Centre  CentreName                                             Postcode\n",
       "1  4196775 Forward Training Partnership                           EH54 6NG\n",
       "2  5349834 Breadalbane Academy                                    PH15 2DU\n",
       "3  8631344 Kersland School                                        PA2 7BU \n",
       "4  3001024 Calder Associates (Scotland) Limited                   KY12 OQX\n",
       "5  3012743 Fitness Training Scotland                              KA1 9GX \n",
       "6  4197437 Training Matters (Scotland) Limited                    G52 4RU \n",
       "7  5294738 Aberdeen City Council                                  AB15 5PD\n",
       "8  5511844 Cedarbank School                                       EH54 6FW\n",
       "9  5590183 Midlothian Council - Communities and Lifelong Learning EH22 3ZG\n",
       "10 6003230 Sanday Secondary School                                SG19 1BL\n",
       "   UrbanRural8FoldCode SIMD2020RelativeRank SIMD2020Quintile DateOfDeletion    \n",
       "1  2                   NA                   NA               17/7/2020 00:00:00\n",
       "2  7                   NA                   NA               28/4/2021 00:00:00\n",
       "3  1                   NA                   NA               31/7/2018 00:00:00\n",
       "4  NA                  NA                   NA               NA                \n",
       "5  NA                  NA                   NA               NA                \n",
       "6  NA                  NA                   NA               3/6/2008 00:00:00 \n",
       "7  NA                  NA                   NA               9/7/2015 00:00:00 \n",
       "8  NA                  NA                   NA               NA                \n",
       "9  NA                  NA                   NA               NA                \n",
       "10 NA                  NA                   NA               NA                \n",
       "   SIMD2020Rank\n",
       "1  2131        \n",
       "2  4192        \n",
       "3  5744        \n",
       "4  NA          \n",
       "5  NA          \n",
       "6  1610        \n",
       "7  4724        \n",
       "8  NA          \n",
       "9  NA          \n",
       "10 NA          "
      ]
     },
     "metadata": {},
     "output_type": "display_data"
    }
   ],
   "source": [
    "centre_postcodes %>%\n",
    "    filter(Country == \"Scotland\") %>%\n",
    "    filter(is.na(SIMD2020Rank)) %>%\n",
    "    distinct(Postcode, across(matches(\"Centre|UrbanRural8FoldCode|SIMD2020\"))) %>%\n",
    "\n",
    "    select(- SIMD2020Rank) %>%\n",
    "    left_join(postcode_lookup %>%\n",
    "                  distinct(Postcode, DateOfDeletion, SIMD2020Rank) \n",
    "             ) "
   ]
  },
  {
   "cell_type": "code",
   "execution_count": null,
   "metadata": {},
   "outputs": [],
   "source": [
    "***"
   ]
  },
  {
   "cell_type": "code",
   "execution_count": 63,
   "metadata": {
    "scrolled": false
   },
   "outputs": [
    {
     "name": "stderr",
     "output_type": "stream",
     "text": [
      "Joining, by = c(\"Centre\", \"CentreName\", \"Postcode\", \"EducationAuthority\", \"GeoArea\", \"Country\", \"UrbanRural2FoldCode\", \"UrbanRural3FoldCode\", \"UrbanRural6FoldCode\", \"UrbanRural8FoldCode\", \"LinkPostcode\", \"LinkedSmallUserPostcode\", \"SIMD2020Rank\")\n"
     ]
    },
    {
     "data": {
      "text/html": [
       "<table class=\"dataframe\">\n",
       "<caption>A tibble: 892 × 5</caption>\n",
       "<thead>\n",
       "\t<tr><th scope=col>Centre</th><th scope=col>CentreName</th><th scope=col>Postcode</th><th scope=col>SIMD2020Rank</th><th scope=col>SIMD2020RelativeRank</th></tr>\n",
       "\t<tr><th scope=col>&lt;fct&gt;</th><th scope=col>&lt;fct&gt;</th><th scope=col>&lt;chr&gt;</th><th scope=col>&lt;chr&gt;</th><th scope=col>&lt;int&gt;</th></tr>\n",
       "</thead>\n",
       "<tbody>\n",
       "\t<tr><td>3003191</td><td>Inverclyde Council                        </td><td>PA15 1HU</td><td>0001</td><td> 1</td></tr>\n",
       "\t<tr><td>8380040</td><td>Mirren Park School                        </td><td>PA3 1NS </td><td>0004</td><td> 2</td></tr>\n",
       "\t<tr><td>3022749</td><td>Essentials Plus                           </td><td>KA21 5HN</td><td>0023</td><td> 3</td></tr>\n",
       "\t<tr><td>8294933</td><td>Galloway Training Limited                 </td><td>KA21 5DT</td><td>0023</td><td> 3</td></tr>\n",
       "\t<tr><td>8438331</td><td>St Margaret Mary's Secondary School       </td><td>G45 9NJ </td><td>0027</td><td> 5</td></tr>\n",
       "\t<tr><td>8442843</td><td>St Oswald's School                        </td><td>G45 9NJ </td><td>0027</td><td> 5</td></tr>\n",
       "\t<tr><td>5532434</td><td>Craigroyston Community High School        </td><td>EH4 4NL </td><td>0029</td><td> 7</td></tr>\n",
       "\t<tr><td>8443742</td><td>Newhills School                           </td><td>G33 4HJ </td><td>0046</td><td> 8</td></tr>\n",
       "\t<tr><td>4199774</td><td>Craigend Resource Centre                  </td><td>PA15 2HD</td><td>0057</td><td> 9</td></tr>\n",
       "\t<tr><td>8431639</td><td>Springburn Academy                        </td><td>G21 4JL </td><td>0075</td><td>10</td></tr>\n",
       "\t<tr><td>3020002</td><td>First Steps Future Training               </td><td>G40 2QR </td><td>0080</td><td>11</td></tr>\n",
       "\t<tr><td>8438439</td><td>St Mungo's Academy                        </td><td>G40 2RA </td><td>0080</td><td>11</td></tr>\n",
       "\t<tr><td>8437238</td><td>St Andrew's Secondary School              </td><td>G32 6QE </td><td>0105</td><td>13</td></tr>\n",
       "\t<tr><td>3011178</td><td>Childcare Management Company Ltd          </td><td>G20 9AA </td><td>0135</td><td>14</td></tr>\n",
       "\t<tr><td>8260257</td><td>Ayrshire College Kilmarnock Campus        </td><td>KA1 3HY </td><td>0136</td><td>15</td></tr>\n",
       "\t<tr><td>8434034</td><td>Castlemilk High School                    </td><td>G45 9JY </td><td>0138</td><td>16</td></tr>\n",
       "\t<tr><td>8516839</td><td>Braidhurst High School                    </td><td>ML1 3XF </td><td>0147</td><td>17</td></tr>\n",
       "\t<tr><td>5407532</td><td>Kirkland High School                      </td><td>KY8 3LT </td><td>0148</td><td>18</td></tr>\n",
       "\t<tr><td>8498830</td><td>SHARE                                     </td><td>G22 5AZ </td><td>0167</td><td>19</td></tr>\n",
       "\t<tr><td>8459932</td><td>Drumchapel High School                    </td><td>G15 7SQ </td><td>0168</td><td>20</td></tr>\n",
       "\t<tr><td>4196325</td><td>Motherwell &amp; Wishaw Citizens Advice Bureau</td><td>ML1 1LY </td><td>0192</td><td>21</td></tr>\n",
       "\t<tr><td>8628734</td><td>Paisley Grammar School                    </td><td>PA1 3RP </td><td>0203</td><td>22</td></tr>\n",
       "\t<tr><td>3011534</td><td>Pulteneytown Peoples Project              </td><td>KW1 5BA </td><td>0215</td><td>23</td></tr>\n",
       "\t<tr><td>2094363</td><td>Clackmannanshire Council                  </td><td>FK10 1EB</td><td>0221</td><td>24</td></tr>\n",
       "\t<tr><td>5702534</td><td>Alloa Academy                             </td><td>FK10 1DN</td><td>0221</td><td>24</td></tr>\n",
       "\t<tr><td>3011623</td><td>Genius People                             </td><td>G33 1AN </td><td>0242</td><td>26</td></tr>\n",
       "\t<tr><td>8294437</td><td>North Ayrshire Council                    </td><td>KA12 8EE</td><td>0254</td><td>27</td></tr>\n",
       "\t<tr><td>8435731</td><td>Lochend Community High School             </td><td>G34 0NZ </td><td>0255</td><td>28</td></tr>\n",
       "\t<tr><td>3019551</td><td>VERG (Vocational Education Resource Group)</td><td>ML1 1PN </td><td>0263</td><td>29</td></tr>\n",
       "\t<tr><td>3003817</td><td>Albion Environmental Limited              </td><td>KA8 8ER </td><td>0265</td><td>30</td></tr>\n",
       "\t<tr><td>⋮</td><td>⋮</td><td>⋮</td><td>⋮</td><td>⋮</td></tr>\n",
       "\t<tr><td>5143934</td><td>Culloden Academy                                      </td><td>IV2 7JZ </td><td>6776</td><td>863</td></tr>\n",
       "\t<tr><td>8434638</td><td>Hyndland Secondary School                             </td><td>G12 9RQ </td><td>6781</td><td>864</td></tr>\n",
       "\t<tr><td>8602239</td><td>Mearns Castle High School                             </td><td>G77 5GU </td><td>6798</td><td>865</td></tr>\n",
       "\t<tr><td>5599733</td><td>Apex Trust Scotland                                   </td><td>EH3 7TP </td><td>6805</td><td>866</td></tr>\n",
       "\t<tr><td>5329531</td><td>Harris Academy                                        </td><td>DD2 1NL </td><td>6823</td><td>867</td></tr>\n",
       "\t<tr><td>8432236</td><td>Cleveden Secondary School                             </td><td>G12 0JW </td><td>6829</td><td>868</td></tr>\n",
       "\t<tr><td>5232937</td><td>Westhill Academy                                      </td><td>AB32 6XZ</td><td>6851</td><td>869</td></tr>\n",
       "\t<tr><td>5583438</td><td>Stewart's Melville College                            </td><td>EH4 3EZ </td><td>6852</td><td>870</td></tr>\n",
       "\t<tr><td>8633436</td><td>Gryffe High School                                    </td><td>PA6 7EB </td><td>6853</td><td>871</td></tr>\n",
       "\t<tr><td>5533139</td><td>James Gillespie's High School                         </td><td>EH9 1DD </td><td>6864</td><td>872</td></tr>\n",
       "\t<tr><td>5329434</td><td>Grove Academy                                         </td><td>DD5 1AB </td><td>6876</td><td>873</td></tr>\n",
       "\t<tr><td>3016013</td><td>5 Star Hospitality Training                           </td><td>G66 4PA </td><td>6883</td><td>874</td></tr>\n",
       "\t<tr><td>3020703</td><td>GTS Solutions CIC                                     </td><td>EH3 6RE </td><td>6894</td><td>875</td></tr>\n",
       "\t<tr><td>5726530</td><td>Wallace High School                                   </td><td>FK9 5HW </td><td>6909</td><td>876</td></tr>\n",
       "\t<tr><td>5581036</td><td>Merchiston Castle School                              </td><td>EH13 0PU</td><td>6910</td><td>877</td></tr>\n",
       "\t<tr><td>5581230</td><td>St George's School For Girls                          </td><td>EH12 6BG</td><td>6911</td><td>878</td></tr>\n",
       "\t<tr><td>8680434</td><td>Belmont House School                                  </td><td>G77 5DU </td><td>6914</td><td>879</td></tr>\n",
       "\t<tr><td>5780136</td><td>Beaconhurst School                                    </td><td>FK9 4RR </td><td>6921</td><td>880</td></tr>\n",
       "\t<tr><td>5601932</td><td>Peebles High School                                   </td><td>EH45 9HB</td><td>6931</td><td>881</td></tr>\n",
       "\t<tr><td>5583837</td><td>The Mary Erskine School                               </td><td>EH4 3NT </td><td>6966</td><td>882</td></tr>\n",
       "\t<tr><td>4196775</td><td>Forward Training Partnership                          </td><td>EH54 6NG</td><td>NA  </td><td> NA</td></tr>\n",
       "\t<tr><td>5349834</td><td>Breadalbane Academy                                   </td><td>PH15 2DU</td><td>NA  </td><td> NA</td></tr>\n",
       "\t<tr><td>8631344</td><td>Kersland School                                       </td><td>PA2 7BU </td><td>NA  </td><td> NA</td></tr>\n",
       "\t<tr><td>3001024</td><td>Calder Associates (Scotland) Limited                  </td><td>KY12 OQX</td><td>NA  </td><td> NA</td></tr>\n",
       "\t<tr><td>3012743</td><td>Fitness Training Scotland                             </td><td>KA1 9GX </td><td>NA  </td><td> NA</td></tr>\n",
       "\t<tr><td>4197437</td><td>Training Matters (Scotland) Limited                   </td><td>G52 4RU </td><td>NA  </td><td> NA</td></tr>\n",
       "\t<tr><td>5294738</td><td>Aberdeen City Council                                 </td><td>AB15 5PD</td><td>NA  </td><td> NA</td></tr>\n",
       "\t<tr><td>5511844</td><td>Cedarbank School                                      </td><td>EH54 6FW</td><td>NA  </td><td> NA</td></tr>\n",
       "\t<tr><td>5590183</td><td>Midlothian Council - Communities and Lifelong Learning</td><td>EH22 3ZG</td><td>NA  </td><td> NA</td></tr>\n",
       "\t<tr><td>6003230</td><td>Sanday Secondary School                               </td><td>SG19 1BL</td><td>NA  </td><td> NA</td></tr>\n",
       "</tbody>\n",
       "</table>\n"
      ],
      "text/latex": [
       "A tibble: 892 × 5\n",
       "\\begin{tabular}{lllll}\n",
       " Centre & CentreName & Postcode & SIMD2020Rank & SIMD2020RelativeRank\\\\\n",
       " <fct> & <fct> & <chr> & <chr> & <int>\\\\\n",
       "\\hline\n",
       "\t 3003191 & Inverclyde Council                         & PA15 1HU & 0001 &  1\\\\\n",
       "\t 8380040 & Mirren Park School                         & PA3 1NS  & 0004 &  2\\\\\n",
       "\t 3022749 & Essentials Plus                            & KA21 5HN & 0023 &  3\\\\\n",
       "\t 8294933 & Galloway Training Limited                  & KA21 5DT & 0023 &  3\\\\\n",
       "\t 8438331 & St Margaret Mary's Secondary School        & G45 9NJ  & 0027 &  5\\\\\n",
       "\t 8442843 & St Oswald's School                         & G45 9NJ  & 0027 &  5\\\\\n",
       "\t 5532434 & Craigroyston Community High School         & EH4 4NL  & 0029 &  7\\\\\n",
       "\t 8443742 & Newhills School                            & G33 4HJ  & 0046 &  8\\\\\n",
       "\t 4199774 & Craigend Resource Centre                   & PA15 2HD & 0057 &  9\\\\\n",
       "\t 8431639 & Springburn Academy                         & G21 4JL  & 0075 & 10\\\\\n",
       "\t 3020002 & First Steps Future Training                & G40 2QR  & 0080 & 11\\\\\n",
       "\t 8438439 & St Mungo's Academy                         & G40 2RA  & 0080 & 11\\\\\n",
       "\t 8437238 & St Andrew's Secondary School               & G32 6QE  & 0105 & 13\\\\\n",
       "\t 3011178 & Childcare Management Company Ltd           & G20 9AA  & 0135 & 14\\\\\n",
       "\t 8260257 & Ayrshire College Kilmarnock Campus         & KA1 3HY  & 0136 & 15\\\\\n",
       "\t 8434034 & Castlemilk High School                     & G45 9JY  & 0138 & 16\\\\\n",
       "\t 8516839 & Braidhurst High School                     & ML1 3XF  & 0147 & 17\\\\\n",
       "\t 5407532 & Kirkland High School                       & KY8 3LT  & 0148 & 18\\\\\n",
       "\t 8498830 & SHARE                                      & G22 5AZ  & 0167 & 19\\\\\n",
       "\t 8459932 & Drumchapel High School                     & G15 7SQ  & 0168 & 20\\\\\n",
       "\t 4196325 & Motherwell \\& Wishaw Citizens Advice Bureau & ML1 1LY  & 0192 & 21\\\\\n",
       "\t 8628734 & Paisley Grammar School                     & PA1 3RP  & 0203 & 22\\\\\n",
       "\t 3011534 & Pulteneytown Peoples Project               & KW1 5BA  & 0215 & 23\\\\\n",
       "\t 2094363 & Clackmannanshire Council                   & FK10 1EB & 0221 & 24\\\\\n",
       "\t 5702534 & Alloa Academy                              & FK10 1DN & 0221 & 24\\\\\n",
       "\t 3011623 & Genius People                              & G33 1AN  & 0242 & 26\\\\\n",
       "\t 8294437 & North Ayrshire Council                     & KA12 8EE & 0254 & 27\\\\\n",
       "\t 8435731 & Lochend Community High School              & G34 0NZ  & 0255 & 28\\\\\n",
       "\t 3019551 & VERG (Vocational Education Resource Group) & ML1 1PN  & 0263 & 29\\\\\n",
       "\t 3003817 & Albion Environmental Limited               & KA8 8ER  & 0265 & 30\\\\\n",
       "\t ⋮ & ⋮ & ⋮ & ⋮ & ⋮\\\\\n",
       "\t 5143934 & Culloden Academy                                       & IV2 7JZ  & 6776 & 863\\\\\n",
       "\t 8434638 & Hyndland Secondary School                              & G12 9RQ  & 6781 & 864\\\\\n",
       "\t 8602239 & Mearns Castle High School                              & G77 5GU  & 6798 & 865\\\\\n",
       "\t 5599733 & Apex Trust Scotland                                    & EH3 7TP  & 6805 & 866\\\\\n",
       "\t 5329531 & Harris Academy                                         & DD2 1NL  & 6823 & 867\\\\\n",
       "\t 8432236 & Cleveden Secondary School                              & G12 0JW  & 6829 & 868\\\\\n",
       "\t 5232937 & Westhill Academy                                       & AB32 6XZ & 6851 & 869\\\\\n",
       "\t 5583438 & Stewart's Melville College                             & EH4 3EZ  & 6852 & 870\\\\\n",
       "\t 8633436 & Gryffe High School                                     & PA6 7EB  & 6853 & 871\\\\\n",
       "\t 5533139 & James Gillespie's High School                          & EH9 1DD  & 6864 & 872\\\\\n",
       "\t 5329434 & Grove Academy                                          & DD5 1AB  & 6876 & 873\\\\\n",
       "\t 3016013 & 5 Star Hospitality Training                            & G66 4PA  & 6883 & 874\\\\\n",
       "\t 3020703 & GTS Solutions CIC                                      & EH3 6RE  & 6894 & 875\\\\\n",
       "\t 5726530 & Wallace High School                                    & FK9 5HW  & 6909 & 876\\\\\n",
       "\t 5581036 & Merchiston Castle School                               & EH13 0PU & 6910 & 877\\\\\n",
       "\t 5581230 & St George's School For Girls                           & EH12 6BG & 6911 & 878\\\\\n",
       "\t 8680434 & Belmont House School                                   & G77 5DU  & 6914 & 879\\\\\n",
       "\t 5780136 & Beaconhurst School                                     & FK9 4RR  & 6921 & 880\\\\\n",
       "\t 5601932 & Peebles High School                                    & EH45 9HB & 6931 & 881\\\\\n",
       "\t 5583837 & The Mary Erskine School                                & EH4 3NT  & 6966 & 882\\\\\n",
       "\t 4196775 & Forward Training Partnership                           & EH54 6NG & NA   &  NA\\\\\n",
       "\t 5349834 & Breadalbane Academy                                    & PH15 2DU & NA   &  NA\\\\\n",
       "\t 8631344 & Kersland School                                        & PA2 7BU  & NA   &  NA\\\\\n",
       "\t 3001024 & Calder Associates (Scotland) Limited                   & KY12 OQX & NA   &  NA\\\\\n",
       "\t 3012743 & Fitness Training Scotland                              & KA1 9GX  & NA   &  NA\\\\\n",
       "\t 4197437 & Training Matters (Scotland) Limited                    & G52 4RU  & NA   &  NA\\\\\n",
       "\t 5294738 & Aberdeen City Council                                  & AB15 5PD & NA   &  NA\\\\\n",
       "\t 5511844 & Cedarbank School                                       & EH54 6FW & NA   &  NA\\\\\n",
       "\t 5590183 & Midlothian Council - Communities and Lifelong Learning & EH22 3ZG & NA   &  NA\\\\\n",
       "\t 6003230 & Sanday Secondary School                                & SG19 1BL & NA   &  NA\\\\\n",
       "\\end{tabular}\n"
      ],
      "text/markdown": [
       "\n",
       "A tibble: 892 × 5\n",
       "\n",
       "| Centre &lt;fct&gt; | CentreName &lt;fct&gt; | Postcode &lt;chr&gt; | SIMD2020Rank &lt;chr&gt; | SIMD2020RelativeRank &lt;int&gt; |\n",
       "|---|---|---|---|---|\n",
       "| 3003191 | Inverclyde Council                         | PA15 1HU | 0001 |  1 |\n",
       "| 8380040 | Mirren Park School                         | PA3 1NS  | 0004 |  2 |\n",
       "| 3022749 | Essentials Plus                            | KA21 5HN | 0023 |  3 |\n",
       "| 8294933 | Galloway Training Limited                  | KA21 5DT | 0023 |  3 |\n",
       "| 8438331 | St Margaret Mary's Secondary School        | G45 9NJ  | 0027 |  5 |\n",
       "| 8442843 | St Oswald's School                         | G45 9NJ  | 0027 |  5 |\n",
       "| 5532434 | Craigroyston Community High School         | EH4 4NL  | 0029 |  7 |\n",
       "| 8443742 | Newhills School                            | G33 4HJ  | 0046 |  8 |\n",
       "| 4199774 | Craigend Resource Centre                   | PA15 2HD | 0057 |  9 |\n",
       "| 8431639 | Springburn Academy                         | G21 4JL  | 0075 | 10 |\n",
       "| 3020002 | First Steps Future Training                | G40 2QR  | 0080 | 11 |\n",
       "| 8438439 | St Mungo's Academy                         | G40 2RA  | 0080 | 11 |\n",
       "| 8437238 | St Andrew's Secondary School               | G32 6QE  | 0105 | 13 |\n",
       "| 3011178 | Childcare Management Company Ltd           | G20 9AA  | 0135 | 14 |\n",
       "| 8260257 | Ayrshire College Kilmarnock Campus         | KA1 3HY  | 0136 | 15 |\n",
       "| 8434034 | Castlemilk High School                     | G45 9JY  | 0138 | 16 |\n",
       "| 8516839 | Braidhurst High School                     | ML1 3XF  | 0147 | 17 |\n",
       "| 5407532 | Kirkland High School                       | KY8 3LT  | 0148 | 18 |\n",
       "| 8498830 | SHARE                                      | G22 5AZ  | 0167 | 19 |\n",
       "| 8459932 | Drumchapel High School                     | G15 7SQ  | 0168 | 20 |\n",
       "| 4196325 | Motherwell &amp; Wishaw Citizens Advice Bureau | ML1 1LY  | 0192 | 21 |\n",
       "| 8628734 | Paisley Grammar School                     | PA1 3RP  | 0203 | 22 |\n",
       "| 3011534 | Pulteneytown Peoples Project               | KW1 5BA  | 0215 | 23 |\n",
       "| 2094363 | Clackmannanshire Council                   | FK10 1EB | 0221 | 24 |\n",
       "| 5702534 | Alloa Academy                              | FK10 1DN | 0221 | 24 |\n",
       "| 3011623 | Genius People                              | G33 1AN  | 0242 | 26 |\n",
       "| 8294437 | North Ayrshire Council                     | KA12 8EE | 0254 | 27 |\n",
       "| 8435731 | Lochend Community High School              | G34 0NZ  | 0255 | 28 |\n",
       "| 3019551 | VERG (Vocational Education Resource Group) | ML1 1PN  | 0263 | 29 |\n",
       "| 3003817 | Albion Environmental Limited               | KA8 8ER  | 0265 | 30 |\n",
       "| ⋮ | ⋮ | ⋮ | ⋮ | ⋮ |\n",
       "| 5143934 | Culloden Academy                                       | IV2 7JZ  | 6776 | 863 |\n",
       "| 8434638 | Hyndland Secondary School                              | G12 9RQ  | 6781 | 864 |\n",
       "| 8602239 | Mearns Castle High School                              | G77 5GU  | 6798 | 865 |\n",
       "| 5599733 | Apex Trust Scotland                                    | EH3 7TP  | 6805 | 866 |\n",
       "| 5329531 | Harris Academy                                         | DD2 1NL  | 6823 | 867 |\n",
       "| 8432236 | Cleveden Secondary School                              | G12 0JW  | 6829 | 868 |\n",
       "| 5232937 | Westhill Academy                                       | AB32 6XZ | 6851 | 869 |\n",
       "| 5583438 | Stewart's Melville College                             | EH4 3EZ  | 6852 | 870 |\n",
       "| 8633436 | Gryffe High School                                     | PA6 7EB  | 6853 | 871 |\n",
       "| 5533139 | James Gillespie's High School                          | EH9 1DD  | 6864 | 872 |\n",
       "| 5329434 | Grove Academy                                          | DD5 1AB  | 6876 | 873 |\n",
       "| 3016013 | 5 Star Hospitality Training                            | G66 4PA  | 6883 | 874 |\n",
       "| 3020703 | GTS Solutions CIC                                      | EH3 6RE  | 6894 | 875 |\n",
       "| 5726530 | Wallace High School                                    | FK9 5HW  | 6909 | 876 |\n",
       "| 5581036 | Merchiston Castle School                               | EH13 0PU | 6910 | 877 |\n",
       "| 5581230 | St George's School For Girls                           | EH12 6BG | 6911 | 878 |\n",
       "| 8680434 | Belmont House School                                   | G77 5DU  | 6914 | 879 |\n",
       "| 5780136 | Beaconhurst School                                     | FK9 4RR  | 6921 | 880 |\n",
       "| 5601932 | Peebles High School                                    | EH45 9HB | 6931 | 881 |\n",
       "| 5583837 | The Mary Erskine School                                | EH4 3NT  | 6966 | 882 |\n",
       "| 4196775 | Forward Training Partnership                           | EH54 6NG | NA   |  NA |\n",
       "| 5349834 | Breadalbane Academy                                    | PH15 2DU | NA   |  NA |\n",
       "| 8631344 | Kersland School                                        | PA2 7BU  | NA   |  NA |\n",
       "| 3001024 | Calder Associates (Scotland) Limited                   | KY12 OQX | NA   |  NA |\n",
       "| 3012743 | Fitness Training Scotland                              | KA1 9GX  | NA   |  NA |\n",
       "| 4197437 | Training Matters (Scotland) Limited                    | G52 4RU  | NA   |  NA |\n",
       "| 5294738 | Aberdeen City Council                                  | AB15 5PD | NA   |  NA |\n",
       "| 5511844 | Cedarbank School                                       | EH54 6FW | NA   |  NA |\n",
       "| 5590183 | Midlothian Council - Communities and Lifelong Learning | EH22 3ZG | NA   |  NA |\n",
       "| 6003230 | Sanday Secondary School                                | SG19 1BL | NA   |  NA |\n",
       "\n"
      ],
      "text/plain": [
       "    Centre  CentreName                                             Postcode\n",
       "1   3003191 Inverclyde Council                                     PA15 1HU\n",
       "2   8380040 Mirren Park School                                     PA3 1NS \n",
       "3   3022749 Essentials Plus                                        KA21 5HN\n",
       "4   8294933 Galloway Training Limited                              KA21 5DT\n",
       "5   8438331 St Margaret Mary's Secondary School                    G45 9NJ \n",
       "6   8442843 St Oswald's School                                     G45 9NJ \n",
       "7   5532434 Craigroyston Community High School                     EH4 4NL \n",
       "8   8443742 Newhills School                                        G33 4HJ \n",
       "9   4199774 Craigend Resource Centre                               PA15 2HD\n",
       "10  8431639 Springburn Academy                                     G21 4JL \n",
       "11  3020002 First Steps Future Training                            G40 2QR \n",
       "12  8438439 St Mungo's Academy                                     G40 2RA \n",
       "13  8437238 St Andrew's Secondary School                           G32 6QE \n",
       "14  3011178 Childcare Management Company Ltd                       G20 9AA \n",
       "15  8260257 Ayrshire College Kilmarnock Campus                     KA1 3HY \n",
       "16  8434034 Castlemilk High School                                 G45 9JY \n",
       "17  8516839 Braidhurst High School                                 ML1 3XF \n",
       "18  5407532 Kirkland High School                                   KY8 3LT \n",
       "19  8498830 SHARE                                                  G22 5AZ \n",
       "20  8459932 Drumchapel High School                                 G15 7SQ \n",
       "21  4196325 Motherwell & Wishaw Citizens Advice Bureau             ML1 1LY \n",
       "22  8628734 Paisley Grammar School                                 PA1 3RP \n",
       "23  3011534 Pulteneytown Peoples Project                           KW1 5BA \n",
       "24  2094363 Clackmannanshire Council                               FK10 1EB\n",
       "25  5702534 Alloa Academy                                          FK10 1DN\n",
       "26  3011623 Genius People                                          G33 1AN \n",
       "27  8294437 North Ayrshire Council                                 KA12 8EE\n",
       "28  8435731 Lochend Community High School                          G34 0NZ \n",
       "29  3019551 VERG (Vocational Education Resource Group)             ML1 1PN \n",
       "30  3003817 Albion Environmental Limited                           KA8 8ER \n",
       "⋮   ⋮       ⋮                                                      ⋮       \n",
       "863 5143934 Culloden Academy                                       IV2 7JZ \n",
       "864 8434638 Hyndland Secondary School                              G12 9RQ \n",
       "865 8602239 Mearns Castle High School                              G77 5GU \n",
       "866 5599733 Apex Trust Scotland                                    EH3 7TP \n",
       "867 5329531 Harris Academy                                         DD2 1NL \n",
       "868 8432236 Cleveden Secondary School                              G12 0JW \n",
       "869 5232937 Westhill Academy                                       AB32 6XZ\n",
       "870 5583438 Stewart's Melville College                             EH4 3EZ \n",
       "871 8633436 Gryffe High School                                     PA6 7EB \n",
       "872 5533139 James Gillespie's High School                          EH9 1DD \n",
       "873 5329434 Grove Academy                                          DD5 1AB \n",
       "874 3016013 5 Star Hospitality Training                            G66 4PA \n",
       "875 3020703 GTS Solutions CIC                                      EH3 6RE \n",
       "876 5726530 Wallace High School                                    FK9 5HW \n",
       "877 5581036 Merchiston Castle School                               EH13 0PU\n",
       "878 5581230 St George's School For Girls                           EH12 6BG\n",
       "879 8680434 Belmont House School                                   G77 5DU \n",
       "880 5780136 Beaconhurst School                                     FK9 4RR \n",
       "881 5601932 Peebles High School                                    EH45 9HB\n",
       "882 5583837 The Mary Erskine School                                EH4 3NT \n",
       "883 4196775 Forward Training Partnership                           EH54 6NG\n",
       "884 5349834 Breadalbane Academy                                    PH15 2DU\n",
       "885 8631344 Kersland School                                        PA2 7BU \n",
       "886 3001024 Calder Associates (Scotland) Limited                   KY12 OQX\n",
       "887 3012743 Fitness Training Scotland                              KA1 9GX \n",
       "888 4197437 Training Matters (Scotland) Limited                    G52 4RU \n",
       "889 5294738 Aberdeen City Council                                  AB15 5PD\n",
       "890 5511844 Cedarbank School                                       EH54 6FW\n",
       "891 5590183 Midlothian Council - Communities and Lifelong Learning EH22 3ZG\n",
       "892 6003230 Sanday Secondary School                                SG19 1BL\n",
       "    SIMD2020Rank SIMD2020RelativeRank\n",
       "1   0001          1                  \n",
       "2   0004          2                  \n",
       "3   0023          3                  \n",
       "4   0023          3                  \n",
       "5   0027          5                  \n",
       "6   0027          5                  \n",
       "7   0029          7                  \n",
       "8   0046          8                  \n",
       "9   0057          9                  \n",
       "10  0075         10                  \n",
       "11  0080         11                  \n",
       "12  0080         11                  \n",
       "13  0105         13                  \n",
       "14  0135         14                  \n",
       "15  0136         15                  \n",
       "16  0138         16                  \n",
       "17  0147         17                  \n",
       "18  0148         18                  \n",
       "19  0167         19                  \n",
       "20  0168         20                  \n",
       "21  0192         21                  \n",
       "22  0203         22                  \n",
       "23  0215         23                  \n",
       "24  0221         24                  \n",
       "25  0221         24                  \n",
       "26  0242         26                  \n",
       "27  0254         27                  \n",
       "28  0255         28                  \n",
       "29  0263         29                  \n",
       "30  0265         30                  \n",
       "⋮   ⋮            ⋮                   \n",
       "863 6776         863                 \n",
       "864 6781         864                 \n",
       "865 6798         865                 \n",
       "866 6805         866                 \n",
       "867 6823         867                 \n",
       "868 6829         868                 \n",
       "869 6851         869                 \n",
       "870 6852         870                 \n",
       "871 6853         871                 \n",
       "872 6864         872                 \n",
       "873 6876         873                 \n",
       "874 6883         874                 \n",
       "875 6894         875                 \n",
       "876 6909         876                 \n",
       "877 6910         877                 \n",
       "878 6911         878                 \n",
       "879 6914         879                 \n",
       "880 6921         880                 \n",
       "881 6931         881                 \n",
       "882 6966         882                 \n",
       "883 NA            NA                 \n",
       "884 NA            NA                 \n",
       "885 NA            NA                 \n",
       "886 NA            NA                 \n",
       "887 NA            NA                 \n",
       "888 NA            NA                 \n",
       "889 NA            NA                 \n",
       "890 NA            NA                 \n",
       "891 NA            NA                 \n",
       "892 NA            NA                 "
      ]
     },
     "metadata": {},
     "output_type": "display_data"
    }
   ],
   "source": [
    "centre_postcodes %>%\n",
    "    filter(Country == \"Scotland\") %>%\n",
    "    \n",
    "    left_join(centre_postcodes %>%\n",
    "                  filter(Country == \"Scotland\") %>%\n",
    "                  arrange(SIMD2020Rank) %>%\n",
    "                  mutate(SIMD2020RelativeRank = #row_number(),\n",
    "                          rank(SIMD2020Rank, ties.method = \"min\", na.last = \"keep\"),\n",
    "                        ) \n",
    "         ) %>%\n",
    "    #relocate(SIMD2020Rank, .before = SIMD2020RelativeRank) \n",
    "    distinct(Postcode, across(matches(\"Centre|SIMD2020\"))) %>%\n",
    "    arrange(SIMD2020Rank)\n"
   ]
  },
  {
   "cell_type": "code",
   "execution_count": 64,
   "metadata": {},
   "outputs": [
    {
     "data": {
      "text/html": [
       "<style>\n",
       ".list-inline {list-style: none; margin:0; padding: 0}\n",
       ".list-inline>li {display: inline-block}\n",
       ".list-inline>li:not(:last-child)::after {content: \"\\00b7\"; padding: 0 .5ex}\n",
       "</style>\n",
       "<ol class=list-inline><li>964</li><li>8</li></ol>\n"
      ],
      "text/latex": [
       "\\begin{enumerate*}\n",
       "\\item 964\n",
       "\\item 8\n",
       "\\end{enumerate*}\n"
      ],
      "text/markdown": [
       "1. 964\n",
       "2. 8\n",
       "\n",
       "\n"
      ],
      "text/plain": [
       "[1] 964   8"
      ]
     },
     "metadata": {},
     "output_type": "display_data"
    },
    {
     "data": {
      "text/html": [
       "<style>\n",
       ".list-inline {list-style: none; margin:0; padding: 0}\n",
       ".list-inline>li {display: inline-block}\n",
       ".list-inline>li:not(:last-child)::after {content: \"\\00b7\"; padding: 0 .5ex}\n",
       "</style>\n",
       "<ol class=list-inline><li>'0001'</li><li>'6966'</li></ol>\n"
      ],
      "text/latex": [
       "\\begin{enumerate*}\n",
       "\\item '0001'\n",
       "\\item '6966'\n",
       "\\end{enumerate*}\n"
      ],
      "text/markdown": [
       "1. '0001'\n",
       "2. '6966'\n",
       "\n",
       "\n"
      ],
      "text/plain": [
       "[1] \"0001\" \"6966\""
      ]
     },
     "metadata": {},
     "output_type": "display_data"
    },
    {
     "data": {
      "text/html": [
       "<style>\n",
       ".list-inline {list-style: none; margin:0; padding: 0}\n",
       ".list-inline>li {display: inline-block}\n",
       ".list-inline>li:not(:last-child)::after {content: \"\\00b7\"; padding: 0 .5ex}\n",
       "</style>\n",
       "<ol class=list-inline><li>'0001'</li><li>'6976'</li></ol>\n"
      ],
      "text/latex": [
       "\\begin{enumerate*}\n",
       "\\item '0001'\n",
       "\\item '6976'\n",
       "\\end{enumerate*}\n"
      ],
      "text/markdown": [
       "1. '0001'\n",
       "2. '6976'\n",
       "\n",
       "\n"
      ],
      "text/plain": [
       "[1] \"0001\" \"6976\""
      ]
     },
     "metadata": {},
     "output_type": "display_data"
    },
    {
     "data": {
      "text/html": [
       "<style>\n",
       ".dl-inline {width: auto; margin:0; padding: 0}\n",
       ".dl-inline>dt, .dl-inline>dd {float: none; width: auto; display: inline-block}\n",
       ".dl-inline>dt::after {content: \":\\0020\"; padding-right: .5ex}\n",
       ".dl-inline>dt:not(:first-of-type) {padding-left: .5ex}\n",
       "</style><dl class=dl-inline><dt>0%</dt><dd>1</dd><dt>20%</dt><dd>1396</dd><dt>40%</dt><dd>2791</dd><dt>60%</dt><dd>4186</dd><dt>80%</dt><dd>5581</dd><dt>100%</dt><dd>6976</dd></dl>\n"
      ],
      "text/latex": [
       "\\begin{description*}\n",
       "\\item[0\\textbackslash{}\\%] 1\n",
       "\\item[20\\textbackslash{}\\%] 1396\n",
       "\\item[40\\textbackslash{}\\%] 2791\n",
       "\\item[60\\textbackslash{}\\%] 4186\n",
       "\\item[80\\textbackslash{}\\%] 5581\n",
       "\\item[100\\textbackslash{}\\%] 6976\n",
       "\\end{description*}\n"
      ],
      "text/markdown": [
       "0%\n",
       ":   120%\n",
       ":   139640%\n",
       ":   279160%\n",
       ":   418680%\n",
       ":   5581100%\n",
       ":   6976\n",
       "\n"
      ],
      "text/plain": [
       "  0%  20%  40%  60%  80% 100% \n",
       "   1 1396 2791 4186 5581 6976 "
      ]
     },
     "metadata": {},
     "output_type": "display_data"
    }
   ],
   "source": [
    "dim(postcode_lookup)\n",
    "\n",
    "range(postcode_lookup$SIMD2020Rank, na.rm = TRUE) # filtered\n",
    "simd2020Rank_range\n",
    "quantile(as.integer(range(simd2020Rank_range)), probs = seq(0, 1, 1/5))"
   ]
  },
  {
   "cell_type": "code",
   "execution_count": 65,
   "metadata": {},
   "outputs": [
    {
     "data": {
      "text/html": [
       "<table class=\"dataframe\">\n",
       "<caption>A tibble: 5 × 2</caption>\n",
       "<thead>\n",
       "\t<tr><th scope=col>quintile</th><th scope=col>rank</th></tr>\n",
       "\t<tr><th scope=col>&lt;int&gt;</th><th scope=col>&lt;int&gt;</th></tr>\n",
       "</thead>\n",
       "<tbody>\n",
       "\t<tr><td>1</td><td>1395</td></tr>\n",
       "\t<tr><td>2</td><td>2790</td></tr>\n",
       "\t<tr><td>3</td><td>4186</td></tr>\n",
       "\t<tr><td>4</td><td>5581</td></tr>\n",
       "\t<tr><td>5</td><td>6976</td></tr>\n",
       "</tbody>\n",
       "</table>\n"
      ],
      "text/latex": [
       "A tibble: 5 × 2\n",
       "\\begin{tabular}{ll}\n",
       " quintile & rank\\\\\n",
       " <int> & <int>\\\\\n",
       "\\hline\n",
       "\t 1 & 1395\\\\\n",
       "\t 2 & 2790\\\\\n",
       "\t 3 & 4186\\\\\n",
       "\t 4 & 5581\\\\\n",
       "\t 5 & 6976\\\\\n",
       "\\end{tabular}\n"
      ],
      "text/markdown": [
       "\n",
       "A tibble: 5 × 2\n",
       "\n",
       "| quintile &lt;int&gt; | rank &lt;int&gt; |\n",
       "|---|---|\n",
       "| 1 | 1395 |\n",
       "| 2 | 2790 |\n",
       "| 3 | 4186 |\n",
       "| 4 | 5581 |\n",
       "| 5 | 6976 |\n",
       "\n"
      ],
      "text/plain": [
       "  quintile rank\n",
       "1 1        1395\n",
       "2 2        2790\n",
       "3 3        4186\n",
       "4 4        5581\n",
       "5 5        6976"
      ]
     },
     "metadata": {},
     "output_type": "display_data"
    }
   ],
   "source": [
    "simd2020_quintiles <- enframe(quantile(as.integer(simd2020Rank_range), probs = seq(0, 1, 1/5))) %>%\n",
    "    rename_with(~ c(\"quintile\", \"rank\")) %>%\n",
    "    mutate(across(quintile, ~ str_remove(., \"%\")), \n",
    "           across(quintile, as.integer), \n",
    "           across(quintile, ~ (. / 20)), \n",
    "           across(everything(), as.integer)\n",
    "          ) %>%\n",
    "    filter(quintile > 0)\n",
    "\n",
    "simd2020_quintiles"
   ]
  },
  {
   "cell_type": "code",
   "execution_count": 66,
   "metadata": {},
   "outputs": [],
   "source": [
    "getSimdQuintile <-\n",
    "    function(value, quintiles) {\n",
    "        \n",
    "        if (is.na(value))\n",
    "            return(NA)\n",
    "        \n",
    "        row_number <- min(which(value <= deframe(quintiles[\"rank\"])))\n",
    "        return(deframe(quintiles[\"quintile\"])[[row_number]])\n",
    "    }\n",
    "\n",
    "#getSimdQuintile <- Vectorize(getSimdQuintile)"
   ]
  },
  {
   "cell_type": "code",
   "execution_count": 67,
   "metadata": {},
   "outputs": [
    {
     "data": {
      "text/html": [
       "5"
      ],
      "text/latex": [
       "5"
      ],
      "text/markdown": [
       "5"
      ],
      "text/plain": [
       "[1] 5"
      ]
     },
     "metadata": {},
     "output_type": "display_data"
    },
    {
     "data": {
      "text/html": [
       "&lt;NA&gt;"
      ],
      "text/latex": [
       "<NA>"
      ],
      "text/markdown": [
       "&lt;NA&gt;"
      ],
      "text/plain": [
       "[1] NA"
      ]
     },
     "metadata": {},
     "output_type": "display_data"
    },
    {
     "data": {
      "text/html": [
       "<style>\n",
       ".list-inline {list-style: none; margin:0; padding: 0}\n",
       ".list-inline>li {display: inline-block}\n",
       ".list-inline>li:not(:last-child)::after {content: \"\\00b7\"; padding: 0 .5ex}\n",
       "</style>\n",
       "<ol class=list-inline><li>2</li><li>3</li><li>4</li><li>2</li><li>5</li><li>1</li><li>1</li></ol>\n"
      ],
      "text/latex": [
       "\\begin{enumerate*}\n",
       "\\item 2\n",
       "\\item 3\n",
       "\\item 4\n",
       "\\item 2\n",
       "\\item 5\n",
       "\\item 1\n",
       "\\item 1\n",
       "\\end{enumerate*}\n"
      ],
      "text/markdown": [
       "1. 2\n",
       "2. 3\n",
       "3. 4\n",
       "4. 2\n",
       "5. 5\n",
       "6. 1\n",
       "7. 1\n",
       "\n",
       "\n"
      ],
      "text/plain": [
       "[1] 2 3 4 2 5 1 1"
      ]
     },
     "metadata": {},
     "output_type": "display_data"
    }
   ],
   "source": [
    "getSimdQuintile(6976, simd2020_quintiles)\n",
    "getSimdQuintile(NA, simd2020_quintiles)\n",
    "\n",
    "sapply(c(1743, 3336, 5367, 2530, 6146, 0027, 0023), getSimdQuintile, simd2020_quintiles)"
   ]
  },
  {
   "cell_type": "code",
   "execution_count": 68,
   "metadata": {},
   "outputs": [
    {
     "data": {
      "text/html": [
       "<style>\n",
       ".dl-inline {width: auto; margin:0; padding: 0}\n",
       ".dl-inline>dt, .dl-inline>dd {float: none; width: auto; display: inline-block}\n",
       ".dl-inline>dt::after {content: \":\\0020\"; padding-right: .5ex}\n",
       ".dl-inline>dt:not(:first-of-type) {padding-left: .5ex}\n",
       "</style><dl class=dl-inline><dt>6660</dt><dd>5</dd><dt>0860</dt><dd>1</dd><dt>1738</dt><dd>2</dd><dt>0499</dt><dd>1</dd><dt>6028</dt><dd>5</dd><dt>2531</dt><dd>2</dd><dt>2414</dt><dd>2</dd><dt>0516</dt><dd>1</dd><dt>1202</dt><dd>1</dd><dt>1339</dt><dd>1</dd><dt>1036</dt><dd>1</dd><dt>4258</dt><dd>4</dd><dt>0733</dt><dd>1</dd><dt>2152</dt><dd>2</dd><dt>4461</dt><dd>4</dd></dl>\n"
      ],
      "text/latex": [
       "\\begin{description*}\n",
       "\\item[6660] 5\n",
       "\\item[0860] 1\n",
       "\\item[1738] 2\n",
       "\\item[0499] 1\n",
       "\\item[6028] 5\n",
       "\\item[2531] 2\n",
       "\\item[2414] 2\n",
       "\\item[0516] 1\n",
       "\\item[1202] 1\n",
       "\\item[1339] 1\n",
       "\\item[1036] 1\n",
       "\\item[4258] 4\n",
       "\\item[0733] 1\n",
       "\\item[2152] 2\n",
       "\\item[4461] 4\n",
       "\\end{description*}\n"
      ],
      "text/markdown": [
       "6660\n",
       ":   50860\n",
       ":   11738\n",
       ":   20499\n",
       ":   16028\n",
       ":   52531\n",
       ":   22414\n",
       ":   20516\n",
       ":   11202\n",
       ":   11339\n",
       ":   11036\n",
       ":   14258\n",
       ":   40733\n",
       ":   12152\n",
       ":   24461\n",
       ":   4\n",
       "\n"
      ],
      "text/plain": [
       "6660 0860 1738 0499 6028 2531 2414 0516 1202 1339 1036 4258 0733 2152 4461 \n",
       "   5    1    2    1    5    2    2    1    1    1    1    4    1    2    4 "
      ]
     },
     "metadata": {},
     "output_type": "display_data"
    }
   ],
   "source": [
    "centre_postcodes$SIMD2020Quintile <-\n",
    "    sapply(centre_postcodes$SIMD2020Rank, \n",
    "           getSimdQuintile, \n",
    "           simd2020_quintiles)\n",
    "\n",
    "head(centre_postcodes$SIMD2020Quintile, 15)"
   ]
  },
  {
   "cell_type": "code",
   "execution_count": null,
   "metadata": {},
   "outputs": [],
   "source": []
  },
  {
   "cell_type": "code",
   "execution_count": 70,
   "metadata": {},
   "outputs": [
    {
     "name": "stderr",
     "output_type": "stream",
     "text": [
      "Joining, by = c(\"Centre\", \"CentreName\", \"Postcode\", \"EducationAuthority\", \"GeoArea\", \"Country\", \"UrbanRural2FoldCode\", \"UrbanRural3FoldCode\", \"UrbanRural6FoldCode\", \"UrbanRural8FoldCode\", \"LinkPostcode\", \"LinkedSmallUserPostcode\", \"SIMD2020Rank\", \"SIMD2020Quintile\")\n"
     ]
    },
    {
     "name": "stdout",
     "output_type": "stream",
     "text": [
      "Rows: 1,002\n",
      "Columns: 15\n",
      "$ Centre                  \u001b[3m\u001b[90m<fct>\u001b[39m\u001b[23m 1000144, 1001930, 1002732, 1002759, 1002856, 1…\n",
      "$ CentreName              \u001b[3m\u001b[90m<fct>\u001b[39m\u001b[23m \"Firpark Secondary School\", \"Buchanan High Sch…\n",
      "$ Postcode                \u001b[3m\u001b[90m<chr>\u001b[39m\u001b[23m \"ML1 2PR\", \"ML5 2HT\", \"G67 2UF\", \"KA13 6DE\", \"…\n",
      "$ EducationAuthority      \u001b[3m\u001b[90m<fct>\u001b[39m\u001b[23m North Lanarkshire Council Education Department…\n",
      "$ GeoArea                 \u001b[3m\u001b[90m<fct>\u001b[39m\u001b[23m North Lanarkshire, North Lanarkshire, North La…\n",
      "$ Country                 \u001b[3m\u001b[90m<fct>\u001b[39m\u001b[23m Scotland, Scotland, Scotland, Scotland, Scotla…\n",
      "$ UrbanRural2FoldCode     \u001b[3m\u001b[90m<fct>\u001b[39m\u001b[23m 1, 1, 1, 1, 1, 1, 1, 1, 1, 1, 1, 2, 1, 1, 1, 1…\n",
      "$ UrbanRural3FoldCode     \u001b[3m\u001b[90m<fct>\u001b[39m\u001b[23m 1, 1, 1, 1, 1, 1, 1, 1, 1, 1, 1, 2, 1, 1, 1, 1…\n",
      "$ UrbanRural6FoldCode     \u001b[3m\u001b[90m<fct>\u001b[39m\u001b[23m 2, 2, 2, 2, 1, 1, 2, 1, 1, 1, 2, 5, 2, 1, 2, 1…\n",
      "$ UrbanRural8FoldCode     \u001b[3m\u001b[90m<fct>\u001b[39m\u001b[23m 2, 2, 2, 2, 1, 1, 2, 1, 1, 1, 2, 6, 2, 1, 2, 1…\n",
      "$ LinkPostcode            \u001b[3m\u001b[90m<fct>\u001b[39m\u001b[23m NA, NA, NA, NA, NA, NA, NA, NA, NA, NA, NA, NA…\n",
      "$ LinkedSmallUserPostcode \u001b[3m\u001b[90m<chr>\u001b[39m\u001b[23m NA, NA, NA, NA, NA, NA, NA, NA, NA, NA, NA, NA…\n",
      "$ SIMD2020Rank            \u001b[3m\u001b[90m<chr>\u001b[39m\u001b[23m \"6660\", \"0860\", \"1738\", \"0499\", \"6028\", \"2531\"…\n",
      "$ SIMD2020RelativeRank    \u001b[3m\u001b[90m<int>\u001b[39m\u001b[23m 846, 110, 213, 60, 786, 332, 316, 61, 152, 163…\n",
      "$ SIMD2020Quintile        \u001b[3m\u001b[90m<int>\u001b[39m\u001b[23m 5, 1, 2, 1, 5, 2, 2, 1, 1, 1, 1, 4, 1, 2, 4, 1…\n"
     ]
    },
    {
     "data": {
      "text/html": [
       "<table class=\"dataframe\">\n",
       "<caption>A grouped_df: 12 × 15</caption>\n",
       "<thead>\n",
       "\t<tr><th scope=col>Centre</th><th scope=col>CentreName</th><th scope=col>Postcode</th><th scope=col>EducationAuthority</th><th scope=col>GeoArea</th><th scope=col>Country</th><th scope=col>UrbanRural2FoldCode</th><th scope=col>UrbanRural3FoldCode</th><th scope=col>UrbanRural6FoldCode</th><th scope=col>UrbanRural8FoldCode</th><th scope=col>LinkPostcode</th><th scope=col>LinkedSmallUserPostcode</th><th scope=col>SIMD2020Rank</th><th scope=col>SIMD2020RelativeRank</th><th scope=col>SIMD2020Quintile</th></tr>\n",
       "\t<tr><th scope=col>&lt;fct&gt;</th><th scope=col>&lt;fct&gt;</th><th scope=col>&lt;chr&gt;</th><th scope=col>&lt;fct&gt;</th><th scope=col>&lt;fct&gt;</th><th scope=col>&lt;fct&gt;</th><th scope=col>&lt;fct&gt;</th><th scope=col>&lt;fct&gt;</th><th scope=col>&lt;fct&gt;</th><th scope=col>&lt;fct&gt;</th><th scope=col>&lt;fct&gt;</th><th scope=col>&lt;chr&gt;</th><th scope=col>&lt;chr&gt;</th><th scope=col>&lt;int&gt;</th><th scope=col>&lt;int&gt;</th></tr>\n",
       "</thead>\n",
       "<tbody>\n",
       "\t<tr><td>8490732</td><td>MI Technologies Limited                   </td><td>G51 4RY </td><td>NA                                              </td><td>Glasgow City       </td><td>Scotland</td><td>1 </td><td>1 </td><td>1 </td><td>1 </td><td>NA</td><td>NA     </td><td>0903</td><td>115</td><td> 1</td></tr>\n",
       "\t<tr><td>4194640</td><td>Canongate Youth Project Limited           </td><td>EH1 1LT </td><td>NA                                              </td><td>City of Edinburgh  </td><td>Scotland</td><td>1 </td><td>1 </td><td>1 </td><td>1 </td><td>NA</td><td>NA     </td><td>1059</td><td>132</td><td> 1</td></tr>\n",
       "\t<tr><td>3005151</td><td>Azilo Training Ltd                        </td><td>EH21 6RH</td><td>NA                                              </td><td>East Lothian       </td><td>Scotland</td><td>1 </td><td>1 </td><td>1 </td><td>1 </td><td>NA</td><td>NA     </td><td>2471</td><td>320</td><td> 2</td></tr>\n",
       "\t<tr><td>3003604</td><td>North Lanarkshire Council T/a Logintolearn</td><td>ML2 7LP </td><td>NA                                              </td><td>North Lanarkshire  </td><td>Scotland</td><td>1 </td><td>1 </td><td>2 </td><td>2 </td><td>NA</td><td>NA     </td><td>2604</td><td>347</td><td> 2</td></tr>\n",
       "\t<tr><td>3024105</td><td><span style=white-space:pre-wrap>Training Bees                             </span></td><td>DG11 1NP</td><td><span style=white-space:pre-wrap>NA                                              </span></td><td>Dumfries &amp; Galloway</td><td>Scotland</td><td>2 </td><td>2 </td><td>5 </td><td>6 </td><td>NA</td><td><span style=white-space:pre-wrap>NA     </span></td><td>3807</td><td>493</td><td> 3</td></tr>\n",
       "\t<tr><td>3023664</td><td>BB Training Academy                       </td><td>EH54 6AX</td><td>NA                                              </td><td>West Lothian       </td><td>Scotland</td><td>1 </td><td>1 </td><td>2 </td><td>2 </td><td>NA</td><td>NA     </td><td>3330</td><td>438</td><td> 3</td></tr>\n",
       "\t<tr><td>3009084</td><td>Ageas Retail Ltd                          </td><td>G71 5PU </td><td>NA                                              </td><td>South Lanarkshire  </td><td>Scotland</td><td>1 </td><td>1 </td><td>2 </td><td>2 </td><td>NA</td><td>G71 5PD</td><td>4374</td><td>570</td><td> 4</td></tr>\n",
       "\t<tr><td>5370035</td><td><span style=white-space:pre-wrap>The New School Butterstone                </span></td><td>PH2 9BT </td><td><span style=white-space:pre-wrap>Independent                                     </span></td><td><span style=white-space:pre-wrap>Perth &amp; Kinross    </span></td><td>Scotland</td><td>2 </td><td>2 </td><td>5 </td><td>6 </td><td>NA</td><td><span style=white-space:pre-wrap>NA     </span></td><td>5226</td><td>695</td><td> 4</td></tr>\n",
       "\t<tr><td>8337632</td><td>Kirkintilloch High School                 </td><td>G66 3PA </td><td>East Dunbartonshire Council Education Department</td><td>East Dunbartonshire</td><td>Scotland</td><td>1 </td><td>1 </td><td>2 </td><td>2 </td><td>NA</td><td>NA     </td><td>5649</td><td>742</td><td> 5</td></tr>\n",
       "\t<tr><td>8533830</td><td>Strathaven Academy                        </td><td>ML10 6DP</td><td>South Lanarkshire Council Education Department  </td><td>South Lanarkshire  </td><td>Scotland</td><td>1 </td><td>1 </td><td>3 </td><td>3 </td><td>NA</td><td>NA     </td><td>5770</td><td>757</td><td> 5</td></tr>\n",
       "\t<tr><td>3020576</td><td>Xi'an Kedagaoxin University               </td><td>710109  </td><td>NA                                              </td><td>Far East           </td><td>Other   </td><td>NA</td><td>NA</td><td>NA</td><td>NA</td><td>NA</td><td>NA     </td><td>NA  </td><td> NA</td><td>NA</td></tr>\n",
       "\t<tr><td>3024806</td><td>China University of Petroleum - Beijing   </td><td>102249  </td><td>NA                                              </td><td>Far East           </td><td>Other   </td><td>NA</td><td>NA</td><td>NA</td><td>NA</td><td>NA</td><td>NA     </td><td>NA  </td><td> NA</td><td>NA</td></tr>\n",
       "</tbody>\n",
       "</table>\n"
      ],
      "text/latex": [
       "A grouped\\_df: 12 × 15\n",
       "\\begin{tabular}{lllllllllllllll}\n",
       " Centre & CentreName & Postcode & EducationAuthority & GeoArea & Country & UrbanRural2FoldCode & UrbanRural3FoldCode & UrbanRural6FoldCode & UrbanRural8FoldCode & LinkPostcode & LinkedSmallUserPostcode & SIMD2020Rank & SIMD2020RelativeRank & SIMD2020Quintile\\\\\n",
       " <fct> & <fct> & <chr> & <fct> & <fct> & <fct> & <fct> & <fct> & <fct> & <fct> & <fct> & <chr> & <chr> & <int> & <int>\\\\\n",
       "\\hline\n",
       "\t 8490732 & MI Technologies Limited                    & G51 4RY  & NA                                               & Glasgow City        & Scotland & 1  & 1  & 1  & 1  & NA & NA      & 0903 & 115 &  1\\\\\n",
       "\t 4194640 & Canongate Youth Project Limited            & EH1 1LT  & NA                                               & City of Edinburgh   & Scotland & 1  & 1  & 1  & 1  & NA & NA      & 1059 & 132 &  1\\\\\n",
       "\t 3005151 & Azilo Training Ltd                         & EH21 6RH & NA                                               & East Lothian        & Scotland & 1  & 1  & 1  & 1  & NA & NA      & 2471 & 320 &  2\\\\\n",
       "\t 3003604 & North Lanarkshire Council T/a Logintolearn & ML2 7LP  & NA                                               & North Lanarkshire   & Scotland & 1  & 1  & 2  & 2  & NA & NA      & 2604 & 347 &  2\\\\\n",
       "\t 3024105 & Training Bees                              & DG11 1NP & NA                                               & Dumfries \\& Galloway & Scotland & 2  & 2  & 5  & 6  & NA & NA      & 3807 & 493 &  3\\\\\n",
       "\t 3023664 & BB Training Academy                        & EH54 6AX & NA                                               & West Lothian        & Scotland & 1  & 1  & 2  & 2  & NA & NA      & 3330 & 438 &  3\\\\\n",
       "\t 3009084 & Ageas Retail Ltd                           & G71 5PU  & NA                                               & South Lanarkshire   & Scotland & 1  & 1  & 2  & 2  & NA & G71 5PD & 4374 & 570 &  4\\\\\n",
       "\t 5370035 & The New School Butterstone                 & PH2 9BT  & Independent                                      & Perth \\& Kinross     & Scotland & 2  & 2  & 5  & 6  & NA & NA      & 5226 & 695 &  4\\\\\n",
       "\t 8337632 & Kirkintilloch High School                  & G66 3PA  & East Dunbartonshire Council Education Department & East Dunbartonshire & Scotland & 1  & 1  & 2  & 2  & NA & NA      & 5649 & 742 &  5\\\\\n",
       "\t 8533830 & Strathaven Academy                         & ML10 6DP & South Lanarkshire Council Education Department   & South Lanarkshire   & Scotland & 1  & 1  & 3  & 3  & NA & NA      & 5770 & 757 &  5\\\\\n",
       "\t 3020576 & Xi'an Kedagaoxin University                & 710109   & NA                                               & Far East            & Other    & NA & NA & NA & NA & NA & NA      & NA   &  NA & NA\\\\\n",
       "\t 3024806 & China University of Petroleum - Beijing    & 102249   & NA                                               & Far East            & Other    & NA & NA & NA & NA & NA & NA      & NA   &  NA & NA\\\\\n",
       "\\end{tabular}\n"
      ],
      "text/markdown": [
       "\n",
       "A grouped_df: 12 × 15\n",
       "\n",
       "| Centre &lt;fct&gt; | CentreName &lt;fct&gt; | Postcode &lt;chr&gt; | EducationAuthority &lt;fct&gt; | GeoArea &lt;fct&gt; | Country &lt;fct&gt; | UrbanRural2FoldCode &lt;fct&gt; | UrbanRural3FoldCode &lt;fct&gt; | UrbanRural6FoldCode &lt;fct&gt; | UrbanRural8FoldCode &lt;fct&gt; | LinkPostcode &lt;fct&gt; | LinkedSmallUserPostcode &lt;chr&gt; | SIMD2020Rank &lt;chr&gt; | SIMD2020RelativeRank &lt;int&gt; | SIMD2020Quintile &lt;int&gt; |\n",
       "|---|---|---|---|---|---|---|---|---|---|---|---|---|---|---|\n",
       "| 8490732 | MI Technologies Limited                    | G51 4RY  | NA                                               | Glasgow City        | Scotland | 1  | 1  | 1  | 1  | NA | NA      | 0903 | 115 |  1 |\n",
       "| 4194640 | Canongate Youth Project Limited            | EH1 1LT  | NA                                               | City of Edinburgh   | Scotland | 1  | 1  | 1  | 1  | NA | NA      | 1059 | 132 |  1 |\n",
       "| 3005151 | Azilo Training Ltd                         | EH21 6RH | NA                                               | East Lothian        | Scotland | 1  | 1  | 1  | 1  | NA | NA      | 2471 | 320 |  2 |\n",
       "| 3003604 | North Lanarkshire Council T/a Logintolearn | ML2 7LP  | NA                                               | North Lanarkshire   | Scotland | 1  | 1  | 2  | 2  | NA | NA      | 2604 | 347 |  2 |\n",
       "| 3024105 | Training Bees                              | DG11 1NP | NA                                               | Dumfries &amp; Galloway | Scotland | 2  | 2  | 5  | 6  | NA | NA      | 3807 | 493 |  3 |\n",
       "| 3023664 | BB Training Academy                        | EH54 6AX | NA                                               | West Lothian        | Scotland | 1  | 1  | 2  | 2  | NA | NA      | 3330 | 438 |  3 |\n",
       "| 3009084 | Ageas Retail Ltd                           | G71 5PU  | NA                                               | South Lanarkshire   | Scotland | 1  | 1  | 2  | 2  | NA | G71 5PD | 4374 | 570 |  4 |\n",
       "| 5370035 | The New School Butterstone                 | PH2 9BT  | Independent                                      | Perth &amp; Kinross     | Scotland | 2  | 2  | 5  | 6  | NA | NA      | 5226 | 695 |  4 |\n",
       "| 8337632 | Kirkintilloch High School                  | G66 3PA  | East Dunbartonshire Council Education Department | East Dunbartonshire | Scotland | 1  | 1  | 2  | 2  | NA | NA      | 5649 | 742 |  5 |\n",
       "| 8533830 | Strathaven Academy                         | ML10 6DP | South Lanarkshire Council Education Department   | South Lanarkshire   | Scotland | 1  | 1  | 3  | 3  | NA | NA      | 5770 | 757 |  5 |\n",
       "| 3020576 | Xi'an Kedagaoxin University                | 710109   | NA                                               | Far East            | Other    | NA | NA | NA | NA | NA | NA      | NA   |  NA | NA |\n",
       "| 3024806 | China University of Petroleum - Beijing    | 102249   | NA                                               | Far East            | Other    | NA | NA | NA | NA | NA | NA      | NA   |  NA | NA |\n",
       "\n"
      ],
      "text/plain": [
       "   Centre  CentreName                                 Postcode\n",
       "1  8490732 MI Technologies Limited                    G51 4RY \n",
       "2  4194640 Canongate Youth Project Limited            EH1 1LT \n",
       "3  3005151 Azilo Training Ltd                         EH21 6RH\n",
       "4  3003604 North Lanarkshire Council T/a Logintolearn ML2 7LP \n",
       "5  3024105 Training Bees                              DG11 1NP\n",
       "6  3023664 BB Training Academy                        EH54 6AX\n",
       "7  3009084 Ageas Retail Ltd                           G71 5PU \n",
       "8  5370035 The New School Butterstone                 PH2 9BT \n",
       "9  8337632 Kirkintilloch High School                  G66 3PA \n",
       "10 8533830 Strathaven Academy                         ML10 6DP\n",
       "11 3020576 Xi'an Kedagaoxin University                710109  \n",
       "12 3024806 China University of Petroleum - Beijing    102249  \n",
       "   EducationAuthority                               GeoArea            \n",
       "1  NA                                               Glasgow City       \n",
       "2  NA                                               City of Edinburgh  \n",
       "3  NA                                               East Lothian       \n",
       "4  NA                                               North Lanarkshire  \n",
       "5  NA                                               Dumfries & Galloway\n",
       "6  NA                                               West Lothian       \n",
       "7  NA                                               South Lanarkshire  \n",
       "8  Independent                                      Perth & Kinross    \n",
       "9  East Dunbartonshire Council Education Department East Dunbartonshire\n",
       "10 South Lanarkshire Council Education Department   South Lanarkshire  \n",
       "11 NA                                               Far East           \n",
       "12 NA                                               Far East           \n",
       "   Country  UrbanRural2FoldCode UrbanRural3FoldCode UrbanRural6FoldCode\n",
       "1  Scotland 1                   1                   1                  \n",
       "2  Scotland 1                   1                   1                  \n",
       "3  Scotland 1                   1                   1                  \n",
       "4  Scotland 1                   1                   2                  \n",
       "5  Scotland 2                   2                   5                  \n",
       "6  Scotland 1                   1                   2                  \n",
       "7  Scotland 1                   1                   2                  \n",
       "8  Scotland 2                   2                   5                  \n",
       "9  Scotland 1                   1                   2                  \n",
       "10 Scotland 1                   1                   3                  \n",
       "11 Other    NA                  NA                  NA                 \n",
       "12 Other    NA                  NA                  NA                 \n",
       "   UrbanRural8FoldCode LinkPostcode LinkedSmallUserPostcode SIMD2020Rank\n",
       "1  1                   NA           NA                      0903        \n",
       "2  1                   NA           NA                      1059        \n",
       "3  1                   NA           NA                      2471        \n",
       "4  2                   NA           NA                      2604        \n",
       "5  6                   NA           NA                      3807        \n",
       "6  2                   NA           NA                      3330        \n",
       "7  2                   NA           G71 5PD                 4374        \n",
       "8  6                   NA           NA                      5226        \n",
       "9  2                   NA           NA                      5649        \n",
       "10 3                   NA           NA                      5770        \n",
       "11 NA                  NA           NA                      NA          \n",
       "12 NA                  NA           NA                      NA          \n",
       "   SIMD2020RelativeRank SIMD2020Quintile\n",
       "1  115                   1              \n",
       "2  132                   1              \n",
       "3  320                   2              \n",
       "4  347                   2              \n",
       "5  493                   3              \n",
       "6  438                   3              \n",
       "7  570                   4              \n",
       "8  695                   4              \n",
       "9  742                   5              \n",
       "10 757                   5              \n",
       "11  NA                  NA              \n",
       "12  NA                  NA              "
      ]
     },
     "metadata": {},
     "output_type": "display_data"
    }
   ],
   "source": [
    "centre_postcodes <- centre_postcodes %>%\n",
    "    \n",
    "    left_join(centre_postcodes %>%\n",
    "                  filter(Country == \"Scotland\") %>%\n",
    "                  arrange(SIMD2020Rank) %>%\n",
    "                  mutate(SIMD2020RelativeRank = #row_number(),\n",
    "                          rank(SIMD2020Rank, ties.method = \"min\", na.last = \"keep\"),\n",
    "                        ) \n",
    "         ) %>%\n",
    "    relocate(SIMD2020Rank, SIMD2020RelativeRank, .before = SIMD2020Quintile) %>%\n",
    "    glimpse()\n",
    "\n",
    "centre_postcodes %>%\n",
    "    group_by(SIMD2020Quintile) %>%\n",
    "    slice_sample(n = 2)"
   ]
  },
  {
   "cell_type": "code",
   "execution_count": null,
   "metadata": {},
   "outputs": [],
   "source": []
  },
  {
   "cell_type": "markdown",
   "metadata": {},
   "source": [
    "#### END &ndash; SIMD Ranking"
   ]
  },
  {
   "cell_type": "code",
   "execution_count": null,
   "metadata": {},
   "outputs": [],
   "source": []
  },
  {
   "cell_type": "markdown",
   "metadata": {},
   "source": [
    "### Write to DataStore"
   ]
  },
  {
   "cell_type": "code",
   "execution_count": 75,
   "metadata": {},
   "outputs": [
    {
     "data": {
      "text/html": [
       "<table class=\"dataframe\">\n",
       "<caption>A data.frame: 1 × 1</caption>\n",
       "<thead>\n",
       "\t<tr><th scope=col>COUNT(*)</th></tr>\n",
       "\t<tr><th scope=col>&lt;int&gt;</th></tr>\n",
       "</thead>\n",
       "<tbody>\n",
       "\t<tr><td>1002</td></tr>\n",
       "</tbody>\n",
       "</table>\n"
      ],
      "text/latex": [
       "A data.frame: 1 × 1\n",
       "\\begin{tabular}{l}\n",
       " COUNT(*)\\\\\n",
       " <int>\\\\\n",
       "\\hline\n",
       "\t 1002\\\\\n",
       "\\end{tabular}\n"
      ],
      "text/markdown": [
       "\n",
       "A data.frame: 1 × 1\n",
       "\n",
       "| COUNT(*) &lt;int&gt; |\n",
       "|---|\n",
       "| 1002 |\n",
       "\n"
      ],
      "text/plain": [
       "  COUNT(*)\n",
       "1 1002    "
      ]
     },
     "metadata": {},
     "output_type": "display_data"
    },
    {
     "data": {
      "text/html": [
       "<table class=\"dataframe\">\n",
       "<caption>A data.frame: 6 × 6</caption>\n",
       "<thead>\n",
       "\t<tr><th scope=col>Centre</th><th scope=col>CentreName</th><th scope=col>Postcode</th><th scope=col>EducationAuthority</th><th scope=col>GeoArea</th><th scope=col>Country</th></tr>\n",
       "\t<tr><th scope=col>&lt;chr&gt;</th><th scope=col>&lt;chr&gt;</th><th scope=col>&lt;chr&gt;</th><th scope=col>&lt;chr&gt;</th><th scope=col>&lt;chr&gt;</th><th scope=col>&lt;chr&gt;</th></tr>\n",
       "</thead>\n",
       "<tbody>\n",
       "\t<tr><td>1000144</td><td>Firpark Secondary School          </td><td>ML1 2PR </td><td>North Lanarkshire Council Education Department</td><td>North Lanarkshire</td><td>Scotland</td></tr>\n",
       "\t<tr><td>1001930</td><td>Buchanan High School              </td><td>ML5 2HT </td><td>North Lanarkshire Council Education Department</td><td>North Lanarkshire</td><td>Scotland</td></tr>\n",
       "\t<tr><td>1002732</td><td>Cumbernauld Academy               </td><td>G67 2UF </td><td>North Lanarkshire Council Education Department</td><td>North Lanarkshire</td><td>Scotland</td></tr>\n",
       "\t<tr><td>1002759</td><td>Ayrshire College Kilwinning Campus</td><td>KA13 6DE</td><td>NA                                            </td><td>North Ayrshire   </td><td>Scotland</td></tr>\n",
       "\t<tr><td>1002856</td><td>Dundee and Angus College          </td><td>DD3 8LE </td><td>NA                                            </td><td>Dundee City      </td><td>Scotland</td></tr>\n",
       "\t<tr><td>1002953</td><td>Edinburgh College                 </td><td>EH11 4DE</td><td>NA                                            </td><td>City of Edinburgh</td><td>Scotland</td></tr>\n",
       "</tbody>\n",
       "</table>\n"
      ],
      "text/latex": [
       "A data.frame: 6 × 6\n",
       "\\begin{tabular}{llllll}\n",
       " Centre & CentreName & Postcode & EducationAuthority & GeoArea & Country\\\\\n",
       " <chr> & <chr> & <chr> & <chr> & <chr> & <chr>\\\\\n",
       "\\hline\n",
       "\t 1000144 & Firpark Secondary School           & ML1 2PR  & North Lanarkshire Council Education Department & North Lanarkshire & Scotland\\\\\n",
       "\t 1001930 & Buchanan High School               & ML5 2HT  & North Lanarkshire Council Education Department & North Lanarkshire & Scotland\\\\\n",
       "\t 1002732 & Cumbernauld Academy                & G67 2UF  & North Lanarkshire Council Education Department & North Lanarkshire & Scotland\\\\\n",
       "\t 1002759 & Ayrshire College Kilwinning Campus & KA13 6DE & NA                                             & North Ayrshire    & Scotland\\\\\n",
       "\t 1002856 & Dundee and Angus College           & DD3 8LE  & NA                                             & Dundee City       & Scotland\\\\\n",
       "\t 1002953 & Edinburgh College                  & EH11 4DE & NA                                             & City of Edinburgh & Scotland\\\\\n",
       "\\end{tabular}\n"
      ],
      "text/markdown": [
       "\n",
       "A data.frame: 6 × 6\n",
       "\n",
       "| Centre &lt;chr&gt; | CentreName &lt;chr&gt; | Postcode &lt;chr&gt; | EducationAuthority &lt;chr&gt; | GeoArea &lt;chr&gt; | Country &lt;chr&gt; |\n",
       "|---|---|---|---|---|---|\n",
       "| 1000144 | Firpark Secondary School           | ML1 2PR  | North Lanarkshire Council Education Department | North Lanarkshire | Scotland |\n",
       "| 1001930 | Buchanan High School               | ML5 2HT  | North Lanarkshire Council Education Department | North Lanarkshire | Scotland |\n",
       "| 1002732 | Cumbernauld Academy                | G67 2UF  | North Lanarkshire Council Education Department | North Lanarkshire | Scotland |\n",
       "| 1002759 | Ayrshire College Kilwinning Campus | KA13 6DE | NA                                             | North Ayrshire    | Scotland |\n",
       "| 1002856 | Dundee and Angus College           | DD3 8LE  | NA                                             | Dundee City       | Scotland |\n",
       "| 1002953 | Edinburgh College                  | EH11 4DE | NA                                             | City of Edinburgh | Scotland |\n",
       "\n"
      ],
      "text/plain": [
       "  Centre  CentreName                         Postcode\n",
       "1 1000144 Firpark Secondary School           ML1 2PR \n",
       "2 1001930 Buchanan High School               ML5 2HT \n",
       "3 1002732 Cumbernauld Academy                G67 2UF \n",
       "4 1002759 Ayrshire College Kilwinning Campus KA13 6DE\n",
       "5 1002856 Dundee and Angus College           DD3 8LE \n",
       "6 1002953 Edinburgh College                  EH11 4DE\n",
       "  EducationAuthority                             GeoArea           Country \n",
       "1 North Lanarkshire Council Education Department North Lanarkshire Scotland\n",
       "2 North Lanarkshire Council Education Department North Lanarkshire Scotland\n",
       "3 North Lanarkshire Council Education Department North Lanarkshire Scotland\n",
       "4 NA                                             North Ayrshire    Scotland\n",
       "5 NA                                             Dundee City       Scotland\n",
       "6 NA                                             City of Edinburgh Scotland"
      ]
     },
     "metadata": {},
     "output_type": "display_data"
    },
    {
     "name": "stderr",
     "output_type": "stream",
     "text": [
      "Joining, by = \"UrbanRural2FoldCode\"\n",
      "Joining, by = \"UrbanRural3FoldCode\"\n",
      "Joining, by = \"UrbanRural6FoldCode\"\n",
      "Joining, by = \"UrbanRural8FoldCode\"\n"
     ]
    },
    {
     "name": "stdout",
     "output_type": "stream",
     "text": [
      "Rows: 1,002\n",
      "Columns: 17\n",
      "$ Centre                        \u001b[3m\u001b[90m<fct>\u001b[39m\u001b[23m 1000144, 1001930, 1002732, 1002759, 1002…\n",
      "$ CentreName                    \u001b[3m\u001b[90m<fct>\u001b[39m\u001b[23m \"Firpark Secondary School\", \"Buchanan Hi…\n",
      "$ Postcode                      \u001b[3m\u001b[90m<chr>\u001b[39m\u001b[23m \"ML1 2PR\", \"ML5 2HT\", \"G67 2UF\", \"KA13 6…\n",
      "$ EducationAuthority            \u001b[3m\u001b[90m<fct>\u001b[39m\u001b[23m North Lanarkshire Council Education Depa…\n",
      "$ GeoArea                       \u001b[3m\u001b[90m<fct>\u001b[39m\u001b[23m North Lanarkshire, North Lanarkshire, No…\n",
      "$ Country                       \u001b[3m\u001b[90m<fct>\u001b[39m\u001b[23m Scotland, Scotland, Scotland, Scotland, …\n",
      "$ UrbanRural2FoldCode           \u001b[3m\u001b[90m<fct>\u001b[39m\u001b[23m 1, 1, 1, 1, 1, 1, 1, 1, 1, 1, 1, 2, 1, 1…\n",
      "$ UrbanRural2FoldClassification \u001b[3m\u001b[90m<fct>\u001b[39m\u001b[23m Urban Areas, Urban Areas, Urban Areas, U…\n",
      "$ UrbanRural3FoldCode           \u001b[3m\u001b[90m<fct>\u001b[39m\u001b[23m 1, 1, 1, 1, 1, 1, 1, 1, 1, 1, 1, 2, 1, 1…\n",
      "$ UrbanRural3FoldClassification \u001b[3m\u001b[90m<fct>\u001b[39m\u001b[23m Rest of Scotland, Rest of Scotland, Rest…\n",
      "$ UrbanRural6FoldCode           \u001b[3m\u001b[90m<fct>\u001b[39m\u001b[23m 2, 2, 2, 2, 1, 1, 2, 1, 1, 1, 2, 5, 2, 1…\n",
      "$ UrbanRural6FoldClassification \u001b[3m\u001b[90m<fct>\u001b[39m\u001b[23m Other Urban Areas, Other Urban Areas, Ot…\n",
      "$ UrbanRural8FoldCode           \u001b[3m\u001b[90m<fct>\u001b[39m\u001b[23m 2, 2, 2, 2, 1, 1, 2, 1, 1, 1, 2, 6, 2, 1…\n",
      "$ UrbanRural8FoldClassification \u001b[3m\u001b[90m<fct>\u001b[39m\u001b[23m Other Urban Areas, Other Urban Areas, Ot…\n",
      "$ SIMD2020Rank                  \u001b[3m\u001b[90m<chr>\u001b[39m\u001b[23m \"6660\", \"0860\", \"1738\", \"0499\", \"6028\", …\n",
      "$ SIMD2020RelativeRank          \u001b[3m\u001b[90m<int>\u001b[39m\u001b[23m 846, 110, 213, 60, 786, 332, 316, 61, 15…\n",
      "$ SIMD2020Quintile              \u001b[3m\u001b[90m<int>\u001b[39m\u001b[23m 5, 1, 2, 1, 5, 2, 2, 1, 1, 1, 1, 4, 1, 2…\n"
     ]
    }
   ],
   "source": [
    "dbGetQuery(dbConn, \"SELECT COUNT(*) FROM centre_postcodes\")\n",
    "dbGetQuery(dbConn, \"SELECT * FROM centre_postcodes LIMIT 6\")\n",
    "\n",
    "centre_postcodes %>%\n",
    "    select(- matches(\"Link\")) %>%\n",
    "\n",
    "    left_join(sg_2_fold_urban_rural_classification %>%\n",
    "                              select(- Description)) %>%\n",
    "    left_join(sg_3_fold_urban_rural_classification %>%\n",
    "                              select(- Description)) %>%\n",
    "    left_join(sg_6_fold_urban_rural_classification %>%\n",
    "                              select(- Description)) %>%\n",
    "    left_join(sg_8_fold_urban_rural_classification %>%\n",
    "                              select(- Description)) %>%\n",
    "                              \n",
    "    relocate(UrbanRural2FoldCode, UrbanRural2FoldClassification,\n",
    "             UrbanRural3FoldCode, UrbanRural3FoldClassification,\n",
    "             UrbanRural6FoldCode, UrbanRural6FoldClassification,\n",
    "             UrbanRural8FoldCode, UrbanRural8FoldClassification, .before = SIMD2020Rank) %>%\n",
    "    glimpse()"
   ]
  },
  {
   "cell_type": "code",
   "execution_count": 78,
   "metadata": {},
   "outputs": [
    {
     "name": "stderr",
     "output_type": "stream",
     "text": [
      "Joining, by = \"UrbanRural2FoldCode\"\n",
      "Joining, by = \"UrbanRural3FoldCode\"\n",
      "Joining, by = \"UrbanRural6FoldCode\"\n",
      "Joining, by = \"UrbanRural8FoldCode\"\n"
     ]
    },
    {
     "data": {
      "text/html": [
       "<table class=\"dataframe\">\n",
       "<caption>A data.frame: 1 × 1</caption>\n",
       "<thead>\n",
       "\t<tr><th scope=col>COUNT(*)</th></tr>\n",
       "\t<tr><th scope=col>&lt;int&gt;</th></tr>\n",
       "</thead>\n",
       "<tbody>\n",
       "\t<tr><td>1002</td></tr>\n",
       "</tbody>\n",
       "</table>\n"
      ],
      "text/latex": [
       "A data.frame: 1 × 1\n",
       "\\begin{tabular}{l}\n",
       " COUNT(*)\\\\\n",
       " <int>\\\\\n",
       "\\hline\n",
       "\t 1002\\\\\n",
       "\\end{tabular}\n"
      ],
      "text/markdown": [
       "\n",
       "A data.frame: 1 × 1\n",
       "\n",
       "| COUNT(*) &lt;int&gt; |\n",
       "|---|\n",
       "| 1002 |\n",
       "\n"
      ],
      "text/plain": [
       "  COUNT(*)\n",
       "1 1002    "
      ]
     },
     "metadata": {},
     "output_type": "display_data"
    },
    {
     "data": {
      "text/html": [
       "<table class=\"dataframe\">\n",
       "<caption>A data.frame: 38 × 1</caption>\n",
       "<thead>\n",
       "\t<tr><th scope=col>GeoArea</th></tr>\n",
       "\t<tr><th scope=col>&lt;chr&gt;</th></tr>\n",
       "</thead>\n",
       "<tbody>\n",
       "\t<tr><td>North Lanarkshire  </td></tr>\n",
       "\t<tr><td>North Ayrshire     </td></tr>\n",
       "\t<tr><td>Dundee City        </td></tr>\n",
       "\t<tr><td>City of Edinburgh  </td></tr>\n",
       "\t<tr><td>South Lanarkshire  </td></tr>\n",
       "\t<tr><td>Renfrewshire       </td></tr>\n",
       "\t<tr><td>Glasgow City       </td></tr>\n",
       "\t<tr><td>Fife               </td></tr>\n",
       "\t<tr><td>West Lothian       </td></tr>\n",
       "\t<tr><td>South Ayrshire     </td></tr>\n",
       "\t<tr><td>Aberdeen City      </td></tr>\n",
       "\t<tr><td>Inverclyde         </td></tr>\n",
       "\t<tr><td>East Ayrshire      </td></tr>\n",
       "\t<tr><td><span style=white-space:pre-wrap>Perth &amp; Kinross    </span></td></tr>\n",
       "\t<tr><td>Clackmannanshire   </td></tr>\n",
       "\t<tr><td>Highland           </td></tr>\n",
       "\t<tr><td><span style=white-space:pre-wrap>Argyll &amp; Bute      </span></td></tr>\n",
       "\t<tr><td>West Dunbartonshire</td></tr>\n",
       "\t<tr><td>Dumfries &amp; Galloway</td></tr>\n",
       "\t<tr><td>Scottish Borders   </td></tr>\n",
       "\t<tr><td>Middle East        </td></tr>\n",
       "\t<tr><td>Aberdeenshire      </td></tr>\n",
       "\t<tr><td>Moray              </td></tr>\n",
       "\t<tr><td>Far East           </td></tr>\n",
       "\t<tr><td>East Lothian       </td></tr>\n",
       "\t<tr><td>Angus              </td></tr>\n",
       "\t<tr><td>Wales              </td></tr>\n",
       "\t<tr><td>Stirling           </td></tr>\n",
       "\t<tr><td>England            </td></tr>\n",
       "\t<tr><td>East Dunbartonshire</td></tr>\n",
       "\t<tr><td>Falkirk            </td></tr>\n",
       "\t<tr><td>Midlothian         </td></tr>\n",
       "\t<tr><td>Other              </td></tr>\n",
       "\t<tr><td>South Asia         </td></tr>\n",
       "\t<tr><td>East Renfrewshire  </td></tr>\n",
       "\t<tr><td>Na h-Eileanan Siar </td></tr>\n",
       "\t<tr><td>Shetland Islands   </td></tr>\n",
       "\t<tr><td>Orkney Islands     </td></tr>\n",
       "</tbody>\n",
       "</table>\n"
      ],
      "text/latex": [
       "A data.frame: 38 × 1\n",
       "\\begin{tabular}{l}\n",
       " GeoArea\\\\\n",
       " <chr>\\\\\n",
       "\\hline\n",
       "\t North Lanarkshire  \\\\\n",
       "\t North Ayrshire     \\\\\n",
       "\t Dundee City        \\\\\n",
       "\t City of Edinburgh  \\\\\n",
       "\t South Lanarkshire  \\\\\n",
       "\t Renfrewshire       \\\\\n",
       "\t Glasgow City       \\\\\n",
       "\t Fife               \\\\\n",
       "\t West Lothian       \\\\\n",
       "\t South Ayrshire     \\\\\n",
       "\t Aberdeen City      \\\\\n",
       "\t Inverclyde         \\\\\n",
       "\t East Ayrshire      \\\\\n",
       "\t Perth \\& Kinross    \\\\\n",
       "\t Clackmannanshire   \\\\\n",
       "\t Highland           \\\\\n",
       "\t Argyll \\& Bute      \\\\\n",
       "\t West Dunbartonshire\\\\\n",
       "\t Dumfries \\& Galloway\\\\\n",
       "\t Scottish Borders   \\\\\n",
       "\t Middle East        \\\\\n",
       "\t Aberdeenshire      \\\\\n",
       "\t Moray              \\\\\n",
       "\t Far East           \\\\\n",
       "\t East Lothian       \\\\\n",
       "\t Angus              \\\\\n",
       "\t Wales              \\\\\n",
       "\t Stirling           \\\\\n",
       "\t England            \\\\\n",
       "\t East Dunbartonshire\\\\\n",
       "\t Falkirk            \\\\\n",
       "\t Midlothian         \\\\\n",
       "\t Other              \\\\\n",
       "\t South Asia         \\\\\n",
       "\t East Renfrewshire  \\\\\n",
       "\t Na h-Eileanan Siar \\\\\n",
       "\t Shetland Islands   \\\\\n",
       "\t Orkney Islands     \\\\\n",
       "\\end{tabular}\n"
      ],
      "text/markdown": [
       "\n",
       "A data.frame: 38 × 1\n",
       "\n",
       "| GeoArea &lt;chr&gt; |\n",
       "|---|\n",
       "| North Lanarkshire   |\n",
       "| North Ayrshire      |\n",
       "| Dundee City         |\n",
       "| City of Edinburgh   |\n",
       "| South Lanarkshire   |\n",
       "| Renfrewshire        |\n",
       "| Glasgow City        |\n",
       "| Fife                |\n",
       "| West Lothian        |\n",
       "| South Ayrshire      |\n",
       "| Aberdeen City       |\n",
       "| Inverclyde          |\n",
       "| East Ayrshire       |\n",
       "| Perth &amp; Kinross     |\n",
       "| Clackmannanshire    |\n",
       "| Highland            |\n",
       "| Argyll &amp; Bute       |\n",
       "| West Dunbartonshire |\n",
       "| Dumfries &amp; Galloway |\n",
       "| Scottish Borders    |\n",
       "| Middle East         |\n",
       "| Aberdeenshire       |\n",
       "| Moray               |\n",
       "| Far East            |\n",
       "| East Lothian        |\n",
       "| Angus               |\n",
       "| Wales               |\n",
       "| Stirling            |\n",
       "| England             |\n",
       "| East Dunbartonshire |\n",
       "| Falkirk             |\n",
       "| Midlothian          |\n",
       "| Other               |\n",
       "| South Asia          |\n",
       "| East Renfrewshire   |\n",
       "| Na h-Eileanan Siar  |\n",
       "| Shetland Islands    |\n",
       "| Orkney Islands      |\n",
       "\n"
      ],
      "text/plain": [
       "   GeoArea            \n",
       "1  North Lanarkshire  \n",
       "2  North Ayrshire     \n",
       "3  Dundee City        \n",
       "4  City of Edinburgh  \n",
       "5  South Lanarkshire  \n",
       "6  Renfrewshire       \n",
       "7  Glasgow City       \n",
       "8  Fife               \n",
       "9  West Lothian       \n",
       "10 South Ayrshire     \n",
       "11 Aberdeen City      \n",
       "12 Inverclyde         \n",
       "13 East Ayrshire      \n",
       "14 Perth & Kinross    \n",
       "15 Clackmannanshire   \n",
       "16 Highland           \n",
       "17 Argyll & Bute      \n",
       "18 West Dunbartonshire\n",
       "19 Dumfries & Galloway\n",
       "20 Scottish Borders   \n",
       "21 Middle East        \n",
       "22 Aberdeenshire      \n",
       "23 Moray              \n",
       "24 Far East           \n",
       "25 East Lothian       \n",
       "26 Angus              \n",
       "27 Wales              \n",
       "28 Stirling           \n",
       "29 England            \n",
       "30 East Dunbartonshire\n",
       "31 Falkirk            \n",
       "32 Midlothian         \n",
       "33 Other              \n",
       "34 South Asia         \n",
       "35 East Renfrewshire  \n",
       "36 Na h-Eileanan Siar \n",
       "37 Shetland Islands   \n",
       "38 Orkney Islands     "
      ]
     },
     "metadata": {},
     "output_type": "display_data"
    }
   ],
   "source": [
    "writeToDataStore(centre_postcodes %>%\n",
    "                    select(- matches(\"Link\")) %>%\n",
    "\n",
    "                    left_join(sg_2_fold_urban_rural_classification %>%\n",
    "                                              select(- Description)) %>%\n",
    "                    left_join(sg_3_fold_urban_rural_classification %>%\n",
    "                                              select(- Description)) %>%\n",
    "                    left_join(sg_6_fold_urban_rural_classification %>%\n",
    "                                              select(- Description)) %>%\n",
    "                    left_join(sg_8_fold_urban_rural_classification %>%\n",
    "                                              select(- Description)) %>%\n",
    "\n",
    "                    relocate(UrbanRural2FoldCode, UrbanRural2FoldClassification,\n",
    "                             UrbanRural3FoldCode, UrbanRural3FoldClassification,\n",
    "                             UrbanRural6FoldCode, UrbanRural6FoldClassification,\n",
    "                             UrbanRural8FoldCode, UrbanRural8FoldClassification, .before = SIMD2020Rank), \n",
    "                 dbConn, \"centre_postcodes\", TRUE)\n",
    "                 \n",
    "dbGetQuery(dbConn, \"SELECT COUNT(*) FROM centre_postcodes\")\n",
    "dbGetQuery(dbConn, \"SELECT DISTINCT GeoArea FROM centre_postcodes\")"
   ]
  },
  {
   "cell_type": "code",
   "execution_count": null,
   "metadata": {},
   "outputs": [],
   "source": [
    "dbDisconnect(dbConn)"
   ]
  }
 ],
 "metadata": {
  "kernelspec": {
   "display_name": "R",
   "language": "R",
   "name": "ir"
  },
  "language_info": {
   "codemirror_mode": "r",
   "file_extension": ".r",
   "mimetype": "text/x-r-source",
   "name": "R",
   "pygments_lexer": "r",
   "version": "4.1.2"
  }
 },
 "nbformat": 4,
 "nbformat_minor": 4
}
